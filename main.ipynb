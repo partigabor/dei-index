{
  "cells": [
    {
      "cell_type": "markdown",
      "metadata": {
        "id": "QPhiwbl0JvEV"
      },
      "source": [
        "# DEI Index\n",
        "\n",
        "The following code (`main.ipynb`) is a pipeline of NLP solution(s) to quickly analyze and compare company documents. Currently the program can read company reports and output a set of observations about said reports' contents, quantifying relative mentions of certain key terms and phrases, and provide simple visualizations. It uses [TF-IDF](https://en.wikipedia.org/wiki/Tf%E2%80%93idf) scores (term frequency–inverse document frequency), a common technique known from text mining and information retrieval. This metric TF-IDF takes the frequency of a term in a documents, multiplied by the log of the term's inverse document frequency (the number of documents it appears divided by the total number of documents), resulting in higher scores if a term is unique, and low scores if a term is common across the corpus. This brief example is focusing on the terms 'diversity', 'equity', and 'inclusion' in CSR reports of two big beverage companies over the past years. For a big data approach, I recommend using the [Jena Organization Corpus (JOCo)](https://www.orga.uni-jena.de/en/corp) which is a 280 million word corpus of US, UK, and German company reports.\n",
        "\n",
        ">The ultimate goal is the creation of an index to capture and measure companies DEI practices and initiatives. \n",
        "\n",
        "At present, this program can:\n",
        "* read in and pre-process txt and pdf files of company documents and reports, \n",
        "* collate their contents in a dataframe\n",
        "* tokenize, remove stopwords, and lemmatize text\n",
        "* calculate tf-idf scores for every document in the corpus\n",
        "* compare a set of selected documents and visualize the comparison\n",
        "\n",
        ">This code was tested on a local machine, on Windows, using VSCode and Python 3.9.13 via Anaconda, but you could try it on Google Colab.\n",
        "\n",
        "Gabor Parti, 2022 October\n",
        "If you have any questions, contact me at gabor.parti@connect.polyu.hk"
      ]
    },
    {
      "cell_type": "markdown",
      "metadata": {
        "id": "VBiouDmCKHVx"
      },
      "source": [
        "## Setup"
      ]
    },
    {
      "cell_type": "code",
      "execution_count": 1,
      "metadata": {
        "colab": {
          "base_uri": "https://localhost:8080/"
        },
        "id": "pj5ocM-xpuvC",
        "outputId": "2c5062ff-543b-4cca-fe20-bc4de9f62824"
      },
      "outputs": [],
      "source": [
        "# # mount your Google drive if you use Google Colaboratory.\n",
        "# from google.colab import drive\n",
        "# drive.mount('/content/drive')\n",
        "\n",
        "# Warning! Paths are a bit messed up if using colab so regular expressions may not work the same as locally."
      ]
    },
    {
      "cell_type": "code",
      "execution_count": 2,
      "metadata": {
        "colab": {
          "base_uri": "https://localhost:8080/"
        },
        "id": "1HBGBs_3YTUC",
        "outputId": "fc88f747-0437-4c8f-aff4-50c70f7af131"
      },
      "outputs": [],
      "source": [
        "# install necessary dependencies\n",
        "# %pip install PyPDF2"
      ]
    },
    {
      "cell_type": "code",
      "execution_count": 3,
      "metadata": {
        "id": "xk1t46MWUvys"
      },
      "outputs": [
        {
          "name": "stderr",
          "output_type": "stream",
          "text": [
            "[nltk_data] Downloading package wordnet to\n",
            "[nltk_data]     C:\\Users\\parti\\AppData\\Roaming\\nltk_data...\n",
            "[nltk_data]   Package wordnet is already up-to-date!\n",
            "[nltk_data] Downloading package stopwords to\n",
            "[nltk_data]     C:\\Users\\parti\\AppData\\Roaming\\nltk_data...\n",
            "[nltk_data]   Package stopwords is already up-to-date!\n"
          ]
        }
      ],
      "source": [
        "#import dependency libraries\n",
        "import pandas as pd\n",
        "import numpy as np\n",
        "import regex as re\n",
        "import plotly.express as px\n",
        "import nltk\n",
        "from nltk.corpus import stopwords\n",
        "from nltk.stem import WordNetLemmatizer\n",
        "nltk.download('wordnet')\n",
        "nltk.download('stopwords')\n",
        "import sys\n",
        "import os\n",
        "import PyPDF2\n",
        "import sklearn as sk\n",
        "from sklearn.feature_extraction import text\n",
        "from sklearn.feature_extraction.text import CountVectorizer, TfidfVectorizer, TfidfTransformer"
      ]
    },
    {
      "cell_type": "markdown",
      "metadata": {
        "id": "V_rDCI4xtspC"
      },
      "source": [
        "## Preprocessing Reports\n",
        "\n",
        "The following two functions will be used to read in and parse documents from `pdf` and `txt` files, clean their contents (remove symbols and punctuation, lowercase) and store them.\n",
        "\n",
        "### Functions"
      ]
    },
    {
      "cell_type": "code",
      "execution_count": 8,
      "metadata": {
        "id": "3FTTWg_ytyYa"
      },
      "outputs": [],
      "source": [
        "# function to read a pdf file and add them to a dataframe\n",
        "def read_pdf(document, index=0):\n",
        "  \"\"\"Read and parse a pdf file.\n",
        "  This function uses the PyPDF2 package to read and extract \n",
        "  the contents of a pdf file, page by page.\n",
        "\n",
        "  Keyword arguments:\n",
        "  document -- the document to be read in.\n",
        "  index -- the index of the document, an integer (default 0)\n",
        "  \"\"\"\n",
        "  # add filename to dataframe\n",
        "  m = re.search(r\"\\\\(?!.*\\\\)(.*)_(\\d+)(_?.*)?((\\.pdf)|(\\.txt))\", document.lower())\n",
        "  filename_match = m.group(0)\n",
        "  filename = re.sub(\"[\\\\\\/\\'\\>]\", \"\", filename_match)\n",
        "  filename = re.sub(\"\\.\\w+\", \"\", filename)\n",
        "  company = m.group(1)\n",
        "  year = m.group(2)\n",
        "  type = m.group(3)\n",
        "  type = re.sub(\"^_\", \"\", type)\n",
        "  ext = m.group(4)\n",
        "  ext = re.sub(\"\\.\", \"\", ext)\n",
        "\n",
        "  df.loc[index, 'file'] = filename\n",
        "  df.loc[index, 'company'] = company\n",
        "  df.loc[index, 'year'] = year\n",
        "  df.loc[index, 'type'] = type\n",
        "  \n",
        "  print(\"Parsing\", filename, \"...\")\n",
        "\n",
        "  # creating a pdf file object\n",
        "  pdfFileObj = open(document, 'rb') \n",
        "\n",
        "  # n = re.search(r\"\\\\(?:.(?!\\\\))+$\", filename_with_path)\n",
        "  # filename_match = n.group(0)\n",
        "\n",
        "  # creating a pdf reader object \n",
        "  pdfReader = PyPDF2.PdfFileReader(pdfFileObj, strict=False) \n",
        "      \n",
        "  # printing number of pages in pdf file \n",
        "  # print(\"Number of pages:\", pdfReader.numPages)\n",
        "  pages = pdfReader.numPages\n",
        "\n",
        "  # add page number to dataframe\n",
        "  # df.loc[index, 'pages'] = pages\n",
        "\n",
        "  # creating a page object \n",
        "  pageObj = pdfReader.getPage(0)\n",
        "\n",
        "  # extracting text from page \n",
        "  # print(pageObj.extractText())\n",
        "\n",
        "  pages_with_contents = []\n",
        "\n",
        "  for p in range(pages):\n",
        "    pageObj = pdfReader.getPage(p)\n",
        "    page_contents = pageObj.extractText()\n",
        "    pages_with_contents.append(page_contents)\n",
        "\n",
        "  # join pages into one document\n",
        "  contents = \" \".join(pages_with_contents)\n",
        "\n",
        "  #closing the pdf file object \n",
        "  pdfFileObj.close() \n",
        "\n",
        "  # cleaning\n",
        "  contents = re.sub(\"\\n\", \" \", contents)\n",
        "  contents = re.sub(\"\\.\", \". \", contents)\n",
        "  contents = re.sub(\"\\)\", \") \", contents)\n",
        "\n",
        "  # separates words\n",
        "  contents = re.sub(r\"([a-z])([A-Z])\", r\"\\1 \\2\", contents)\n",
        "\n",
        "  # # if need list\n",
        "  # contents_list = contents.split(' || ')\n",
        "\n",
        "  # remove symbols\n",
        "  contents = re.sub(r\"[^a-zA-Z0-9]\", \" \", contents)\n",
        "\n",
        "  # # lowercase\n",
        "  contents = contents.lower()\n",
        "\n",
        "  #remove extra spaces\n",
        "  contents = re.sub(\"\\s+\", \" \", contents)\n",
        "\n",
        "  #from where\n",
        "  df.loc[index, 'source'] = \"manual\"\n",
        "\n",
        "  # add contents to dataframe\n",
        "  df.loc[index, 'contents'] = contents\n",
        "\n",
        "  return #print(\"Done.\")"
      ]
    },
    {
      "cell_type": "code",
      "execution_count": 5,
      "metadata": {},
      "outputs": [],
      "source": [
        "# function to read a txt file and add them to a dataframe\n",
        "def read_txt(document, index=0):\n",
        "  \"\"\"Read and parse a txt file.\n",
        "\n",
        "  Keyword arguments:\n",
        "  document -- the document to be read in.\n",
        "  index -- the index of the document, an integer (default 0)\n",
        "  \"\"\"\n",
        "  # creating a pdf file object \n",
        "  with open(document, encoding='utf-8') as f:\n",
        "    contents = f.read()\n",
        "\n",
        "  # add filename to dataframe\n",
        "  m = re.search(r\"\\\\(?!.*\\\\)(.*)_(\\d+)(_?.*)?((\\.pdf)|(\\.txt))\", document.lower())\n",
        "  filename_match = m.group(0)\n",
        "  filename = re.sub(\"[\\\\\\/\\'\\>]\", \"\", filename_match)\n",
        "  filename = re.sub(\"\\.\\w+\", \"\", filename)\n",
        "  company = m.group(1)\n",
        "  year = m.group(2)\n",
        "  type = m.group(3)\n",
        "  type = re.sub(\"^_\", \"\", type)\n",
        "  ext = m.group(4)\n",
        "  ext = re.sub(\"\\.\", \"\", ext)\n",
        "\n",
        "  df.loc[index, 'file'] = filename\n",
        "  df.loc[index, 'company'] = company\n",
        "  df.loc[index, 'year'] = year\n",
        "  df.loc[index, 'type'] = type\n",
        "\n",
        "  print(\"Parsing\", filename, \"...\")\n",
        "\n",
        "  y = re.search(\"([0-9]{4})\", filename)\n",
        "  if y is None:\n",
        "    df.loc[index, 'year'] = 'NaN'\n",
        "  else:\n",
        "    df.loc[index, 'year'] = y[0]\n",
        "\n",
        "  f.close()\n",
        "\n",
        "  # cleaning\n",
        "  contents = re.sub(\"\\n\", \" \", contents)\n",
        "  contents = re.sub(\"\\.\", \". \", contents)\n",
        "  contents = re.sub(\"\\)\", \") \", contents)\n",
        "\n",
        "  # remove symbols\n",
        "  contents = re.sub(r\"[^a-zA-Z0-9]\", \" \", contents)\n",
        "\n",
        "  # lowercase\n",
        "  contents = contents.lower()\n",
        "\n",
        "  #remove extra spaces\n",
        "  contents = re.sub(\"\\s+\", \" \", contents)\n",
        "\n",
        "  # from where\n",
        "  df.loc[index, 'source'] = \"joco\"\n",
        "\n",
        "  # add contents to dataframe\n",
        "  df.loc[index, 'contents'] = contents\n",
        "\n",
        "  return #print(\"Done.\")"
      ]
    },
    {
      "cell_type": "code",
      "execution_count": 9,
      "metadata": {},
      "outputs": [],
      "source": [
        "# a function to walk through all files in folder and subfolders\n",
        "def list_files(dir):                                                                                                  \n",
        "    r = []                                                                                                            \n",
        "    subdirs = [x[0] for x in os.walk(dir)]                                                                            \n",
        "    for subdir in subdirs:                                                                                            \n",
        "        files = os.walk(subdir).__next__()[2]                                                                             \n",
        "        if (len(files) > 0):                                                                                          \n",
        "            for file in files:                                                                                        \n",
        "                r.append(os.path.join(subdir, file))                                                                         \n",
        "    return r"
      ]
    },
    {
      "cell_type": "markdown",
      "metadata": {},
      "source": [
        "### Preprocessor\n",
        "\n",
        "The following block of code reads in a directory (a folder) where company reports should be placed. It iterates over the files in that directory, and if they are in the correct file extension (`pdf`, `txt`), then the program will parse the files. Including: tokenization, counting tokens (~words), removing stopwords, lemmatization, and placing them all in one dataframe, where every row represents a document. The input folder should contain files with the following filename conventions \"company_year_type.txt\" where type can be CSR or something else, and year has to be digits. Extension can be pdf as well."
      ]
    },
    {
      "cell_type": "code",
      "execution_count": 10,
      "metadata": {
        "colab": {
          "base_uri": "https://localhost:8080/",
          "height": 252
        },
        "id": "E-8Jv9xqmSa8",
        "outputId": "d17111e9-4570-42db-ada6-45366e5a2521"
      },
      "outputs": [
        {
          "name": "stdout",
          "output_type": "stream",
          "text": [
            "Your input directory is: c:\\Users\\parti\\Projects\\dei-index\\testdata\\csr\n",
            "Number of files: 23\n",
            "Parsing cocacola_2003_csr ...\n",
            "Parsing cocacola_2004_csr ...\n",
            "Parsing cocacola_2005_csr ...\n",
            "Parsing cocacola_2006_csr ...\n",
            "Parsing cocacola_2006_csr_add1 ...\n",
            "Parsing cocacola_20072008_csr ...\n",
            "Parsing cocacola_20082009_csr ...\n",
            "Parsing cocacola_20092010_csr ...\n",
            "Parsing cocacola_20102011_csr ...\n",
            "Parsing cocacola_20112012_csr ...\n",
            "Parsing cocacola_20122013_csr ...\n",
            "Parsing cocacola_20132014_csr ...\n",
            "Parsing cocacola_20142015_csr ...\n",
            "Parsing cocacola_2021_csr ...\n",
            "Parsing pepsico_2006_csr ...\n",
            "Parsing pepsico_2007_csr ...\n",
            "Parsing pepsico_2008_csr ...\n",
            "Parsing pepsico_2009_csr ...\n",
            "Parsing pepsico_2010_csr ...\n",
            "Parsing pepsico_20112012_csr ...\n",
            "Parsing pepsico_2013_csr ...\n",
            "Parsing pepsico_2014_csr ...\n",
            "Parsing pepsico_2021_csr ...\n",
            "All files read in.\n",
            "Tokenize data...\n",
            "Counting words...\n",
            "23 documents, dropping empty ones if any...\n",
            "23 remaining.\n",
            "Removing stopwords...\n",
            "Lemmatizing data...\n",
            "Exporting...\n",
            "All done, no errors.\n"
          ]
        },
        {
          "data": {
            "text/html": [
              "<div>\n",
              "<style scoped>\n",
              "    .dataframe tbody tr th:only-of-type {\n",
              "        vertical-align: middle;\n",
              "    }\n",
              "\n",
              "    .dataframe tbody tr th {\n",
              "        vertical-align: top;\n",
              "    }\n",
              "\n",
              "    .dataframe thead th {\n",
              "        text-align: right;\n",
              "    }\n",
              "</style>\n",
              "<table border=\"1\" class=\"dataframe\">\n",
              "  <thead>\n",
              "    <tr style=\"text-align: right;\">\n",
              "      <th></th>\n",
              "      <th>file</th>\n",
              "      <th>company</th>\n",
              "      <th>year</th>\n",
              "      <th>type</th>\n",
              "      <th>source</th>\n",
              "      <th>contents</th>\n",
              "      <th>tokens</th>\n",
              "      <th>lemmatized</th>\n",
              "    </tr>\n",
              "  </thead>\n",
              "  <tbody>\n",
              "    <tr>\n",
              "      <th>0</th>\n",
              "      <td>cocacola_2003_csr</td>\n",
              "      <td>cocacola</td>\n",
              "      <td>2003</td>\n",
              "      <td>csr</td>\n",
              "      <td>joco</td>\n",
              "      <td>2003 environmental report summary of 2003 impa...</td>\n",
              "      <td>10442</td>\n",
              "      <td>2003 environmental report summary 2003 impact ...</td>\n",
              "    </tr>\n",
              "    <tr>\n",
              "      <th>1</th>\n",
              "      <td>cocacola_2004_csr</td>\n",
              "      <td>cocacola</td>\n",
              "      <td>2004</td>\n",
              "      <td>csr</td>\n",
              "      <td>joco</td>\n",
              "      <td>every day around the globe 2004 environmental ...</td>\n",
              "      <td>15771</td>\n",
              "      <td>every day around globe 2004 environmental repo...</td>\n",
              "    </tr>\n",
              "    <tr>\n",
              "      <th>2</th>\n",
              "      <td>cocacola_2005_csr</td>\n",
              "      <td>cocacola</td>\n",
              "      <td>2005</td>\n",
              "      <td>csr</td>\n",
              "      <td>joco</td>\n",
              "      <td>2005 environmental report www coca cola com in...</td>\n",
              "      <td>4271</td>\n",
              "      <td>2005 environmental report www coca cola com re...</td>\n",
              "    </tr>\n",
              "    <tr>\n",
              "      <th>3</th>\n",
              "      <td>cocacola_2006_csr</td>\n",
              "      <td>cocacola</td>\n",
              "      <td>2006</td>\n",
              "      <td>csr</td>\n",
              "      <td>joco</td>\n",
              "      <td>2006 corporate responsibility review the mark ...</td>\n",
              "      <td>12690</td>\n",
              "      <td>2006 corporate responsibility review mark make...</td>\n",
              "    </tr>\n",
              "    <tr>\n",
              "      <th>4</th>\n",
              "      <td>cocacola_2006_csr_add1</td>\n",
              "      <td>cocacola</td>\n",
              "      <td>2006</td>\n",
              "      <td>csr_add1</td>\n",
              "      <td>joco</td>\n",
              "      <td>2006 environmental performance environmental p...</td>\n",
              "      <td>3198</td>\n",
              "      <td>2006 environmental performance environmental p...</td>\n",
              "    </tr>\n",
              "    <tr>\n",
              "      <th>5</th>\n",
              "      <td>cocacola_20072008_csr</td>\n",
              "      <td>cocacola</td>\n",
              "      <td>2007</td>\n",
              "      <td>csr</td>\n",
              "      <td>joco</td>\n",
              "      <td>act inspire make a difference a dialogue of pr...</td>\n",
              "      <td>24082</td>\n",
              "      <td>act inspire make difference dialogue progress ...</td>\n",
              "    </tr>\n",
              "    <tr>\n",
              "      <th>6</th>\n",
              "      <td>cocacola_20082009_csr</td>\n",
              "      <td>cocacola</td>\n",
              "      <td>2008</td>\n",
              "      <td>csr</td>\n",
              "      <td>joco</td>\n",
              "      <td>the coca cola company 2008 2009 sustainability...</td>\n",
              "      <td>16978</td>\n",
              "      <td>coca cola company 2008 2009 sustainability rev...</td>\n",
              "    </tr>\n",
              "    <tr>\n",
              "      <th>7</th>\n",
              "      <td>cocacola_20092010_csr</td>\n",
              "      <td>cocacola</td>\n",
              "      <td>2009</td>\n",
              "      <td>csr</td>\n",
              "      <td>joco</td>\n",
              "      <td>2009 2010 sustainability review our commitment...</td>\n",
              "      <td>20800</td>\n",
              "      <td>2009 2010 sustainability review commitment mak...</td>\n",
              "    </tr>\n",
              "    <tr>\n",
              "      <th>8</th>\n",
              "      <td>cocacola_20102011_csr</td>\n",
              "      <td>cocacola</td>\n",
              "      <td>2010</td>\n",
              "      <td>csr</td>\n",
              "      <td>joco</td>\n",
              "      <td>2010 2011 sustainability report reasons to bel...</td>\n",
              "      <td>37552</td>\n",
              "      <td>2010 2011 sustainability report reason believe...</td>\n",
              "    </tr>\n",
              "    <tr>\n",
              "      <th>9</th>\n",
              "      <td>cocacola_20112012_csr</td>\n",
              "      <td>cocacola</td>\n",
              "      <td>2011</td>\n",
              "      <td>csr</td>\n",
              "      <td>joco</td>\n",
              "      <td>search gri report performance highlights muhta...</td>\n",
              "      <td>1188</td>\n",
              "      <td>search gri report performance highlight muhtar...</td>\n",
              "    </tr>\n",
              "    <tr>\n",
              "      <th>10</th>\n",
              "      <td>cocacola_20122013_csr</td>\n",
              "      <td>cocacola</td>\n",
              "      <td>2012</td>\n",
              "      <td>csr</td>\n",
              "      <td>joco</td>\n",
              "      <td>2012 2013 gri report table of contents introdu...</td>\n",
              "      <td>46679</td>\n",
              "      <td>2012 2013 gri report table content introductio...</td>\n",
              "    </tr>\n",
              "    <tr>\n",
              "      <th>11</th>\n",
              "      <td>cocacola_20132014_csr</td>\n",
              "      <td>cocacola</td>\n",
              "      <td>2013</td>\n",
              "      <td>csr</td>\n",
              "      <td>joco</td>\n",
              "      <td>innovating for a sustainable future our journe...</td>\n",
              "      <td>30673</td>\n",
              "      <td>innovating sustainable future journey 2013 cor...</td>\n",
              "    </tr>\n",
              "    <tr>\n",
              "      <th>12</th>\n",
              "      <td>cocacola_20142015_csr</td>\n",
              "      <td>cocacola</td>\n",
              "      <td>2014</td>\n",
              "      <td>csr</td>\n",
              "      <td>joco</td>\n",
              "      <td>2014 2015 sustainability report 2014 2015 sust...</td>\n",
              "      <td>33099</td>\n",
              "      <td>2014 2015 sustainability report 2014 2015 sust...</td>\n",
              "    </tr>\n",
              "    <tr>\n",
              "      <th>13</th>\n",
              "      <td>cocacola_2021_csr</td>\n",
              "      <td>cocacola</td>\n",
              "      <td>2021</td>\n",
              "      <td>csr</td>\n",
              "      <td>manual</td>\n",
              "      <td>refresh the world make a difference 2021 busin...</td>\n",
              "      <td>43304</td>\n",
              "      <td>refresh world make difference 2021 business es...</td>\n",
              "    </tr>\n",
              "    <tr>\n",
              "      <th>14</th>\n",
              "      <td>pepsico_2006_csr</td>\n",
              "      <td>pepsico</td>\n",
              "      <td>2006</td>\n",
              "      <td>csr</td>\n",
              "      <td>joco</td>\n",
              "      <td>performance with purpose pepsico corporate sus...</td>\n",
              "      <td>31309</td>\n",
              "      <td>performance purpose pepsico corporate sustaina...</td>\n",
              "    </tr>\n",
              "    <tr>\n",
              "      <th>15</th>\n",
              "      <td>pepsico_2007_csr</td>\n",
              "      <td>pepsico</td>\n",
              "      <td>2007</td>\n",
              "      <td>csr</td>\n",
              "      <td>joco</td>\n",
              "      <td>overview in a world that continues to experien...</td>\n",
              "      <td>22345</td>\n",
              "      <td>overview world continues experience unpreceden...</td>\n",
              "    </tr>\n",
              "    <tr>\n",
              "      <th>16</th>\n",
              "      <td>pepsico_2008_csr</td>\n",
              "      <td>pepsico</td>\n",
              "      <td>2008</td>\n",
              "      <td>csr</td>\n",
              "      <td>joco</td>\n",
              "      <td>performance with purpose creating a better tom...</td>\n",
              "      <td>37792</td>\n",
              "      <td>performance purpose creating better tomorrow f...</td>\n",
              "    </tr>\n",
              "    <tr>\n",
              "      <th>17</th>\n",
              "      <td>pepsico_2009_csr</td>\n",
              "      <td>pepsico</td>\n",
              "      <td>2009</td>\n",
              "      <td>csr</td>\n",
              "      <td>joco</td>\n",
              "      <td>performance with purpose investing in sustaina...</td>\n",
              "      <td>11226</td>\n",
              "      <td>performance purpose investing sustainable grow...</td>\n",
              "    </tr>\n",
              "    <tr>\n",
              "      <th>18</th>\n",
              "      <td>pepsico_2010_csr</td>\n",
              "      <td>pepsico</td>\n",
              "      <td>2010</td>\n",
              "      <td>csr</td>\n",
              "      <td>joco</td>\n",
              "      <td>performance with purpose the promise of pepsic...</td>\n",
              "      <td>9711</td>\n",
              "      <td>performance purpose promise pepsico sustainabi...</td>\n",
              "    </tr>\n",
              "    <tr>\n",
              "      <th>19</th>\n",
              "      <td>pepsico_20112012_csr</td>\n",
              "      <td>pepsico</td>\n",
              "      <td>2011</td>\n",
              "      <td>csr</td>\n",
              "      <td>joco</td>\n",
              "      <td>performance with purpose sustainability report...</td>\n",
              "      <td>11827</td>\n",
              "      <td>performance purpose sustainability report 2011...</td>\n",
              "    </tr>\n",
              "    <tr>\n",
              "      <th>20</th>\n",
              "      <td>pepsico_2013_csr</td>\n",
              "      <td>pepsico</td>\n",
              "      <td>2013</td>\n",
              "      <td>csr</td>\n",
              "      <td>joco</td>\n",
              "      <td>performance with purpose sustainability report...</td>\n",
              "      <td>18750</td>\n",
              "      <td>performance purpose sustainability report 2013...</td>\n",
              "    </tr>\n",
              "    <tr>\n",
              "      <th>21</th>\n",
              "      <td>pepsico_2014_csr</td>\n",
              "      <td>pepsico</td>\n",
              "      <td>2014</td>\n",
              "      <td>csr</td>\n",
              "      <td>joco</td>\n",
              "      <td>performance with purpose sustainability report...</td>\n",
              "      <td>7260</td>\n",
              "      <td>performance purpose sustainability report 2014...</td>\n",
              "    </tr>\n",
              "    <tr>\n",
              "      <th>22</th>\n",
              "      <td>pepsico_2021_csr</td>\n",
              "      <td>pepsico</td>\n",
              "      <td>2021</td>\n",
              "      <td>csr</td>\n",
              "      <td>manual</td>\n",
              "      <td>2021 esg summary the information within this p...</td>\n",
              "      <td>21775</td>\n",
              "      <td>2021 esg summary information within pdf june 2...</td>\n",
              "    </tr>\n",
              "  </tbody>\n",
              "</table>\n",
              "</div>"
            ],
            "text/plain": [
              "                      file   company  year      type  source  \\\n",
              "0        cocacola_2003_csr  cocacola  2003       csr    joco   \n",
              "1        cocacola_2004_csr  cocacola  2004       csr    joco   \n",
              "2        cocacola_2005_csr  cocacola  2005       csr    joco   \n",
              "3        cocacola_2006_csr  cocacola  2006       csr    joco   \n",
              "4   cocacola_2006_csr_add1  cocacola  2006  csr_add1    joco   \n",
              "5    cocacola_20072008_csr  cocacola  2007       csr    joco   \n",
              "6    cocacola_20082009_csr  cocacola  2008       csr    joco   \n",
              "7    cocacola_20092010_csr  cocacola  2009       csr    joco   \n",
              "8    cocacola_20102011_csr  cocacola  2010       csr    joco   \n",
              "9    cocacola_20112012_csr  cocacola  2011       csr    joco   \n",
              "10   cocacola_20122013_csr  cocacola  2012       csr    joco   \n",
              "11   cocacola_20132014_csr  cocacola  2013       csr    joco   \n",
              "12   cocacola_20142015_csr  cocacola  2014       csr    joco   \n",
              "13       cocacola_2021_csr  cocacola  2021       csr  manual   \n",
              "14        pepsico_2006_csr   pepsico  2006       csr    joco   \n",
              "15        pepsico_2007_csr   pepsico  2007       csr    joco   \n",
              "16        pepsico_2008_csr   pepsico  2008       csr    joco   \n",
              "17        pepsico_2009_csr   pepsico  2009       csr    joco   \n",
              "18        pepsico_2010_csr   pepsico  2010       csr    joco   \n",
              "19    pepsico_20112012_csr   pepsico  2011       csr    joco   \n",
              "20        pepsico_2013_csr   pepsico  2013       csr    joco   \n",
              "21        pepsico_2014_csr   pepsico  2014       csr    joco   \n",
              "22        pepsico_2021_csr   pepsico  2021       csr  manual   \n",
              "\n",
              "                                             contents  tokens  \\\n",
              "0   2003 environmental report summary of 2003 impa...   10442   \n",
              "1   every day around the globe 2004 environmental ...   15771   \n",
              "2   2005 environmental report www coca cola com in...    4271   \n",
              "3   2006 corporate responsibility review the mark ...   12690   \n",
              "4   2006 environmental performance environmental p...    3198   \n",
              "5   act inspire make a difference a dialogue of pr...   24082   \n",
              "6   the coca cola company 2008 2009 sustainability...   16978   \n",
              "7   2009 2010 sustainability review our commitment...   20800   \n",
              "8   2010 2011 sustainability report reasons to bel...   37552   \n",
              "9   search gri report performance highlights muhta...    1188   \n",
              "10  2012 2013 gri report table of contents introdu...   46679   \n",
              "11  innovating for a sustainable future our journe...   30673   \n",
              "12  2014 2015 sustainability report 2014 2015 sust...   33099   \n",
              "13  refresh the world make a difference 2021 busin...   43304   \n",
              "14  performance with purpose pepsico corporate sus...   31309   \n",
              "15  overview in a world that continues to experien...   22345   \n",
              "16  performance with purpose creating a better tom...   37792   \n",
              "17  performance with purpose investing in sustaina...   11226   \n",
              "18  performance with purpose the promise of pepsic...    9711   \n",
              "19  performance with purpose sustainability report...   11827   \n",
              "20  performance with purpose sustainability report...   18750   \n",
              "21  performance with purpose sustainability report...    7260   \n",
              "22  2021 esg summary the information within this p...   21775   \n",
              "\n",
              "                                           lemmatized  \n",
              "0   2003 environmental report summary 2003 impact ...  \n",
              "1   every day around globe 2004 environmental repo...  \n",
              "2   2005 environmental report www coca cola com re...  \n",
              "3   2006 corporate responsibility review mark make...  \n",
              "4   2006 environmental performance environmental p...  \n",
              "5   act inspire make difference dialogue progress ...  \n",
              "6   coca cola company 2008 2009 sustainability rev...  \n",
              "7   2009 2010 sustainability review commitment mak...  \n",
              "8   2010 2011 sustainability report reason believe...  \n",
              "9   search gri report performance highlight muhtar...  \n",
              "10  2012 2013 gri report table content introductio...  \n",
              "11  innovating sustainable future journey 2013 cor...  \n",
              "12  2014 2015 sustainability report 2014 2015 sust...  \n",
              "13  refresh world make difference 2021 business es...  \n",
              "14  performance purpose pepsico corporate sustaina...  \n",
              "15  overview world continues experience unpreceden...  \n",
              "16  performance purpose creating better tomorrow f...  \n",
              "17  performance purpose investing sustainable grow...  \n",
              "18  performance purpose promise pepsico sustainabi...  \n",
              "19  performance purpose sustainability report 2011...  \n",
              "20  performance purpose sustainability report 2013...  \n",
              "21  performance purpose sustainability report 2014...  \n",
              "22  2021 esg summary information within pdf june 2...  "
            ]
          },
          "execution_count": 10,
          "metadata": {},
          "output_type": "execute_result"
        }
      ],
      "source": [
        "# assign relative directory\n",
        "directory = os.path.join(sys.path[0], \"testdata\\\\csr\") ### INPUT FOLDER HERE ###\n",
        "print(\"Your input directory is:\", directory)\n",
        "\n",
        "# list files in directory\n",
        "files_in_dir = list_files(directory)\n",
        "# files_in_dir = os.listdir(directory)\n",
        "\n",
        "# count files in directory\n",
        "print(\"Number of files:\",len(files_in_dir))\n",
        "\n",
        "# initialize dataframe to hold documents\n",
        "df = pd.DataFrame(columns=['file'])\n",
        "\n",
        "# iterate over files in the directory\n",
        "misc_files = []\n",
        "i = 0\n",
        "for f in files_in_dir:\n",
        "    if f.lower().endswith('.pdf'):\n",
        "        # print(\"Found pdf,\")\n",
        "        read_pdf(f,i)\n",
        "    elif f.lower().endswith('.txt'):\n",
        "        # print(\"Found txt,\")\n",
        "        read_txt(f,i)\n",
        "    elif f.lower().endswith('desktop.ini'):\n",
        "        print(\"Hmm...\")\n",
        "    else:\n",
        "        print(\"Found something else.\")\n",
        "        misc_files.append(f)\n",
        "    i = i + 1\n",
        "\n",
        "if len(misc_files) > 0:\n",
        "    print(\"Warning, some files with dubious extensions were found but not parsed:\", print(misc_files))\n",
        "else:\n",
        "    print(\"All files read in.\")\n",
        "\n",
        "# tokenize contents\n",
        "print(\"Tokenize data...\")\n",
        "df['tokenized'] = df.contents.copy().apply(lambda x: nltk.word_tokenize(x))\n",
        "\n",
        "# count words/tokens\n",
        "print(\"Counting words...\")\n",
        "df['tokens'] = df.tokenized.copy().apply(lambda x: len(x))\n",
        "\n",
        "# drop empty rows\n",
        "print(df.shape[0], \"documents, dropping empty ones if any...\")\n",
        "df = df[df['tokens'] > 0]\n",
        "print(df.shape[0], \"remaining.\")\n",
        "\n",
        "# set stopwords from nltk\n",
        "stop = set(stopwords.words('english'))\n",
        "\n",
        "# remove stopwords\n",
        "print(\"Removing stopwords...\")\n",
        "df['without_stopwords'] = df['tokenized'].copy().apply(lambda x: ' '.join([word for word in x if word not in (stop)]))\n",
        "\n",
        "# define lemmatizer module from nltk\n",
        "lemmatizer = WordNetLemmatizer()\n",
        "\n",
        "# lemmatize\n",
        "print(\"Lemmatizing data...\")\n",
        "df['lemmatized'] = df['without_stopwords'].copy().apply(lambda x: ' '.join([lemmatizer.lemmatize(word) for word in x.split()]))\n",
        "\n",
        "# reorder columns\n",
        "# df = df[['file', 'source', 'year', 'tokens', 'contents', 'tokenized', 'without_stopwords', 'lemmatized',]]\n",
        "\n",
        "# # drop unnecessary rows\n",
        "df = df.drop(columns=['tokenized','without_stopwords'])\n",
        "\n",
        "# export\n",
        "print(\"Exporting...\")\n",
        "df.to_csv(\"parsed_documents.csv\")\n",
        "\n",
        "# done\n",
        "print(\"All done, no errors.\")\n",
        "df"
      ]
    },
    {
      "cell_type": "markdown",
      "metadata": {
        "id": "gy8vIlbCwQyQ"
      },
      "source": [
        "## TF-IDF\n",
        "\n",
        "The following block of code will read the dataframe of the parsed documents (imported from a previously saved `csv`), and we define the dataset to capture **tf-idf** (term frequency–inverse document frequency) scores of terms (unigrams, bigrams, trigrams, etc.) throughout the documents. Then, we should give list of the target terms we are looking for in the set of documents, in this example I am going to focus on ['diversity', 'equity', 'inclusion']. \n",
        "\n",
        ">Note: If you use the lemmatized contents, don't forget to search for singular terms instead of plural (e.g. 'human right' instead of 'human rights').\n",
        "\n",
        "You can also add additional \"stopwords\", words you want the vectorizer to ignore. \n",
        "We calculate the tf-idf scores for unigrams by iterating through every document and join the outputs together to get a dataframe that contains the scores of every document for the specific terms we are looking for. \n",
        "\n",
        ">Note that you can change the ngram range in line 14!\n",
        "\n",
        "Here we could also look at the top most \"important/salient\" terms in a specific document, relative to all the other documents in the corpus."
      ]
    },
    {
      "cell_type": "markdown",
      "metadata": {},
      "source": [
        "### Solution 1\n",
        "\n",
        "Obtain a simple set of scores on target terms that are easy to plot and manipulate."
      ]
    },
    {
      "cell_type": "code",
      "execution_count": 11,
      "metadata": {},
      "outputs": [
        {
          "name": "stdout",
          "output_type": "stream",
          "text": [
            "Working on #0, cocacola_2003_csr\n",
            "Working on #1, cocacola_2004_csr\n",
            "Working on #2, cocacola_2005_csr\n",
            "Working on #3, cocacola_2006_csr\n",
            "Working on #4, cocacola_2006_csr_add1\n",
            "Working on #5, cocacola_20072008_csr\n",
            "Working on #6, cocacola_20082009_csr\n",
            "Working on #7, cocacola_20092010_csr\n",
            "Working on #8, cocacola_20102011_csr\n",
            "Working on #9, cocacola_20112012_csr\n",
            "Working on #10, cocacola_20122013_csr\n",
            "Working on #11, cocacola_20132014_csr\n",
            "Working on #12, cocacola_20142015_csr\n",
            "Working on #13, cocacola_2021_csr\n",
            "Working on #14, pepsico_2006_csr\n",
            "Working on #15, pepsico_2007_csr\n",
            "Working on #16, pepsico_2008_csr\n",
            "Working on #17, pepsico_2009_csr\n",
            "Working on #18, pepsico_2010_csr\n",
            "Working on #19, pepsico_20112012_csr\n",
            "Working on #20, pepsico_2013_csr\n",
            "Working on #21, pepsico_2014_csr\n",
            "Working on #22, pepsico_2021_csr\n"
          ]
        },
        {
          "data": {
            "text/html": [
              "<div>\n",
              "<style scoped>\n",
              "    .dataframe tbody tr th:only-of-type {\n",
              "        vertical-align: middle;\n",
              "    }\n",
              "\n",
              "    .dataframe tbody tr th {\n",
              "        vertical-align: top;\n",
              "    }\n",
              "\n",
              "    .dataframe thead th {\n",
              "        text-align: right;\n",
              "    }\n",
              "</style>\n",
              "<table border=\"1\" class=\"dataframe\">\n",
              "  <thead>\n",
              "    <tr style=\"text-align: right;\">\n",
              "      <th></th>\n",
              "      <th>term</th>\n",
              "      <th>cocacola_2003_csr</th>\n",
              "      <th>cocacola_2004_csr</th>\n",
              "      <th>cocacola_2005_csr</th>\n",
              "      <th>cocacola_2006_csr</th>\n",
              "      <th>cocacola_2006_csr_add1</th>\n",
              "      <th>cocacola_20072008_csr</th>\n",
              "      <th>cocacola_20082009_csr</th>\n",
              "      <th>cocacola_20092010_csr</th>\n",
              "      <th>cocacola_20102011_csr</th>\n",
              "      <th>...</th>\n",
              "      <th>cocacola_2021_csr</th>\n",
              "      <th>pepsico_2006_csr</th>\n",
              "      <th>pepsico_2007_csr</th>\n",
              "      <th>pepsico_2008_csr</th>\n",
              "      <th>pepsico_2009_csr</th>\n",
              "      <th>pepsico_2010_csr</th>\n",
              "      <th>pepsico_20112012_csr</th>\n",
              "      <th>pepsico_2013_csr</th>\n",
              "      <th>pepsico_2014_csr</th>\n",
              "      <th>pepsico_2021_csr</th>\n",
              "    </tr>\n",
              "  </thead>\n",
              "  <tbody>\n",
              "    <tr>\n",
              "      <th>0</th>\n",
              "      <td>inclusion</td>\n",
              "      <td>0.003024</td>\n",
              "      <td>0.000000</td>\n",
              "      <td>0.0</td>\n",
              "      <td>0.000000</td>\n",
              "      <td>0.0</td>\n",
              "      <td>0.000000</td>\n",
              "      <td>0.003721</td>\n",
              "      <td>0.001876</td>\n",
              "      <td>0.003736</td>\n",
              "      <td>...</td>\n",
              "      <td>0.019618</td>\n",
              "      <td>0.036569</td>\n",
              "      <td>0.036199</td>\n",
              "      <td>0.031501</td>\n",
              "      <td>0.063339</td>\n",
              "      <td>0.018738</td>\n",
              "      <td>0.012668</td>\n",
              "      <td>0.008451</td>\n",
              "      <td>0.008723</td>\n",
              "      <td>0.014723</td>\n",
              "    </tr>\n",
              "    <tr>\n",
              "      <th>1</th>\n",
              "      <td>equity</td>\n",
              "      <td>0.000000</td>\n",
              "      <td>0.000000</td>\n",
              "      <td>0.0</td>\n",
              "      <td>0.014674</td>\n",
              "      <td>0.0</td>\n",
              "      <td>0.004079</td>\n",
              "      <td>0.000000</td>\n",
              "      <td>0.000000</td>\n",
              "      <td>0.000000</td>\n",
              "      <td>...</td>\n",
              "      <td>0.035580</td>\n",
              "      <td>0.003796</td>\n",
              "      <td>0.001983</td>\n",
              "      <td>0.002436</td>\n",
              "      <td>0.003966</td>\n",
              "      <td>0.004928</td>\n",
              "      <td>0.000000</td>\n",
              "      <td>0.000000</td>\n",
              "      <td>0.000000</td>\n",
              "      <td>0.025812</td>\n",
              "    </tr>\n",
              "    <tr>\n",
              "      <th>2</th>\n",
              "      <td>diversity</td>\n",
              "      <td>0.000000</td>\n",
              "      <td>0.002015</td>\n",
              "      <td>0.0</td>\n",
              "      <td>0.017932</td>\n",
              "      <td>0.0</td>\n",
              "      <td>0.051273</td>\n",
              "      <td>0.023919</td>\n",
              "      <td>0.020675</td>\n",
              "      <td>0.011434</td>\n",
              "      <td>...</td>\n",
              "      <td>0.022982</td>\n",
              "      <td>0.045063</td>\n",
              "      <td>0.040162</td>\n",
              "      <td>0.034028</td>\n",
              "      <td>0.063695</td>\n",
              "      <td>0.027528</td>\n",
              "      <td>0.018611</td>\n",
              "      <td>0.031037</td>\n",
              "      <td>0.024027</td>\n",
              "      <td>0.011265</td>\n",
              "    </tr>\n",
              "  </tbody>\n",
              "</table>\n",
              "<p>3 rows × 24 columns</p>\n",
              "</div>"
            ],
            "text/plain": [
              "        term  cocacola_2003_csr  cocacola_2004_csr  cocacola_2005_csr  \\\n",
              "0  inclusion           0.003024           0.000000                0.0   \n",
              "1     equity           0.000000           0.000000                0.0   \n",
              "2  diversity           0.000000           0.002015                0.0   \n",
              "\n",
              "   cocacola_2006_csr  cocacola_2006_csr_add1  cocacola_20072008_csr  \\\n",
              "0           0.000000                     0.0               0.000000   \n",
              "1           0.014674                     0.0               0.004079   \n",
              "2           0.017932                     0.0               0.051273   \n",
              "\n",
              "   cocacola_20082009_csr  cocacola_20092010_csr  cocacola_20102011_csr  ...  \\\n",
              "0               0.003721               0.001876               0.003736  ...   \n",
              "1               0.000000               0.000000               0.000000  ...   \n",
              "2               0.023919               0.020675               0.011434  ...   \n",
              "\n",
              "   cocacola_2021_csr  pepsico_2006_csr  pepsico_2007_csr  pepsico_2008_csr  \\\n",
              "0           0.019618          0.036569          0.036199          0.031501   \n",
              "1           0.035580          0.003796          0.001983          0.002436   \n",
              "2           0.022982          0.045063          0.040162          0.034028   \n",
              "\n",
              "   pepsico_2009_csr  pepsico_2010_csr  pepsico_20112012_csr  pepsico_2013_csr  \\\n",
              "0          0.063339          0.018738              0.012668          0.008451   \n",
              "1          0.003966          0.004928              0.000000          0.000000   \n",
              "2          0.063695          0.027528              0.018611          0.031037   \n",
              "\n",
              "   pepsico_2014_csr  pepsico_2021_csr  \n",
              "0          0.008723          0.014723  \n",
              "1          0.000000          0.025812  \n",
              "2          0.024027          0.011265  \n",
              "\n",
              "[3 rows x 24 columns]"
            ]
          },
          "execution_count": 11,
          "metadata": {},
          "output_type": "execute_result"
        }
      ],
      "source": [
        "# load in preprocessed data\n",
        "df = pd.read_csv(\"parsed_documents.csv\", index_col=0)\n",
        "\n",
        "# define the dataset as a list of document contents (text)\n",
        "dataset = df['lemmatized'].tolist()\n",
        "\n",
        "# define a list of target terms (keywords and phrases) to filter for later\n",
        "filter = ['diversity', 'equity', 'inclusion']\n",
        "\n",
        "# manually add to the list of stopwords if needed\n",
        "custom_stop_words = text.ENGLISH_STOP_WORDS.union([\"\"])\n",
        "\n",
        "# set vectorizer\n",
        "tfIdfVectorizer=TfidfVectorizer(use_idf=True, ngram_range=(1,1), stop_words=custom_stop_words)\n",
        "\n",
        "# turn text into tf-idf vectors\n",
        "tfIdf = tfIdfVectorizer.fit_transform(dataset)\n",
        "\n",
        "# correlation matrix (for later)\n",
        "corr_matrix = ((tfIdf * tfIdf.T).A)\n",
        "\n",
        "# list of filenames and their no.\n",
        "filenames = df['file'].tolist()\n",
        "filenames = [re.sub(\"\\.\\w+\", '', i) for i in filenames]\n",
        "no_of_files = len(filenames)\n",
        "\n",
        "# initialize dataframe to hold tfidf scores\n",
        "df_all_scores = pd.DataFrame(columns=['term'])\n",
        "df_filtered_scores = pd.DataFrame(columns=['term'])\n",
        "\n",
        "# loop through all documents and get scores for each term term\n",
        "for i in range(no_of_files):\n",
        "    # get tf-idf scores for words/phrases\n",
        "    print(\"Working on #\" + str(i) + \",\", filenames[i])\n",
        "    df_scores = pd.DataFrame(tfIdf[i].T.todense(), index=tfIdfVectorizer.get_feature_names_out(), columns=[filenames[i]])\n",
        "\n",
        "    # sort values according to score\n",
        "    df_scores = df_scores.sort_values(filenames[i], ascending=False)\n",
        "\n",
        "    # reset index and rename it term\n",
        "    df_scores.reset_index(inplace=True)\n",
        "    df_scores.rename(columns = {'index':'term'}, inplace = True)\n",
        "\n",
        "    # merge all tfidf scores\n",
        "    # df_all_scores = pd.merge(df_all_scores, df_scores.head(100), how='outer', on = 'term')\n",
        "    # df.fillna(0.0)\n",
        "\n",
        "    # filter for manual selection \n",
        "    df_filtered = df_scores[df_scores['term'].isin(filter)]\n",
        "\n",
        "    # merge new tfidf scores with the rest\n",
        "    df_filtered_scores = pd.merge(df_filtered_scores, df_filtered, how='outer', on = 'term')\n",
        "\n",
        "# export\n",
        "df_filtered_scores.to_csv(\"tfidf.csv\")\n",
        "\n",
        "df_filtered_scores"
      ]
    },
    {
      "cell_type": "markdown",
      "metadata": {},
      "source": [
        "#### Plot\n",
        "\n",
        "The following cell creates a plot using the [plotly](https://plotly.com/python/) Python visualization library. Before the actual plot, you can customize what you want to see."
      ]
    },
    {
      "cell_type": "code",
      "execution_count": 12,
      "metadata": {},
      "outputs": [
        {
          "data": {
            "application/vnd.plotly.v1+json": {
              "config": {
                "plotlyServerURL": "https://plot.ly"
              },
              "data": [
                {
                  "alignmentgroup": "True",
                  "hovertemplate": "term=inclusion<br>index=%{x}<br>value=%{y}<extra></extra>",
                  "legendgroup": "inclusion",
                  "marker": {
                    "color": "#636efa",
                    "pattern": {
                      "shape": ""
                    }
                  },
                  "name": "inclusion",
                  "offsetgroup": "inclusion",
                  "orientation": "v",
                  "showlegend": true,
                  "textposition": "auto",
                  "type": "bar",
                  "x": [
                    "cocacola_2003_csr",
                    "cocacola_2004_csr",
                    "cocacola_2005_csr",
                    "cocacola_2006_csr",
                    "cocacola_2006_csr_add1",
                    "cocacola_20072008_csr",
                    "cocacola_20082009_csr",
                    "cocacola_20092010_csr",
                    "cocacola_20102011_csr",
                    "cocacola_20112012_csr",
                    "cocacola_20122013_csr",
                    "cocacola_20132014_csr",
                    "cocacola_20142015_csr",
                    "cocacola_2021_csr",
                    "pepsico_2006_csr",
                    "pepsico_2007_csr",
                    "pepsico_2008_csr",
                    "pepsico_2009_csr",
                    "pepsico_2010_csr",
                    "pepsico_20112012_csr",
                    "pepsico_2013_csr",
                    "pepsico_2014_csr",
                    "pepsico_2021_csr"
                  ],
                  "xaxis": "x",
                  "y": [
                    0.0030239536615486,
                    0,
                    0,
                    0,
                    0,
                    0,
                    0.0037214444728497,
                    0.0018764537192538,
                    0.0037357822539992,
                    0,
                    0.0064416808391604,
                    0.0150523040589333,
                    0.0068253133758739,
                    0.019618016274005,
                    0.0365686957321361,
                    0.036199388547321,
                    0.0315010517582399,
                    0.0633392838857669,
                    0.0187378880582636,
                    0.0126683086323989,
                    0.0084506455036207,
                    0.0087228246032882,
                    0.0147230007040195
                  ],
                  "yaxis": "y"
                },
                {
                  "alignmentgroup": "True",
                  "hovertemplate": "term=equity<br>index=%{x}<br>value=%{y}<extra></extra>",
                  "legendgroup": "equity",
                  "marker": {
                    "color": "#EF553B",
                    "pattern": {
                      "shape": ""
                    }
                  },
                  "name": "equity",
                  "offsetgroup": "equity",
                  "orientation": "v",
                  "showlegend": true,
                  "textposition": "auto",
                  "type": "bar",
                  "x": [
                    "cocacola_2003_csr",
                    "cocacola_2004_csr",
                    "cocacola_2005_csr",
                    "cocacola_2006_csr",
                    "cocacola_2006_csr_add1",
                    "cocacola_20072008_csr",
                    "cocacola_20082009_csr",
                    "cocacola_20092010_csr",
                    "cocacola_20102011_csr",
                    "cocacola_20112012_csr",
                    "cocacola_20122013_csr",
                    "cocacola_20132014_csr",
                    "cocacola_20142015_csr",
                    "cocacola_2021_csr",
                    "pepsico_2006_csr",
                    "pepsico_2007_csr",
                    "pepsico_2008_csr",
                    "pepsico_2009_csr",
                    "pepsico_2010_csr",
                    "pepsico_20112012_csr",
                    "pepsico_2013_csr",
                    "pepsico_2014_csr",
                    "pepsico_2021_csr"
                  ],
                  "xaxis": "x",
                  "y": [
                    0,
                    0,
                    0,
                    0.0146743437473377,
                    0,
                    0.0040792363165408,
                    0,
                    0,
                    0,
                    0,
                    0.0012100051695574,
                    0,
                    0.0014957444783964,
                    0.0355797708178999,
                    0.0037960610775116,
                    0.0019832435728289,
                    0.0024364763225784,
                    0.0039658831730131,
                    0.0049276142013983,
                    0,
                    0,
                    0,
                    0.025811968823359
                  ],
                  "yaxis": "y"
                },
                {
                  "alignmentgroup": "True",
                  "hovertemplate": "term=diversity<br>index=%{x}<br>value=%{y}<extra></extra>",
                  "legendgroup": "diversity",
                  "marker": {
                    "color": "#00cc96",
                    "pattern": {
                      "shape": ""
                    }
                  },
                  "name": "diversity",
                  "offsetgroup": "diversity",
                  "orientation": "v",
                  "showlegend": true,
                  "textposition": "auto",
                  "type": "bar",
                  "x": [
                    "cocacola_2003_csr",
                    "cocacola_2004_csr",
                    "cocacola_2005_csr",
                    "cocacola_2006_csr",
                    "cocacola_2006_csr_add1",
                    "cocacola_20072008_csr",
                    "cocacola_20082009_csr",
                    "cocacola_20092010_csr",
                    "cocacola_20102011_csr",
                    "cocacola_20112012_csr",
                    "cocacola_20122013_csr",
                    "cocacola_20132014_csr",
                    "cocacola_20142015_csr",
                    "cocacola_2021_csr",
                    "pepsico_2006_csr",
                    "pepsico_2007_csr",
                    "pepsico_2008_csr",
                    "pepsico_2009_csr",
                    "pepsico_2010_csr",
                    "pepsico_20112012_csr",
                    "pepsico_2013_csr",
                    "pepsico_2014_csr",
                    "pepsico_2021_csr"
                  ],
                  "xaxis": "x",
                  "y": [
                    0,
                    0.0020151432134577,
                    0,
                    0.0179323676057815,
                    0,
                    0.0512734176793448,
                    0.0239186432874616,
                    0.0206750258940156,
                    0.0114337122619657,
                    0,
                    0.0202786651352082,
                    0.046068989514906,
                    0.0146226585898476,
                    0.0229818917804526,
                    0.0450633017639917,
                    0.0401619646585277,
                    0.0340277385436727,
                    0.0636954850017654,
                    0.0275275513470743,
                    0.0186108229099571,
                    0.0310367925794939,
                    0.0240273211499258,
                    0.0112652814214658
                  ],
                  "yaxis": "y"
                }
              ],
              "layout": {
                "barmode": "relative",
                "legend": {
                  "title": {
                    "text": "term"
                  },
                  "tracegroupgap": 0
                },
                "margin": {
                  "t": 60
                },
                "template": {
                  "data": {
                    "bar": [
                      {
                        "error_x": {
                          "color": "#2a3f5f"
                        },
                        "error_y": {
                          "color": "#2a3f5f"
                        },
                        "marker": {
                          "line": {
                            "color": "#E5ECF6",
                            "width": 0.5
                          },
                          "pattern": {
                            "fillmode": "overlay",
                            "size": 10,
                            "solidity": 0.2
                          }
                        },
                        "type": "bar"
                      }
                    ],
                    "barpolar": [
                      {
                        "marker": {
                          "line": {
                            "color": "#E5ECF6",
                            "width": 0.5
                          },
                          "pattern": {
                            "fillmode": "overlay",
                            "size": 10,
                            "solidity": 0.2
                          }
                        },
                        "type": "barpolar"
                      }
                    ],
                    "carpet": [
                      {
                        "aaxis": {
                          "endlinecolor": "#2a3f5f",
                          "gridcolor": "white",
                          "linecolor": "white",
                          "minorgridcolor": "white",
                          "startlinecolor": "#2a3f5f"
                        },
                        "baxis": {
                          "endlinecolor": "#2a3f5f",
                          "gridcolor": "white",
                          "linecolor": "white",
                          "minorgridcolor": "white",
                          "startlinecolor": "#2a3f5f"
                        },
                        "type": "carpet"
                      }
                    ],
                    "choropleth": [
                      {
                        "colorbar": {
                          "outlinewidth": 0,
                          "ticks": ""
                        },
                        "type": "choropleth"
                      }
                    ],
                    "contour": [
                      {
                        "colorbar": {
                          "outlinewidth": 0,
                          "ticks": ""
                        },
                        "colorscale": [
                          [
                            0,
                            "#0d0887"
                          ],
                          [
                            0.1111111111111111,
                            "#46039f"
                          ],
                          [
                            0.2222222222222222,
                            "#7201a8"
                          ],
                          [
                            0.3333333333333333,
                            "#9c179e"
                          ],
                          [
                            0.4444444444444444,
                            "#bd3786"
                          ],
                          [
                            0.5555555555555556,
                            "#d8576b"
                          ],
                          [
                            0.6666666666666666,
                            "#ed7953"
                          ],
                          [
                            0.7777777777777778,
                            "#fb9f3a"
                          ],
                          [
                            0.8888888888888888,
                            "#fdca26"
                          ],
                          [
                            1,
                            "#f0f921"
                          ]
                        ],
                        "type": "contour"
                      }
                    ],
                    "contourcarpet": [
                      {
                        "colorbar": {
                          "outlinewidth": 0,
                          "ticks": ""
                        },
                        "type": "contourcarpet"
                      }
                    ],
                    "heatmap": [
                      {
                        "colorbar": {
                          "outlinewidth": 0,
                          "ticks": ""
                        },
                        "colorscale": [
                          [
                            0,
                            "#0d0887"
                          ],
                          [
                            0.1111111111111111,
                            "#46039f"
                          ],
                          [
                            0.2222222222222222,
                            "#7201a8"
                          ],
                          [
                            0.3333333333333333,
                            "#9c179e"
                          ],
                          [
                            0.4444444444444444,
                            "#bd3786"
                          ],
                          [
                            0.5555555555555556,
                            "#d8576b"
                          ],
                          [
                            0.6666666666666666,
                            "#ed7953"
                          ],
                          [
                            0.7777777777777778,
                            "#fb9f3a"
                          ],
                          [
                            0.8888888888888888,
                            "#fdca26"
                          ],
                          [
                            1,
                            "#f0f921"
                          ]
                        ],
                        "type": "heatmap"
                      }
                    ],
                    "heatmapgl": [
                      {
                        "colorbar": {
                          "outlinewidth": 0,
                          "ticks": ""
                        },
                        "colorscale": [
                          [
                            0,
                            "#0d0887"
                          ],
                          [
                            0.1111111111111111,
                            "#46039f"
                          ],
                          [
                            0.2222222222222222,
                            "#7201a8"
                          ],
                          [
                            0.3333333333333333,
                            "#9c179e"
                          ],
                          [
                            0.4444444444444444,
                            "#bd3786"
                          ],
                          [
                            0.5555555555555556,
                            "#d8576b"
                          ],
                          [
                            0.6666666666666666,
                            "#ed7953"
                          ],
                          [
                            0.7777777777777778,
                            "#fb9f3a"
                          ],
                          [
                            0.8888888888888888,
                            "#fdca26"
                          ],
                          [
                            1,
                            "#f0f921"
                          ]
                        ],
                        "type": "heatmapgl"
                      }
                    ],
                    "histogram": [
                      {
                        "marker": {
                          "pattern": {
                            "fillmode": "overlay",
                            "size": 10,
                            "solidity": 0.2
                          }
                        },
                        "type": "histogram"
                      }
                    ],
                    "histogram2d": [
                      {
                        "colorbar": {
                          "outlinewidth": 0,
                          "ticks": ""
                        },
                        "colorscale": [
                          [
                            0,
                            "#0d0887"
                          ],
                          [
                            0.1111111111111111,
                            "#46039f"
                          ],
                          [
                            0.2222222222222222,
                            "#7201a8"
                          ],
                          [
                            0.3333333333333333,
                            "#9c179e"
                          ],
                          [
                            0.4444444444444444,
                            "#bd3786"
                          ],
                          [
                            0.5555555555555556,
                            "#d8576b"
                          ],
                          [
                            0.6666666666666666,
                            "#ed7953"
                          ],
                          [
                            0.7777777777777778,
                            "#fb9f3a"
                          ],
                          [
                            0.8888888888888888,
                            "#fdca26"
                          ],
                          [
                            1,
                            "#f0f921"
                          ]
                        ],
                        "type": "histogram2d"
                      }
                    ],
                    "histogram2dcontour": [
                      {
                        "colorbar": {
                          "outlinewidth": 0,
                          "ticks": ""
                        },
                        "colorscale": [
                          [
                            0,
                            "#0d0887"
                          ],
                          [
                            0.1111111111111111,
                            "#46039f"
                          ],
                          [
                            0.2222222222222222,
                            "#7201a8"
                          ],
                          [
                            0.3333333333333333,
                            "#9c179e"
                          ],
                          [
                            0.4444444444444444,
                            "#bd3786"
                          ],
                          [
                            0.5555555555555556,
                            "#d8576b"
                          ],
                          [
                            0.6666666666666666,
                            "#ed7953"
                          ],
                          [
                            0.7777777777777778,
                            "#fb9f3a"
                          ],
                          [
                            0.8888888888888888,
                            "#fdca26"
                          ],
                          [
                            1,
                            "#f0f921"
                          ]
                        ],
                        "type": "histogram2dcontour"
                      }
                    ],
                    "mesh3d": [
                      {
                        "colorbar": {
                          "outlinewidth": 0,
                          "ticks": ""
                        },
                        "type": "mesh3d"
                      }
                    ],
                    "parcoords": [
                      {
                        "line": {
                          "colorbar": {
                            "outlinewidth": 0,
                            "ticks": ""
                          }
                        },
                        "type": "parcoords"
                      }
                    ],
                    "pie": [
                      {
                        "automargin": true,
                        "type": "pie"
                      }
                    ],
                    "scatter": [
                      {
                        "fillpattern": {
                          "fillmode": "overlay",
                          "size": 10,
                          "solidity": 0.2
                        },
                        "type": "scatter"
                      }
                    ],
                    "scatter3d": [
                      {
                        "line": {
                          "colorbar": {
                            "outlinewidth": 0,
                            "ticks": ""
                          }
                        },
                        "marker": {
                          "colorbar": {
                            "outlinewidth": 0,
                            "ticks": ""
                          }
                        },
                        "type": "scatter3d"
                      }
                    ],
                    "scattercarpet": [
                      {
                        "marker": {
                          "colorbar": {
                            "outlinewidth": 0,
                            "ticks": ""
                          }
                        },
                        "type": "scattercarpet"
                      }
                    ],
                    "scattergeo": [
                      {
                        "marker": {
                          "colorbar": {
                            "outlinewidth": 0,
                            "ticks": ""
                          }
                        },
                        "type": "scattergeo"
                      }
                    ],
                    "scattergl": [
                      {
                        "marker": {
                          "colorbar": {
                            "outlinewidth": 0,
                            "ticks": ""
                          }
                        },
                        "type": "scattergl"
                      }
                    ],
                    "scattermapbox": [
                      {
                        "marker": {
                          "colorbar": {
                            "outlinewidth": 0,
                            "ticks": ""
                          }
                        },
                        "type": "scattermapbox"
                      }
                    ],
                    "scatterpolar": [
                      {
                        "marker": {
                          "colorbar": {
                            "outlinewidth": 0,
                            "ticks": ""
                          }
                        },
                        "type": "scatterpolar"
                      }
                    ],
                    "scatterpolargl": [
                      {
                        "marker": {
                          "colorbar": {
                            "outlinewidth": 0,
                            "ticks": ""
                          }
                        },
                        "type": "scatterpolargl"
                      }
                    ],
                    "scatterternary": [
                      {
                        "marker": {
                          "colorbar": {
                            "outlinewidth": 0,
                            "ticks": ""
                          }
                        },
                        "type": "scatterternary"
                      }
                    ],
                    "surface": [
                      {
                        "colorbar": {
                          "outlinewidth": 0,
                          "ticks": ""
                        },
                        "colorscale": [
                          [
                            0,
                            "#0d0887"
                          ],
                          [
                            0.1111111111111111,
                            "#46039f"
                          ],
                          [
                            0.2222222222222222,
                            "#7201a8"
                          ],
                          [
                            0.3333333333333333,
                            "#9c179e"
                          ],
                          [
                            0.4444444444444444,
                            "#bd3786"
                          ],
                          [
                            0.5555555555555556,
                            "#d8576b"
                          ],
                          [
                            0.6666666666666666,
                            "#ed7953"
                          ],
                          [
                            0.7777777777777778,
                            "#fb9f3a"
                          ],
                          [
                            0.8888888888888888,
                            "#fdca26"
                          ],
                          [
                            1,
                            "#f0f921"
                          ]
                        ],
                        "type": "surface"
                      }
                    ],
                    "table": [
                      {
                        "cells": {
                          "fill": {
                            "color": "#EBF0F8"
                          },
                          "line": {
                            "color": "white"
                          }
                        },
                        "header": {
                          "fill": {
                            "color": "#C8D4E3"
                          },
                          "line": {
                            "color": "white"
                          }
                        },
                        "type": "table"
                      }
                    ]
                  },
                  "layout": {
                    "annotationdefaults": {
                      "arrowcolor": "#2a3f5f",
                      "arrowhead": 0,
                      "arrowwidth": 1
                    },
                    "autotypenumbers": "strict",
                    "coloraxis": {
                      "colorbar": {
                        "outlinewidth": 0,
                        "ticks": ""
                      }
                    },
                    "colorscale": {
                      "diverging": [
                        [
                          0,
                          "#8e0152"
                        ],
                        [
                          0.1,
                          "#c51b7d"
                        ],
                        [
                          0.2,
                          "#de77ae"
                        ],
                        [
                          0.3,
                          "#f1b6da"
                        ],
                        [
                          0.4,
                          "#fde0ef"
                        ],
                        [
                          0.5,
                          "#f7f7f7"
                        ],
                        [
                          0.6,
                          "#e6f5d0"
                        ],
                        [
                          0.7,
                          "#b8e186"
                        ],
                        [
                          0.8,
                          "#7fbc41"
                        ],
                        [
                          0.9,
                          "#4d9221"
                        ],
                        [
                          1,
                          "#276419"
                        ]
                      ],
                      "sequential": [
                        [
                          0,
                          "#0d0887"
                        ],
                        [
                          0.1111111111111111,
                          "#46039f"
                        ],
                        [
                          0.2222222222222222,
                          "#7201a8"
                        ],
                        [
                          0.3333333333333333,
                          "#9c179e"
                        ],
                        [
                          0.4444444444444444,
                          "#bd3786"
                        ],
                        [
                          0.5555555555555556,
                          "#d8576b"
                        ],
                        [
                          0.6666666666666666,
                          "#ed7953"
                        ],
                        [
                          0.7777777777777778,
                          "#fb9f3a"
                        ],
                        [
                          0.8888888888888888,
                          "#fdca26"
                        ],
                        [
                          1,
                          "#f0f921"
                        ]
                      ],
                      "sequentialminus": [
                        [
                          0,
                          "#0d0887"
                        ],
                        [
                          0.1111111111111111,
                          "#46039f"
                        ],
                        [
                          0.2222222222222222,
                          "#7201a8"
                        ],
                        [
                          0.3333333333333333,
                          "#9c179e"
                        ],
                        [
                          0.4444444444444444,
                          "#bd3786"
                        ],
                        [
                          0.5555555555555556,
                          "#d8576b"
                        ],
                        [
                          0.6666666666666666,
                          "#ed7953"
                        ],
                        [
                          0.7777777777777778,
                          "#fb9f3a"
                        ],
                        [
                          0.8888888888888888,
                          "#fdca26"
                        ],
                        [
                          1,
                          "#f0f921"
                        ]
                      ]
                    },
                    "colorway": [
                      "#636efa",
                      "#EF553B",
                      "#00cc96",
                      "#ab63fa",
                      "#FFA15A",
                      "#19d3f3",
                      "#FF6692",
                      "#B6E880",
                      "#FF97FF",
                      "#FECB52"
                    ],
                    "font": {
                      "color": "#2a3f5f"
                    },
                    "geo": {
                      "bgcolor": "white",
                      "lakecolor": "white",
                      "landcolor": "#E5ECF6",
                      "showlakes": true,
                      "showland": true,
                      "subunitcolor": "white"
                    },
                    "hoverlabel": {
                      "align": "left"
                    },
                    "hovermode": "closest",
                    "mapbox": {
                      "style": "light"
                    },
                    "paper_bgcolor": "white",
                    "plot_bgcolor": "#E5ECF6",
                    "polar": {
                      "angularaxis": {
                        "gridcolor": "white",
                        "linecolor": "white",
                        "ticks": ""
                      },
                      "bgcolor": "#E5ECF6",
                      "radialaxis": {
                        "gridcolor": "white",
                        "linecolor": "white",
                        "ticks": ""
                      }
                    },
                    "scene": {
                      "xaxis": {
                        "backgroundcolor": "#E5ECF6",
                        "gridcolor": "white",
                        "gridwidth": 2,
                        "linecolor": "white",
                        "showbackground": true,
                        "ticks": "",
                        "zerolinecolor": "white"
                      },
                      "yaxis": {
                        "backgroundcolor": "#E5ECF6",
                        "gridcolor": "white",
                        "gridwidth": 2,
                        "linecolor": "white",
                        "showbackground": true,
                        "ticks": "",
                        "zerolinecolor": "white"
                      },
                      "zaxis": {
                        "backgroundcolor": "#E5ECF6",
                        "gridcolor": "white",
                        "gridwidth": 2,
                        "linecolor": "white",
                        "showbackground": true,
                        "ticks": "",
                        "zerolinecolor": "white"
                      }
                    },
                    "shapedefaults": {
                      "line": {
                        "color": "#2a3f5f"
                      }
                    },
                    "ternary": {
                      "aaxis": {
                        "gridcolor": "white",
                        "linecolor": "white",
                        "ticks": ""
                      },
                      "baxis": {
                        "gridcolor": "white",
                        "linecolor": "white",
                        "ticks": ""
                      },
                      "bgcolor": "#E5ECF6",
                      "caxis": {
                        "gridcolor": "white",
                        "linecolor": "white",
                        "ticks": ""
                      }
                    },
                    "title": {
                      "x": 0.05
                    },
                    "xaxis": {
                      "automargin": true,
                      "gridcolor": "white",
                      "linecolor": "white",
                      "ticks": "",
                      "title": {
                        "standoff": 15
                      },
                      "zerolinecolor": "white",
                      "zerolinewidth": 2
                    },
                    "yaxis": {
                      "automargin": true,
                      "gridcolor": "white",
                      "linecolor": "white",
                      "ticks": "",
                      "title": {
                        "standoff": 15
                      },
                      "zerolinecolor": "white",
                      "zerolinewidth": 2
                    }
                  }
                },
                "xaxis": {
                  "anchor": "y",
                  "domain": [
                    0,
                    1
                  ],
                  "title": {
                    "text": "index"
                  }
                },
                "yaxis": {
                  "anchor": "x",
                  "domain": [
                    0,
                    1
                  ],
                  "title": {
                    "text": "value"
                  }
                }
              }
            }
          },
          "metadata": {},
          "output_type": "display_data"
        }
      ],
      "source": [
        "# read in data\n",
        "df_plot = pd.read_csv(\"tfidf.csv\", index_col=0)\n",
        "\n",
        "df_plot = df_plot.set_index('term')\n",
        "\n",
        "# further narrow within filtered terms (optional)\n",
        "# df_plot = df_plot[(df_plot['term'] == 'diversity') | (df_plot['term'] == 'inclusion')]\n",
        "\n",
        "# filter columns to be plotted by searching the column name (e.g. year)\n",
        "# cols1 = [col for col in df_plot.columns if 'hsbc' in col]\n",
        "# cols2 = [col for col in df_plot.columns if 'pepsi' in col]\n",
        "# df_plot = df_plot[cols1]\n",
        "\n",
        "# transpose dataframe\n",
        "df_plot = df_plot.transpose()\n",
        "\n",
        "# try to capture other details from filename (ignore now)\n",
        "# company = []    \n",
        "# for values in df_plot['term']:\n",
        "#     company.append(re.search(r\"(.*)_(\\d+)_?(.*)?\", values).group(1))\n",
        "# df_plot['company'] = company\n",
        "\n",
        "# ######\n",
        "\n",
        "# plot it\n",
        "fig = px.bar(df_plot)#, facet_col=\"term\")\n",
        "fig.show()\n",
        "\n",
        "# export it\n",
        "filename=\"test_plot_1\"\n",
        "fig.write_html(filename + \".html\")"
      ]
    },
    {
      "cell_type": "markdown",
      "metadata": {},
      "source": [
        "### Heatmap of correlation matrix \n",
        "Using the tf-idf metrics"
      ]
    },
    {
      "cell_type": "code",
      "execution_count": 13,
      "metadata": {},
      "outputs": [
        {
          "data": {
            "application/vnd.plotly.v1+json": {
              "config": {
                "plotlyServerURL": "https://plot.ly"
              },
              "data": [
                {
                  "coloraxis": "coloraxis",
                  "hovertemplate": "x: %{x}<br>y: %{y}<br>color: %{z}<extra></extra>",
                  "name": "0",
                  "type": "heatmap",
                  "xaxis": "x",
                  "yaxis": "y",
                  "z": [
                    [
                      1.0000000000000009,
                      0.8565608394596566,
                      0.747857988018378,
                      0.6159786958059619,
                      0.6612939105440947,
                      0.5714073228101839,
                      0.5812379473443263,
                      0.607618007358669,
                      0.5714840769628854,
                      0.44306826037184743,
                      0.5675491194746772,
                      0.45665497248072234,
                      0.5034532019223787,
                      0.43939528021244956,
                      0.322683586287155,
                      0.3632244586445385,
                      0.37247224105980437,
                      0.3349271619532024,
                      0.33620845814258626,
                      0.2897829321993118,
                      0.2936445160589939,
                      0.3159661981256218,
                      0.2185878037139734
                    ],
                    [
                      0.8565608394596566,
                      1.0000000000000002,
                      0.7748944810299642,
                      0.6829646214207195,
                      0.6808235764997498,
                      0.6546678988986879,
                      0.6476070054688012,
                      0.7035946628828693,
                      0.6496420171750715,
                      0.4922647727574904,
                      0.6560300914053683,
                      0.5235464678703654,
                      0.5696615486592974,
                      0.4953623224727689,
                      0.36970822085716254,
                      0.4242721320653405,
                      0.4283712908658515,
                      0.39436624245900787,
                      0.37794103088672354,
                      0.3240028485771429,
                      0.3398814783691287,
                      0.3706987597668252,
                      0.2788282272221757
                    ],
                    [
                      0.747857988018378,
                      0.7748944810299642,
                      0.9999999999999998,
                      0.6183616370882563,
                      0.7797678830025516,
                      0.5570416002382191,
                      0.5737893786337811,
                      0.6000758653026901,
                      0.5613003757538378,
                      0.42521869277918073,
                      0.5507598179734381,
                      0.44915675172825914,
                      0.49822838490585003,
                      0.4544281937977256,
                      0.288592991062665,
                      0.33173668864352246,
                      0.3313946612283047,
                      0.3103874581616474,
                      0.3162348324980356,
                      0.2688301642600231,
                      0.2702050073476257,
                      0.294283608464073,
                      0.2251682590294012
                    ],
                    [
                      0.6159786958059619,
                      0.6829646214207195,
                      0.6183616370882563,
                      1.0000000000000027,
                      0.6217549098860591,
                      0.8186101780069097,
                      0.77556650719781,
                      0.8013322051339036,
                      0.6978416628884868,
                      0.601788107622487,
                      0.745816185930929,
                      0.5353425366762976,
                      0.6576466017815524,
                      0.5521283986234626,
                      0.3490381952201127,
                      0.3925593211919291,
                      0.3864935625584485,
                      0.4041678032008794,
                      0.37699392213648514,
                      0.3249485429067744,
                      0.32567227588555286,
                      0.3697084071318059,
                      0.2639035207439839
                    ],
                    [
                      0.6612939105440947,
                      0.6808235764997498,
                      0.7797678830025516,
                      0.6217549098860591,
                      1.0000000000000002,
                      0.532733873813866,
                      0.554987058604524,
                      0.5645684967638821,
                      0.5191910895935085,
                      0.4065773732046987,
                      0.5055042465857416,
                      0.42178373450108364,
                      0.45353413698956724,
                      0.42651783470236904,
                      0.26983092381076,
                      0.29517129501888445,
                      0.2903440380638191,
                      0.2755229359908419,
                      0.2935484239827542,
                      0.24383922296643182,
                      0.24203384867781108,
                      0.2651451047825976,
                      0.2031999937067977
                    ],
                    [
                      0.5714073228101839,
                      0.6546678988986879,
                      0.5570416002382191,
                      0.8186101780069097,
                      0.532733873813866,
                      1.000000000000002,
                      0.8282349433007652,
                      0.8184306180652207,
                      0.723205456722018,
                      0.5886778597091081,
                      0.7447726508302146,
                      0.5696499760328138,
                      0.6625271249763879,
                      0.5272628525916917,
                      0.37995731145084877,
                      0.479992043616355,
                      0.4442609601531555,
                      0.4386372448780621,
                      0.4135074839466603,
                      0.3611384869266848,
                      0.36727813784344693,
                      0.3992189259838621,
                      0.29736666935179085
                    ],
                    [
                      0.5812379473443263,
                      0.6476070054688012,
                      0.5737893786337811,
                      0.77556650719781,
                      0.554987058604524,
                      0.8282349433007652,
                      1.0000000000000004,
                      0.8800175811371594,
                      0.7221407900188523,
                      0.6426909288324141,
                      0.7393273634663966,
                      0.5730914207861934,
                      0.6772842237797441,
                      0.5404300383637698,
                      0.3112616259973546,
                      0.40147179504089975,
                      0.40425212888502193,
                      0.4169132773217469,
                      0.40626868848117303,
                      0.336546976277082,
                      0.3349332135161595,
                      0.37443547529211085,
                      0.26698354407318325
                    ],
                    [
                      0.607618007358669,
                      0.7035946628828693,
                      0.6000758653026901,
                      0.8013322051339036,
                      0.5645684967638821,
                      0.8184306180652207,
                      0.8800175811371594,
                      0.9999999999999989,
                      0.8202596587759893,
                      0.6438157808680572,
                      0.8208902709901917,
                      0.6196046576009688,
                      0.7287723501423042,
                      0.5802325421387644,
                      0.36875407569829166,
                      0.4386183878097817,
                      0.44014026393180844,
                      0.49584915069133606,
                      0.470615240001609,
                      0.3892627585026535,
                      0.3952333789298006,
                      0.4440168709331356,
                      0.3378078973809119
                    ],
                    [
                      0.5714840769628854,
                      0.6496420171750715,
                      0.5613003757538378,
                      0.6978416628884868,
                      0.5191910895935085,
                      0.723205456722018,
                      0.7221407900188523,
                      0.8202596587759893,
                      1.0000000000000004,
                      0.6220092810865183,
                      0.8213280736689553,
                      0.5930856523559398,
                      0.7107833403115482,
                      0.5313632418958003,
                      0.37664638866718547,
                      0.45558578403689687,
                      0.45682596590155106,
                      0.475007634550473,
                      0.5086707657523671,
                      0.4571133767888689,
                      0.43566301395300605,
                      0.4674625912047756,
                      0.3444611775834192
                    ],
                    [
                      0.44306826037184743,
                      0.4922647727574904,
                      0.42521869277918073,
                      0.601788107622487,
                      0.4065773732046987,
                      0.5886778597091081,
                      0.6426909288324141,
                      0.6438157808680572,
                      0.6220092810865183,
                      0.9999999999999964,
                      0.669553221426617,
                      0.4298899187187492,
                      0.5752935477273668,
                      0.46145526309312795,
                      0.22193295549486203,
                      0.2742032268878995,
                      0.2687625011500232,
                      0.3263180300338704,
                      0.3322911704702007,
                      0.3505673173728427,
                      0.2811980327100243,
                      0.31777709533237736,
                      0.2146746514846518
                    ],
                    [
                      0.5675491194746772,
                      0.6560300914053683,
                      0.5507598179734381,
                      0.745816185930929,
                      0.5055042465857416,
                      0.7447726508302146,
                      0.7393273634663966,
                      0.8208902709901917,
                      0.8213280736689553,
                      0.669553221426617,
                      1.0000000000000002,
                      0.6210495762136613,
                      0.8113687418370612,
                      0.5710769318900102,
                      0.37083075884913164,
                      0.43947298616674546,
                      0.4435048728929325,
                      0.46714116538765027,
                      0.4509416989882119,
                      0.46930442200598327,
                      0.4499451279678467,
                      0.4592829748134877,
                      0.35155707057720353
                    ],
                    [
                      0.45665497248072234,
                      0.5235464678703654,
                      0.44915675172825914,
                      0.5353425366762976,
                      0.42178373450108364,
                      0.5696499760328138,
                      0.5730914207861934,
                      0.6196046576009688,
                      0.5930856523559398,
                      0.4298899187187492,
                      0.6210495762136613,
                      1.0000000000000013,
                      0.6156224185744035,
                      0.4180124205582028,
                      0.3214635833327145,
                      0.40406619877033345,
                      0.3914890817806388,
                      0.38880312916348203,
                      0.40671014721363574,
                      0.3589283459571556,
                      0.4650547633930057,
                      0.4499257908321921,
                      0.2937839205888438
                    ],
                    [
                      0.5034532019223787,
                      0.5696615486592974,
                      0.49822838490585003,
                      0.6576466017815524,
                      0.45353413698956724,
                      0.6625271249763879,
                      0.6772842237797441,
                      0.7287723501423042,
                      0.7107833403115482,
                      0.5752935477273668,
                      0.8113687418370612,
                      0.6156224185744035,
                      0.9999999999999921,
                      0.5188618908224231,
                      0.3230812620706134,
                      0.38594285003287776,
                      0.39051536093410755,
                      0.3957815885524708,
                      0.3940047921221008,
                      0.3717427105971577,
                      0.40487144134289726,
                      0.5574774211564698,
                      0.3110406121197313
                    ],
                    [
                      0.43939528021244956,
                      0.4953623224727689,
                      0.4544281937977256,
                      0.5521283986234626,
                      0.42651783470236904,
                      0.5272628525916917,
                      0.5404300383637698,
                      0.5802325421387644,
                      0.5313632418958003,
                      0.46145526309312795,
                      0.5710769318900102,
                      0.4180124205582028,
                      0.5188618908224231,
                      1.000000000000014,
                      0.24605075939942395,
                      0.283799323368624,
                      0.28879223584882396,
                      0.2933301765298273,
                      0.2967250209845182,
                      0.2584204964011791,
                      0.2716550102063337,
                      0.2927760427200161,
                      0.6583633030459842
                    ],
                    [
                      0.322683586287155,
                      0.36970822085716254,
                      0.288592991062665,
                      0.3490381952201127,
                      0.26983092381076,
                      0.37995731145084877,
                      0.3112616259973546,
                      0.36875407569829166,
                      0.37664638866718547,
                      0.22193295549486203,
                      0.37083075884913164,
                      0.3214635833327145,
                      0.3230812620706134,
                      0.24605075939942395,
                      1.0000000000000089,
                      0.9293489907266491,
                      0.9205292064314805,
                      0.7511599025069111,
                      0.7504062435499294,
                      0.7927359998412838,
                      0.8081065496357939,
                      0.7109106121127375,
                      0.2662364690252614
                    ],
                    [
                      0.3632244586445385,
                      0.4242721320653405,
                      0.33173668864352246,
                      0.3925593211919291,
                      0.29517129501888445,
                      0.479992043616355,
                      0.40147179504089975,
                      0.4386183878097817,
                      0.45558578403689687,
                      0.2742032268878995,
                      0.43947298616674546,
                      0.40406619877033345,
                      0.38594285003287776,
                      0.283799323368624,
                      0.9293489907266491,
                      0.9999999999999961,
                      0.9495464873152384,
                      0.7773398650964229,
                      0.7672111060273562,
                      0.7880846552026868,
                      0.8107038447492146,
                      0.730019950070208,
                      0.31169371084606606
                    ],
                    [
                      0.37247224105980437,
                      0.4283712908658515,
                      0.3313946612283047,
                      0.3864935625584485,
                      0.2903440380638191,
                      0.4442609601531555,
                      0.40425212888502193,
                      0.44014026393180844,
                      0.45682596590155106,
                      0.2687625011500232,
                      0.4435048728929325,
                      0.3914890817806388,
                      0.39051536093410755,
                      0.28879223584882396,
                      0.9205292064314805,
                      0.9495464873152384,
                      1.0000000000000075,
                      0.7876662526363009,
                      0.7588945754049438,
                      0.7924142823101108,
                      0.8169006331118348,
                      0.7291382353961079,
                      0.3067052371202517
                    ],
                    [
                      0.3349271619532024,
                      0.39436624245900787,
                      0.3103874581616474,
                      0.4041678032008794,
                      0.2755229359908419,
                      0.4386372448780621,
                      0.4169132773217469,
                      0.49584915069133606,
                      0.475007634550473,
                      0.3263180300338704,
                      0.46714116538765027,
                      0.38880312916348203,
                      0.3957815885524708,
                      0.2933301765298273,
                      0.7511599025069111,
                      0.7773398650964229,
                      0.7876662526363009,
                      1.0000000000000056,
                      0.7788655322431535,
                      0.7450781711084413,
                      0.7477961532381913,
                      0.7299293885111047,
                      0.3577960256550587
                    ],
                    [
                      0.33620845814258626,
                      0.37794103088672354,
                      0.3162348324980356,
                      0.37699392213648514,
                      0.2935484239827542,
                      0.4135074839466603,
                      0.40626868848117303,
                      0.470615240001609,
                      0.5086707657523671,
                      0.3322911704702007,
                      0.4509416989882119,
                      0.40671014721363574,
                      0.3940047921221008,
                      0.2967250209845182,
                      0.7504062435499294,
                      0.7672111060273562,
                      0.7588945754049438,
                      0.7788655322431535,
                      1.0000000000000058,
                      0.7562188033237658,
                      0.7448431702746184,
                      0.7082375493196954,
                      0.36625616252555815
                    ],
                    [
                      0.2897829321993118,
                      0.3240028485771429,
                      0.2688301642600231,
                      0.3249485429067744,
                      0.24383922296643182,
                      0.3611384869266848,
                      0.336546976277082,
                      0.3892627585026535,
                      0.4571133767888689,
                      0.3505673173728427,
                      0.46930442200598327,
                      0.3589283459571556,
                      0.3717427105971577,
                      0.2584204964011791,
                      0.7927359998412838,
                      0.7880846552026868,
                      0.7924142823101108,
                      0.7450781711084413,
                      0.7562188033237658,
                      0.9999999999999946,
                      0.83297637772291,
                      0.7328400530136403,
                      0.29689519490376576
                    ],
                    [
                      0.2936445160589939,
                      0.3398814783691287,
                      0.2702050073476257,
                      0.32567227588555286,
                      0.24203384867781108,
                      0.36727813784344693,
                      0.3349332135161595,
                      0.3952333789298006,
                      0.43566301395300605,
                      0.2811980327100243,
                      0.4499451279678467,
                      0.4650547633930057,
                      0.40487144134289726,
                      0.2716550102063337,
                      0.8081065496357939,
                      0.8107038447492146,
                      0.8169006331118348,
                      0.7477961532381913,
                      0.7448431702746184,
                      0.83297637772291,
                      0.999999999999987,
                      0.7695051684538615,
                      0.29691311371229007
                    ],
                    [
                      0.3159661981256218,
                      0.3706987597668252,
                      0.294283608464073,
                      0.3697084071318059,
                      0.2651451047825976,
                      0.3992189259838621,
                      0.37443547529211085,
                      0.4440168709331356,
                      0.4674625912047756,
                      0.31777709533237736,
                      0.4592829748134877,
                      0.4499257908321921,
                      0.5574774211564698,
                      0.2927760427200161,
                      0.7109106121127375,
                      0.730019950070208,
                      0.7291382353961079,
                      0.7299293885111047,
                      0.7082375493196954,
                      0.7328400530136403,
                      0.7695051684538615,
                      1.0000000000000002,
                      0.3406591110963814
                    ],
                    [
                      0.2185878037139734,
                      0.2788282272221757,
                      0.2251682590294012,
                      0.2639035207439839,
                      0.2031999937067977,
                      0.29736666935179085,
                      0.26698354407318325,
                      0.3378078973809119,
                      0.3444611775834192,
                      0.2146746514846518,
                      0.35155707057720353,
                      0.2937839205888438,
                      0.3110406121197313,
                      0.6583633030459842,
                      0.2662364690252614,
                      0.31169371084606606,
                      0.3067052371202517,
                      0.3577960256550587,
                      0.36625616252555815,
                      0.29689519490376576,
                      0.29691311371229007,
                      0.3406591110963814,
                      0.9999999999999978
                    ]
                  ]
                }
              ],
              "layout": {
                "coloraxis": {
                  "colorscale": [
                    [
                      0,
                      "#0d0887"
                    ],
                    [
                      0.1111111111111111,
                      "#46039f"
                    ],
                    [
                      0.2222222222222222,
                      "#7201a8"
                    ],
                    [
                      0.3333333333333333,
                      "#9c179e"
                    ],
                    [
                      0.4444444444444444,
                      "#bd3786"
                    ],
                    [
                      0.5555555555555556,
                      "#d8576b"
                    ],
                    [
                      0.6666666666666666,
                      "#ed7953"
                    ],
                    [
                      0.7777777777777778,
                      "#fb9f3a"
                    ],
                    [
                      0.8888888888888888,
                      "#fdca26"
                    ],
                    [
                      1,
                      "#f0f921"
                    ]
                  ]
                },
                "margin": {
                  "t": 60
                },
                "template": {
                  "data": {
                    "bar": [
                      {
                        "error_x": {
                          "color": "#2a3f5f"
                        },
                        "error_y": {
                          "color": "#2a3f5f"
                        },
                        "marker": {
                          "line": {
                            "color": "#E5ECF6",
                            "width": 0.5
                          },
                          "pattern": {
                            "fillmode": "overlay",
                            "size": 10,
                            "solidity": 0.2
                          }
                        },
                        "type": "bar"
                      }
                    ],
                    "barpolar": [
                      {
                        "marker": {
                          "line": {
                            "color": "#E5ECF6",
                            "width": 0.5
                          },
                          "pattern": {
                            "fillmode": "overlay",
                            "size": 10,
                            "solidity": 0.2
                          }
                        },
                        "type": "barpolar"
                      }
                    ],
                    "carpet": [
                      {
                        "aaxis": {
                          "endlinecolor": "#2a3f5f",
                          "gridcolor": "white",
                          "linecolor": "white",
                          "minorgridcolor": "white",
                          "startlinecolor": "#2a3f5f"
                        },
                        "baxis": {
                          "endlinecolor": "#2a3f5f",
                          "gridcolor": "white",
                          "linecolor": "white",
                          "minorgridcolor": "white",
                          "startlinecolor": "#2a3f5f"
                        },
                        "type": "carpet"
                      }
                    ],
                    "choropleth": [
                      {
                        "colorbar": {
                          "outlinewidth": 0,
                          "ticks": ""
                        },
                        "type": "choropleth"
                      }
                    ],
                    "contour": [
                      {
                        "colorbar": {
                          "outlinewidth": 0,
                          "ticks": ""
                        },
                        "colorscale": [
                          [
                            0,
                            "#0d0887"
                          ],
                          [
                            0.1111111111111111,
                            "#46039f"
                          ],
                          [
                            0.2222222222222222,
                            "#7201a8"
                          ],
                          [
                            0.3333333333333333,
                            "#9c179e"
                          ],
                          [
                            0.4444444444444444,
                            "#bd3786"
                          ],
                          [
                            0.5555555555555556,
                            "#d8576b"
                          ],
                          [
                            0.6666666666666666,
                            "#ed7953"
                          ],
                          [
                            0.7777777777777778,
                            "#fb9f3a"
                          ],
                          [
                            0.8888888888888888,
                            "#fdca26"
                          ],
                          [
                            1,
                            "#f0f921"
                          ]
                        ],
                        "type": "contour"
                      }
                    ],
                    "contourcarpet": [
                      {
                        "colorbar": {
                          "outlinewidth": 0,
                          "ticks": ""
                        },
                        "type": "contourcarpet"
                      }
                    ],
                    "heatmap": [
                      {
                        "colorbar": {
                          "outlinewidth": 0,
                          "ticks": ""
                        },
                        "colorscale": [
                          [
                            0,
                            "#0d0887"
                          ],
                          [
                            0.1111111111111111,
                            "#46039f"
                          ],
                          [
                            0.2222222222222222,
                            "#7201a8"
                          ],
                          [
                            0.3333333333333333,
                            "#9c179e"
                          ],
                          [
                            0.4444444444444444,
                            "#bd3786"
                          ],
                          [
                            0.5555555555555556,
                            "#d8576b"
                          ],
                          [
                            0.6666666666666666,
                            "#ed7953"
                          ],
                          [
                            0.7777777777777778,
                            "#fb9f3a"
                          ],
                          [
                            0.8888888888888888,
                            "#fdca26"
                          ],
                          [
                            1,
                            "#f0f921"
                          ]
                        ],
                        "type": "heatmap"
                      }
                    ],
                    "heatmapgl": [
                      {
                        "colorbar": {
                          "outlinewidth": 0,
                          "ticks": ""
                        },
                        "colorscale": [
                          [
                            0,
                            "#0d0887"
                          ],
                          [
                            0.1111111111111111,
                            "#46039f"
                          ],
                          [
                            0.2222222222222222,
                            "#7201a8"
                          ],
                          [
                            0.3333333333333333,
                            "#9c179e"
                          ],
                          [
                            0.4444444444444444,
                            "#bd3786"
                          ],
                          [
                            0.5555555555555556,
                            "#d8576b"
                          ],
                          [
                            0.6666666666666666,
                            "#ed7953"
                          ],
                          [
                            0.7777777777777778,
                            "#fb9f3a"
                          ],
                          [
                            0.8888888888888888,
                            "#fdca26"
                          ],
                          [
                            1,
                            "#f0f921"
                          ]
                        ],
                        "type": "heatmapgl"
                      }
                    ],
                    "histogram": [
                      {
                        "marker": {
                          "pattern": {
                            "fillmode": "overlay",
                            "size": 10,
                            "solidity": 0.2
                          }
                        },
                        "type": "histogram"
                      }
                    ],
                    "histogram2d": [
                      {
                        "colorbar": {
                          "outlinewidth": 0,
                          "ticks": ""
                        },
                        "colorscale": [
                          [
                            0,
                            "#0d0887"
                          ],
                          [
                            0.1111111111111111,
                            "#46039f"
                          ],
                          [
                            0.2222222222222222,
                            "#7201a8"
                          ],
                          [
                            0.3333333333333333,
                            "#9c179e"
                          ],
                          [
                            0.4444444444444444,
                            "#bd3786"
                          ],
                          [
                            0.5555555555555556,
                            "#d8576b"
                          ],
                          [
                            0.6666666666666666,
                            "#ed7953"
                          ],
                          [
                            0.7777777777777778,
                            "#fb9f3a"
                          ],
                          [
                            0.8888888888888888,
                            "#fdca26"
                          ],
                          [
                            1,
                            "#f0f921"
                          ]
                        ],
                        "type": "histogram2d"
                      }
                    ],
                    "histogram2dcontour": [
                      {
                        "colorbar": {
                          "outlinewidth": 0,
                          "ticks": ""
                        },
                        "colorscale": [
                          [
                            0,
                            "#0d0887"
                          ],
                          [
                            0.1111111111111111,
                            "#46039f"
                          ],
                          [
                            0.2222222222222222,
                            "#7201a8"
                          ],
                          [
                            0.3333333333333333,
                            "#9c179e"
                          ],
                          [
                            0.4444444444444444,
                            "#bd3786"
                          ],
                          [
                            0.5555555555555556,
                            "#d8576b"
                          ],
                          [
                            0.6666666666666666,
                            "#ed7953"
                          ],
                          [
                            0.7777777777777778,
                            "#fb9f3a"
                          ],
                          [
                            0.8888888888888888,
                            "#fdca26"
                          ],
                          [
                            1,
                            "#f0f921"
                          ]
                        ],
                        "type": "histogram2dcontour"
                      }
                    ],
                    "mesh3d": [
                      {
                        "colorbar": {
                          "outlinewidth": 0,
                          "ticks": ""
                        },
                        "type": "mesh3d"
                      }
                    ],
                    "parcoords": [
                      {
                        "line": {
                          "colorbar": {
                            "outlinewidth": 0,
                            "ticks": ""
                          }
                        },
                        "type": "parcoords"
                      }
                    ],
                    "pie": [
                      {
                        "automargin": true,
                        "type": "pie"
                      }
                    ],
                    "scatter": [
                      {
                        "fillpattern": {
                          "fillmode": "overlay",
                          "size": 10,
                          "solidity": 0.2
                        },
                        "type": "scatter"
                      }
                    ],
                    "scatter3d": [
                      {
                        "line": {
                          "colorbar": {
                            "outlinewidth": 0,
                            "ticks": ""
                          }
                        },
                        "marker": {
                          "colorbar": {
                            "outlinewidth": 0,
                            "ticks": ""
                          }
                        },
                        "type": "scatter3d"
                      }
                    ],
                    "scattercarpet": [
                      {
                        "marker": {
                          "colorbar": {
                            "outlinewidth": 0,
                            "ticks": ""
                          }
                        },
                        "type": "scattercarpet"
                      }
                    ],
                    "scattergeo": [
                      {
                        "marker": {
                          "colorbar": {
                            "outlinewidth": 0,
                            "ticks": ""
                          }
                        },
                        "type": "scattergeo"
                      }
                    ],
                    "scattergl": [
                      {
                        "marker": {
                          "colorbar": {
                            "outlinewidth": 0,
                            "ticks": ""
                          }
                        },
                        "type": "scattergl"
                      }
                    ],
                    "scattermapbox": [
                      {
                        "marker": {
                          "colorbar": {
                            "outlinewidth": 0,
                            "ticks": ""
                          }
                        },
                        "type": "scattermapbox"
                      }
                    ],
                    "scatterpolar": [
                      {
                        "marker": {
                          "colorbar": {
                            "outlinewidth": 0,
                            "ticks": ""
                          }
                        },
                        "type": "scatterpolar"
                      }
                    ],
                    "scatterpolargl": [
                      {
                        "marker": {
                          "colorbar": {
                            "outlinewidth": 0,
                            "ticks": ""
                          }
                        },
                        "type": "scatterpolargl"
                      }
                    ],
                    "scatterternary": [
                      {
                        "marker": {
                          "colorbar": {
                            "outlinewidth": 0,
                            "ticks": ""
                          }
                        },
                        "type": "scatterternary"
                      }
                    ],
                    "surface": [
                      {
                        "colorbar": {
                          "outlinewidth": 0,
                          "ticks": ""
                        },
                        "colorscale": [
                          [
                            0,
                            "#0d0887"
                          ],
                          [
                            0.1111111111111111,
                            "#46039f"
                          ],
                          [
                            0.2222222222222222,
                            "#7201a8"
                          ],
                          [
                            0.3333333333333333,
                            "#9c179e"
                          ],
                          [
                            0.4444444444444444,
                            "#bd3786"
                          ],
                          [
                            0.5555555555555556,
                            "#d8576b"
                          ],
                          [
                            0.6666666666666666,
                            "#ed7953"
                          ],
                          [
                            0.7777777777777778,
                            "#fb9f3a"
                          ],
                          [
                            0.8888888888888888,
                            "#fdca26"
                          ],
                          [
                            1,
                            "#f0f921"
                          ]
                        ],
                        "type": "surface"
                      }
                    ],
                    "table": [
                      {
                        "cells": {
                          "fill": {
                            "color": "#EBF0F8"
                          },
                          "line": {
                            "color": "white"
                          }
                        },
                        "header": {
                          "fill": {
                            "color": "#C8D4E3"
                          },
                          "line": {
                            "color": "white"
                          }
                        },
                        "type": "table"
                      }
                    ]
                  },
                  "layout": {
                    "annotationdefaults": {
                      "arrowcolor": "#2a3f5f",
                      "arrowhead": 0,
                      "arrowwidth": 1
                    },
                    "autotypenumbers": "strict",
                    "coloraxis": {
                      "colorbar": {
                        "outlinewidth": 0,
                        "ticks": ""
                      }
                    },
                    "colorscale": {
                      "diverging": [
                        [
                          0,
                          "#8e0152"
                        ],
                        [
                          0.1,
                          "#c51b7d"
                        ],
                        [
                          0.2,
                          "#de77ae"
                        ],
                        [
                          0.3,
                          "#f1b6da"
                        ],
                        [
                          0.4,
                          "#fde0ef"
                        ],
                        [
                          0.5,
                          "#f7f7f7"
                        ],
                        [
                          0.6,
                          "#e6f5d0"
                        ],
                        [
                          0.7,
                          "#b8e186"
                        ],
                        [
                          0.8,
                          "#7fbc41"
                        ],
                        [
                          0.9,
                          "#4d9221"
                        ],
                        [
                          1,
                          "#276419"
                        ]
                      ],
                      "sequential": [
                        [
                          0,
                          "#0d0887"
                        ],
                        [
                          0.1111111111111111,
                          "#46039f"
                        ],
                        [
                          0.2222222222222222,
                          "#7201a8"
                        ],
                        [
                          0.3333333333333333,
                          "#9c179e"
                        ],
                        [
                          0.4444444444444444,
                          "#bd3786"
                        ],
                        [
                          0.5555555555555556,
                          "#d8576b"
                        ],
                        [
                          0.6666666666666666,
                          "#ed7953"
                        ],
                        [
                          0.7777777777777778,
                          "#fb9f3a"
                        ],
                        [
                          0.8888888888888888,
                          "#fdca26"
                        ],
                        [
                          1,
                          "#f0f921"
                        ]
                      ],
                      "sequentialminus": [
                        [
                          0,
                          "#0d0887"
                        ],
                        [
                          0.1111111111111111,
                          "#46039f"
                        ],
                        [
                          0.2222222222222222,
                          "#7201a8"
                        ],
                        [
                          0.3333333333333333,
                          "#9c179e"
                        ],
                        [
                          0.4444444444444444,
                          "#bd3786"
                        ],
                        [
                          0.5555555555555556,
                          "#d8576b"
                        ],
                        [
                          0.6666666666666666,
                          "#ed7953"
                        ],
                        [
                          0.7777777777777778,
                          "#fb9f3a"
                        ],
                        [
                          0.8888888888888888,
                          "#fdca26"
                        ],
                        [
                          1,
                          "#f0f921"
                        ]
                      ]
                    },
                    "colorway": [
                      "#636efa",
                      "#EF553B",
                      "#00cc96",
                      "#ab63fa",
                      "#FFA15A",
                      "#19d3f3",
                      "#FF6692",
                      "#B6E880",
                      "#FF97FF",
                      "#FECB52"
                    ],
                    "font": {
                      "color": "#2a3f5f"
                    },
                    "geo": {
                      "bgcolor": "white",
                      "lakecolor": "white",
                      "landcolor": "#E5ECF6",
                      "showlakes": true,
                      "showland": true,
                      "subunitcolor": "white"
                    },
                    "hoverlabel": {
                      "align": "left"
                    },
                    "hovermode": "closest",
                    "mapbox": {
                      "style": "light"
                    },
                    "paper_bgcolor": "white",
                    "plot_bgcolor": "#E5ECF6",
                    "polar": {
                      "angularaxis": {
                        "gridcolor": "white",
                        "linecolor": "white",
                        "ticks": ""
                      },
                      "bgcolor": "#E5ECF6",
                      "radialaxis": {
                        "gridcolor": "white",
                        "linecolor": "white",
                        "ticks": ""
                      }
                    },
                    "scene": {
                      "xaxis": {
                        "backgroundcolor": "#E5ECF6",
                        "gridcolor": "white",
                        "gridwidth": 2,
                        "linecolor": "white",
                        "showbackground": true,
                        "ticks": "",
                        "zerolinecolor": "white"
                      },
                      "yaxis": {
                        "backgroundcolor": "#E5ECF6",
                        "gridcolor": "white",
                        "gridwidth": 2,
                        "linecolor": "white",
                        "showbackground": true,
                        "ticks": "",
                        "zerolinecolor": "white"
                      },
                      "zaxis": {
                        "backgroundcolor": "#E5ECF6",
                        "gridcolor": "white",
                        "gridwidth": 2,
                        "linecolor": "white",
                        "showbackground": true,
                        "ticks": "",
                        "zerolinecolor": "white"
                      }
                    },
                    "shapedefaults": {
                      "line": {
                        "color": "#2a3f5f"
                      }
                    },
                    "ternary": {
                      "aaxis": {
                        "gridcolor": "white",
                        "linecolor": "white",
                        "ticks": ""
                      },
                      "baxis": {
                        "gridcolor": "white",
                        "linecolor": "white",
                        "ticks": ""
                      },
                      "bgcolor": "#E5ECF6",
                      "caxis": {
                        "gridcolor": "white",
                        "linecolor": "white",
                        "ticks": ""
                      }
                    },
                    "title": {
                      "x": 0.05
                    },
                    "xaxis": {
                      "automargin": true,
                      "gridcolor": "white",
                      "linecolor": "white",
                      "ticks": "",
                      "title": {
                        "standoff": 15
                      },
                      "zerolinecolor": "white",
                      "zerolinewidth": 2
                    },
                    "yaxis": {
                      "automargin": true,
                      "gridcolor": "white",
                      "linecolor": "white",
                      "ticks": "",
                      "title": {
                        "standoff": 15
                      },
                      "zerolinecolor": "white",
                      "zerolinewidth": 2
                    }
                  }
                },
                "xaxis": {
                  "anchor": "y",
                  "constrain": "domain",
                  "domain": [
                    0,
                    1
                  ],
                  "scaleanchor": "y"
                },
                "yaxis": {
                  "anchor": "x",
                  "autorange": "reversed",
                  "constrain": "domain",
                  "domain": [
                    0,
                    1
                  ]
                }
              }
            }
          },
          "metadata": {},
          "output_type": "display_data"
        }
      ],
      "source": [
        "# get heatmap to notice \"zones\" and outliers easier\n",
        "fig = px.imshow(corr_matrix)\n",
        "fig.show()"
      ]
    },
    {
      "cell_type": "markdown",
      "metadata": {},
      "source": [
        "### Solution 2 (Currently cumbersome)\n",
        "Appends the selected terms' scores to the original dataset which accommodates more possibilities for plotting, but makes plotting settings more tedious. \n",
        "\n",
        "(Pros: can use other parameters such as 'year' and 'company'; \n",
        "Cons: cannot filter for 'term')"
      ]
    },
    {
      "cell_type": "code",
      "execution_count": 12,
      "metadata": {
        "colab": {
          "base_uri": "https://localhost:8080/"
        },
        "id": "7lVBDnDiX3Qo",
        "outputId": "5ee63fc8-123d-4982-c93f-bda641168c13"
      },
      "outputs": [
        {
          "name": "stdout",
          "output_type": "stream",
          "text": [
            "Working on #0, cocacola_2003_csr\n",
            "Working on #1, cocacola_2004_csr\n",
            "Working on #2, cocacola_2005_csr\n",
            "Working on #3, cocacola_2006_csr\n",
            "Working on #4, cocacola_2006_csr_add1\n",
            "Working on #5, cocacola_20072008_csr\n",
            "Working on #6, cocacola_20082009_csr\n",
            "Working on #7, cocacola_20092010_csr\n",
            "Working on #8, cocacola_20102011_csr\n",
            "Working on #9, cocacola_20112012_csr\n",
            "Working on #10, cocacola_20122013_csr\n",
            "Working on #11, cocacola_20132014_csr\n",
            "Working on #12, cocacola_20142015_csr\n",
            "Working on #13, cocacola_2021_csr\n",
            "Working on #14, pepsico_2006_csr\n",
            "Working on #15, pepsico_2007_csr\n",
            "Working on #16, pepsico_2008_csr\n",
            "Working on #17, pepsico_2009_csr\n",
            "Working on #18, pepsico_2010_csr\n",
            "Working on #19, pepsico_20112012_csr\n",
            "Working on #20, pepsico_2013_csr\n",
            "Working on #21, pepsico_2014_csr\n",
            "Working on #22, pepsico_2021_csr\n"
          ]
        }
      ],
      "source": [
        "# load in preprocessed data\n",
        "df = pd.read_csv(\"parsed_documents.csv\", index_col=0)\n",
        "\n",
        "# define the dataset as a list of document contents (text)\n",
        "dataset = df['lemmatized'].tolist()\n",
        "\n",
        "# define a list of target terms (keywords and phrases) to filter for later\n",
        "filter = ['diversity', 'equity', 'inclusion']\n",
        "\n",
        "# manually add to the list of stopwords if needed\n",
        "custom_stop_words = text.ENGLISH_STOP_WORDS.union([\"\"])\n",
        "\n",
        "# set vectorizer\n",
        "tfIdfVectorizer=TfidfVectorizer(use_idf=True, ngram_range=(1,1), stop_words=custom_stop_words)\n",
        "\n",
        "# turn text into tf-idf vectors\n",
        "tfIdf = tfIdfVectorizer.fit_transform(dataset)\n",
        "\n",
        "# correlation matrix (for later)\n",
        "corr_matrix = ((tfIdf * tfIdf.T).A)\n",
        "\n",
        "# list of filenames and their no.\n",
        "filenames = df['file'].tolist()\n",
        "filenames = [re.sub(\"\\.\\w+\", '', i) for i in filenames]\n",
        "no_of_files = len(filenames)\n",
        "\n",
        "# initialize dataframe to hold tfidf scores\n",
        "# df_all_scores = pd.DataFrame(columns=[])\n",
        "df_filtered_scores = pd.DataFrame(columns=['file'])\n",
        "df_merged_tfidf_scores = pd.DataFrame(columns=['file'])\n",
        "\n",
        "# loop through all documents and get scores for each term term\n",
        "for i in range(no_of_files):\n",
        "    # get tf-idf scores for words/phrases\n",
        "    print(\"Working on #\" + str(i) + \",\", filenames[i])\n",
        "    df_tfidf = pd.DataFrame(tfIdf[i].T.todense(), index=tfIdfVectorizer.get_feature_names_out(), columns=[filenames[i]])\n",
        "\n",
        "    # sort values according to score\n",
        "    df_tfidf = df_tfidf.sort_values(filenames[i], ascending=False)\n",
        "\n",
        "    # merge all tfidf scores\n",
        "    # df_all_scores = pd.merge(df_all_scores, df_tfidf.head(100), how='outer', on = 'term')\n",
        "    # df_all_scores.fillna(0.0)\n",
        "\n",
        "    # filter for manual selection \n",
        "    df_filtered_tfidf = df_tfidf[df_tfidf.index.isin(filter)]\n",
        "\n",
        "    # transpose dataframe\n",
        "    df_filtered_tfidf = df_filtered_tfidf.transpose()\n",
        "\n",
        "    # reset index and rename it term\n",
        "    df_filtered_tfidf.reset_index(inplace=True)\n",
        "    df_filtered_tfidf.rename(columns = {'index':'file'}, inplace = True)\n",
        "\n",
        "    # merge new tfidf scores with the rest\n",
        "    df_merged_tfidf_scores=pd.concat([df_merged_tfidf_scores, df_filtered_tfidf])\n",
        "\n",
        "# merge tfidf scores with the dataset\n",
        "df = pd.merge(df, df_merged_tfidf_scores, on = 'file')\n",
        "\n",
        "# export\n",
        "df.to_csv(\"parsed_documents_with_tfidf.csv\")\n",
        "# df_all_scores.to_csv(\"all_scores.csv\")"
      ]
    },
    {
      "cell_type": "markdown",
      "metadata": {},
      "source": [
        "#### Plot\n",
        "\n",
        "Next we plot the results using plotly."
      ]
    },
    {
      "cell_type": "code",
      "execution_count": 13,
      "metadata": {},
      "outputs": [
        {
          "data": {
            "application/vnd.plotly.v1+json": {
              "config": {
                "plotlyServerURL": "https://plot.ly"
              },
              "data": [
                {
                  "alignmentgroup": "True",
                  "hovertemplate": "company=cocacola<br>year=%{x}<br>diversity=%{y}<extra></extra>",
                  "legendgroup": "cocacola",
                  "marker": {
                    "color": "#636efa",
                    "pattern": {
                      "shape": ""
                    }
                  },
                  "name": "cocacola",
                  "offsetgroup": "cocacola",
                  "orientation": "v",
                  "showlegend": true,
                  "textposition": "auto",
                  "type": "bar",
                  "x": [
                    2003,
                    2004,
                    2005,
                    2006,
                    2006,
                    2007,
                    2008,
                    2009,
                    2010,
                    2011,
                    2012,
                    2013,
                    2014,
                    2021
                  ],
                  "xaxis": "x",
                  "y": [
                    0,
                    0.0020151432134577,
                    0,
                    0.0179323676057815,
                    0,
                    0.0512734176793448,
                    0.0239186432874616,
                    0.0206750258940156,
                    0.0114337122619657,
                    0,
                    0.0202786651352082,
                    0.046068989514906,
                    0.0146226585898476,
                    0.0229818917804526
                  ],
                  "yaxis": "y"
                },
                {
                  "alignmentgroup": "True",
                  "hovertemplate": "company=pepsico<br>year=%{x}<br>diversity=%{y}<extra></extra>",
                  "legendgroup": "pepsico",
                  "marker": {
                    "color": "#EF553B",
                    "pattern": {
                      "shape": ""
                    }
                  },
                  "name": "pepsico",
                  "offsetgroup": "pepsico",
                  "orientation": "v",
                  "showlegend": true,
                  "textposition": "auto",
                  "type": "bar",
                  "x": [
                    2006,
                    2007,
                    2008,
                    2009,
                    2010,
                    2011,
                    2013,
                    2014,
                    2021
                  ],
                  "xaxis": "x2",
                  "y": [
                    0.0450633017639917,
                    0.0401619646585277,
                    0.0340277385436727,
                    0.0636954850017654,
                    0.0275275513470743,
                    0.0186108229099571,
                    0.0310367925794939,
                    0.0240273211499258,
                    0.0112652814214658
                  ],
                  "yaxis": "y2"
                }
              ],
              "layout": {
                "annotations": [
                  {
                    "font": {},
                    "showarrow": false,
                    "text": "company=cocacola",
                    "x": 0.245,
                    "xanchor": "center",
                    "xref": "paper",
                    "y": 1,
                    "yanchor": "bottom",
                    "yref": "paper"
                  },
                  {
                    "font": {},
                    "showarrow": false,
                    "text": "company=pepsico",
                    "x": 0.755,
                    "xanchor": "center",
                    "xref": "paper",
                    "y": 1,
                    "yanchor": "bottom",
                    "yref": "paper"
                  }
                ],
                "barmode": "relative",
                "legend": {
                  "title": {
                    "text": "company"
                  },
                  "tracegroupgap": 0
                },
                "margin": {
                  "t": 60
                },
                "template": {
                  "data": {
                    "bar": [
                      {
                        "error_x": {
                          "color": "#2a3f5f"
                        },
                        "error_y": {
                          "color": "#2a3f5f"
                        },
                        "marker": {
                          "line": {
                            "color": "#E5ECF6",
                            "width": 0.5
                          },
                          "pattern": {
                            "fillmode": "overlay",
                            "size": 10,
                            "solidity": 0.2
                          }
                        },
                        "type": "bar"
                      }
                    ],
                    "barpolar": [
                      {
                        "marker": {
                          "line": {
                            "color": "#E5ECF6",
                            "width": 0.5
                          },
                          "pattern": {
                            "fillmode": "overlay",
                            "size": 10,
                            "solidity": 0.2
                          }
                        },
                        "type": "barpolar"
                      }
                    ],
                    "carpet": [
                      {
                        "aaxis": {
                          "endlinecolor": "#2a3f5f",
                          "gridcolor": "white",
                          "linecolor": "white",
                          "minorgridcolor": "white",
                          "startlinecolor": "#2a3f5f"
                        },
                        "baxis": {
                          "endlinecolor": "#2a3f5f",
                          "gridcolor": "white",
                          "linecolor": "white",
                          "minorgridcolor": "white",
                          "startlinecolor": "#2a3f5f"
                        },
                        "type": "carpet"
                      }
                    ],
                    "choropleth": [
                      {
                        "colorbar": {
                          "outlinewidth": 0,
                          "ticks": ""
                        },
                        "type": "choropleth"
                      }
                    ],
                    "contour": [
                      {
                        "colorbar": {
                          "outlinewidth": 0,
                          "ticks": ""
                        },
                        "colorscale": [
                          [
                            0,
                            "#0d0887"
                          ],
                          [
                            0.1111111111111111,
                            "#46039f"
                          ],
                          [
                            0.2222222222222222,
                            "#7201a8"
                          ],
                          [
                            0.3333333333333333,
                            "#9c179e"
                          ],
                          [
                            0.4444444444444444,
                            "#bd3786"
                          ],
                          [
                            0.5555555555555556,
                            "#d8576b"
                          ],
                          [
                            0.6666666666666666,
                            "#ed7953"
                          ],
                          [
                            0.7777777777777778,
                            "#fb9f3a"
                          ],
                          [
                            0.8888888888888888,
                            "#fdca26"
                          ],
                          [
                            1,
                            "#f0f921"
                          ]
                        ],
                        "type": "contour"
                      }
                    ],
                    "contourcarpet": [
                      {
                        "colorbar": {
                          "outlinewidth": 0,
                          "ticks": ""
                        },
                        "type": "contourcarpet"
                      }
                    ],
                    "heatmap": [
                      {
                        "colorbar": {
                          "outlinewidth": 0,
                          "ticks": ""
                        },
                        "colorscale": [
                          [
                            0,
                            "#0d0887"
                          ],
                          [
                            0.1111111111111111,
                            "#46039f"
                          ],
                          [
                            0.2222222222222222,
                            "#7201a8"
                          ],
                          [
                            0.3333333333333333,
                            "#9c179e"
                          ],
                          [
                            0.4444444444444444,
                            "#bd3786"
                          ],
                          [
                            0.5555555555555556,
                            "#d8576b"
                          ],
                          [
                            0.6666666666666666,
                            "#ed7953"
                          ],
                          [
                            0.7777777777777778,
                            "#fb9f3a"
                          ],
                          [
                            0.8888888888888888,
                            "#fdca26"
                          ],
                          [
                            1,
                            "#f0f921"
                          ]
                        ],
                        "type": "heatmap"
                      }
                    ],
                    "heatmapgl": [
                      {
                        "colorbar": {
                          "outlinewidth": 0,
                          "ticks": ""
                        },
                        "colorscale": [
                          [
                            0,
                            "#0d0887"
                          ],
                          [
                            0.1111111111111111,
                            "#46039f"
                          ],
                          [
                            0.2222222222222222,
                            "#7201a8"
                          ],
                          [
                            0.3333333333333333,
                            "#9c179e"
                          ],
                          [
                            0.4444444444444444,
                            "#bd3786"
                          ],
                          [
                            0.5555555555555556,
                            "#d8576b"
                          ],
                          [
                            0.6666666666666666,
                            "#ed7953"
                          ],
                          [
                            0.7777777777777778,
                            "#fb9f3a"
                          ],
                          [
                            0.8888888888888888,
                            "#fdca26"
                          ],
                          [
                            1,
                            "#f0f921"
                          ]
                        ],
                        "type": "heatmapgl"
                      }
                    ],
                    "histogram": [
                      {
                        "marker": {
                          "pattern": {
                            "fillmode": "overlay",
                            "size": 10,
                            "solidity": 0.2
                          }
                        },
                        "type": "histogram"
                      }
                    ],
                    "histogram2d": [
                      {
                        "colorbar": {
                          "outlinewidth": 0,
                          "ticks": ""
                        },
                        "colorscale": [
                          [
                            0,
                            "#0d0887"
                          ],
                          [
                            0.1111111111111111,
                            "#46039f"
                          ],
                          [
                            0.2222222222222222,
                            "#7201a8"
                          ],
                          [
                            0.3333333333333333,
                            "#9c179e"
                          ],
                          [
                            0.4444444444444444,
                            "#bd3786"
                          ],
                          [
                            0.5555555555555556,
                            "#d8576b"
                          ],
                          [
                            0.6666666666666666,
                            "#ed7953"
                          ],
                          [
                            0.7777777777777778,
                            "#fb9f3a"
                          ],
                          [
                            0.8888888888888888,
                            "#fdca26"
                          ],
                          [
                            1,
                            "#f0f921"
                          ]
                        ],
                        "type": "histogram2d"
                      }
                    ],
                    "histogram2dcontour": [
                      {
                        "colorbar": {
                          "outlinewidth": 0,
                          "ticks": ""
                        },
                        "colorscale": [
                          [
                            0,
                            "#0d0887"
                          ],
                          [
                            0.1111111111111111,
                            "#46039f"
                          ],
                          [
                            0.2222222222222222,
                            "#7201a8"
                          ],
                          [
                            0.3333333333333333,
                            "#9c179e"
                          ],
                          [
                            0.4444444444444444,
                            "#bd3786"
                          ],
                          [
                            0.5555555555555556,
                            "#d8576b"
                          ],
                          [
                            0.6666666666666666,
                            "#ed7953"
                          ],
                          [
                            0.7777777777777778,
                            "#fb9f3a"
                          ],
                          [
                            0.8888888888888888,
                            "#fdca26"
                          ],
                          [
                            1,
                            "#f0f921"
                          ]
                        ],
                        "type": "histogram2dcontour"
                      }
                    ],
                    "mesh3d": [
                      {
                        "colorbar": {
                          "outlinewidth": 0,
                          "ticks": ""
                        },
                        "type": "mesh3d"
                      }
                    ],
                    "parcoords": [
                      {
                        "line": {
                          "colorbar": {
                            "outlinewidth": 0,
                            "ticks": ""
                          }
                        },
                        "type": "parcoords"
                      }
                    ],
                    "pie": [
                      {
                        "automargin": true,
                        "type": "pie"
                      }
                    ],
                    "scatter": [
                      {
                        "fillpattern": {
                          "fillmode": "overlay",
                          "size": 10,
                          "solidity": 0.2
                        },
                        "type": "scatter"
                      }
                    ],
                    "scatter3d": [
                      {
                        "line": {
                          "colorbar": {
                            "outlinewidth": 0,
                            "ticks": ""
                          }
                        },
                        "marker": {
                          "colorbar": {
                            "outlinewidth": 0,
                            "ticks": ""
                          }
                        },
                        "type": "scatter3d"
                      }
                    ],
                    "scattercarpet": [
                      {
                        "marker": {
                          "colorbar": {
                            "outlinewidth": 0,
                            "ticks": ""
                          }
                        },
                        "type": "scattercarpet"
                      }
                    ],
                    "scattergeo": [
                      {
                        "marker": {
                          "colorbar": {
                            "outlinewidth": 0,
                            "ticks": ""
                          }
                        },
                        "type": "scattergeo"
                      }
                    ],
                    "scattergl": [
                      {
                        "marker": {
                          "colorbar": {
                            "outlinewidth": 0,
                            "ticks": ""
                          }
                        },
                        "type": "scattergl"
                      }
                    ],
                    "scattermapbox": [
                      {
                        "marker": {
                          "colorbar": {
                            "outlinewidth": 0,
                            "ticks": ""
                          }
                        },
                        "type": "scattermapbox"
                      }
                    ],
                    "scatterpolar": [
                      {
                        "marker": {
                          "colorbar": {
                            "outlinewidth": 0,
                            "ticks": ""
                          }
                        },
                        "type": "scatterpolar"
                      }
                    ],
                    "scatterpolargl": [
                      {
                        "marker": {
                          "colorbar": {
                            "outlinewidth": 0,
                            "ticks": ""
                          }
                        },
                        "type": "scatterpolargl"
                      }
                    ],
                    "scatterternary": [
                      {
                        "marker": {
                          "colorbar": {
                            "outlinewidth": 0,
                            "ticks": ""
                          }
                        },
                        "type": "scatterternary"
                      }
                    ],
                    "surface": [
                      {
                        "colorbar": {
                          "outlinewidth": 0,
                          "ticks": ""
                        },
                        "colorscale": [
                          [
                            0,
                            "#0d0887"
                          ],
                          [
                            0.1111111111111111,
                            "#46039f"
                          ],
                          [
                            0.2222222222222222,
                            "#7201a8"
                          ],
                          [
                            0.3333333333333333,
                            "#9c179e"
                          ],
                          [
                            0.4444444444444444,
                            "#bd3786"
                          ],
                          [
                            0.5555555555555556,
                            "#d8576b"
                          ],
                          [
                            0.6666666666666666,
                            "#ed7953"
                          ],
                          [
                            0.7777777777777778,
                            "#fb9f3a"
                          ],
                          [
                            0.8888888888888888,
                            "#fdca26"
                          ],
                          [
                            1,
                            "#f0f921"
                          ]
                        ],
                        "type": "surface"
                      }
                    ],
                    "table": [
                      {
                        "cells": {
                          "fill": {
                            "color": "#EBF0F8"
                          },
                          "line": {
                            "color": "white"
                          }
                        },
                        "header": {
                          "fill": {
                            "color": "#C8D4E3"
                          },
                          "line": {
                            "color": "white"
                          }
                        },
                        "type": "table"
                      }
                    ]
                  },
                  "layout": {
                    "annotationdefaults": {
                      "arrowcolor": "#2a3f5f",
                      "arrowhead": 0,
                      "arrowwidth": 1
                    },
                    "autotypenumbers": "strict",
                    "coloraxis": {
                      "colorbar": {
                        "outlinewidth": 0,
                        "ticks": ""
                      }
                    },
                    "colorscale": {
                      "diverging": [
                        [
                          0,
                          "#8e0152"
                        ],
                        [
                          0.1,
                          "#c51b7d"
                        ],
                        [
                          0.2,
                          "#de77ae"
                        ],
                        [
                          0.3,
                          "#f1b6da"
                        ],
                        [
                          0.4,
                          "#fde0ef"
                        ],
                        [
                          0.5,
                          "#f7f7f7"
                        ],
                        [
                          0.6,
                          "#e6f5d0"
                        ],
                        [
                          0.7,
                          "#b8e186"
                        ],
                        [
                          0.8,
                          "#7fbc41"
                        ],
                        [
                          0.9,
                          "#4d9221"
                        ],
                        [
                          1,
                          "#276419"
                        ]
                      ],
                      "sequential": [
                        [
                          0,
                          "#0d0887"
                        ],
                        [
                          0.1111111111111111,
                          "#46039f"
                        ],
                        [
                          0.2222222222222222,
                          "#7201a8"
                        ],
                        [
                          0.3333333333333333,
                          "#9c179e"
                        ],
                        [
                          0.4444444444444444,
                          "#bd3786"
                        ],
                        [
                          0.5555555555555556,
                          "#d8576b"
                        ],
                        [
                          0.6666666666666666,
                          "#ed7953"
                        ],
                        [
                          0.7777777777777778,
                          "#fb9f3a"
                        ],
                        [
                          0.8888888888888888,
                          "#fdca26"
                        ],
                        [
                          1,
                          "#f0f921"
                        ]
                      ],
                      "sequentialminus": [
                        [
                          0,
                          "#0d0887"
                        ],
                        [
                          0.1111111111111111,
                          "#46039f"
                        ],
                        [
                          0.2222222222222222,
                          "#7201a8"
                        ],
                        [
                          0.3333333333333333,
                          "#9c179e"
                        ],
                        [
                          0.4444444444444444,
                          "#bd3786"
                        ],
                        [
                          0.5555555555555556,
                          "#d8576b"
                        ],
                        [
                          0.6666666666666666,
                          "#ed7953"
                        ],
                        [
                          0.7777777777777778,
                          "#fb9f3a"
                        ],
                        [
                          0.8888888888888888,
                          "#fdca26"
                        ],
                        [
                          1,
                          "#f0f921"
                        ]
                      ]
                    },
                    "colorway": [
                      "#636efa",
                      "#EF553B",
                      "#00cc96",
                      "#ab63fa",
                      "#FFA15A",
                      "#19d3f3",
                      "#FF6692",
                      "#B6E880",
                      "#FF97FF",
                      "#FECB52"
                    ],
                    "font": {
                      "color": "#2a3f5f"
                    },
                    "geo": {
                      "bgcolor": "white",
                      "lakecolor": "white",
                      "landcolor": "#E5ECF6",
                      "showlakes": true,
                      "showland": true,
                      "subunitcolor": "white"
                    },
                    "hoverlabel": {
                      "align": "left"
                    },
                    "hovermode": "closest",
                    "mapbox": {
                      "style": "light"
                    },
                    "paper_bgcolor": "white",
                    "plot_bgcolor": "#E5ECF6",
                    "polar": {
                      "angularaxis": {
                        "gridcolor": "white",
                        "linecolor": "white",
                        "ticks": ""
                      },
                      "bgcolor": "#E5ECF6",
                      "radialaxis": {
                        "gridcolor": "white",
                        "linecolor": "white",
                        "ticks": ""
                      }
                    },
                    "scene": {
                      "xaxis": {
                        "backgroundcolor": "#E5ECF6",
                        "gridcolor": "white",
                        "gridwidth": 2,
                        "linecolor": "white",
                        "showbackground": true,
                        "ticks": "",
                        "zerolinecolor": "white"
                      },
                      "yaxis": {
                        "backgroundcolor": "#E5ECF6",
                        "gridcolor": "white",
                        "gridwidth": 2,
                        "linecolor": "white",
                        "showbackground": true,
                        "ticks": "",
                        "zerolinecolor": "white"
                      },
                      "zaxis": {
                        "backgroundcolor": "#E5ECF6",
                        "gridcolor": "white",
                        "gridwidth": 2,
                        "linecolor": "white",
                        "showbackground": true,
                        "ticks": "",
                        "zerolinecolor": "white"
                      }
                    },
                    "shapedefaults": {
                      "line": {
                        "color": "#2a3f5f"
                      }
                    },
                    "ternary": {
                      "aaxis": {
                        "gridcolor": "white",
                        "linecolor": "white",
                        "ticks": ""
                      },
                      "baxis": {
                        "gridcolor": "white",
                        "linecolor": "white",
                        "ticks": ""
                      },
                      "bgcolor": "#E5ECF6",
                      "caxis": {
                        "gridcolor": "white",
                        "linecolor": "white",
                        "ticks": ""
                      }
                    },
                    "title": {
                      "x": 0.05
                    },
                    "xaxis": {
                      "automargin": true,
                      "gridcolor": "white",
                      "linecolor": "white",
                      "ticks": "",
                      "title": {
                        "standoff": 15
                      },
                      "zerolinecolor": "white",
                      "zerolinewidth": 2
                    },
                    "yaxis": {
                      "automargin": true,
                      "gridcolor": "white",
                      "linecolor": "white",
                      "ticks": "",
                      "title": {
                        "standoff": 15
                      },
                      "zerolinecolor": "white",
                      "zerolinewidth": 2
                    }
                  }
                },
                "xaxis": {
                  "anchor": "y",
                  "domain": [
                    0,
                    0.49
                  ],
                  "title": {
                    "text": "year"
                  }
                },
                "xaxis2": {
                  "anchor": "y2",
                  "domain": [
                    0.51,
                    1
                  ],
                  "matches": "x",
                  "title": {
                    "text": "year"
                  }
                },
                "yaxis": {
                  "anchor": "x",
                  "domain": [
                    0,
                    1
                  ],
                  "title": {
                    "text": "diversity"
                  }
                },
                "yaxis2": {
                  "anchor": "x2",
                  "domain": [
                    0,
                    1
                  ],
                  "matches": "y",
                  "showticklabels": false
                }
              }
            }
          },
          "metadata": {},
          "output_type": "display_data"
        }
      ],
      "source": [
        "# # read in data\n",
        "df_plot = pd.read_csv(\"parsed_documents_with_tfidf.csv\", index_col=0)\n",
        "\n",
        "# drop unnecessary rows\n",
        "df_plot = df_plot.drop(columns=['source','contents','lemmatized'])\n",
        "\n",
        "# filter rows to be plotted by searching the column name (e.g. year)\n",
        "# df_plot = df_plot[(df_plot['file'].str.contains(\"bank\")) | (df_plot['file'].str.contains(\"hsbc\"))]\n",
        "# cols1 = [col for col in df_plot.columns if '2007' in col]\n",
        "# cols2 = [col for col in df_plot.columns if 'pepsi' in col]\n",
        "# df_plot = df_plot[cols1]\n",
        "\n",
        "# plot it\n",
        "fig = px.bar(df_plot, x='year', y='diversity', color='company', facet_col=\"company\")\n",
        "fig.show()\n",
        "\n",
        "# export it\n",
        "filename=\"test_plot_2\"\n",
        "fig.write_html(filename + \".html\")"
      ]
    },
    {
      "attachments": {},
      "cell_type": "markdown",
      "metadata": {},
      "source": [
        "# Topic Modeling"
      ]
    },
    {
      "cell_type": "code",
      "execution_count": 14,
      "metadata": {},
      "outputs": [
        {
          "name": "stdout",
          "output_type": "stream",
          "text": [
            "Collecting empath\n",
            "  Downloading empath-0.89.tar.gz (57 kB)\n",
            "     ---------------------------------------- 57.6/57.6 kB 3.0 MB/s eta 0:00:00\n",
            "  Preparing metadata (setup.py): started\n",
            "  Preparing metadata (setup.py): finished with status 'done'\n",
            "Requirement already satisfied: requests in c:\\users\\parti\\anaconda3\\lib\\site-packages (from empath) (2.28.1)\n",
            "Requirement already satisfied: certifi>=2017.4.17 in c:\\users\\parti\\anaconda3\\lib\\site-packages (from requests->empath) (2022.12.7)\n",
            "Requirement already satisfied: charset-normalizer<3,>=2 in c:\\users\\parti\\anaconda3\\lib\\site-packages (from requests->empath) (2.0.4)\n",
            "Requirement already satisfied: idna<4,>=2.5 in c:\\users\\parti\\anaconda3\\lib\\site-packages (from requests->empath) (3.3)\n",
            "Requirement already satisfied: urllib3<1.27,>=1.21.1 in c:\\users\\parti\\anaconda3\\lib\\site-packages (from requests->empath) (1.26.11)\n",
            "Building wheels for collected packages: empath\n",
            "  Building wheel for empath (setup.py): started\n",
            "  Building wheel for empath (setup.py): finished with status 'done'\n",
            "  Created wheel for empath: filename=empath-0.89-py3-none-any.whl size=57799 sha256=d939d213edbd3abd0d27e90d4f09a72878b21091da25268b5db360f0fbea75c7\n",
            "  Stored in directory: c:\\users\\parti\\appdata\\local\\pip\\cache\\wheels\\5b\\58\\77\\7eed8eef4c6be0cca8920ac319d916811537a37407da220bf1\n",
            "Successfully built empath\n",
            "Installing collected packages: empath\n",
            "Successfully installed empath-0.89\n"
          ]
        }
      ],
      "source": [
        "# Install dependencies\n",
        "!pip install scattertext\n",
        "!pip3 install empath\n",
        "# !pip install spacy\n",
        "# !python -m spacy download en_core_web_sm ### CHOOSE ONE ###"
      ]
    },
    {
      "cell_type": "code",
      "execution_count": 16,
      "metadata": {},
      "outputs": [],
      "source": [
        "# Import dependencies\n",
        "import pandas as pd\n",
        "import numpy as np\n",
        "import re\n",
        "\n",
        "import scattertext as st\n",
        "import spacy"
      ]
    },
    {
      "cell_type": "code",
      "execution_count": 23,
      "metadata": {},
      "outputs": [
        {
          "data": {
            "text/plain": [
              "3702307"
            ]
          },
          "execution_count": 23,
          "metadata": {},
          "output_type": "execute_result"
        }
      ],
      "source": [
        "feat_builder = st.FeatsFromOnlyEmpath()\n",
        "empath_corpus = st.CorpusFromParsedDocuments(df,\n",
        "                                              category_col='company',\n",
        "                                              feats_from_spacy_doc=feat_builder,\n",
        "                                              parsed_col='contents').build()\n",
        "                                              \n",
        "html = st.produce_scattertext_explorer(empath_corpus,\n",
        "                                       category='cocacola',\n",
        "                                       category_name='cocacola',\n",
        "                                       not_category_name='pepsico',\n",
        "                                       width_in_pixels=1000,\n",
        "                                       metadata=df['file'],\n",
        "                                       use_non_text_features=True,\n",
        "                                       use_full_doc=True,\n",
        "                                       topic_model_term_lists=feat_builder.get_top_model_term_lists())\n",
        "\n",
        "open(\"test_empath.html\", 'wb').write(html.encode('utf-8'))"
      ]
    },
    {
      "cell_type": "markdown",
      "metadata": {},
      "source": [
        "# End"
      ]
    },
    {
      "cell_type": "markdown",
      "metadata": {},
      "source": [
        "## Notes"
      ]
    }
  ],
  "metadata": {
    "colab": {
      "collapsed_sections": [],
      "provenance": []
    },
    "kernelspec": {
      "display_name": "Python 3.9.13 ('base')",
      "language": "python",
      "name": "python3"
    },
    "language_info": {
      "codemirror_mode": {
        "name": "ipython",
        "version": 3
      },
      "file_extension": ".py",
      "mimetype": "text/x-python",
      "name": "python",
      "nbconvert_exporter": "python",
      "pygments_lexer": "ipython3",
      "version": "3.9.13"
    },
    "vscode": {
      "interpreter": {
        "hash": "18c4d285bf73f8d33795481156cb8e20c5329867a6af52097d4f49f8abbf9900"
      }
    }
  },
  "nbformat": 4,
  "nbformat_minor": 0
}
