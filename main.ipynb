{
  "cells": [
    {
      "cell_type": "markdown",
      "metadata": {
        "id": "QPhiwbl0JvEV"
      },
      "source": [
        "# DEI Index\n",
        "\n",
        "The following code (`main.ipynb`) is a pipeline of NLP solution(s) to quickly analyze and compare company documents. Currently the program can read company reports and output a set of observations about said reports' contents, quantifying relative mentions of certain key terms and phrases, and provide simple visualizations. It uses [TF-IDF](https://en.wikipedia.org/wiki/Tf%E2%80%93idf) scores (term frequency–inverse document frequency), a common technique known from text mining and information retrieval. This metric TF-IDF takes the frequency of a term in a documents, multiplied by the log of the term's inverse document frequency (the number of documents it appears divided by the total number of documents), resulting in higher scores if a term is unique, and low scores if a term is common across the corpus. This brief example is focusing on the terms 'diversity', 'equity', and 'inclusion' in CSR reports of two big beverage companies over the past years. For a big data approach, I recommend using the [Jena Organization Corpus (JOCo)](https://www.orga.uni-jena.de/en/corp) which is a 280 million word corpus of US, UK, and German company reports.\n",
        "\n",
        ">The ultimate goal is the creation of an index to capture and measure companies DEI practices and initiatives. \n",
        "\n",
        "At present, this program can:\n",
        "* read in and pre-process txt and pdf files of company documents and reports, \n",
        "* collate their contents in a dataframe\n",
        "* tokenize, remove stopwords, and lemmatize text\n",
        "* calculate tf-idf scores for every document in the corpus\n",
        "* compare a set of selected documents and visualize the comparison\n",
        "\n",
        ">This code was tested on a local machine, on Windows, using VSCode and Python 3.9.13 via Anaconda, but you could try it on Google Colab.\n",
        "\n",
        "Gabor Parti, 2022 October\n",
        "If you have any questions, contact me at gabor.parti@connect.polyu.hk"
      ]
    },
    {
      "cell_type": "markdown",
      "metadata": {
        "id": "VBiouDmCKHVx"
      },
      "source": [
        "## Setup"
      ]
    },
    {
      "cell_type": "code",
      "execution_count": 62,
      "metadata": {
        "colab": {
          "base_uri": "https://localhost:8080/"
        },
        "id": "pj5ocM-xpuvC",
        "outputId": "2c5062ff-543b-4cca-fe20-bc4de9f62824"
      },
      "outputs": [],
      "source": [
        "# # mount your Google drive if you use Google Colaboratory.\n",
        "# from google.colab import drive\n",
        "# drive.mount('/content/drive')\n",
        "\n",
        "# Warning! Paths are a bit messed up if using colab so regular expressions may not work the same as locally."
      ]
    },
    {
      "cell_type": "code",
      "execution_count": 63,
      "metadata": {
        "colab": {
          "base_uri": "https://localhost:8080/"
        },
        "id": "1HBGBs_3YTUC",
        "outputId": "fc88f747-0437-4c8f-aff4-50c70f7af131"
      },
      "outputs": [],
      "source": [
        "# install necessary dependencies\n",
        "# %pip install PyPDF2"
      ]
    },
    {
      "cell_type": "code",
      "execution_count": 64,
      "metadata": {
        "id": "xk1t46MWUvys"
      },
      "outputs": [
        {
          "name": "stderr",
          "output_type": "stream",
          "text": [
            "[nltk_data] Downloading package wordnet to\n",
            "[nltk_data]     C:\\Users\\parti\\AppData\\Roaming\\nltk_data...\n",
            "[nltk_data]   Package wordnet is already up-to-date!\n",
            "[nltk_data] Downloading package stopwords to\n",
            "[nltk_data]     C:\\Users\\parti\\AppData\\Roaming\\nltk_data...\n",
            "[nltk_data]   Package stopwords is already up-to-date!\n"
          ]
        }
      ],
      "source": [
        "#import dependency libraries\n",
        "import pandas as pd\n",
        "import numpy as np\n",
        "import regex as re\n",
        "import plotly.express as px\n",
        "import nltk\n",
        "from nltk.corpus import stopwords\n",
        "from nltk.stem import WordNetLemmatizer\n",
        "nltk.download('wordnet')\n",
        "nltk.download('stopwords')\n",
        "import sys\n",
        "import os\n",
        "import PyPDF2\n",
        "import sklearn as sk\n",
        "from sklearn.feature_extraction import text\n",
        "from sklearn.feature_extraction.text import CountVectorizer, TfidfVectorizer, TfidfTransformer"
      ]
    },
    {
      "cell_type": "markdown",
      "metadata": {
        "id": "V_rDCI4xtspC"
      },
      "source": [
        "## Preprocessing Reports\n",
        "\n",
        "The following two functions will be used to read in and parse documents from `pdf` and `txt` files, clean their contents (remove symbols and punctuation, lowercase) and store them.\n",
        "\n",
        "### Functions"
      ]
    },
    {
      "cell_type": "code",
      "execution_count": 65,
      "metadata": {
        "id": "3FTTWg_ytyYa"
      },
      "outputs": [],
      "source": [
        "# function to read a pdf file and add them to a dataframe\n",
        "def read_pdf(document, index=0):\n",
        "  \"\"\"Read and parse a pdf file.\n",
        "  This function uses the PyPDF2 package to read and extract \n",
        "  the contents of a pdf file, page by page.\n",
        "\n",
        "  Keyword arguments:\n",
        "  document -- the document to be read in.\n",
        "  index -- the index of the document, an integer (default 0)\n",
        "  \"\"\"\n",
        "  # add filename to dataframe\n",
        "  m = re.search(r\"\\\\(?!.*\\\\)(.*)_(\\d+)(_?.*)?((\\.pdf)|(\\.txt))\", document.lower())\n",
        "  filename_match = m.group(0)\n",
        "  filename = re.sub(\"[\\\\\\/\\'\\>]\", \"\", filename_match)\n",
        "  filename = re.sub(\"\\.\\w+\", \"\", filename)\n",
        "  company = m.group(1)\n",
        "  year = m.group(2)\n",
        "  type = m.group(3)\n",
        "  type = re.sub(\"^_\", \"\", type)\n",
        "  ext = m.group(4)\n",
        "  ext = re.sub(\"\\.\", \"\", ext)\n",
        "\n",
        "  df.loc[index, 'file'] = filename\n",
        "  df.loc[index, 'company'] = company\n",
        "  df.loc[index, 'year'] = year\n",
        "  df.loc[index, 'type'] = type\n",
        "  if type == \"\":\n",
        "    df.loc[index, 'type'] = 'not_csr'\n",
        "  \n",
        "  print(\"Parsing\", filename, \"...\")\n",
        "\n",
        "  # #####\n",
        "  # y = re.search(\"([0-9]{4})\", filename)\n",
        "  # if y is None:\n",
        "  #   df.loc[index, 'year'] = np.nan\n",
        "  # else:\n",
        "  #   df.loc[index, 'year'] = y[0]\n",
        "  # #####\n",
        "\n",
        "  # creating a pdf file object\n",
        "  pdfFileObj = open(document, 'rb') \n",
        "\n",
        "  # n = re.search(r\"\\\\(?:.(?!\\\\))+$\", filename_with_path)\n",
        "  # filename_match = n.group(0)\n",
        "\n",
        "  # creating a pdf reader object \n",
        "  pdfReader = PyPDF2.PdfFileReader(pdfFileObj, strict=False) \n",
        "      \n",
        "  # printing number of pages in pdf file \n",
        "  # print(\"Number of pages:\", pdfReader.numPages)\n",
        "  pages = pdfReader.numPages\n",
        "\n",
        "  # add page number to dataframe\n",
        "  # df.loc[index, 'pages'] = pages\n",
        "\n",
        "  # creating a page object \n",
        "  pageObj = pdfReader.getPage(0)\n",
        "\n",
        "  # extracting text from page \n",
        "  # print(pageObj.extractText())\n",
        "\n",
        "  pages_with_contents = []\n",
        "\n",
        "  for p in range(pages):\n",
        "    pageObj = pdfReader.getPage(p)\n",
        "    page_contents = pageObj.extractText()\n",
        "    pages_with_contents.append(page_contents)\n",
        "\n",
        "  # join pages into one document\n",
        "  contents = \" \".join(pages_with_contents)\n",
        "\n",
        "  #closing the pdf file object \n",
        "  pdfFileObj.close() \n",
        "\n",
        "  # cleaning\n",
        "  contents = re.sub(\"\\n\", \" \", contents)\n",
        "  contents = re.sub(\"\\.\", \". \", contents)\n",
        "  contents = re.sub(\"\\)\", \") \", contents)\n",
        "\n",
        "  # separates words\n",
        "  contents = re.sub(r\"([a-z])([A-Z])\", r\"\\1 \\2\", contents)\n",
        "\n",
        "  # # if need list\n",
        "  # contents_list = contents.split(' || ')\n",
        "\n",
        "  # remove symbols\n",
        "  contents = re.sub(r\"[^a-zA-Z0-9]\", \" \", contents)\n",
        "\n",
        "  # # lowercase\n",
        "  contents = contents.lower()\n",
        "\n",
        "  #remove extra spaces\n",
        "  contents = re.sub(\"\\s+\", \" \", contents)\n",
        "\n",
        "  #from where\n",
        "  df.loc[index, 'source'] = \"manual\"\n",
        "\n",
        "  # add contents to dataframe\n",
        "  df.loc[index, 'contents'] = contents\n",
        "\n",
        "  return #print(\"Done.\")"
      ]
    },
    {
      "cell_type": "code",
      "execution_count": 66,
      "metadata": {},
      "outputs": [],
      "source": [
        "# function to read a txt file and add them to a dataframe\n",
        "def read_txt(document, index=0):\n",
        "  \"\"\"Read and parse a txt file.\n",
        "\n",
        "  Keyword arguments:\n",
        "  document -- the document to be read in.\n",
        "  index -- the index of the document, an integer (default 0)\n",
        "  \"\"\"\n",
        "  # creating a pdf file object \n",
        "  with open(document, encoding='utf-8') as f:\n",
        "    contents = f.read()\n",
        "\n",
        "  # add filename to dataframe\n",
        "  m = re.search(r\"\\\\(?!.*\\\\)(.*)_(\\d+)(_?.*)?((\\.pdf)|(\\.txt))\", document.lower())\n",
        "  filename_match = m.group(0)\n",
        "  filename = re.sub(\"[\\\\\\/\\'\\>]\", \"\", filename_match)\n",
        "  filename = re.sub(\"\\.\\w+\", \"\", filename)\n",
        "  company = m.group(1)\n",
        "  year = m.group(2)\n",
        "  type = m.group(3)\n",
        "  type = re.sub(\"^_\", \"\", type)\n",
        "  ext = m.group(4)\n",
        "  ext = re.sub(\"\\.\", \"\", ext)\n",
        "\n",
        "  df.loc[index, 'file'] = filename\n",
        "  df.loc[index, 'company'] = company\n",
        "  df.loc[index, 'year'] = year\n",
        "  df.loc[index, 'type'] = type\n",
        "  if type == \"\":\n",
        "    df.loc[index, 'type'] = 'not_csr'\n",
        "\n",
        "  print(\"Parsing\", filename, \"...\")\n",
        "\n",
        "  y = re.search(\"([0-9]{4})\", filename)\n",
        "  if y is None:\n",
        "    df.loc[index, 'year'] = np.nan\n",
        "  else:\n",
        "    df.loc[index, 'year'] = y[0]\n",
        "\n",
        "  f.close()\n",
        "\n",
        "  # cleaning\n",
        "  contents = re.sub(\"\\n\", \" \", contents)\n",
        "  contents = re.sub(\"\\.\", \". \", contents)\n",
        "  contents = re.sub(\"\\)\", \") \", contents)\n",
        "\n",
        "  # remove symbols\n",
        "  contents = re.sub(r\"[^a-zA-Z0-9]\", \" \", contents)\n",
        "\n",
        "  # lowercase\n",
        "  contents = contents.lower()\n",
        "\n",
        "  #remove extra spaces\n",
        "  contents = re.sub(\"\\s+\", \" \", contents)\n",
        "\n",
        "  # from where\n",
        "  df.loc[index, 'source'] = \"joco\"\n",
        "\n",
        "  # add contents to dataframe\n",
        "  df.loc[index, 'contents'] = contents\n",
        "\n",
        "  return #print(\"Done.\")"
      ]
    },
    {
      "cell_type": "code",
      "execution_count": 67,
      "metadata": {},
      "outputs": [],
      "source": [
        "# a function to walk through all files in a folder and its subfolders\n",
        "def list_files(dir):                                                                                                  \n",
        "    r = []                                                                                                            \n",
        "    subdirs = [x[0] for x in os.walk(dir)]                                                                            \n",
        "    for subdir in subdirs:                                                                                            \n",
        "        files = os.walk(subdir).__next__()[2]                                                                             \n",
        "        if (len(files) > 0):                                                                                          \n",
        "            for file in files:                                                                                        \n",
        "                r.append(os.path.join(subdir, file))                                                                         \n",
        "    return r"
      ]
    },
    {
      "attachments": {},
      "cell_type": "markdown",
      "metadata": {},
      "source": [
        "### Preprocessor\n",
        "\n",
        "The following block of code reads in a directory (a folder) where company reports should be placed. It iterates over the files in that directory, and if they are in the correct file extension (`pdf`, `txt`), then the program will parse the files. Including: tokenization, counting tokens (~words), removing stopwords, lemmatization, and placing them all in one dataframe, where every row represents a document. The input folder should contain files with the following filename conventions: \"company_year_type.txt\" or \"company_year_type.pdf\", where 'type' can be CSR or ESG or something else, and 'year' must be digits. \n",
        "\n",
        "E.g.: \"CocaCola_2021_CSR.pdf\" or \"Pepsico_2011.txt\" are both valid filenames. Capitalization does not matter."
      ]
    },
    {
      "cell_type": "code",
      "execution_count": 68,
      "metadata": {
        "colab": {
          "base_uri": "https://localhost:8080/",
          "height": 252
        },
        "id": "E-8Jv9xqmSa8",
        "outputId": "d17111e9-4570-42db-ada6-45366e5a2521"
      },
      "outputs": [
        {
          "name": "stdout",
          "output_type": "stream",
          "text": [
            "Your input directory is: c:\\Users\\parti\\Projects\\dei-index\\testdata\\csr\n",
            "Number of files: 23\n",
            "Parsing cocacola_2003_csr ...\n",
            "Parsing cocacola_2004_csr ...\n",
            "Parsing cocacola_2005_csr ...\n",
            "Parsing cocacola_2006_csr ...\n",
            "Parsing cocacola_2006_csr_add1 ...\n",
            "Parsing cocacola_20072008_csr ...\n",
            "Parsing cocacola_20082009_csr ...\n",
            "Parsing cocacola_20092010_csr ...\n",
            "Parsing cocacola_20102011_csr ...\n",
            "Parsing cocacola_20112012_csr ...\n",
            "Parsing cocacola_20122013_csr ...\n",
            "Parsing cocacola_20132014_csr ...\n",
            "Parsing cocacola_20142015_csr ...\n",
            "Parsing cocacola_2021_csr ...\n",
            "Parsing pepsico_2006_csr ...\n",
            "Parsing pepsico_2007_csr ...\n",
            "Parsing pepsico_2008_csr ...\n",
            "Parsing pepsico_2009_csr ...\n",
            "Parsing pepsico_2010_csr ...\n",
            "Parsing pepsico_20112012_csr ...\n",
            "Parsing pepsico_2013_csr ...\n",
            "Parsing pepsico_2014_csr ...\n",
            "Parsing pepsico_2021_csr ...\n",
            "All files read in.\n",
            "Tokenizing data...\n",
            "Counting words...\n",
            "23 documents, dropping empty ones if any...\n",
            "23 remaining.\n",
            "Removing stopwords...\n",
            "Lemmatizing data...\n",
            "Found 1 addenda, dropping it.\n",
            "Exporting...\n",
            "All done, no errors.\n"
          ]
        },
        {
          "data": {
            "text/html": [
              "<div>\n",
              "<style scoped>\n",
              "    .dataframe tbody tr th:only-of-type {\n",
              "        vertical-align: middle;\n",
              "    }\n",
              "\n",
              "    .dataframe tbody tr th {\n",
              "        vertical-align: top;\n",
              "    }\n",
              "\n",
              "    .dataframe thead th {\n",
              "        text-align: right;\n",
              "    }\n",
              "</style>\n",
              "<table border=\"1\" class=\"dataframe\">\n",
              "  <thead>\n",
              "    <tr style=\"text-align: right;\">\n",
              "      <th></th>\n",
              "      <th>file</th>\n",
              "      <th>company</th>\n",
              "      <th>year</th>\n",
              "      <th>type</th>\n",
              "      <th>source</th>\n",
              "      <th>contents</th>\n",
              "      <th>tokens</th>\n",
              "      <th>lemmatized</th>\n",
              "    </tr>\n",
              "  </thead>\n",
              "  <tbody>\n",
              "    <tr>\n",
              "      <th>0</th>\n",
              "      <td>cocacola_2003_csr</td>\n",
              "      <td>cocacola</td>\n",
              "      <td>2003</td>\n",
              "      <td>csr</td>\n",
              "      <td>joco</td>\n",
              "      <td>2003 environmental report summary of 2003 impa...</td>\n",
              "      <td>10442</td>\n",
              "      <td>2003 environmental report summary 2003 impact ...</td>\n",
              "    </tr>\n",
              "    <tr>\n",
              "      <th>1</th>\n",
              "      <td>cocacola_2004_csr</td>\n",
              "      <td>cocacola</td>\n",
              "      <td>2004</td>\n",
              "      <td>csr</td>\n",
              "      <td>joco</td>\n",
              "      <td>every day around the globe 2004 environmental ...</td>\n",
              "      <td>15771</td>\n",
              "      <td>every day around globe 2004 environmental repo...</td>\n",
              "    </tr>\n",
              "    <tr>\n",
              "      <th>2</th>\n",
              "      <td>cocacola_2005_csr</td>\n",
              "      <td>cocacola</td>\n",
              "      <td>2005</td>\n",
              "      <td>csr</td>\n",
              "      <td>joco</td>\n",
              "      <td>2005 environmental report www coca cola com in...</td>\n",
              "      <td>4271</td>\n",
              "      <td>2005 environmental report www coca cola com re...</td>\n",
              "    </tr>\n",
              "    <tr>\n",
              "      <th>3</th>\n",
              "      <td>cocacola_2006_csr</td>\n",
              "      <td>cocacola</td>\n",
              "      <td>2006</td>\n",
              "      <td>csr</td>\n",
              "      <td>joco</td>\n",
              "      <td>2006 corporate responsibility review the mark ...</td>\n",
              "      <td>12690</td>\n",
              "      <td>2006 corporate responsibility review mark make...</td>\n",
              "    </tr>\n",
              "    <tr>\n",
              "      <th>4</th>\n",
              "      <td>cocacola_20072008_csr</td>\n",
              "      <td>cocacola</td>\n",
              "      <td>2007</td>\n",
              "      <td>csr</td>\n",
              "      <td>joco</td>\n",
              "      <td>act inspire make a difference a dialogue of pr...</td>\n",
              "      <td>24082</td>\n",
              "      <td>act inspire make difference dialogue progress ...</td>\n",
              "    </tr>\n",
              "    <tr>\n",
              "      <th>5</th>\n",
              "      <td>cocacola_20082009_csr</td>\n",
              "      <td>cocacola</td>\n",
              "      <td>2008</td>\n",
              "      <td>csr</td>\n",
              "      <td>joco</td>\n",
              "      <td>the coca cola company 2008 2009 sustainability...</td>\n",
              "      <td>16978</td>\n",
              "      <td>coca cola company 2008 2009 sustainability rev...</td>\n",
              "    </tr>\n",
              "    <tr>\n",
              "      <th>6</th>\n",
              "      <td>cocacola_20092010_csr</td>\n",
              "      <td>cocacola</td>\n",
              "      <td>2009</td>\n",
              "      <td>csr</td>\n",
              "      <td>joco</td>\n",
              "      <td>2009 2010 sustainability review our commitment...</td>\n",
              "      <td>20800</td>\n",
              "      <td>2009 2010 sustainability review commitment mak...</td>\n",
              "    </tr>\n",
              "    <tr>\n",
              "      <th>7</th>\n",
              "      <td>cocacola_20102011_csr</td>\n",
              "      <td>cocacola</td>\n",
              "      <td>2010</td>\n",
              "      <td>csr</td>\n",
              "      <td>joco</td>\n",
              "      <td>2010 2011 sustainability report reasons to bel...</td>\n",
              "      <td>37552</td>\n",
              "      <td>2010 2011 sustainability report reason believe...</td>\n",
              "    </tr>\n",
              "    <tr>\n",
              "      <th>8</th>\n",
              "      <td>cocacola_20112012_csr</td>\n",
              "      <td>cocacola</td>\n",
              "      <td>2011</td>\n",
              "      <td>csr</td>\n",
              "      <td>joco</td>\n",
              "      <td>search gri report performance highlights muhta...</td>\n",
              "      <td>1188</td>\n",
              "      <td>search gri report performance highlight muhtar...</td>\n",
              "    </tr>\n",
              "    <tr>\n",
              "      <th>9</th>\n",
              "      <td>cocacola_20122013_csr</td>\n",
              "      <td>cocacola</td>\n",
              "      <td>2012</td>\n",
              "      <td>csr</td>\n",
              "      <td>joco</td>\n",
              "      <td>2012 2013 gri report table of contents introdu...</td>\n",
              "      <td>46679</td>\n",
              "      <td>2012 2013 gri report table content introductio...</td>\n",
              "    </tr>\n",
              "    <tr>\n",
              "      <th>10</th>\n",
              "      <td>cocacola_20132014_csr</td>\n",
              "      <td>cocacola</td>\n",
              "      <td>2013</td>\n",
              "      <td>csr</td>\n",
              "      <td>joco</td>\n",
              "      <td>innovating for a sustainable future our journe...</td>\n",
              "      <td>30673</td>\n",
              "      <td>innovating sustainable future journey 2013 cor...</td>\n",
              "    </tr>\n",
              "    <tr>\n",
              "      <th>11</th>\n",
              "      <td>cocacola_20142015_csr</td>\n",
              "      <td>cocacola</td>\n",
              "      <td>2014</td>\n",
              "      <td>csr</td>\n",
              "      <td>joco</td>\n",
              "      <td>2014 2015 sustainability report 2014 2015 sust...</td>\n",
              "      <td>33099</td>\n",
              "      <td>2014 2015 sustainability report 2014 2015 sust...</td>\n",
              "    </tr>\n",
              "    <tr>\n",
              "      <th>12</th>\n",
              "      <td>cocacola_2021_csr</td>\n",
              "      <td>cocacola</td>\n",
              "      <td>2021</td>\n",
              "      <td>csr</td>\n",
              "      <td>manual</td>\n",
              "      <td>refresh the world make a difference 2021 busin...</td>\n",
              "      <td>43304</td>\n",
              "      <td>refresh world make difference 2021 business es...</td>\n",
              "    </tr>\n",
              "    <tr>\n",
              "      <th>13</th>\n",
              "      <td>pepsico_2006_csr</td>\n",
              "      <td>pepsico</td>\n",
              "      <td>2006</td>\n",
              "      <td>csr</td>\n",
              "      <td>joco</td>\n",
              "      <td>performance with purpose pepsico corporate sus...</td>\n",
              "      <td>31309</td>\n",
              "      <td>performance purpose pepsico corporate sustaina...</td>\n",
              "    </tr>\n",
              "    <tr>\n",
              "      <th>14</th>\n",
              "      <td>pepsico_2007_csr</td>\n",
              "      <td>pepsico</td>\n",
              "      <td>2007</td>\n",
              "      <td>csr</td>\n",
              "      <td>joco</td>\n",
              "      <td>overview in a world that continues to experien...</td>\n",
              "      <td>22345</td>\n",
              "      <td>overview world continues experience unpreceden...</td>\n",
              "    </tr>\n",
              "    <tr>\n",
              "      <th>15</th>\n",
              "      <td>pepsico_2008_csr</td>\n",
              "      <td>pepsico</td>\n",
              "      <td>2008</td>\n",
              "      <td>csr</td>\n",
              "      <td>joco</td>\n",
              "      <td>performance with purpose creating a better tom...</td>\n",
              "      <td>37792</td>\n",
              "      <td>performance purpose creating better tomorrow f...</td>\n",
              "    </tr>\n",
              "    <tr>\n",
              "      <th>16</th>\n",
              "      <td>pepsico_2009_csr</td>\n",
              "      <td>pepsico</td>\n",
              "      <td>2009</td>\n",
              "      <td>csr</td>\n",
              "      <td>joco</td>\n",
              "      <td>performance with purpose investing in sustaina...</td>\n",
              "      <td>11226</td>\n",
              "      <td>performance purpose investing sustainable grow...</td>\n",
              "    </tr>\n",
              "    <tr>\n",
              "      <th>17</th>\n",
              "      <td>pepsico_2010_csr</td>\n",
              "      <td>pepsico</td>\n",
              "      <td>2010</td>\n",
              "      <td>csr</td>\n",
              "      <td>joco</td>\n",
              "      <td>performance with purpose the promise of pepsic...</td>\n",
              "      <td>9711</td>\n",
              "      <td>performance purpose promise pepsico sustainabi...</td>\n",
              "    </tr>\n",
              "    <tr>\n",
              "      <th>18</th>\n",
              "      <td>pepsico_20112012_csr</td>\n",
              "      <td>pepsico</td>\n",
              "      <td>2011</td>\n",
              "      <td>csr</td>\n",
              "      <td>joco</td>\n",
              "      <td>performance with purpose sustainability report...</td>\n",
              "      <td>11827</td>\n",
              "      <td>performance purpose sustainability report 2011...</td>\n",
              "    </tr>\n",
              "    <tr>\n",
              "      <th>19</th>\n",
              "      <td>pepsico_2013_csr</td>\n",
              "      <td>pepsico</td>\n",
              "      <td>2013</td>\n",
              "      <td>csr</td>\n",
              "      <td>joco</td>\n",
              "      <td>performance with purpose sustainability report...</td>\n",
              "      <td>18750</td>\n",
              "      <td>performance purpose sustainability report 2013...</td>\n",
              "    </tr>\n",
              "    <tr>\n",
              "      <th>20</th>\n",
              "      <td>pepsico_2014_csr</td>\n",
              "      <td>pepsico</td>\n",
              "      <td>2014</td>\n",
              "      <td>csr</td>\n",
              "      <td>joco</td>\n",
              "      <td>performance with purpose sustainability report...</td>\n",
              "      <td>7260</td>\n",
              "      <td>performance purpose sustainability report 2014...</td>\n",
              "    </tr>\n",
              "    <tr>\n",
              "      <th>21</th>\n",
              "      <td>pepsico_2021_csr</td>\n",
              "      <td>pepsico</td>\n",
              "      <td>2021</td>\n",
              "      <td>csr</td>\n",
              "      <td>manual</td>\n",
              "      <td>2021 esg summary the information within this p...</td>\n",
              "      <td>21775</td>\n",
              "      <td>2021 esg summary information within pdf june 2...</td>\n",
              "    </tr>\n",
              "  </tbody>\n",
              "</table>\n",
              "</div>"
            ],
            "text/plain": [
              "                     file   company  year type  source  \\\n",
              "0       cocacola_2003_csr  cocacola  2003  csr    joco   \n",
              "1       cocacola_2004_csr  cocacola  2004  csr    joco   \n",
              "2       cocacola_2005_csr  cocacola  2005  csr    joco   \n",
              "3       cocacola_2006_csr  cocacola  2006  csr    joco   \n",
              "4   cocacola_20072008_csr  cocacola  2007  csr    joco   \n",
              "5   cocacola_20082009_csr  cocacola  2008  csr    joco   \n",
              "6   cocacola_20092010_csr  cocacola  2009  csr    joco   \n",
              "7   cocacola_20102011_csr  cocacola  2010  csr    joco   \n",
              "8   cocacola_20112012_csr  cocacola  2011  csr    joco   \n",
              "9   cocacola_20122013_csr  cocacola  2012  csr    joco   \n",
              "10  cocacola_20132014_csr  cocacola  2013  csr    joco   \n",
              "11  cocacola_20142015_csr  cocacola  2014  csr    joco   \n",
              "12      cocacola_2021_csr  cocacola  2021  csr  manual   \n",
              "13       pepsico_2006_csr   pepsico  2006  csr    joco   \n",
              "14       pepsico_2007_csr   pepsico  2007  csr    joco   \n",
              "15       pepsico_2008_csr   pepsico  2008  csr    joco   \n",
              "16       pepsico_2009_csr   pepsico  2009  csr    joco   \n",
              "17       pepsico_2010_csr   pepsico  2010  csr    joco   \n",
              "18   pepsico_20112012_csr   pepsico  2011  csr    joco   \n",
              "19       pepsico_2013_csr   pepsico  2013  csr    joco   \n",
              "20       pepsico_2014_csr   pepsico  2014  csr    joco   \n",
              "21       pepsico_2021_csr   pepsico  2021  csr  manual   \n",
              "\n",
              "                                             contents  tokens  \\\n",
              "0   2003 environmental report summary of 2003 impa...   10442   \n",
              "1   every day around the globe 2004 environmental ...   15771   \n",
              "2   2005 environmental report www coca cola com in...    4271   \n",
              "3   2006 corporate responsibility review the mark ...   12690   \n",
              "4   act inspire make a difference a dialogue of pr...   24082   \n",
              "5   the coca cola company 2008 2009 sustainability...   16978   \n",
              "6   2009 2010 sustainability review our commitment...   20800   \n",
              "7   2010 2011 sustainability report reasons to bel...   37552   \n",
              "8   search gri report performance highlights muhta...    1188   \n",
              "9   2012 2013 gri report table of contents introdu...   46679   \n",
              "10  innovating for a sustainable future our journe...   30673   \n",
              "11  2014 2015 sustainability report 2014 2015 sust...   33099   \n",
              "12  refresh the world make a difference 2021 busin...   43304   \n",
              "13  performance with purpose pepsico corporate sus...   31309   \n",
              "14  overview in a world that continues to experien...   22345   \n",
              "15  performance with purpose creating a better tom...   37792   \n",
              "16  performance with purpose investing in sustaina...   11226   \n",
              "17  performance with purpose the promise of pepsic...    9711   \n",
              "18  performance with purpose sustainability report...   11827   \n",
              "19  performance with purpose sustainability report...   18750   \n",
              "20  performance with purpose sustainability report...    7260   \n",
              "21  2021 esg summary the information within this p...   21775   \n",
              "\n",
              "                                           lemmatized  \n",
              "0   2003 environmental report summary 2003 impact ...  \n",
              "1   every day around globe 2004 environmental repo...  \n",
              "2   2005 environmental report www coca cola com re...  \n",
              "3   2006 corporate responsibility review mark make...  \n",
              "4   act inspire make difference dialogue progress ...  \n",
              "5   coca cola company 2008 2009 sustainability rev...  \n",
              "6   2009 2010 sustainability review commitment mak...  \n",
              "7   2010 2011 sustainability report reason believe...  \n",
              "8   search gri report performance highlight muhtar...  \n",
              "9   2012 2013 gri report table content introductio...  \n",
              "10  innovating sustainable future journey 2013 cor...  \n",
              "11  2014 2015 sustainability report 2014 2015 sust...  \n",
              "12  refresh world make difference 2021 business es...  \n",
              "13  performance purpose pepsico corporate sustaina...  \n",
              "14  overview world continues experience unpreceden...  \n",
              "15  performance purpose creating better tomorrow f...  \n",
              "16  performance purpose investing sustainable grow...  \n",
              "17  performance purpose promise pepsico sustainabi...  \n",
              "18  performance purpose sustainability report 2011...  \n",
              "19  performance purpose sustainability report 2013...  \n",
              "20  performance purpose sustainability report 2014...  \n",
              "21  2021 esg summary information within pdf june 2...  "
            ]
          },
          "execution_count": 68,
          "metadata": {},
          "output_type": "execute_result"
        }
      ],
      "source": [
        "# assign relative directory\n",
        "directory = os.path.join(sys.path[0], \"testdata\\\\csr\") ### INPUT FOLDER HERE ### \"testdata\\\\csr\"\n",
        "print(\"Your input directory is:\", directory)\n",
        "\n",
        "# list files in directory\n",
        "files_in_dir = list_files(directory)\n",
        "# files_in_dir = os.listdir(directory)\n",
        "\n",
        "# count files in directory\n",
        "print(\"Number of files:\",len(files_in_dir))\n",
        "\n",
        "# initialize dataframe to hold documents\n",
        "df = pd.DataFrame(columns=['file'])\n",
        "\n",
        "# iterate over files in the directory\n",
        "misc_files = []\n",
        "i = 0\n",
        "for f in files_in_dir:\n",
        "    if f.lower().endswith('.pdf'):\n",
        "        # print(\"Found pdf,\")\n",
        "        read_pdf(f,i)\n",
        "    elif f.lower().endswith('.txt'):\n",
        "        # print(\"Found txt,\")\n",
        "        read_txt(f,i)\n",
        "    # elif f.lower().endswith('desktop.ini'):\n",
        "    #     print(\"Hmm...\")\n",
        "    else:\n",
        "        print(\"Found something else.\")\n",
        "        misc_files.append(f)\n",
        "    i = i + 1\n",
        "\n",
        "if len(misc_files) > 0:\n",
        "    print(\"Warning, some files with dubious extensions were found but not parsed:\", print(misc_files))\n",
        "else:\n",
        "    print(\"All files read in.\")\n",
        "\n",
        "# tokenize contents\n",
        "print(\"Tokenizing data...\")\n",
        "df['tokenized'] = df.contents.copy().apply(lambda x: nltk.word_tokenize(x))\n",
        "\n",
        "# count words/tokens\n",
        "print(\"Counting words...\")\n",
        "df['tokens'] = df.tokenized.copy().apply(lambda x: len(x))\n",
        "\n",
        "# drop empty rows\n",
        "print(df.shape[0], \"documents, dropping empty ones if any...\")\n",
        "df = df[df['tokens'] > 0]\n",
        "print(df.shape[0], \"remaining.\")\n",
        "\n",
        "# set stopwords from nltk\n",
        "stop = set(stopwords.words('english'))\n",
        "\n",
        "# remove stopwords\n",
        "print(\"Removing stopwords...\")\n",
        "df['without_stopwords'] = df['tokenized'].copy().apply(lambda x: ' '.join([word for word in x if word not in (stop)]))\n",
        "\n",
        "# define lemmatizer module from nltk\n",
        "lemmatizer = WordNetLemmatizer()\n",
        "\n",
        "# lemmatize\n",
        "print(\"Lemmatizing data...\")\n",
        "df['lemmatized'] = df['without_stopwords'].copy().apply(lambda x: ' '.join([lemmatizer.lemmatize(word) for word in x.split()]))\n",
        "\n",
        "# reorder columns\n",
        "# df = df[['file', 'source', 'year', 'tokens', 'contents', 'tokenized', 'without_stopwords', 'lemmatized',]]\n",
        "\n",
        "# # drop unnecessary rows\n",
        "df = df.drop(columns=['tokenized','without_stopwords'])\n",
        "\n",
        "# drop addenda reports (optional)\n",
        "no_of_addenda = len(df[df['file'].str.contains(\"add\")])\n",
        "print(\"Found\", no_of_addenda, \"addenda, dropping it.\")\n",
        "df = df[df['file'].str.contains(\"add\") == False]\n",
        "df.reset_index(inplace=True, drop=True)\n",
        "\n",
        "# export\n",
        "print(\"Exporting...\")\n",
        "df.to_csv(\"parsed_documents.csv\")\n",
        "\n",
        "# done\n",
        "print(\"All done, no errors.\")\n",
        "df"
      ]
    },
    {
      "cell_type": "markdown",
      "metadata": {
        "id": "gy8vIlbCwQyQ"
      },
      "source": [
        "## TF-IDF\n",
        "\n",
        "The following block of code will read the dataframe of the parsed documents (imported from a previously saved `csv`), and we define the dataset to capture **tf-idf** (term frequency–inverse document frequency) scores of terms (unigrams, bigrams, trigrams, etc.) throughout the documents. Then, we should give list of the target terms we are looking for in the set of documents, in this example I am going to focus on ['diversity', 'equity', 'inclusion']. \n",
        "\n",
        ">Note: If you use the lemmatized contents, don't forget to search for singular terms instead of plural (e.g. 'human right' instead of 'human rights').\n",
        "\n",
        "You can also add additional \"stopwords\", words you want the vectorizer to ignore. \n",
        "We calculate the tf-idf scores for unigrams by iterating through every document and join the outputs together to get a dataframe that contains the scores of every document for the specific terms we are looking for. \n",
        "\n",
        ">Note that you can change the ngram range in line 14!\n",
        "\n",
        "Here we could also look at the top most \"important/salient\" terms in a specific document, relative to all the other documents in the corpus."
      ]
    },
    {
      "cell_type": "markdown",
      "metadata": {},
      "source": [
        "### Solution 1\n",
        "\n",
        "Obtain a simple set of scores on target terms that are easy to plot and manipulate."
      ]
    },
    {
      "cell_type": "code",
      "execution_count": 69,
      "metadata": {},
      "outputs": [
        {
          "name": "stdout",
          "output_type": "stream",
          "text": [
            "Working on #0, cocacola_2003_csr\n",
            "Working on #1, cocacola_2004_csr\n",
            "Working on #2, cocacola_2005_csr\n",
            "Working on #3, cocacola_2006_csr\n",
            "Working on #4, cocacola_20072008_csr\n",
            "Working on #5, cocacola_20082009_csr\n",
            "Working on #6, cocacola_20092010_csr\n",
            "Working on #7, cocacola_20102011_csr\n",
            "Working on #8, cocacola_20112012_csr\n",
            "Working on #9, cocacola_20122013_csr\n",
            "Working on #10, cocacola_20132014_csr\n",
            "Working on #11, cocacola_20142015_csr\n",
            "Working on #12, cocacola_2021_csr\n",
            "Working on #13, pepsico_2006_csr\n",
            "Working on #14, pepsico_2007_csr\n",
            "Working on #15, pepsico_2008_csr\n",
            "Working on #16, pepsico_2009_csr\n",
            "Working on #17, pepsico_2010_csr\n",
            "Working on #18, pepsico_20112012_csr\n",
            "Working on #19, pepsico_2013_csr\n",
            "Working on #20, pepsico_2014_csr\n",
            "Working on #21, pepsico_2021_csr\n"
          ]
        },
        {
          "data": {
            "text/html": [
              "<div>\n",
              "<style scoped>\n",
              "    .dataframe tbody tr th:only-of-type {\n",
              "        vertical-align: middle;\n",
              "    }\n",
              "\n",
              "    .dataframe tbody tr th {\n",
              "        vertical-align: top;\n",
              "    }\n",
              "\n",
              "    .dataframe thead th {\n",
              "        text-align: right;\n",
              "    }\n",
              "</style>\n",
              "<table border=\"1\" class=\"dataframe\">\n",
              "  <thead>\n",
              "    <tr style=\"text-align: right;\">\n",
              "      <th></th>\n",
              "      <th>term</th>\n",
              "      <th>cocacola_2003_csr</th>\n",
              "      <th>cocacola_2004_csr</th>\n",
              "      <th>cocacola_2005_csr</th>\n",
              "      <th>cocacola_2006_csr</th>\n",
              "      <th>cocacola_20072008_csr</th>\n",
              "      <th>cocacola_20082009_csr</th>\n",
              "      <th>cocacola_20092010_csr</th>\n",
              "      <th>cocacola_20102011_csr</th>\n",
              "      <th>cocacola_20112012_csr</th>\n",
              "      <th>...</th>\n",
              "      <th>cocacola_2021_csr</th>\n",
              "      <th>pepsico_2006_csr</th>\n",
              "      <th>pepsico_2007_csr</th>\n",
              "      <th>pepsico_2008_csr</th>\n",
              "      <th>pepsico_2009_csr</th>\n",
              "      <th>pepsico_2010_csr</th>\n",
              "      <th>pepsico_20112012_csr</th>\n",
              "      <th>pepsico_2013_csr</th>\n",
              "      <th>pepsico_2014_csr</th>\n",
              "      <th>pepsico_2021_csr</th>\n",
              "    </tr>\n",
              "  </thead>\n",
              "  <tbody>\n",
              "    <tr>\n",
              "      <th>0</th>\n",
              "      <td>inclusion</td>\n",
              "      <td>0.002931</td>\n",
              "      <td>0.000000</td>\n",
              "      <td>0.0</td>\n",
              "      <td>0.000000</td>\n",
              "      <td>0.000000</td>\n",
              "      <td>0.003606</td>\n",
              "      <td>0.00182</td>\n",
              "      <td>0.003634</td>\n",
              "      <td>0.0</td>\n",
              "      <td>...</td>\n",
              "      <td>0.019135</td>\n",
              "      <td>0.036052</td>\n",
              "      <td>0.035600</td>\n",
              "      <td>0.030995</td>\n",
              "      <td>0.062224</td>\n",
              "      <td>0.018388</td>\n",
              "      <td>0.012480</td>\n",
              "      <td>0.008323</td>\n",
              "      <td>0.008568</td>\n",
              "      <td>0.014433</td>\n",
              "    </tr>\n",
              "    <tr>\n",
              "      <th>1</th>\n",
              "      <td>equity</td>\n",
              "      <td>0.000000</td>\n",
              "      <td>0.000000</td>\n",
              "      <td>0.0</td>\n",
              "      <td>0.014303</td>\n",
              "      <td>0.003990</td>\n",
              "      <td>0.000000</td>\n",
              "      <td>0.00000</td>\n",
              "      <td>0.000000</td>\n",
              "      <td>0.0</td>\n",
              "      <td>...</td>\n",
              "      <td>0.034988</td>\n",
              "      <td>0.003773</td>\n",
              "      <td>0.001966</td>\n",
              "      <td>0.002417</td>\n",
              "      <td>0.003928</td>\n",
              "      <td>0.004875</td>\n",
              "      <td>0.000000</td>\n",
              "      <td>0.000000</td>\n",
              "      <td>0.000000</td>\n",
              "      <td>0.025510</td>\n",
              "    </tr>\n",
              "    <tr>\n",
              "      <th>2</th>\n",
              "      <td>diversity</td>\n",
              "      <td>0.000000</td>\n",
              "      <td>0.001944</td>\n",
              "      <td>0.0</td>\n",
              "      <td>0.017284</td>\n",
              "      <td>0.049597</td>\n",
              "      <td>0.023109</td>\n",
              "      <td>0.01999</td>\n",
              "      <td>0.011089</td>\n",
              "      <td>0.0</td>\n",
              "      <td>...</td>\n",
              "      <td>0.022348</td>\n",
              "      <td>0.044291</td>\n",
              "      <td>0.039377</td>\n",
              "      <td>0.033379</td>\n",
              "      <td>0.062384</td>\n",
              "      <td>0.026931</td>\n",
              "      <td>0.018279</td>\n",
              "      <td>0.030475</td>\n",
              "      <td>0.023530</td>\n",
              "      <td>0.011010</td>\n",
              "    </tr>\n",
              "  </tbody>\n",
              "</table>\n",
              "<p>3 rows × 23 columns</p>\n",
              "</div>"
            ],
            "text/plain": [
              "        term  cocacola_2003_csr  cocacola_2004_csr  cocacola_2005_csr  \\\n",
              "0  inclusion           0.002931           0.000000                0.0   \n",
              "1     equity           0.000000           0.000000                0.0   \n",
              "2  diversity           0.000000           0.001944                0.0   \n",
              "\n",
              "   cocacola_2006_csr  cocacola_20072008_csr  cocacola_20082009_csr  \\\n",
              "0           0.000000               0.000000               0.003606   \n",
              "1           0.014303               0.003990               0.000000   \n",
              "2           0.017284               0.049597               0.023109   \n",
              "\n",
              "   cocacola_20092010_csr  cocacola_20102011_csr  cocacola_20112012_csr  ...  \\\n",
              "0                0.00182               0.003634                    0.0  ...   \n",
              "1                0.00000               0.000000                    0.0  ...   \n",
              "2                0.01999               0.011089                    0.0  ...   \n",
              "\n",
              "   cocacola_2021_csr  pepsico_2006_csr  pepsico_2007_csr  pepsico_2008_csr  \\\n",
              "0           0.019135          0.036052          0.035600          0.030995   \n",
              "1           0.034988          0.003773          0.001966          0.002417   \n",
              "2           0.022348          0.044291          0.039377          0.033379   \n",
              "\n",
              "   pepsico_2009_csr  pepsico_2010_csr  pepsico_20112012_csr  pepsico_2013_csr  \\\n",
              "0          0.062224          0.018388              0.012480          0.008323   \n",
              "1          0.003928          0.004875              0.000000          0.000000   \n",
              "2          0.062384          0.026931              0.018279          0.030475   \n",
              "\n",
              "   pepsico_2014_csr  pepsico_2021_csr  \n",
              "0          0.008568          0.014433  \n",
              "1          0.000000          0.025510  \n",
              "2          0.023530          0.011010  \n",
              "\n",
              "[3 rows x 23 columns]"
            ]
          },
          "execution_count": 69,
          "metadata": {},
          "output_type": "execute_result"
        }
      ],
      "source": [
        "# load in preprocessed data\n",
        "df = pd.read_csv(\"parsed_documents.csv\", index_col=0)\n",
        "\n",
        "# define the dataset as a list of document contents (text)\n",
        "dataset = df['lemmatized'].tolist()\n",
        "\n",
        "# define a list of target terms (keywords and phrases) to filter for later\n",
        "filter = ['diversity', 'equity', 'inclusion']\n",
        "\n",
        "# manually add to the list of stopwords if needed\n",
        "custom_stop_words = text.ENGLISH_STOP_WORDS.union([\"\"])\n",
        "\n",
        "# set vectorizer\n",
        "tfIdfVectorizer=TfidfVectorizer(use_idf=True, ngram_range=(1,1), stop_words=custom_stop_words)\n",
        "\n",
        "# turn text into tf-idf vectors\n",
        "tfIdf = tfIdfVectorizer.fit_transform(dataset)\n",
        "\n",
        "# correlation matrix (for later)\n",
        "corr_matrix = ((tfIdf * tfIdf.T).A)\n",
        "\n",
        "# list of filenames and their no.\n",
        "filenames = df['file'].tolist()\n",
        "filenames = [re.sub(\"\\.\\w+\", '', i) for i in filenames]\n",
        "no_of_files = len(filenames)\n",
        "\n",
        "# initialize dataframe to hold tfidf scores\n",
        "df_all_scores = pd.DataFrame(columns=['term'])\n",
        "df_filtered_scores = pd.DataFrame(columns=['term'])\n",
        "\n",
        "# loop through all documents and get scores for each term term\n",
        "for i in range(no_of_files):\n",
        "    # get tf-idf scores for words/phrases\n",
        "    print(\"Working on #\" + str(i) + \",\", filenames[i])\n",
        "    df_scores = pd.DataFrame(tfIdf[i].T.todense(), index=tfIdfVectorizer.get_feature_names_out(), columns=[filenames[i]])\n",
        "\n",
        "    # sort values according to score\n",
        "    df_scores = df_scores.sort_values(filenames[i], ascending=False)\n",
        "\n",
        "    # reset index and rename it term\n",
        "    df_scores.reset_index(inplace=True)\n",
        "    df_scores.rename(columns = {'index':'term'}, inplace = True)\n",
        "\n",
        "    # merge all tfidf scores\n",
        "    # df_all_scores = pd.merge(df_all_scores, df_scores.head(100), how='outer', on = 'term')\n",
        "    # df.fillna(0.0)\n",
        "\n",
        "    # filter for manual selection \n",
        "    df_filtered = df_scores[df_scores['term'].isin(filter)]\n",
        "\n",
        "    # merge new tfidf scores with the rest\n",
        "    df_filtered_scores = pd.merge(df_filtered_scores, df_filtered, how='outer', on = 'term')\n",
        "\n",
        "# export\n",
        "df_filtered_scores.to_csv(\"tfidf.csv\")\n",
        "\n",
        "df_filtered_scores"
      ]
    },
    {
      "cell_type": "markdown",
      "metadata": {},
      "source": [
        "#### Plot\n",
        "\n",
        "The following cell creates a plot using the [plotly](https://plotly.com/python/) Python visualization library. Before the actual plot, you can customize what you want to see."
      ]
    },
    {
      "cell_type": "code",
      "execution_count": 70,
      "metadata": {},
      "outputs": [
        {
          "data": {
            "application/vnd.plotly.v1+json": {
              "config": {
                "plotlyServerURL": "https://plot.ly"
              },
              "data": [
                {
                  "alignmentgroup": "True",
                  "hovertemplate": "term=inclusion<br>index=%{x}<br>value=%{y}<extra></extra>",
                  "legendgroup": "inclusion",
                  "marker": {
                    "color": "#636efa",
                    "pattern": {
                      "shape": ""
                    }
                  },
                  "name": "inclusion",
                  "offsetgroup": "inclusion",
                  "orientation": "v",
                  "showlegend": true,
                  "textposition": "auto",
                  "type": "bar",
                  "x": [
                    "cocacola_2003_csr",
                    "cocacola_2004_csr",
                    "cocacola_2005_csr",
                    "cocacola_2006_csr",
                    "cocacola_20072008_csr",
                    "cocacola_20082009_csr",
                    "cocacola_20092010_csr",
                    "cocacola_20102011_csr",
                    "cocacola_20112012_csr",
                    "cocacola_20122013_csr",
                    "cocacola_20132014_csr",
                    "cocacola_20142015_csr",
                    "cocacola_2021_csr",
                    "pepsico_2006_csr",
                    "pepsico_2007_csr",
                    "pepsico_2008_csr",
                    "pepsico_2009_csr",
                    "pepsico_2010_csr",
                    "pepsico_20112012_csr",
                    "pepsico_2013_csr",
                    "pepsico_2014_csr",
                    "pepsico_2021_csr"
                  ],
                  "xaxis": "x",
                  "y": [
                    0.0029307492192108,
                    0,
                    0,
                    0,
                    0,
                    0.0036064985571111,
                    0.0018198051209857,
                    0.0036343782291777,
                    0,
                    0.0062649999659259,
                    0.0147217195344783,
                    0.0066537193171498,
                    0.0191351765764166,
                    0.0360521140890575,
                    0.0356003402887979,
                    0.0309949931936516,
                    0.0622244271543557,
                    0.0183878825470332,
                    0.0124804753603853,
                    0.0083229863155191,
                    0.0085683725196691,
                    0.0144328505226263
                  ],
                  "yaxis": "y"
                },
                {
                  "alignmentgroup": "True",
                  "hovertemplate": "term=equity<br>index=%{x}<br>value=%{y}<extra></extra>",
                  "legendgroup": "equity",
                  "marker": {
                    "color": "#EF553B",
                    "pattern": {
                      "shape": ""
                    }
                  },
                  "name": "equity",
                  "offsetgroup": "equity",
                  "orientation": "v",
                  "showlegend": true,
                  "textposition": "auto",
                  "type": "bar",
                  "x": [
                    "cocacola_2003_csr",
                    "cocacola_2004_csr",
                    "cocacola_2005_csr",
                    "cocacola_2006_csr",
                    "cocacola_20072008_csr",
                    "cocacola_20082009_csr",
                    "cocacola_20092010_csr",
                    "cocacola_20102011_csr",
                    "cocacola_20112012_csr",
                    "cocacola_20122013_csr",
                    "cocacola_20132014_csr",
                    "cocacola_20142015_csr",
                    "cocacola_2021_csr",
                    "pepsico_2006_csr",
                    "pepsico_2007_csr",
                    "pepsico_2008_csr",
                    "pepsico_2009_csr",
                    "pepsico_2010_csr",
                    "pepsico_20112012_csr",
                    "pepsico_2013_csr",
                    "pepsico_2014_csr",
                    "pepsico_2021_csr"
                  ],
                  "xaxis": "x",
                  "y": [
                    0,
                    0,
                    0,
                    0.0143027653471938,
                    0.0039903072404925,
                    0,
                    0,
                    0,
                    0,
                    0.001186450259676,
                    0,
                    0.0014700758015976,
                    0.0349881492452527,
                    0.0037730703048049,
                    0.0019663888831435,
                    0.002416958128378,
                    0.0039279695747275,
                    0.0048751526573128,
                    0,
                    0,
                    0,
                    0.0255104049811082
                  ],
                  "yaxis": "y"
                },
                {
                  "alignmentgroup": "True",
                  "hovertemplate": "term=diversity<br>index=%{x}<br>value=%{y}<extra></extra>",
                  "legendgroup": "diversity",
                  "marker": {
                    "color": "#00cc96",
                    "pattern": {
                      "shape": ""
                    }
                  },
                  "name": "diversity",
                  "offsetgroup": "diversity",
                  "orientation": "v",
                  "showlegend": true,
                  "textposition": "auto",
                  "type": "bar",
                  "x": [
                    "cocacola_2003_csr",
                    "cocacola_2004_csr",
                    "cocacola_2005_csr",
                    "cocacola_2006_csr",
                    "cocacola_20072008_csr",
                    "cocacola_20082009_csr",
                    "cocacola_20092010_csr",
                    "cocacola_20102011_csr",
                    "cocacola_20112012_csr",
                    "cocacola_20122013_csr",
                    "cocacola_20132014_csr",
                    "cocacola_20142015_csr",
                    "cocacola_2021_csr",
                    "pepsico_2006_csr",
                    "pepsico_2007_csr",
                    "pepsico_2008_csr",
                    "pepsico_2009_csr",
                    "pepsico_2010_csr",
                    "pepsico_20112012_csr",
                    "pepsico_2013_csr",
                    "pepsico_2014_csr",
                    "pepsico_2021_csr"
                  ],
                  "xaxis": "x",
                  "y": [
                    0,
                    0.0019435764811098,
                    0,
                    0.0172835776233543,
                    0.0495968875805488,
                    0.023109251960518,
                    0.019989789175105,
                    0.0110894741399105,
                    0,
                    0.0196623924266384,
                    0.0449199609336066,
                    0.0142116121532334,
                    0.0223479805796232,
                    0.0442913992981283,
                    0.0393770330686139,
                    0.0333791062958246,
                    0.0623837580326722,
                    0.0269310811546443,
                    0.0182790320701339,
                    0.0304748275581636,
                    0.0235299865720195,
                    0.0110096357989734
                  ],
                  "yaxis": "y"
                }
              ],
              "layout": {
                "barmode": "relative",
                "legend": {
                  "title": {
                    "text": "term"
                  },
                  "tracegroupgap": 0
                },
                "margin": {
                  "t": 60
                },
                "template": {
                  "data": {
                    "bar": [
                      {
                        "error_x": {
                          "color": "#2a3f5f"
                        },
                        "error_y": {
                          "color": "#2a3f5f"
                        },
                        "marker": {
                          "line": {
                            "color": "#E5ECF6",
                            "width": 0.5
                          },
                          "pattern": {
                            "fillmode": "overlay",
                            "size": 10,
                            "solidity": 0.2
                          }
                        },
                        "type": "bar"
                      }
                    ],
                    "barpolar": [
                      {
                        "marker": {
                          "line": {
                            "color": "#E5ECF6",
                            "width": 0.5
                          },
                          "pattern": {
                            "fillmode": "overlay",
                            "size": 10,
                            "solidity": 0.2
                          }
                        },
                        "type": "barpolar"
                      }
                    ],
                    "carpet": [
                      {
                        "aaxis": {
                          "endlinecolor": "#2a3f5f",
                          "gridcolor": "white",
                          "linecolor": "white",
                          "minorgridcolor": "white",
                          "startlinecolor": "#2a3f5f"
                        },
                        "baxis": {
                          "endlinecolor": "#2a3f5f",
                          "gridcolor": "white",
                          "linecolor": "white",
                          "minorgridcolor": "white",
                          "startlinecolor": "#2a3f5f"
                        },
                        "type": "carpet"
                      }
                    ],
                    "choropleth": [
                      {
                        "colorbar": {
                          "outlinewidth": 0,
                          "ticks": ""
                        },
                        "type": "choropleth"
                      }
                    ],
                    "contour": [
                      {
                        "colorbar": {
                          "outlinewidth": 0,
                          "ticks": ""
                        },
                        "colorscale": [
                          [
                            0,
                            "#0d0887"
                          ],
                          [
                            0.1111111111111111,
                            "#46039f"
                          ],
                          [
                            0.2222222222222222,
                            "#7201a8"
                          ],
                          [
                            0.3333333333333333,
                            "#9c179e"
                          ],
                          [
                            0.4444444444444444,
                            "#bd3786"
                          ],
                          [
                            0.5555555555555556,
                            "#d8576b"
                          ],
                          [
                            0.6666666666666666,
                            "#ed7953"
                          ],
                          [
                            0.7777777777777778,
                            "#fb9f3a"
                          ],
                          [
                            0.8888888888888888,
                            "#fdca26"
                          ],
                          [
                            1,
                            "#f0f921"
                          ]
                        ],
                        "type": "contour"
                      }
                    ],
                    "contourcarpet": [
                      {
                        "colorbar": {
                          "outlinewidth": 0,
                          "ticks": ""
                        },
                        "type": "contourcarpet"
                      }
                    ],
                    "heatmap": [
                      {
                        "colorbar": {
                          "outlinewidth": 0,
                          "ticks": ""
                        },
                        "colorscale": [
                          [
                            0,
                            "#0d0887"
                          ],
                          [
                            0.1111111111111111,
                            "#46039f"
                          ],
                          [
                            0.2222222222222222,
                            "#7201a8"
                          ],
                          [
                            0.3333333333333333,
                            "#9c179e"
                          ],
                          [
                            0.4444444444444444,
                            "#bd3786"
                          ],
                          [
                            0.5555555555555556,
                            "#d8576b"
                          ],
                          [
                            0.6666666666666666,
                            "#ed7953"
                          ],
                          [
                            0.7777777777777778,
                            "#fb9f3a"
                          ],
                          [
                            0.8888888888888888,
                            "#fdca26"
                          ],
                          [
                            1,
                            "#f0f921"
                          ]
                        ],
                        "type": "heatmap"
                      }
                    ],
                    "heatmapgl": [
                      {
                        "colorbar": {
                          "outlinewidth": 0,
                          "ticks": ""
                        },
                        "colorscale": [
                          [
                            0,
                            "#0d0887"
                          ],
                          [
                            0.1111111111111111,
                            "#46039f"
                          ],
                          [
                            0.2222222222222222,
                            "#7201a8"
                          ],
                          [
                            0.3333333333333333,
                            "#9c179e"
                          ],
                          [
                            0.4444444444444444,
                            "#bd3786"
                          ],
                          [
                            0.5555555555555556,
                            "#d8576b"
                          ],
                          [
                            0.6666666666666666,
                            "#ed7953"
                          ],
                          [
                            0.7777777777777778,
                            "#fb9f3a"
                          ],
                          [
                            0.8888888888888888,
                            "#fdca26"
                          ],
                          [
                            1,
                            "#f0f921"
                          ]
                        ],
                        "type": "heatmapgl"
                      }
                    ],
                    "histogram": [
                      {
                        "marker": {
                          "pattern": {
                            "fillmode": "overlay",
                            "size": 10,
                            "solidity": 0.2
                          }
                        },
                        "type": "histogram"
                      }
                    ],
                    "histogram2d": [
                      {
                        "colorbar": {
                          "outlinewidth": 0,
                          "ticks": ""
                        },
                        "colorscale": [
                          [
                            0,
                            "#0d0887"
                          ],
                          [
                            0.1111111111111111,
                            "#46039f"
                          ],
                          [
                            0.2222222222222222,
                            "#7201a8"
                          ],
                          [
                            0.3333333333333333,
                            "#9c179e"
                          ],
                          [
                            0.4444444444444444,
                            "#bd3786"
                          ],
                          [
                            0.5555555555555556,
                            "#d8576b"
                          ],
                          [
                            0.6666666666666666,
                            "#ed7953"
                          ],
                          [
                            0.7777777777777778,
                            "#fb9f3a"
                          ],
                          [
                            0.8888888888888888,
                            "#fdca26"
                          ],
                          [
                            1,
                            "#f0f921"
                          ]
                        ],
                        "type": "histogram2d"
                      }
                    ],
                    "histogram2dcontour": [
                      {
                        "colorbar": {
                          "outlinewidth": 0,
                          "ticks": ""
                        },
                        "colorscale": [
                          [
                            0,
                            "#0d0887"
                          ],
                          [
                            0.1111111111111111,
                            "#46039f"
                          ],
                          [
                            0.2222222222222222,
                            "#7201a8"
                          ],
                          [
                            0.3333333333333333,
                            "#9c179e"
                          ],
                          [
                            0.4444444444444444,
                            "#bd3786"
                          ],
                          [
                            0.5555555555555556,
                            "#d8576b"
                          ],
                          [
                            0.6666666666666666,
                            "#ed7953"
                          ],
                          [
                            0.7777777777777778,
                            "#fb9f3a"
                          ],
                          [
                            0.8888888888888888,
                            "#fdca26"
                          ],
                          [
                            1,
                            "#f0f921"
                          ]
                        ],
                        "type": "histogram2dcontour"
                      }
                    ],
                    "mesh3d": [
                      {
                        "colorbar": {
                          "outlinewidth": 0,
                          "ticks": ""
                        },
                        "type": "mesh3d"
                      }
                    ],
                    "parcoords": [
                      {
                        "line": {
                          "colorbar": {
                            "outlinewidth": 0,
                            "ticks": ""
                          }
                        },
                        "type": "parcoords"
                      }
                    ],
                    "pie": [
                      {
                        "automargin": true,
                        "type": "pie"
                      }
                    ],
                    "scatter": [
                      {
                        "fillpattern": {
                          "fillmode": "overlay",
                          "size": 10,
                          "solidity": 0.2
                        },
                        "type": "scatter"
                      }
                    ],
                    "scatter3d": [
                      {
                        "line": {
                          "colorbar": {
                            "outlinewidth": 0,
                            "ticks": ""
                          }
                        },
                        "marker": {
                          "colorbar": {
                            "outlinewidth": 0,
                            "ticks": ""
                          }
                        },
                        "type": "scatter3d"
                      }
                    ],
                    "scattercarpet": [
                      {
                        "marker": {
                          "colorbar": {
                            "outlinewidth": 0,
                            "ticks": ""
                          }
                        },
                        "type": "scattercarpet"
                      }
                    ],
                    "scattergeo": [
                      {
                        "marker": {
                          "colorbar": {
                            "outlinewidth": 0,
                            "ticks": ""
                          }
                        },
                        "type": "scattergeo"
                      }
                    ],
                    "scattergl": [
                      {
                        "marker": {
                          "colorbar": {
                            "outlinewidth": 0,
                            "ticks": ""
                          }
                        },
                        "type": "scattergl"
                      }
                    ],
                    "scattermapbox": [
                      {
                        "marker": {
                          "colorbar": {
                            "outlinewidth": 0,
                            "ticks": ""
                          }
                        },
                        "type": "scattermapbox"
                      }
                    ],
                    "scatterpolar": [
                      {
                        "marker": {
                          "colorbar": {
                            "outlinewidth": 0,
                            "ticks": ""
                          }
                        },
                        "type": "scatterpolar"
                      }
                    ],
                    "scatterpolargl": [
                      {
                        "marker": {
                          "colorbar": {
                            "outlinewidth": 0,
                            "ticks": ""
                          }
                        },
                        "type": "scatterpolargl"
                      }
                    ],
                    "scatterternary": [
                      {
                        "marker": {
                          "colorbar": {
                            "outlinewidth": 0,
                            "ticks": ""
                          }
                        },
                        "type": "scatterternary"
                      }
                    ],
                    "surface": [
                      {
                        "colorbar": {
                          "outlinewidth": 0,
                          "ticks": ""
                        },
                        "colorscale": [
                          [
                            0,
                            "#0d0887"
                          ],
                          [
                            0.1111111111111111,
                            "#46039f"
                          ],
                          [
                            0.2222222222222222,
                            "#7201a8"
                          ],
                          [
                            0.3333333333333333,
                            "#9c179e"
                          ],
                          [
                            0.4444444444444444,
                            "#bd3786"
                          ],
                          [
                            0.5555555555555556,
                            "#d8576b"
                          ],
                          [
                            0.6666666666666666,
                            "#ed7953"
                          ],
                          [
                            0.7777777777777778,
                            "#fb9f3a"
                          ],
                          [
                            0.8888888888888888,
                            "#fdca26"
                          ],
                          [
                            1,
                            "#f0f921"
                          ]
                        ],
                        "type": "surface"
                      }
                    ],
                    "table": [
                      {
                        "cells": {
                          "fill": {
                            "color": "#EBF0F8"
                          },
                          "line": {
                            "color": "white"
                          }
                        },
                        "header": {
                          "fill": {
                            "color": "#C8D4E3"
                          },
                          "line": {
                            "color": "white"
                          }
                        },
                        "type": "table"
                      }
                    ]
                  },
                  "layout": {
                    "annotationdefaults": {
                      "arrowcolor": "#2a3f5f",
                      "arrowhead": 0,
                      "arrowwidth": 1
                    },
                    "autotypenumbers": "strict",
                    "coloraxis": {
                      "colorbar": {
                        "outlinewidth": 0,
                        "ticks": ""
                      }
                    },
                    "colorscale": {
                      "diverging": [
                        [
                          0,
                          "#8e0152"
                        ],
                        [
                          0.1,
                          "#c51b7d"
                        ],
                        [
                          0.2,
                          "#de77ae"
                        ],
                        [
                          0.3,
                          "#f1b6da"
                        ],
                        [
                          0.4,
                          "#fde0ef"
                        ],
                        [
                          0.5,
                          "#f7f7f7"
                        ],
                        [
                          0.6,
                          "#e6f5d0"
                        ],
                        [
                          0.7,
                          "#b8e186"
                        ],
                        [
                          0.8,
                          "#7fbc41"
                        ],
                        [
                          0.9,
                          "#4d9221"
                        ],
                        [
                          1,
                          "#276419"
                        ]
                      ],
                      "sequential": [
                        [
                          0,
                          "#0d0887"
                        ],
                        [
                          0.1111111111111111,
                          "#46039f"
                        ],
                        [
                          0.2222222222222222,
                          "#7201a8"
                        ],
                        [
                          0.3333333333333333,
                          "#9c179e"
                        ],
                        [
                          0.4444444444444444,
                          "#bd3786"
                        ],
                        [
                          0.5555555555555556,
                          "#d8576b"
                        ],
                        [
                          0.6666666666666666,
                          "#ed7953"
                        ],
                        [
                          0.7777777777777778,
                          "#fb9f3a"
                        ],
                        [
                          0.8888888888888888,
                          "#fdca26"
                        ],
                        [
                          1,
                          "#f0f921"
                        ]
                      ],
                      "sequentialminus": [
                        [
                          0,
                          "#0d0887"
                        ],
                        [
                          0.1111111111111111,
                          "#46039f"
                        ],
                        [
                          0.2222222222222222,
                          "#7201a8"
                        ],
                        [
                          0.3333333333333333,
                          "#9c179e"
                        ],
                        [
                          0.4444444444444444,
                          "#bd3786"
                        ],
                        [
                          0.5555555555555556,
                          "#d8576b"
                        ],
                        [
                          0.6666666666666666,
                          "#ed7953"
                        ],
                        [
                          0.7777777777777778,
                          "#fb9f3a"
                        ],
                        [
                          0.8888888888888888,
                          "#fdca26"
                        ],
                        [
                          1,
                          "#f0f921"
                        ]
                      ]
                    },
                    "colorway": [
                      "#636efa",
                      "#EF553B",
                      "#00cc96",
                      "#ab63fa",
                      "#FFA15A",
                      "#19d3f3",
                      "#FF6692",
                      "#B6E880",
                      "#FF97FF",
                      "#FECB52"
                    ],
                    "font": {
                      "color": "#2a3f5f"
                    },
                    "geo": {
                      "bgcolor": "white",
                      "lakecolor": "white",
                      "landcolor": "#E5ECF6",
                      "showlakes": true,
                      "showland": true,
                      "subunitcolor": "white"
                    },
                    "hoverlabel": {
                      "align": "left"
                    },
                    "hovermode": "closest",
                    "mapbox": {
                      "style": "light"
                    },
                    "paper_bgcolor": "white",
                    "plot_bgcolor": "#E5ECF6",
                    "polar": {
                      "angularaxis": {
                        "gridcolor": "white",
                        "linecolor": "white",
                        "ticks": ""
                      },
                      "bgcolor": "#E5ECF6",
                      "radialaxis": {
                        "gridcolor": "white",
                        "linecolor": "white",
                        "ticks": ""
                      }
                    },
                    "scene": {
                      "xaxis": {
                        "backgroundcolor": "#E5ECF6",
                        "gridcolor": "white",
                        "gridwidth": 2,
                        "linecolor": "white",
                        "showbackground": true,
                        "ticks": "",
                        "zerolinecolor": "white"
                      },
                      "yaxis": {
                        "backgroundcolor": "#E5ECF6",
                        "gridcolor": "white",
                        "gridwidth": 2,
                        "linecolor": "white",
                        "showbackground": true,
                        "ticks": "",
                        "zerolinecolor": "white"
                      },
                      "zaxis": {
                        "backgroundcolor": "#E5ECF6",
                        "gridcolor": "white",
                        "gridwidth": 2,
                        "linecolor": "white",
                        "showbackground": true,
                        "ticks": "",
                        "zerolinecolor": "white"
                      }
                    },
                    "shapedefaults": {
                      "line": {
                        "color": "#2a3f5f"
                      }
                    },
                    "ternary": {
                      "aaxis": {
                        "gridcolor": "white",
                        "linecolor": "white",
                        "ticks": ""
                      },
                      "baxis": {
                        "gridcolor": "white",
                        "linecolor": "white",
                        "ticks": ""
                      },
                      "bgcolor": "#E5ECF6",
                      "caxis": {
                        "gridcolor": "white",
                        "linecolor": "white",
                        "ticks": ""
                      }
                    },
                    "title": {
                      "x": 0.05
                    },
                    "xaxis": {
                      "automargin": true,
                      "gridcolor": "white",
                      "linecolor": "white",
                      "ticks": "",
                      "title": {
                        "standoff": 15
                      },
                      "zerolinecolor": "white",
                      "zerolinewidth": 2
                    },
                    "yaxis": {
                      "automargin": true,
                      "gridcolor": "white",
                      "linecolor": "white",
                      "ticks": "",
                      "title": {
                        "standoff": 15
                      },
                      "zerolinecolor": "white",
                      "zerolinewidth": 2
                    }
                  }
                },
                "xaxis": {
                  "anchor": "y",
                  "domain": [
                    0,
                    1
                  ],
                  "title": {
                    "text": "index"
                  }
                },
                "yaxis": {
                  "anchor": "x",
                  "domain": [
                    0,
                    1
                  ],
                  "title": {
                    "text": "value"
                  }
                }
              }
            }
          },
          "metadata": {},
          "output_type": "display_data"
        }
      ],
      "source": [
        "# read in data\n",
        "df_plot = pd.read_csv(\"tfidf.csv\", index_col=0)\n",
        "\n",
        "df_plot = df_plot.set_index('term')\n",
        "\n",
        "# further narrow within filtered terms (optional)\n",
        "# df_plot = df_plot[(df_plot['term'] == 'diversity') | (df_plot['term'] == 'inclusion')]\n",
        "\n",
        "# filter columns to be plotted by searching the column name (e.g. year)\n",
        "# cols1 = [col for col in df_plot.columns if 'hsbc' in col]\n",
        "# cols2 = [col for col in df_plot.columns if 'pepsi' in col]\n",
        "# df_plot = df_plot[cols1]\n",
        "\n",
        "# transpose dataframe\n",
        "df_plot = df_plot.transpose()\n",
        "\n",
        "# try to capture other details from filename (ignore now)\n",
        "# company = []    \n",
        "# for values in df_plot['term']:\n",
        "#     company.append(re.search(r\"(.*)_(\\d+)_?(.*)?\", values).group(1))\n",
        "# df_plot['company'] = company\n",
        "\n",
        "# ######\n",
        "\n",
        "# plot it\n",
        "fig = px.bar(df_plot)#, facet_col=\"term\")\n",
        "fig.show()\n",
        "\n",
        "# export it\n",
        "filename=\"test_plot_1\"\n",
        "fig.write_html(filename + \".html\")"
      ]
    },
    {
      "cell_type": "markdown",
      "metadata": {},
      "source": [
        "### Heatmap of correlation matrix \n",
        "Using the tf-idf metrics"
      ]
    },
    {
      "cell_type": "code",
      "execution_count": 71,
      "metadata": {},
      "outputs": [
        {
          "data": {
            "application/vnd.plotly.v1+json": {
              "config": {
                "plotlyServerURL": "https://plot.ly"
              },
              "data": [
                {
                  "coloraxis": "coloraxis",
                  "hovertemplate": "x: %{x}<br>y: %{y}<br>color: %{z}<extra></extra>",
                  "name": "0",
                  "type": "heatmap",
                  "xaxis": "x",
                  "yaxis": "y",
                  "z": [
                    [
                      1.0000000000000002,
                      0.8587980164088261,
                      0.7501893459633688,
                      0.6197876246689552,
                      0.5761549967613637,
                      0.5869969626719739,
                      0.6127613561438392,
                      0.5761748848485454,
                      0.44931528592031317,
                      0.5729816774027917,
                      0.4625991558370423,
                      0.50981913290506,
                      0.44525390903480827,
                      0.3275287885271623,
                      0.36798501424732,
                      0.3774149611550996,
                      0.33884204673603624,
                      0.3400217078776228,
                      0.2943035739332906,
                      0.29783361769363675,
                      0.31993470050971196,
                      0.22077535089683872
                    ],
                    [
                      0.8587980164088261,
                      0.9999999999999991,
                      0.7757345510396276,
                      0.6852450366529023,
                      0.6582952286802001,
                      0.6523873629342891,
                      0.707647587391353,
                      0.6534074191411925,
                      0.49822426397397934,
                      0.6605369625436378,
                      0.5291177118270148,
                      0.5752803657222672,
                      0.5006442829087634,
                      0.37455270247336525,
                      0.4288901561895788,
                      0.4331385033553206,
                      0.3982274627485903,
                      0.3814941088261806,
                      0.3282241789293065,
                      0.34405884340042414,
                      0.3745797022107153,
                      0.28086090419684817
                    ],
                    [
                      0.7501893459633688,
                      0.7757345510396276,
                      1.0000000000000002,
                      0.620404510470269,
                      0.5599362413375698,
                      0.5775060058045773,
                      0.6033157179329279,
                      0.5644550314953362,
                      0.430032087230458,
                      0.5544873059748707,
                      0.45398905038586085,
                      0.5032518168425126,
                      0.45922267109736964,
                      0.2923677635067368,
                      0.3352809883793747,
                      0.3350526440845197,
                      0.31323871572144996,
                      0.3190811649788134,
                      0.2721380446239481,
                      0.27340500144317903,
                      0.29675323549855265,
                      0.2265892713508936
                    ],
                    [
                      0.6197876246689552,
                      0.6852450366529023,
                      0.620404510470269,
                      1,
                      0.8213282662305893,
                      0.7810254741918776,
                      0.8048147118858353,
                      0.6997096000556776,
                      0.6085493660442864,
                      0.7492644891227825,
                      0.5402796833620752,
                      0.6633576085884567,
                      0.5576986550724585,
                      0.35205445844730515,
                      0.39523068946796597,
                      0.38899972518643217,
                      0.40527988252934355,
                      0.3784562004531645,
                      0.32718250857945064,
                      0.3277343438156058,
                      0.3715510955198236,
                      0.264196505386031
                    ],
                    [
                      0.5761549967613637,
                      0.6582952286802001,
                      0.5599362413375698,
                      0.8213282662305893,
                      0.9999999999999987,
                      0.830752512583577,
                      0.8216253035853059,
                      0.7254708825517588,
                      0.5962734803521469,
                      0.7487987060181979,
                      0.5751136833828255,
                      0.6688314779730654,
                      0.5334458841223904,
                      0.38427599549309066,
                      0.48415002765548626,
                      0.4469894935330668,
                      0.44015172312577744,
                      0.4163563244007137,
                      0.3643719354179827,
                      0.3704111986105061,
                      0.4022931933411596,
                      0.2989808454795659
                    ],
                    [
                      0.5869969626719739,
                      0.6523873629342891,
                      0.5775060058045773,
                      0.7810254741918776,
                      0.830752512583577,
                      1.0000000000000016,
                      0.8834645176135817,
                      0.7262472940722334,
                      0.6511980137557215,
                      0.7454657800055587,
                      0.5793661372836413,
                      0.6850954130151323,
                      0.5480521795094687,
                      0.314601518282268,
                      0.40368038485160784,
                      0.4056592103027381,
                      0.41807661343408775,
                      0.408966415754322,
                      0.33976100978802914,
                      0.338113631492676,
                      0.3773268759119684,
                      0.2683620969549474
                    ],
                    [
                      0.6127613561438392,
                      0.707647587391353,
                      0.6033157179329279,
                      0.8048147118858353,
                      0.8216253035853059,
                      0.8834645176135817,
                      0.9999999999999993,
                      0.8228561393770295,
                      0.6509659268637686,
                      0.8251292120950041,
                      0.6247906329192474,
                      0.7349186035589651,
                      0.5865537791839451,
                      0.37263512236219654,
                      0.4423694676046806,
                      0.44385710651630095,
                      0.49676377168343544,
                      0.4738255263913595,
                      0.39264656052327157,
                      0.39876839625211613,
                      0.44709797458936296,
                      0.33939274969614097
                    ],
                    [
                      0.5761748848485454,
                      0.6534074191411925,
                      0.5644550314953362,
                      0.6997096000556776,
                      0.7254708825517588,
                      0.7262472940722334,
                      0.8228561393770295,
                      0.9999999999999988,
                      0.6269569522169067,
                      0.8238309685002345,
                      0.5984071850624095,
                      0.7158015039774934,
                      0.5362532701607374,
                      0.3810460750961125,
                      0.4603525234464939,
                      0.4616896482348889,
                      0.47862616638470545,
                      0.5137476118507099,
                      0.4614388007483862,
                      0.4407204462601628,
                      0.4719498272840255,
                      0.34673246455782364
                    ],
                    [
                      0.44931528592031317,
                      0.49822426397397934,
                      0.430032087230458,
                      0.6085493660442864,
                      0.5962734803521469,
                      0.6511980137557215,
                      0.6509659268637686,
                      0.6269569522169067,
                      0.9999999999999987,
                      0.6749079111185702,
                      0.4363180573582582,
                      0.5834618230029261,
                      0.46846643309904507,
                      0.22549276912677976,
                      0.27839944419858037,
                      0.2728046820649363,
                      0.3289469891206158,
                      0.334770637687229,
                      0.35245551686731996,
                      0.28500895592892067,
                      0.32177478344850075,
                      0.2158896356380578
                    ],
                    [
                      0.5729816774027917,
                      0.6605369625436378,
                      0.5544873059748707,
                      0.7492644891227825,
                      0.7487987060181979,
                      0.7454657800055587,
                      0.8251292120950041,
                      0.8238309685002345,
                      0.6749079111185702,
                      0.9999999999999996,
                      0.6251310603190054,
                      0.8159024725551989,
                      0.5769530038187871,
                      0.3750248659265492,
                      0.4438536001222521,
                      0.448041332084485,
                      0.47054171765731867,
                      0.4542527980894933,
                      0.47156966733744793,
                      0.45319664051728764,
                      0.4630699000027944,
                      0.3536420591427312
                    ],
                    [
                      0.4625991558370423,
                      0.5291177118270148,
                      0.45398905038586085,
                      0.5402796833620752,
                      0.5751136833828255,
                      0.5793661372836413,
                      0.6247906329192474,
                      0.5984071850624095,
                      0.4363180573582582,
                      0.6251310603190054,
                      0.9999999999999997,
                      0.61995352540598,
                      0.423071707525695,
                      0.3269516337259244,
                      0.4102376568950095,
                      0.397427964557069,
                      0.39369945803769896,
                      0.411872944574555,
                      0.3637193433766361,
                      0.468498361886826,
                      0.45374582295615706,
                      0.29653976329720366
                    ],
                    [
                      0.50981913290506,
                      0.5752803657222672,
                      0.5032518168425126,
                      0.6633576085884567,
                      0.6688314779730654,
                      0.6850954130151323,
                      0.7349186035589651,
                      0.7158015039774934,
                      0.5834618230029261,
                      0.8159024725551989,
                      0.61995352540598,
                      0.9999999999999986,
                      0.525363850736912,
                      0.3275336303196353,
                      0.3907683719237946,
                      0.39555236038767183,
                      0.3995946195744565,
                      0.39810720315878695,
                      0.37643348551433725,
                      0.4089664674450499,
                      0.5584267091541447,
                      0.3134309800762571
                    ],
                    [
                      0.44525390903480827,
                      0.5006442829087634,
                      0.45922267109736964,
                      0.5576986550724585,
                      0.5334458841223904,
                      0.5480521795094687,
                      0.5865537791839451,
                      0.5362532701607374,
                      0.46846643309904507,
                      0.5769530038187871,
                      0.423071707525695,
                      0.525363850736912,
                      0.9999999999999919,
                      0.24914630198608545,
                      0.2870111437022504,
                      0.29220980554955706,
                      0.2955631320049333,
                      0.29892372510980747,
                      0.2612592977886419,
                      0.2743143220537081,
                      0.2951805718020177,
                      0.6574755341113205
                    ],
                    [
                      0.3275287885271623,
                      0.37455270247336525,
                      0.2923677635067368,
                      0.35205445844730515,
                      0.38427599549309066,
                      0.314601518282268,
                      0.37263512236219654,
                      0.3810460750961125,
                      0.22549276912677976,
                      0.3750248659265492,
                      0.3269516337259244,
                      0.3275336303196353,
                      0.24914630198608545,
                      0.9999999999999893,
                      0.9288263248664962,
                      0.9203403679474317,
                      0.7503271294103739,
                      0.7488820867508329,
                      0.7921685228216073,
                      0.8074549120708757,
                      0.7104224543391066,
                      0.2694995119064518
                    ],
                    [
                      0.36798501424732,
                      0.4288901561895788,
                      0.3352809883793747,
                      0.39523068946796597,
                      0.48415002765548626,
                      0.40368038485160784,
                      0.4423694676046806,
                      0.4603525234464939,
                      0.27839944419858037,
                      0.4438536001222521,
                      0.4102376568950095,
                      0.3907683719237946,
                      0.2870111437022504,
                      0.9288263248664962,
                      0.9999999999999828,
                      0.9489263798613423,
                      0.7770812422659754,
                      0.7664356446892564,
                      0.7878924049101587,
                      0.8104515605385656,
                      0.7301836962415011,
                      0.3153432808789265
                    ],
                    [
                      0.3774149611550996,
                      0.4331385033553206,
                      0.3350526440845197,
                      0.38899972518643217,
                      0.4469894935330668,
                      0.4056592103027381,
                      0.44385710651630095,
                      0.4616896482348889,
                      0.2728046820649363,
                      0.448041332084485,
                      0.397427964557069,
                      0.39555236038767183,
                      0.29220980554955706,
                      0.9203403679474317,
                      0.9489263798613423,
                      0.9999999999999852,
                      0.7877320102308356,
                      0.7581988906099401,
                      0.7925959080398228,
                      0.8170048896299258,
                      0.7295029225842629,
                      0.31083044206901844
                    ],
                    [
                      0.33884204673603624,
                      0.3982274627485903,
                      0.31323871572144996,
                      0.40527988252934355,
                      0.44015172312577744,
                      0.41807661343408775,
                      0.49676377168343544,
                      0.47862616638470545,
                      0.3289469891206158,
                      0.47054171765731867,
                      0.39369945803769896,
                      0.3995946195744565,
                      0.2955631320049333,
                      0.7503271294103739,
                      0.7770812422659754,
                      0.7877320102308356,
                      0.9999999999999954,
                      0.7785237008416831,
                      0.7454536427920215,
                      0.7483577728189906,
                      0.7314813438524083,
                      0.36098256673637114
                    ],
                    [
                      0.3400217078776228,
                      0.3814941088261806,
                      0.3190811649788134,
                      0.3784562004531645,
                      0.4163563244007137,
                      0.408966415754322,
                      0.4738255263913595,
                      0.5137476118507099,
                      0.334770637687229,
                      0.4542527980894933,
                      0.411872944574555,
                      0.39810720315878695,
                      0.29892372510980747,
                      0.7488820867508329,
                      0.7664356446892564,
                      0.7581988906099401,
                      0.7785237008416831,
                      0.9999999999999992,
                      0.7562784215039812,
                      0.7446571787008331,
                      0.7090937365275487,
                      0.3691520044604515
                    ],
                    [
                      0.2943035739332906,
                      0.3282241789293065,
                      0.2721380446239481,
                      0.32718250857945064,
                      0.3643719354179827,
                      0.33976100978802914,
                      0.39264656052327157,
                      0.4614388007483862,
                      0.35245551686731996,
                      0.47156966733744793,
                      0.3637193433766361,
                      0.37643348551433725,
                      0.2612592977886419,
                      0.7921685228216073,
                      0.7878924049101587,
                      0.7925959080398228,
                      0.7454536427920215,
                      0.7562784215039812,
                      0.9999999999999891,
                      0.8338143175745557,
                      0.7342613084678826,
                      0.3008894771995897
                    ],
                    [
                      0.29783361769363675,
                      0.34405884340042414,
                      0.27340500144317903,
                      0.3277343438156058,
                      0.3704111986105061,
                      0.338113631492676,
                      0.39876839625211613,
                      0.4407204462601628,
                      0.28500895592892067,
                      0.45319664051728764,
                      0.468498361886826,
                      0.4089664674450499,
                      0.2743143220537081,
                      0.8074549120708757,
                      0.8104515605385656,
                      0.8170048896299258,
                      0.7483577728189906,
                      0.7446571787008331,
                      0.8338143175745557,
                      1.0000000000000049,
                      0.7702507896509255,
                      0.30089721816805726
                    ],
                    [
                      0.31993470050971196,
                      0.3745797022107153,
                      0.29675323549855265,
                      0.3715510955198236,
                      0.4022931933411596,
                      0.3773268759119684,
                      0.44709797458936296,
                      0.4719498272840255,
                      0.32177478344850075,
                      0.4630699000027944,
                      0.45374582295615706,
                      0.5584267091541447,
                      0.2951805718020177,
                      0.7104224543391066,
                      0.7301836962415011,
                      0.7295029225842629,
                      0.7314813438524083,
                      0.7090937365275487,
                      0.7342613084678826,
                      0.7702507896509255,
                      1.0000000000000064,
                      0.34467981124908253
                    ],
                    [
                      0.22077535089683872,
                      0.28086090419684817,
                      0.2265892713508936,
                      0.264196505386031,
                      0.2989808454795659,
                      0.2683620969549474,
                      0.33939274969614097,
                      0.34673246455782364,
                      0.2158896356380578,
                      0.3536420591427312,
                      0.29653976329720366,
                      0.3134309800762571,
                      0.6574755341113205,
                      0.2694995119064518,
                      0.3153432808789265,
                      0.31083044206901844,
                      0.36098256673637114,
                      0.3691520044604515,
                      0.3008894771995897,
                      0.30089721816805726,
                      0.34467981124908253,
                      0.9999999999999888
                    ]
                  ]
                }
              ],
              "layout": {
                "coloraxis": {
                  "colorscale": [
                    [
                      0,
                      "#0d0887"
                    ],
                    [
                      0.1111111111111111,
                      "#46039f"
                    ],
                    [
                      0.2222222222222222,
                      "#7201a8"
                    ],
                    [
                      0.3333333333333333,
                      "#9c179e"
                    ],
                    [
                      0.4444444444444444,
                      "#bd3786"
                    ],
                    [
                      0.5555555555555556,
                      "#d8576b"
                    ],
                    [
                      0.6666666666666666,
                      "#ed7953"
                    ],
                    [
                      0.7777777777777778,
                      "#fb9f3a"
                    ],
                    [
                      0.8888888888888888,
                      "#fdca26"
                    ],
                    [
                      1,
                      "#f0f921"
                    ]
                  ]
                },
                "margin": {
                  "t": 60
                },
                "template": {
                  "data": {
                    "bar": [
                      {
                        "error_x": {
                          "color": "#2a3f5f"
                        },
                        "error_y": {
                          "color": "#2a3f5f"
                        },
                        "marker": {
                          "line": {
                            "color": "#E5ECF6",
                            "width": 0.5
                          },
                          "pattern": {
                            "fillmode": "overlay",
                            "size": 10,
                            "solidity": 0.2
                          }
                        },
                        "type": "bar"
                      }
                    ],
                    "barpolar": [
                      {
                        "marker": {
                          "line": {
                            "color": "#E5ECF6",
                            "width": 0.5
                          },
                          "pattern": {
                            "fillmode": "overlay",
                            "size": 10,
                            "solidity": 0.2
                          }
                        },
                        "type": "barpolar"
                      }
                    ],
                    "carpet": [
                      {
                        "aaxis": {
                          "endlinecolor": "#2a3f5f",
                          "gridcolor": "white",
                          "linecolor": "white",
                          "minorgridcolor": "white",
                          "startlinecolor": "#2a3f5f"
                        },
                        "baxis": {
                          "endlinecolor": "#2a3f5f",
                          "gridcolor": "white",
                          "linecolor": "white",
                          "minorgridcolor": "white",
                          "startlinecolor": "#2a3f5f"
                        },
                        "type": "carpet"
                      }
                    ],
                    "choropleth": [
                      {
                        "colorbar": {
                          "outlinewidth": 0,
                          "ticks": ""
                        },
                        "type": "choropleth"
                      }
                    ],
                    "contour": [
                      {
                        "colorbar": {
                          "outlinewidth": 0,
                          "ticks": ""
                        },
                        "colorscale": [
                          [
                            0,
                            "#0d0887"
                          ],
                          [
                            0.1111111111111111,
                            "#46039f"
                          ],
                          [
                            0.2222222222222222,
                            "#7201a8"
                          ],
                          [
                            0.3333333333333333,
                            "#9c179e"
                          ],
                          [
                            0.4444444444444444,
                            "#bd3786"
                          ],
                          [
                            0.5555555555555556,
                            "#d8576b"
                          ],
                          [
                            0.6666666666666666,
                            "#ed7953"
                          ],
                          [
                            0.7777777777777778,
                            "#fb9f3a"
                          ],
                          [
                            0.8888888888888888,
                            "#fdca26"
                          ],
                          [
                            1,
                            "#f0f921"
                          ]
                        ],
                        "type": "contour"
                      }
                    ],
                    "contourcarpet": [
                      {
                        "colorbar": {
                          "outlinewidth": 0,
                          "ticks": ""
                        },
                        "type": "contourcarpet"
                      }
                    ],
                    "heatmap": [
                      {
                        "colorbar": {
                          "outlinewidth": 0,
                          "ticks": ""
                        },
                        "colorscale": [
                          [
                            0,
                            "#0d0887"
                          ],
                          [
                            0.1111111111111111,
                            "#46039f"
                          ],
                          [
                            0.2222222222222222,
                            "#7201a8"
                          ],
                          [
                            0.3333333333333333,
                            "#9c179e"
                          ],
                          [
                            0.4444444444444444,
                            "#bd3786"
                          ],
                          [
                            0.5555555555555556,
                            "#d8576b"
                          ],
                          [
                            0.6666666666666666,
                            "#ed7953"
                          ],
                          [
                            0.7777777777777778,
                            "#fb9f3a"
                          ],
                          [
                            0.8888888888888888,
                            "#fdca26"
                          ],
                          [
                            1,
                            "#f0f921"
                          ]
                        ],
                        "type": "heatmap"
                      }
                    ],
                    "heatmapgl": [
                      {
                        "colorbar": {
                          "outlinewidth": 0,
                          "ticks": ""
                        },
                        "colorscale": [
                          [
                            0,
                            "#0d0887"
                          ],
                          [
                            0.1111111111111111,
                            "#46039f"
                          ],
                          [
                            0.2222222222222222,
                            "#7201a8"
                          ],
                          [
                            0.3333333333333333,
                            "#9c179e"
                          ],
                          [
                            0.4444444444444444,
                            "#bd3786"
                          ],
                          [
                            0.5555555555555556,
                            "#d8576b"
                          ],
                          [
                            0.6666666666666666,
                            "#ed7953"
                          ],
                          [
                            0.7777777777777778,
                            "#fb9f3a"
                          ],
                          [
                            0.8888888888888888,
                            "#fdca26"
                          ],
                          [
                            1,
                            "#f0f921"
                          ]
                        ],
                        "type": "heatmapgl"
                      }
                    ],
                    "histogram": [
                      {
                        "marker": {
                          "pattern": {
                            "fillmode": "overlay",
                            "size": 10,
                            "solidity": 0.2
                          }
                        },
                        "type": "histogram"
                      }
                    ],
                    "histogram2d": [
                      {
                        "colorbar": {
                          "outlinewidth": 0,
                          "ticks": ""
                        },
                        "colorscale": [
                          [
                            0,
                            "#0d0887"
                          ],
                          [
                            0.1111111111111111,
                            "#46039f"
                          ],
                          [
                            0.2222222222222222,
                            "#7201a8"
                          ],
                          [
                            0.3333333333333333,
                            "#9c179e"
                          ],
                          [
                            0.4444444444444444,
                            "#bd3786"
                          ],
                          [
                            0.5555555555555556,
                            "#d8576b"
                          ],
                          [
                            0.6666666666666666,
                            "#ed7953"
                          ],
                          [
                            0.7777777777777778,
                            "#fb9f3a"
                          ],
                          [
                            0.8888888888888888,
                            "#fdca26"
                          ],
                          [
                            1,
                            "#f0f921"
                          ]
                        ],
                        "type": "histogram2d"
                      }
                    ],
                    "histogram2dcontour": [
                      {
                        "colorbar": {
                          "outlinewidth": 0,
                          "ticks": ""
                        },
                        "colorscale": [
                          [
                            0,
                            "#0d0887"
                          ],
                          [
                            0.1111111111111111,
                            "#46039f"
                          ],
                          [
                            0.2222222222222222,
                            "#7201a8"
                          ],
                          [
                            0.3333333333333333,
                            "#9c179e"
                          ],
                          [
                            0.4444444444444444,
                            "#bd3786"
                          ],
                          [
                            0.5555555555555556,
                            "#d8576b"
                          ],
                          [
                            0.6666666666666666,
                            "#ed7953"
                          ],
                          [
                            0.7777777777777778,
                            "#fb9f3a"
                          ],
                          [
                            0.8888888888888888,
                            "#fdca26"
                          ],
                          [
                            1,
                            "#f0f921"
                          ]
                        ],
                        "type": "histogram2dcontour"
                      }
                    ],
                    "mesh3d": [
                      {
                        "colorbar": {
                          "outlinewidth": 0,
                          "ticks": ""
                        },
                        "type": "mesh3d"
                      }
                    ],
                    "parcoords": [
                      {
                        "line": {
                          "colorbar": {
                            "outlinewidth": 0,
                            "ticks": ""
                          }
                        },
                        "type": "parcoords"
                      }
                    ],
                    "pie": [
                      {
                        "automargin": true,
                        "type": "pie"
                      }
                    ],
                    "scatter": [
                      {
                        "fillpattern": {
                          "fillmode": "overlay",
                          "size": 10,
                          "solidity": 0.2
                        },
                        "type": "scatter"
                      }
                    ],
                    "scatter3d": [
                      {
                        "line": {
                          "colorbar": {
                            "outlinewidth": 0,
                            "ticks": ""
                          }
                        },
                        "marker": {
                          "colorbar": {
                            "outlinewidth": 0,
                            "ticks": ""
                          }
                        },
                        "type": "scatter3d"
                      }
                    ],
                    "scattercarpet": [
                      {
                        "marker": {
                          "colorbar": {
                            "outlinewidth": 0,
                            "ticks": ""
                          }
                        },
                        "type": "scattercarpet"
                      }
                    ],
                    "scattergeo": [
                      {
                        "marker": {
                          "colorbar": {
                            "outlinewidth": 0,
                            "ticks": ""
                          }
                        },
                        "type": "scattergeo"
                      }
                    ],
                    "scattergl": [
                      {
                        "marker": {
                          "colorbar": {
                            "outlinewidth": 0,
                            "ticks": ""
                          }
                        },
                        "type": "scattergl"
                      }
                    ],
                    "scattermapbox": [
                      {
                        "marker": {
                          "colorbar": {
                            "outlinewidth": 0,
                            "ticks": ""
                          }
                        },
                        "type": "scattermapbox"
                      }
                    ],
                    "scatterpolar": [
                      {
                        "marker": {
                          "colorbar": {
                            "outlinewidth": 0,
                            "ticks": ""
                          }
                        },
                        "type": "scatterpolar"
                      }
                    ],
                    "scatterpolargl": [
                      {
                        "marker": {
                          "colorbar": {
                            "outlinewidth": 0,
                            "ticks": ""
                          }
                        },
                        "type": "scatterpolargl"
                      }
                    ],
                    "scatterternary": [
                      {
                        "marker": {
                          "colorbar": {
                            "outlinewidth": 0,
                            "ticks": ""
                          }
                        },
                        "type": "scatterternary"
                      }
                    ],
                    "surface": [
                      {
                        "colorbar": {
                          "outlinewidth": 0,
                          "ticks": ""
                        },
                        "colorscale": [
                          [
                            0,
                            "#0d0887"
                          ],
                          [
                            0.1111111111111111,
                            "#46039f"
                          ],
                          [
                            0.2222222222222222,
                            "#7201a8"
                          ],
                          [
                            0.3333333333333333,
                            "#9c179e"
                          ],
                          [
                            0.4444444444444444,
                            "#bd3786"
                          ],
                          [
                            0.5555555555555556,
                            "#d8576b"
                          ],
                          [
                            0.6666666666666666,
                            "#ed7953"
                          ],
                          [
                            0.7777777777777778,
                            "#fb9f3a"
                          ],
                          [
                            0.8888888888888888,
                            "#fdca26"
                          ],
                          [
                            1,
                            "#f0f921"
                          ]
                        ],
                        "type": "surface"
                      }
                    ],
                    "table": [
                      {
                        "cells": {
                          "fill": {
                            "color": "#EBF0F8"
                          },
                          "line": {
                            "color": "white"
                          }
                        },
                        "header": {
                          "fill": {
                            "color": "#C8D4E3"
                          },
                          "line": {
                            "color": "white"
                          }
                        },
                        "type": "table"
                      }
                    ]
                  },
                  "layout": {
                    "annotationdefaults": {
                      "arrowcolor": "#2a3f5f",
                      "arrowhead": 0,
                      "arrowwidth": 1
                    },
                    "autotypenumbers": "strict",
                    "coloraxis": {
                      "colorbar": {
                        "outlinewidth": 0,
                        "ticks": ""
                      }
                    },
                    "colorscale": {
                      "diverging": [
                        [
                          0,
                          "#8e0152"
                        ],
                        [
                          0.1,
                          "#c51b7d"
                        ],
                        [
                          0.2,
                          "#de77ae"
                        ],
                        [
                          0.3,
                          "#f1b6da"
                        ],
                        [
                          0.4,
                          "#fde0ef"
                        ],
                        [
                          0.5,
                          "#f7f7f7"
                        ],
                        [
                          0.6,
                          "#e6f5d0"
                        ],
                        [
                          0.7,
                          "#b8e186"
                        ],
                        [
                          0.8,
                          "#7fbc41"
                        ],
                        [
                          0.9,
                          "#4d9221"
                        ],
                        [
                          1,
                          "#276419"
                        ]
                      ],
                      "sequential": [
                        [
                          0,
                          "#0d0887"
                        ],
                        [
                          0.1111111111111111,
                          "#46039f"
                        ],
                        [
                          0.2222222222222222,
                          "#7201a8"
                        ],
                        [
                          0.3333333333333333,
                          "#9c179e"
                        ],
                        [
                          0.4444444444444444,
                          "#bd3786"
                        ],
                        [
                          0.5555555555555556,
                          "#d8576b"
                        ],
                        [
                          0.6666666666666666,
                          "#ed7953"
                        ],
                        [
                          0.7777777777777778,
                          "#fb9f3a"
                        ],
                        [
                          0.8888888888888888,
                          "#fdca26"
                        ],
                        [
                          1,
                          "#f0f921"
                        ]
                      ],
                      "sequentialminus": [
                        [
                          0,
                          "#0d0887"
                        ],
                        [
                          0.1111111111111111,
                          "#46039f"
                        ],
                        [
                          0.2222222222222222,
                          "#7201a8"
                        ],
                        [
                          0.3333333333333333,
                          "#9c179e"
                        ],
                        [
                          0.4444444444444444,
                          "#bd3786"
                        ],
                        [
                          0.5555555555555556,
                          "#d8576b"
                        ],
                        [
                          0.6666666666666666,
                          "#ed7953"
                        ],
                        [
                          0.7777777777777778,
                          "#fb9f3a"
                        ],
                        [
                          0.8888888888888888,
                          "#fdca26"
                        ],
                        [
                          1,
                          "#f0f921"
                        ]
                      ]
                    },
                    "colorway": [
                      "#636efa",
                      "#EF553B",
                      "#00cc96",
                      "#ab63fa",
                      "#FFA15A",
                      "#19d3f3",
                      "#FF6692",
                      "#B6E880",
                      "#FF97FF",
                      "#FECB52"
                    ],
                    "font": {
                      "color": "#2a3f5f"
                    },
                    "geo": {
                      "bgcolor": "white",
                      "lakecolor": "white",
                      "landcolor": "#E5ECF6",
                      "showlakes": true,
                      "showland": true,
                      "subunitcolor": "white"
                    },
                    "hoverlabel": {
                      "align": "left"
                    },
                    "hovermode": "closest",
                    "mapbox": {
                      "style": "light"
                    },
                    "paper_bgcolor": "white",
                    "plot_bgcolor": "#E5ECF6",
                    "polar": {
                      "angularaxis": {
                        "gridcolor": "white",
                        "linecolor": "white",
                        "ticks": ""
                      },
                      "bgcolor": "#E5ECF6",
                      "radialaxis": {
                        "gridcolor": "white",
                        "linecolor": "white",
                        "ticks": ""
                      }
                    },
                    "scene": {
                      "xaxis": {
                        "backgroundcolor": "#E5ECF6",
                        "gridcolor": "white",
                        "gridwidth": 2,
                        "linecolor": "white",
                        "showbackground": true,
                        "ticks": "",
                        "zerolinecolor": "white"
                      },
                      "yaxis": {
                        "backgroundcolor": "#E5ECF6",
                        "gridcolor": "white",
                        "gridwidth": 2,
                        "linecolor": "white",
                        "showbackground": true,
                        "ticks": "",
                        "zerolinecolor": "white"
                      },
                      "zaxis": {
                        "backgroundcolor": "#E5ECF6",
                        "gridcolor": "white",
                        "gridwidth": 2,
                        "linecolor": "white",
                        "showbackground": true,
                        "ticks": "",
                        "zerolinecolor": "white"
                      }
                    },
                    "shapedefaults": {
                      "line": {
                        "color": "#2a3f5f"
                      }
                    },
                    "ternary": {
                      "aaxis": {
                        "gridcolor": "white",
                        "linecolor": "white",
                        "ticks": ""
                      },
                      "baxis": {
                        "gridcolor": "white",
                        "linecolor": "white",
                        "ticks": ""
                      },
                      "bgcolor": "#E5ECF6",
                      "caxis": {
                        "gridcolor": "white",
                        "linecolor": "white",
                        "ticks": ""
                      }
                    },
                    "title": {
                      "x": 0.05
                    },
                    "xaxis": {
                      "automargin": true,
                      "gridcolor": "white",
                      "linecolor": "white",
                      "ticks": "",
                      "title": {
                        "standoff": 15
                      },
                      "zerolinecolor": "white",
                      "zerolinewidth": 2
                    },
                    "yaxis": {
                      "automargin": true,
                      "gridcolor": "white",
                      "linecolor": "white",
                      "ticks": "",
                      "title": {
                        "standoff": 15
                      },
                      "zerolinecolor": "white",
                      "zerolinewidth": 2
                    }
                  }
                },
                "xaxis": {
                  "anchor": "y",
                  "constrain": "domain",
                  "domain": [
                    0,
                    1
                  ],
                  "scaleanchor": "y"
                },
                "yaxis": {
                  "anchor": "x",
                  "autorange": "reversed",
                  "constrain": "domain",
                  "domain": [
                    0,
                    1
                  ]
                }
              }
            }
          },
          "metadata": {},
          "output_type": "display_data"
        }
      ],
      "source": [
        "# get heatmap to notice \"zones\" and outliers easier\n",
        "fig = px.imshow(corr_matrix)\n",
        "fig.show()"
      ]
    },
    {
      "cell_type": "markdown",
      "metadata": {},
      "source": [
        "### Solution 2 (Currently cumbersome)\n",
        "Appends the selected terms' scores to the original dataset which accommodates more possibilities for plotting, but makes plotting settings more tedious. \n",
        "\n",
        "(Pros: can use other parameters such as 'year' and 'company'; \n",
        "Cons: cannot filter for 'term')"
      ]
    },
    {
      "cell_type": "code",
      "execution_count": 72,
      "metadata": {
        "colab": {
          "base_uri": "https://localhost:8080/"
        },
        "id": "7lVBDnDiX3Qo",
        "outputId": "5ee63fc8-123d-4982-c93f-bda641168c13"
      },
      "outputs": [
        {
          "name": "stdout",
          "output_type": "stream",
          "text": [
            "Working on #0, cocacola_2003_csr\n",
            "Working on #1, cocacola_2004_csr\n",
            "Working on #2, cocacola_2005_csr\n",
            "Working on #3, cocacola_2006_csr\n",
            "Working on #4, cocacola_20072008_csr\n",
            "Working on #5, cocacola_20082009_csr\n",
            "Working on #6, cocacola_20092010_csr\n",
            "Working on #7, cocacola_20102011_csr\n",
            "Working on #8, cocacola_20112012_csr\n",
            "Working on #9, cocacola_20122013_csr\n",
            "Working on #10, cocacola_20132014_csr\n",
            "Working on #11, cocacola_20142015_csr\n",
            "Working on #12, cocacola_2021_csr\n",
            "Working on #13, pepsico_2006_csr\n",
            "Working on #14, pepsico_2007_csr\n",
            "Working on #15, pepsico_2008_csr\n",
            "Working on #16, pepsico_2009_csr\n",
            "Working on #17, pepsico_2010_csr\n",
            "Working on #18, pepsico_20112012_csr\n",
            "Working on #19, pepsico_2013_csr\n",
            "Working on #20, pepsico_2014_csr\n",
            "Working on #21, pepsico_2021_csr\n"
          ]
        }
      ],
      "source": [
        "# load in preprocessed data\n",
        "df = pd.read_csv(\"parsed_documents.csv\", index_col=0)\n",
        "\n",
        "# define the dataset as a list of document contents (text)\n",
        "dataset = df['lemmatized'].tolist()\n",
        "\n",
        "# define a list of target terms (keywords and phrases) to filter for later\n",
        "filter = ['diversity', 'equity', 'inclusion']\n",
        "\n",
        "# manually add to the list of stopwords if needed\n",
        "custom_stop_words = text.ENGLISH_STOP_WORDS.union([\"\"])\n",
        "\n",
        "# set vectorizer\n",
        "tfIdfVectorizer=TfidfVectorizer(use_idf=True, ngram_range=(1,1), stop_words=custom_stop_words)\n",
        "\n",
        "# turn text into tf-idf vectors\n",
        "tfIdf = tfIdfVectorizer.fit_transform(dataset)\n",
        "\n",
        "# correlation matrix (for later)\n",
        "corr_matrix = ((tfIdf * tfIdf.T).A)\n",
        "\n",
        "# list of filenames and their no.\n",
        "filenames = df['file'].tolist()\n",
        "filenames = [re.sub(\"\\.\\w+\", '', i) for i in filenames]\n",
        "no_of_files = len(filenames)\n",
        "\n",
        "# initialize dataframe to hold tfidf scores\n",
        "# df_all_scores = pd.DataFrame(columns=[])\n",
        "df_filtered_scores = pd.DataFrame(columns=['file'])\n",
        "df_merged_tfidf_scores = pd.DataFrame(columns=['file'])\n",
        "\n",
        "# loop through all documents and get scores for each term term\n",
        "for i in range(no_of_files):\n",
        "    # get tf-idf scores for words/phrases\n",
        "    print(\"Working on #\" + str(i) + \",\", filenames[i])\n",
        "    df_tfidf = pd.DataFrame(tfIdf[i].T.todense(), index=tfIdfVectorizer.get_feature_names_out(), columns=[filenames[i]])\n",
        "\n",
        "    # sort values according to score\n",
        "    df_tfidf = df_tfidf.sort_values(filenames[i], ascending=False)\n",
        "\n",
        "    # merge all tfidf scores\n",
        "    # df_all_scores = pd.merge(df_all_scores, df_tfidf.head(100), how='outer', on = 'term')\n",
        "    # df_all_scores.fillna(0.0)\n",
        "\n",
        "    # filter for manual selection \n",
        "    df_filtered_tfidf = df_tfidf[df_tfidf.index.isin(filter)]\n",
        "\n",
        "    # transpose dataframe\n",
        "    df_filtered_tfidf = df_filtered_tfidf.transpose()\n",
        "\n",
        "    # reset index and rename it term\n",
        "    df_filtered_tfidf.reset_index(inplace=True)\n",
        "    df_filtered_tfidf.rename(columns = {'index':'file'}, inplace = True)\n",
        "\n",
        "    # merge new tfidf scores with the rest\n",
        "    df_merged_tfidf_scores=pd.concat([df_merged_tfidf_scores, df_filtered_tfidf])\n",
        "\n",
        "# merge tfidf scores with the dataset\n",
        "df = pd.merge(df, df_merged_tfidf_scores, on = 'file')\n",
        "\n",
        "# export\n",
        "df.to_csv(\"parsed_documents_with_tfidf.csv\")\n",
        "# df_all_scores.to_csv(\"all_scores.csv\")"
      ]
    },
    {
      "cell_type": "markdown",
      "metadata": {},
      "source": [
        "#### Plot\n",
        "\n",
        "Next we plot the results using plotly."
      ]
    },
    {
      "cell_type": "code",
      "execution_count": 79,
      "metadata": {},
      "outputs": [
        {
          "data": {
            "application/vnd.plotly.v1+json": {
              "config": {
                "plotlyServerURL": "https://plot.ly"
              },
              "data": [
                {
                  "alignmentgroup": "True",
                  "hovertemplate": "company=cocacola<br>year=%{x}<br>diversity=%{y}<extra></extra>",
                  "legendgroup": "cocacola",
                  "marker": {
                    "color": "#636efa",
                    "pattern": {
                      "shape": ""
                    }
                  },
                  "name": "cocacola",
                  "offsetgroup": "cocacola",
                  "orientation": "v",
                  "showlegend": true,
                  "textposition": "auto",
                  "type": "bar",
                  "x": [
                    2003,
                    2004,
                    2005,
                    2006,
                    2007,
                    2008,
                    2009,
                    2010,
                    2011,
                    2012,
                    2013,
                    2014,
                    2021
                  ],
                  "xaxis": "x",
                  "y": [
                    0,
                    0.0019435764811098,
                    0,
                    0.0172835776233543,
                    0.0495968875805488,
                    0.023109251960518,
                    0.019989789175105,
                    0.0110894741399105,
                    0,
                    0.0196623924266384,
                    0.0449199609336066,
                    0.0142116121532334,
                    0.0223479805796232
                  ],
                  "yaxis": "y"
                },
                {
                  "alignmentgroup": "True",
                  "hovertemplate": "company=pepsico<br>year=%{x}<br>diversity=%{y}<extra></extra>",
                  "legendgroup": "pepsico",
                  "marker": {
                    "color": "#EF553B",
                    "pattern": {
                      "shape": ""
                    }
                  },
                  "name": "pepsico",
                  "offsetgroup": "pepsico",
                  "orientation": "v",
                  "showlegend": true,
                  "textposition": "auto",
                  "type": "bar",
                  "x": [
                    2006,
                    2007,
                    2008,
                    2009,
                    2010,
                    2011,
                    2013,
                    2014,
                    2021
                  ],
                  "xaxis": "x2",
                  "y": [
                    0.0442913992981283,
                    0.0393770330686139,
                    0.0333791062958246,
                    0.0623837580326722,
                    0.0269310811546443,
                    0.0182790320701339,
                    0.0304748275581636,
                    0.0235299865720195,
                    0.0110096357989734
                  ],
                  "yaxis": "y2"
                }
              ],
              "layout": {
                "annotations": [
                  {
                    "font": {},
                    "showarrow": false,
                    "text": "company=cocacola",
                    "x": 0.245,
                    "xanchor": "center",
                    "xref": "paper",
                    "y": 1,
                    "yanchor": "bottom",
                    "yref": "paper"
                  },
                  {
                    "font": {},
                    "showarrow": false,
                    "text": "company=pepsico",
                    "x": 0.755,
                    "xanchor": "center",
                    "xref": "paper",
                    "y": 1,
                    "yanchor": "bottom",
                    "yref": "paper"
                  }
                ],
                "barmode": "relative",
                "legend": {
                  "title": {
                    "text": "company"
                  },
                  "tracegroupgap": 0
                },
                "margin": {
                  "t": 60
                },
                "template": {
                  "data": {
                    "bar": [
                      {
                        "error_x": {
                          "color": "#2a3f5f"
                        },
                        "error_y": {
                          "color": "#2a3f5f"
                        },
                        "marker": {
                          "line": {
                            "color": "#E5ECF6",
                            "width": 0.5
                          },
                          "pattern": {
                            "fillmode": "overlay",
                            "size": 10,
                            "solidity": 0.2
                          }
                        },
                        "type": "bar"
                      }
                    ],
                    "barpolar": [
                      {
                        "marker": {
                          "line": {
                            "color": "#E5ECF6",
                            "width": 0.5
                          },
                          "pattern": {
                            "fillmode": "overlay",
                            "size": 10,
                            "solidity": 0.2
                          }
                        },
                        "type": "barpolar"
                      }
                    ],
                    "carpet": [
                      {
                        "aaxis": {
                          "endlinecolor": "#2a3f5f",
                          "gridcolor": "white",
                          "linecolor": "white",
                          "minorgridcolor": "white",
                          "startlinecolor": "#2a3f5f"
                        },
                        "baxis": {
                          "endlinecolor": "#2a3f5f",
                          "gridcolor": "white",
                          "linecolor": "white",
                          "minorgridcolor": "white",
                          "startlinecolor": "#2a3f5f"
                        },
                        "type": "carpet"
                      }
                    ],
                    "choropleth": [
                      {
                        "colorbar": {
                          "outlinewidth": 0,
                          "ticks": ""
                        },
                        "type": "choropleth"
                      }
                    ],
                    "contour": [
                      {
                        "colorbar": {
                          "outlinewidth": 0,
                          "ticks": ""
                        },
                        "colorscale": [
                          [
                            0,
                            "#0d0887"
                          ],
                          [
                            0.1111111111111111,
                            "#46039f"
                          ],
                          [
                            0.2222222222222222,
                            "#7201a8"
                          ],
                          [
                            0.3333333333333333,
                            "#9c179e"
                          ],
                          [
                            0.4444444444444444,
                            "#bd3786"
                          ],
                          [
                            0.5555555555555556,
                            "#d8576b"
                          ],
                          [
                            0.6666666666666666,
                            "#ed7953"
                          ],
                          [
                            0.7777777777777778,
                            "#fb9f3a"
                          ],
                          [
                            0.8888888888888888,
                            "#fdca26"
                          ],
                          [
                            1,
                            "#f0f921"
                          ]
                        ],
                        "type": "contour"
                      }
                    ],
                    "contourcarpet": [
                      {
                        "colorbar": {
                          "outlinewidth": 0,
                          "ticks": ""
                        },
                        "type": "contourcarpet"
                      }
                    ],
                    "heatmap": [
                      {
                        "colorbar": {
                          "outlinewidth": 0,
                          "ticks": ""
                        },
                        "colorscale": [
                          [
                            0,
                            "#0d0887"
                          ],
                          [
                            0.1111111111111111,
                            "#46039f"
                          ],
                          [
                            0.2222222222222222,
                            "#7201a8"
                          ],
                          [
                            0.3333333333333333,
                            "#9c179e"
                          ],
                          [
                            0.4444444444444444,
                            "#bd3786"
                          ],
                          [
                            0.5555555555555556,
                            "#d8576b"
                          ],
                          [
                            0.6666666666666666,
                            "#ed7953"
                          ],
                          [
                            0.7777777777777778,
                            "#fb9f3a"
                          ],
                          [
                            0.8888888888888888,
                            "#fdca26"
                          ],
                          [
                            1,
                            "#f0f921"
                          ]
                        ],
                        "type": "heatmap"
                      }
                    ],
                    "heatmapgl": [
                      {
                        "colorbar": {
                          "outlinewidth": 0,
                          "ticks": ""
                        },
                        "colorscale": [
                          [
                            0,
                            "#0d0887"
                          ],
                          [
                            0.1111111111111111,
                            "#46039f"
                          ],
                          [
                            0.2222222222222222,
                            "#7201a8"
                          ],
                          [
                            0.3333333333333333,
                            "#9c179e"
                          ],
                          [
                            0.4444444444444444,
                            "#bd3786"
                          ],
                          [
                            0.5555555555555556,
                            "#d8576b"
                          ],
                          [
                            0.6666666666666666,
                            "#ed7953"
                          ],
                          [
                            0.7777777777777778,
                            "#fb9f3a"
                          ],
                          [
                            0.8888888888888888,
                            "#fdca26"
                          ],
                          [
                            1,
                            "#f0f921"
                          ]
                        ],
                        "type": "heatmapgl"
                      }
                    ],
                    "histogram": [
                      {
                        "marker": {
                          "pattern": {
                            "fillmode": "overlay",
                            "size": 10,
                            "solidity": 0.2
                          }
                        },
                        "type": "histogram"
                      }
                    ],
                    "histogram2d": [
                      {
                        "colorbar": {
                          "outlinewidth": 0,
                          "ticks": ""
                        },
                        "colorscale": [
                          [
                            0,
                            "#0d0887"
                          ],
                          [
                            0.1111111111111111,
                            "#46039f"
                          ],
                          [
                            0.2222222222222222,
                            "#7201a8"
                          ],
                          [
                            0.3333333333333333,
                            "#9c179e"
                          ],
                          [
                            0.4444444444444444,
                            "#bd3786"
                          ],
                          [
                            0.5555555555555556,
                            "#d8576b"
                          ],
                          [
                            0.6666666666666666,
                            "#ed7953"
                          ],
                          [
                            0.7777777777777778,
                            "#fb9f3a"
                          ],
                          [
                            0.8888888888888888,
                            "#fdca26"
                          ],
                          [
                            1,
                            "#f0f921"
                          ]
                        ],
                        "type": "histogram2d"
                      }
                    ],
                    "histogram2dcontour": [
                      {
                        "colorbar": {
                          "outlinewidth": 0,
                          "ticks": ""
                        },
                        "colorscale": [
                          [
                            0,
                            "#0d0887"
                          ],
                          [
                            0.1111111111111111,
                            "#46039f"
                          ],
                          [
                            0.2222222222222222,
                            "#7201a8"
                          ],
                          [
                            0.3333333333333333,
                            "#9c179e"
                          ],
                          [
                            0.4444444444444444,
                            "#bd3786"
                          ],
                          [
                            0.5555555555555556,
                            "#d8576b"
                          ],
                          [
                            0.6666666666666666,
                            "#ed7953"
                          ],
                          [
                            0.7777777777777778,
                            "#fb9f3a"
                          ],
                          [
                            0.8888888888888888,
                            "#fdca26"
                          ],
                          [
                            1,
                            "#f0f921"
                          ]
                        ],
                        "type": "histogram2dcontour"
                      }
                    ],
                    "mesh3d": [
                      {
                        "colorbar": {
                          "outlinewidth": 0,
                          "ticks": ""
                        },
                        "type": "mesh3d"
                      }
                    ],
                    "parcoords": [
                      {
                        "line": {
                          "colorbar": {
                            "outlinewidth": 0,
                            "ticks": ""
                          }
                        },
                        "type": "parcoords"
                      }
                    ],
                    "pie": [
                      {
                        "automargin": true,
                        "type": "pie"
                      }
                    ],
                    "scatter": [
                      {
                        "fillpattern": {
                          "fillmode": "overlay",
                          "size": 10,
                          "solidity": 0.2
                        },
                        "type": "scatter"
                      }
                    ],
                    "scatter3d": [
                      {
                        "line": {
                          "colorbar": {
                            "outlinewidth": 0,
                            "ticks": ""
                          }
                        },
                        "marker": {
                          "colorbar": {
                            "outlinewidth": 0,
                            "ticks": ""
                          }
                        },
                        "type": "scatter3d"
                      }
                    ],
                    "scattercarpet": [
                      {
                        "marker": {
                          "colorbar": {
                            "outlinewidth": 0,
                            "ticks": ""
                          }
                        },
                        "type": "scattercarpet"
                      }
                    ],
                    "scattergeo": [
                      {
                        "marker": {
                          "colorbar": {
                            "outlinewidth": 0,
                            "ticks": ""
                          }
                        },
                        "type": "scattergeo"
                      }
                    ],
                    "scattergl": [
                      {
                        "marker": {
                          "colorbar": {
                            "outlinewidth": 0,
                            "ticks": ""
                          }
                        },
                        "type": "scattergl"
                      }
                    ],
                    "scattermapbox": [
                      {
                        "marker": {
                          "colorbar": {
                            "outlinewidth": 0,
                            "ticks": ""
                          }
                        },
                        "type": "scattermapbox"
                      }
                    ],
                    "scatterpolar": [
                      {
                        "marker": {
                          "colorbar": {
                            "outlinewidth": 0,
                            "ticks": ""
                          }
                        },
                        "type": "scatterpolar"
                      }
                    ],
                    "scatterpolargl": [
                      {
                        "marker": {
                          "colorbar": {
                            "outlinewidth": 0,
                            "ticks": ""
                          }
                        },
                        "type": "scatterpolargl"
                      }
                    ],
                    "scatterternary": [
                      {
                        "marker": {
                          "colorbar": {
                            "outlinewidth": 0,
                            "ticks": ""
                          }
                        },
                        "type": "scatterternary"
                      }
                    ],
                    "surface": [
                      {
                        "colorbar": {
                          "outlinewidth": 0,
                          "ticks": ""
                        },
                        "colorscale": [
                          [
                            0,
                            "#0d0887"
                          ],
                          [
                            0.1111111111111111,
                            "#46039f"
                          ],
                          [
                            0.2222222222222222,
                            "#7201a8"
                          ],
                          [
                            0.3333333333333333,
                            "#9c179e"
                          ],
                          [
                            0.4444444444444444,
                            "#bd3786"
                          ],
                          [
                            0.5555555555555556,
                            "#d8576b"
                          ],
                          [
                            0.6666666666666666,
                            "#ed7953"
                          ],
                          [
                            0.7777777777777778,
                            "#fb9f3a"
                          ],
                          [
                            0.8888888888888888,
                            "#fdca26"
                          ],
                          [
                            1,
                            "#f0f921"
                          ]
                        ],
                        "type": "surface"
                      }
                    ],
                    "table": [
                      {
                        "cells": {
                          "fill": {
                            "color": "#EBF0F8"
                          },
                          "line": {
                            "color": "white"
                          }
                        },
                        "header": {
                          "fill": {
                            "color": "#C8D4E3"
                          },
                          "line": {
                            "color": "white"
                          }
                        },
                        "type": "table"
                      }
                    ]
                  },
                  "layout": {
                    "annotationdefaults": {
                      "arrowcolor": "#2a3f5f",
                      "arrowhead": 0,
                      "arrowwidth": 1
                    },
                    "autotypenumbers": "strict",
                    "coloraxis": {
                      "colorbar": {
                        "outlinewidth": 0,
                        "ticks": ""
                      }
                    },
                    "colorscale": {
                      "diverging": [
                        [
                          0,
                          "#8e0152"
                        ],
                        [
                          0.1,
                          "#c51b7d"
                        ],
                        [
                          0.2,
                          "#de77ae"
                        ],
                        [
                          0.3,
                          "#f1b6da"
                        ],
                        [
                          0.4,
                          "#fde0ef"
                        ],
                        [
                          0.5,
                          "#f7f7f7"
                        ],
                        [
                          0.6,
                          "#e6f5d0"
                        ],
                        [
                          0.7,
                          "#b8e186"
                        ],
                        [
                          0.8,
                          "#7fbc41"
                        ],
                        [
                          0.9,
                          "#4d9221"
                        ],
                        [
                          1,
                          "#276419"
                        ]
                      ],
                      "sequential": [
                        [
                          0,
                          "#0d0887"
                        ],
                        [
                          0.1111111111111111,
                          "#46039f"
                        ],
                        [
                          0.2222222222222222,
                          "#7201a8"
                        ],
                        [
                          0.3333333333333333,
                          "#9c179e"
                        ],
                        [
                          0.4444444444444444,
                          "#bd3786"
                        ],
                        [
                          0.5555555555555556,
                          "#d8576b"
                        ],
                        [
                          0.6666666666666666,
                          "#ed7953"
                        ],
                        [
                          0.7777777777777778,
                          "#fb9f3a"
                        ],
                        [
                          0.8888888888888888,
                          "#fdca26"
                        ],
                        [
                          1,
                          "#f0f921"
                        ]
                      ],
                      "sequentialminus": [
                        [
                          0,
                          "#0d0887"
                        ],
                        [
                          0.1111111111111111,
                          "#46039f"
                        ],
                        [
                          0.2222222222222222,
                          "#7201a8"
                        ],
                        [
                          0.3333333333333333,
                          "#9c179e"
                        ],
                        [
                          0.4444444444444444,
                          "#bd3786"
                        ],
                        [
                          0.5555555555555556,
                          "#d8576b"
                        ],
                        [
                          0.6666666666666666,
                          "#ed7953"
                        ],
                        [
                          0.7777777777777778,
                          "#fb9f3a"
                        ],
                        [
                          0.8888888888888888,
                          "#fdca26"
                        ],
                        [
                          1,
                          "#f0f921"
                        ]
                      ]
                    },
                    "colorway": [
                      "#636efa",
                      "#EF553B",
                      "#00cc96",
                      "#ab63fa",
                      "#FFA15A",
                      "#19d3f3",
                      "#FF6692",
                      "#B6E880",
                      "#FF97FF",
                      "#FECB52"
                    ],
                    "font": {
                      "color": "#2a3f5f"
                    },
                    "geo": {
                      "bgcolor": "white",
                      "lakecolor": "white",
                      "landcolor": "#E5ECF6",
                      "showlakes": true,
                      "showland": true,
                      "subunitcolor": "white"
                    },
                    "hoverlabel": {
                      "align": "left"
                    },
                    "hovermode": "closest",
                    "mapbox": {
                      "style": "light"
                    },
                    "paper_bgcolor": "white",
                    "plot_bgcolor": "#E5ECF6",
                    "polar": {
                      "angularaxis": {
                        "gridcolor": "white",
                        "linecolor": "white",
                        "ticks": ""
                      },
                      "bgcolor": "#E5ECF6",
                      "radialaxis": {
                        "gridcolor": "white",
                        "linecolor": "white",
                        "ticks": ""
                      }
                    },
                    "scene": {
                      "xaxis": {
                        "backgroundcolor": "#E5ECF6",
                        "gridcolor": "white",
                        "gridwidth": 2,
                        "linecolor": "white",
                        "showbackground": true,
                        "ticks": "",
                        "zerolinecolor": "white"
                      },
                      "yaxis": {
                        "backgroundcolor": "#E5ECF6",
                        "gridcolor": "white",
                        "gridwidth": 2,
                        "linecolor": "white",
                        "showbackground": true,
                        "ticks": "",
                        "zerolinecolor": "white"
                      },
                      "zaxis": {
                        "backgroundcolor": "#E5ECF6",
                        "gridcolor": "white",
                        "gridwidth": 2,
                        "linecolor": "white",
                        "showbackground": true,
                        "ticks": "",
                        "zerolinecolor": "white"
                      }
                    },
                    "shapedefaults": {
                      "line": {
                        "color": "#2a3f5f"
                      }
                    },
                    "ternary": {
                      "aaxis": {
                        "gridcolor": "white",
                        "linecolor": "white",
                        "ticks": ""
                      },
                      "baxis": {
                        "gridcolor": "white",
                        "linecolor": "white",
                        "ticks": ""
                      },
                      "bgcolor": "#E5ECF6",
                      "caxis": {
                        "gridcolor": "white",
                        "linecolor": "white",
                        "ticks": ""
                      }
                    },
                    "title": {
                      "x": 0.05
                    },
                    "xaxis": {
                      "automargin": true,
                      "gridcolor": "white",
                      "linecolor": "white",
                      "ticks": "",
                      "title": {
                        "standoff": 15
                      },
                      "zerolinecolor": "white",
                      "zerolinewidth": 2
                    },
                    "yaxis": {
                      "automargin": true,
                      "gridcolor": "white",
                      "linecolor": "white",
                      "ticks": "",
                      "title": {
                        "standoff": 15
                      },
                      "zerolinecolor": "white",
                      "zerolinewidth": 2
                    }
                  }
                },
                "xaxis": {
                  "anchor": "y",
                  "domain": [
                    0,
                    0.49
                  ],
                  "title": {
                    "text": "year"
                  }
                },
                "xaxis2": {
                  "anchor": "y2",
                  "domain": [
                    0.51,
                    1
                  ],
                  "matches": "x",
                  "title": {
                    "text": "year"
                  }
                },
                "yaxis": {
                  "anchor": "x",
                  "domain": [
                    0,
                    1
                  ],
                  "title": {
                    "text": "diversity"
                  }
                },
                "yaxis2": {
                  "anchor": "x2",
                  "domain": [
                    0,
                    1
                  ],
                  "matches": "y",
                  "showticklabels": false
                }
              }
            }
          },
          "metadata": {},
          "output_type": "display_data"
        }
      ],
      "source": [
        "# # read in data\n",
        "df_plot = pd.read_csv(\"parsed_documents_with_tfidf.csv\", index_col=0)\n",
        "\n",
        "# drop unnecessary rows\n",
        "df_plot = df_plot.drop(columns=['source','contents','lemmatized'])\n",
        "\n",
        "# filter rows to be plotted by searching the column name (e.g. year)\n",
        "# df_plot = df_plot[(df_plot['file'].str.contains(\"bank\")) | (df_plot['file'].str.contains(\"hsbc\"))]\n",
        "# cols1 = [col for col in df_plot.columns if '2007' in col]\n",
        "# cols2 = [col for col in df_plot.columns if 'pepsi' in col]\n",
        "# df_plot = df_plot[cols1]\n",
        "\n",
        "# plot it\n",
        "fig = px.bar(df_plot, x='year', y='diversity', color='company',\n",
        "    facet_col=\"company\"\n",
        "    )\n",
        "fig.show()\n",
        "\n",
        "# export it\n",
        "filename=\"test_plot_2\"\n",
        "fig.write_html(filename + \".html\")"
      ]
    },
    {
      "attachments": {},
      "cell_type": "markdown",
      "metadata": {},
      "source": [
        "# Topic Modeling"
      ]
    },
    {
      "cell_type": "code",
      "execution_count": 75,
      "metadata": {},
      "outputs": [],
      "source": [
        "# Install dependencies\n",
        "# !pip install scattertext\n",
        "# !pip install empath\n",
        "# !pip install spacy\n",
        "# !python -m spacy download en_core_web_sm ### CHOOSE ONE ###"
      ]
    },
    {
      "cell_type": "code",
      "execution_count": 77,
      "metadata": {},
      "outputs": [],
      "source": [
        "# Import dependencies\n",
        "import scattertext as st\n",
        "# import spacy"
      ]
    },
    {
      "cell_type": "code",
      "execution_count": 78,
      "metadata": {},
      "outputs": [
        {
          "data": {
            "text/plain": [
              "3679156"
            ]
          },
          "execution_count": 78,
          "metadata": {},
          "output_type": "execute_result"
        }
      ],
      "source": [
        "category = 'company'\n",
        "A = 'cocacola'\n",
        "B = 'pepsico'\n",
        "\n",
        "feat_builder = st.FeatsFromOnlyEmpath()\n",
        "empath_corpus = st.CorpusFromParsedDocuments(df,\n",
        "                                              category_col=category,\n",
        "                                              feats_from_spacy_doc=feat_builder,\n",
        "                                              parsed_col='contents').build()\n",
        "                                              \n",
        "html = st.produce_scattertext_explorer(empath_corpus,\n",
        "                                       category=A,\n",
        "                                       category_name=A,\n",
        "                                       not_category_name=B,\n",
        "                                       width_in_pixels=1000,\n",
        "                                       metadata=df['file'],\n",
        "                                       use_non_text_features=True,\n",
        "                                       use_full_doc=True,\n",
        "                                       topic_model_term_lists=feat_builder.get_top_model_term_lists())\n",
        "\n",
        "open(\"test_tm.html\", 'wb').write(html.encode('utf-8'))"
      ]
    },
    {
      "cell_type": "markdown",
      "metadata": {},
      "source": [
        "# End"
      ]
    },
    {
      "cell_type": "markdown",
      "metadata": {},
      "source": [
        "## Notes"
      ]
    }
  ],
  "metadata": {
    "colab": {
      "collapsed_sections": [],
      "provenance": []
    },
    "kernelspec": {
      "display_name": "Python 3.9.13 ('base')",
      "language": "python",
      "name": "python3"
    },
    "language_info": {
      "codemirror_mode": {
        "name": "ipython",
        "version": 3
      },
      "file_extension": ".py",
      "mimetype": "text/x-python",
      "name": "python",
      "nbconvert_exporter": "python",
      "pygments_lexer": "ipython3",
      "version": "3.9.13"
    },
    "vscode": {
      "interpreter": {
        "hash": "18c4d285bf73f8d33795481156cb8e20c5329867a6af52097d4f49f8abbf9900"
      }
    }
  },
  "nbformat": 4,
  "nbformat_minor": 0
}
