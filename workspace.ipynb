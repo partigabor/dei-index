{
  "cells": [
    {
      "cell_type": "markdown",
      "metadata": {
        "id": "QPhiwbl0JvEV"
      },
      "source": [
        "# DEI Index\n",
        "\n",
        "The following code (`main.ipynb`) is a pipeline of NLP solution(s) to quickly analyze and compare company documents. Currently the program can read company reports and output a set of observations about said reports' contents, quantifying relative mentions of certain key terms and phrases, and provide simple visualizations. It uses [TF-IDF](https://en.wikipedia.org/wiki/Tf%E2%80%93idf) scores (term frequency–inverse document frequency), a common technique known from text mining and information retrieval. This metric TF-IDF takes the frequency of a term in a documents, multiplied by the log of the term's inverse document frequency (the number of documents it appears divided by the total number of documents), resulting in higher scores if a term is unique, and low scores if a term is common across the corpus. This brief example is focusing on the terms 'diversity', 'equity', and 'inclusion' in CSR reports of two big beverage companies over the past years. For a big data approach, I recommend using the [Jena Organization Corpus (JOCo)](https://www.orga.uni-jena.de/en/corp) which is a 280 million word corpus of US, UK, and German company reports.\n",
        "\n",
        ">The ultimate goal is the creation of an index to capture and measure companies DEI practices and initiatives. \n",
        "\n",
        "At present, this program can:\n",
        "* read in and pre-process txt and pdf files of company documents and reports, \n",
        "* collate their contents in a dataframe\n",
        "* tokenize, remove stopwords, and lemmatize text\n",
        "* calculate tf-idf scores for every document in the corpus\n",
        "* compare a set of selected documents and visualize the comparison\n",
        "\n",
        ">This code was tested on a local machine, on Windows, using VSCode and Python 3.9.13 via Anaconda, but you could try it on Google Colab.\n",
        "\n",
        "Gabor Parti, 2022 October\n",
        "If you have any questions, contact me at gabor.parti@connect.polyu.hk"
      ]
    },
    {
      "cell_type": "markdown",
      "metadata": {
        "id": "VBiouDmCKHVx"
      },
      "source": [
        "## Setup"
      ]
    },
    {
      "cell_type": "code",
      "execution_count": 46,
      "metadata": {
        "colab": {
          "base_uri": "https://localhost:8080/"
        },
        "id": "pj5ocM-xpuvC",
        "outputId": "2c5062ff-543b-4cca-fe20-bc4de9f62824"
      },
      "outputs": [],
      "source": [
        "# # mount your Google drive if you use Google Colaboratory.\n",
        "# from google.colab import drive\n",
        "# drive.mount('/content/drive')\n",
        "\n",
        "# Warning! Paths are a bit messed up if using colab so regular expressions may not work the same as locally."
      ]
    },
    {
      "cell_type": "code",
      "execution_count": 47,
      "metadata": {
        "colab": {
          "base_uri": "https://localhost:8080/"
        },
        "id": "1HBGBs_3YTUC",
        "outputId": "fc88f747-0437-4c8f-aff4-50c70f7af131"
      },
      "outputs": [],
      "source": [
        "# install necessary dependencies\n",
        "# %pip install PyPDF2"
      ]
    },
    {
      "cell_type": "code",
      "execution_count": 48,
      "metadata": {
        "id": "xk1t46MWUvys"
      },
      "outputs": [
        {
          "name": "stderr",
          "output_type": "stream",
          "text": [
            "[nltk_data] Downloading package wordnet to\n",
            "[nltk_data]     C:\\Users\\parti\\AppData\\Roaming\\nltk_data...\n",
            "[nltk_data]   Package wordnet is already up-to-date!\n",
            "[nltk_data] Downloading package stopwords to\n",
            "[nltk_data]     C:\\Users\\parti\\AppData\\Roaming\\nltk_data...\n",
            "[nltk_data]   Package stopwords is already up-to-date!\n"
          ]
        }
      ],
      "source": [
        "#import dependency libraries\n",
        "import pandas as pd\n",
        "import numpy as np\n",
        "import regex as re\n",
        "import plotly.express as px\n",
        "import nltk\n",
        "from nltk.corpus import stopwords\n",
        "from nltk.stem import WordNetLemmatizer\n",
        "nltk.download('wordnet')\n",
        "nltk.download('stopwords')\n",
        "import sys\n",
        "import os\n",
        "import PyPDF2\n",
        "import sklearn as sk\n",
        "from sklearn.feature_extraction import text\n",
        "from sklearn.feature_extraction.text import CountVectorizer, TfidfVectorizer, TfidfTransformer"
      ]
    },
    {
      "cell_type": "markdown",
      "metadata": {
        "id": "V_rDCI4xtspC"
      },
      "source": [
        "## Preprocessing Reports\n",
        "\n",
        "The following two functions will be used to read in and parse documents from `pdf` and `txt` files, clean their contents (remove symbols and punctuation, lowercase) and store them.\n",
        "\n",
        "### Functions"
      ]
    },
    {
      "cell_type": "code",
      "execution_count": 49,
      "metadata": {
        "id": "3FTTWg_ytyYa"
      },
      "outputs": [],
      "source": [
        "# function to read a pdf file and add them to a dataframe\n",
        "def read_pdf(document, index=0):\n",
        "  \"\"\"Read and parse a pdf file.\n",
        "  This function uses the PyPDF2 package to read and extract \n",
        "  the contents of a pdf file, page by page.\n",
        "\n",
        "  Keyword arguments:\n",
        "  document -- the document to be read in.\n",
        "  index -- the index of the document, an integer (default 0)\n",
        "  \"\"\"\n",
        "  # add filename to dataframe\n",
        "  m = re.search(r\"\\\\(?!.*\\\\)(.*)_(\\d+)(_?.*)?((\\.pdf)|(\\.txt))\", document.lower())\n",
        "  filename_match = m.group(0)\n",
        "  filename = re.sub(\"[\\\\\\/\\'\\>]\", \"\", filename_match)\n",
        "  filename = re.sub(\"\\.\\w+\", \"\", filename)\n",
        "  company = m.group(1)\n",
        "  year = m.group(2)\n",
        "  type = m.group(3)\n",
        "  type = re.sub(\"^_\", \"\", type)\n",
        "  ext = m.group(4)\n",
        "  ext = re.sub(\"\\.\", \"\", ext)\n",
        "\n",
        "  df.loc[index, 'file'] = filename\n",
        "  df.loc[index, 'company'] = company\n",
        "  df.loc[index, 'year'] = year\n",
        "  df.loc[index, 'type'] = type\n",
        "  if type == \"\":\n",
        "    df.loc[index, 'type'] = 'not_csr'\n",
        "  \n",
        "  print(\"Parsing\", filename, \"...\")\n",
        "\n",
        "  # #####\n",
        "  # y = re.search(\"([0-9]{4})\", filename)\n",
        "  # if y is None:\n",
        "  #   df.loc[index, 'year'] = np.nan\n",
        "  # else:\n",
        "  #   df.loc[index, 'year'] = y[0]\n",
        "  # #####\n",
        "\n",
        "  # creating a pdf file object\n",
        "  pdfFileObj = open(document, 'rb') \n",
        "\n",
        "  # n = re.search(r\"\\\\(?:.(?!\\\\))+$\", filename_with_path)\n",
        "  # filename_match = n.group(0)\n",
        "\n",
        "  # creating a pdf reader object \n",
        "  pdfReader = PyPDF2.PdfFileReader(pdfFileObj, strict=False) \n",
        "      \n",
        "  # printing number of pages in pdf file \n",
        "  # print(\"Number of pages:\", pdfReader.numPages)\n",
        "  pages = pdfReader.numPages\n",
        "\n",
        "  # add page number to dataframe\n",
        "  # df.loc[index, 'pages'] = pages\n",
        "\n",
        "  # creating a page object \n",
        "  pageObj = pdfReader.getPage(0)\n",
        "\n",
        "  # extracting text from page \n",
        "  # print(pageObj.extractText())\n",
        "\n",
        "  pages_with_contents = []\n",
        "\n",
        "  for p in range(pages):\n",
        "    pageObj = pdfReader.getPage(p)\n",
        "    page_contents = pageObj.extractText()\n",
        "    pages_with_contents.append(page_contents)\n",
        "\n",
        "  # join pages into one document\n",
        "  contents = \" \".join(pages_with_contents)\n",
        "\n",
        "  #closing the pdf file object \n",
        "  pdfFileObj.close() \n",
        "\n",
        "  # cleaning\n",
        "  contents = re.sub(\"\\n\", \" \", contents)\n",
        "  contents = re.sub(\"\\.\", \". \", contents)\n",
        "  contents = re.sub(\"\\)\", \") \", contents)\n",
        "\n",
        "  # separates words\n",
        "  contents = re.sub(r\"([a-z])([A-Z])\", r\"\\1 \\2\", contents)\n",
        "\n",
        "  # # if need list\n",
        "  # contents_list = contents.split(' || ')\n",
        "\n",
        "  # remove symbols\n",
        "  contents = re.sub(r\"[^a-zA-Z0-9]\", \" \", contents)\n",
        "\n",
        "  # # lowercase\n",
        "  contents = contents.lower()\n",
        "\n",
        "  #remove extra spaces\n",
        "  contents = re.sub(\"\\s+\", \" \", contents)\n",
        "\n",
        "  #from where\n",
        "  df.loc[index, 'source'] = \"manual\"\n",
        "\n",
        "  # add contents to dataframe\n",
        "  df.loc[index, 'contents'] = contents\n",
        "\n",
        "  return #print(\"Done.\")"
      ]
    },
    {
      "cell_type": "code",
      "execution_count": 50,
      "metadata": {},
      "outputs": [],
      "source": [
        "# function to read a txt file and add them to a dataframe\n",
        "def read_txt(document, index=0):\n",
        "  \"\"\"Read and parse a txt file.\n",
        "\n",
        "  Keyword arguments:\n",
        "  document -- the document to be read in.\n",
        "  index -- the index of the document, an integer (default 0)\n",
        "  \"\"\"\n",
        "  # creating a pdf file object \n",
        "  with open(document, encoding='utf-8') as f:\n",
        "    contents = f.read()\n",
        "\n",
        "  # add filename to dataframe\n",
        "  m = re.search(r\"\\\\(?!.*\\\\)(.*)_(\\d+)(_?.*)?((\\.pdf)|(\\.txt))\", document.lower())\n",
        "  filename_match = m.group(0)\n",
        "  filename = re.sub(\"[\\\\\\/\\'\\>]\", \"\", filename_match)\n",
        "  filename = re.sub(\"\\.\\w+\", \"\", filename)\n",
        "  company = m.group(1)\n",
        "  year = m.group(2)\n",
        "  type = m.group(3)\n",
        "  type = re.sub(\"^_\", \"\", type)\n",
        "  ext = m.group(4)\n",
        "  ext = re.sub(\"\\.\", \"\", ext)\n",
        "\n",
        "  df.loc[index, 'file'] = filename\n",
        "  df.loc[index, 'company'] = company\n",
        "  df.loc[index, 'year'] = year\n",
        "  df.loc[index, 'type'] = type\n",
        "  if type == \"\":\n",
        "    df.loc[index, 'type'] = 'not_csr'\n",
        "\n",
        "  print(\"Parsing\", filename, \"...\")\n",
        "\n",
        "  y = re.search(\"([0-9]{4})\", filename)\n",
        "  if y is None:\n",
        "    df.loc[index, 'year'] = np.nan\n",
        "  else:\n",
        "    df.loc[index, 'year'] = y[0]\n",
        "\n",
        "  f.close()\n",
        "\n",
        "  # cleaning\n",
        "  contents = re.sub(\"\\n\", \" \", contents)\n",
        "  contents = re.sub(\"\\.\", \". \", contents)\n",
        "  contents = re.sub(\"\\)\", \") \", contents)\n",
        "\n",
        "  # remove symbols\n",
        "  contents = re.sub(r\"[^a-zA-Z0-9]\", \" \", contents)\n",
        "\n",
        "  # lowercase\n",
        "  contents = contents.lower()\n",
        "\n",
        "  #remove extra spaces\n",
        "  contents = re.sub(\"\\s+\", \" \", contents)\n",
        "\n",
        "  # from where\n",
        "  df.loc[index, 'source'] = \"joco\"\n",
        "\n",
        "  # add contents to dataframe\n",
        "  df.loc[index, 'contents'] = contents\n",
        "\n",
        "  return #print(\"Done.\")"
      ]
    },
    {
      "cell_type": "code",
      "execution_count": 51,
      "metadata": {},
      "outputs": [],
      "source": [
        "# a function to walk through all files in a folder and its subfolders\n",
        "def list_files(dir):                                                                                                  \n",
        "    r = []                                                                                                            \n",
        "    subdirs = [x[0] for x in os.walk(dir)]                                                                            \n",
        "    for subdir in subdirs:                                                                                            \n",
        "        files = os.walk(subdir).__next__()[2]                                                                             \n",
        "        if (len(files) > 0):                                                                                          \n",
        "            for file in files:                                                                                        \n",
        "                r.append(os.path.join(subdir, file))                                                                         \n",
        "    return r"
      ]
    },
    {
      "attachments": {},
      "cell_type": "markdown",
      "metadata": {},
      "source": [
        "### Preprocessor\n",
        "\n",
        "The following block of code reads in a directory (a folder) where company reports should be placed. It iterates over the files in that directory, and if they are in the correct file extension (`pdf`, `txt`), then the program will parse the files. Including: tokenization, counting tokens (~words), removing stopwords, lemmatization, and placing them all in one dataframe, where every row represents a document. The input folder should contain files with the following filename conventions: \"company_year_type.txt\" or \"company_year_type.pdf\", where 'type' can be CSR or ESG or something else, and 'year' must be digits. \n",
        "\n",
        "E.g.: \"CocaCola_2021_CSR.pdf\" or \"Pepsico_2011.txt\" are both valid filenames. Capitalization does not matter."
      ]
    },
    {
      "cell_type": "code",
      "execution_count": 52,
      "metadata": {
        "colab": {
          "base_uri": "https://localhost:8080/",
          "height": 252
        },
        "id": "E-8Jv9xqmSa8",
        "outputId": "d17111e9-4570-42db-ada6-45366e5a2521"
      },
      "outputs": [
        {
          "name": "stdout",
          "output_type": "stream",
          "text": [
            "Your input directory is: c:\\Users\\parti\\Projects\\dei-index\\testdata\n",
            "Number of files: 52\n",
            "Parsing comerica_2021_csr ...\n",
            "Parsing ibm_2021_csr ...\n",
            "Parsing cocacola_2003_csr ...\n",
            "Parsing cocacola_2004_csr ...\n",
            "Parsing cocacola_2005_csr ...\n",
            "Parsing cocacola_2006_csr ...\n",
            "Parsing cocacola_2006_csr_add1 ...\n",
            "Parsing cocacola_20072008_csr ...\n",
            "Parsing cocacola_20082009_csr ...\n",
            "Parsing cocacola_20092010_csr ...\n",
            "Parsing cocacola_20102011_csr ...\n",
            "Parsing cocacola_20112012_csr ...\n",
            "Parsing cocacola_20122013_csr ...\n",
            "Parsing cocacola_20132014_csr ...\n",
            "Parsing cocacola_20142015_csr ...\n",
            "Parsing cocacola_2021_csr ...\n",
            "Parsing pepsico_2006_csr ...\n",
            "Parsing pepsico_2007_csr ...\n",
            "Parsing pepsico_2008_csr ...\n",
            "Parsing pepsico_2009_csr ...\n",
            "Parsing pepsico_2010_csr ...\n",
            "Parsing pepsico_20112012_csr ...\n",
            "Parsing pepsico_2013_csr ...\n",
            "Parsing pepsico_2014_csr ...\n",
            "Parsing pepsico_2021_csr ...\n",
            "Parsing cocacola_2000 ...\n",
            "Parsing cocacola_2001 ...\n",
            "Parsing cocacola_2002 ...\n",
            "Parsing cocacola_2003 ...\n",
            "Parsing cocacola_2004 ...\n",
            "Parsing cocacola_2005 ...\n",
            "Parsing cocacola_2006 ...\n",
            "Parsing cocacola_2007 ...\n",
            "Parsing cocacola_2008 ...\n",
            "Parsing cocacola_2009 ...\n",
            "Parsing cocacola_2010 ...\n",
            "Parsing cocacola_2011 ...\n",
            "Parsing cocacola_2012 ...\n",
            "Parsing cocacola_2013 ...\n",
            "Parsing cocacola_2014 ...\n",
            "Parsing cocacola_2015 ...\n",
            "Parsing pepsico_2005 ...\n",
            "Parsing pepsico_2006 ...\n",
            "Parsing pepsico_2007 ...\n",
            "Parsing pepsico_2008 ...\n",
            "Parsing pepsico_2009 ...\n",
            "Parsing pepsico_2010 ...\n",
            "Parsing pepsico_2011 ...\n",
            "Parsing pepsico_2012 ...\n",
            "Parsing pepsico_2013 ...\n",
            "Parsing pepsico_2014 ...\n",
            "Parsing pepsico_2015 ...\n",
            "All files read in.\n",
            "Tokenizing data...\n",
            "Counting words...\n",
            "52 documents, dropping empty ones if any...\n",
            "52 remaining.\n",
            "Removing stopwords...\n",
            "Lemmatizing data...\n",
            "Found 1 addenda, dropping it.\n",
            "Exporting...\n",
            "All done, no errors.\n"
          ]
        },
        {
          "data": {
            "text/html": [
              "<div>\n",
              "<style scoped>\n",
              "    .dataframe tbody tr th:only-of-type {\n",
              "        vertical-align: middle;\n",
              "    }\n",
              "\n",
              "    .dataframe tbody tr th {\n",
              "        vertical-align: top;\n",
              "    }\n",
              "\n",
              "    .dataframe thead th {\n",
              "        text-align: right;\n",
              "    }\n",
              "</style>\n",
              "<table border=\"1\" class=\"dataframe\">\n",
              "  <thead>\n",
              "    <tr style=\"text-align: right;\">\n",
              "      <th></th>\n",
              "      <th>file</th>\n",
              "      <th>company</th>\n",
              "      <th>year</th>\n",
              "      <th>type</th>\n",
              "      <th>source</th>\n",
              "      <th>contents</th>\n",
              "      <th>tokens</th>\n",
              "      <th>lemmatized</th>\n",
              "    </tr>\n",
              "  </thead>\n",
              "  <tbody>\n",
              "    <tr>\n",
              "      <th>0</th>\n",
              "      <td>comerica_2021_csr</td>\n",
              "      <td>comerica</td>\n",
              "      <td>2021</td>\n",
              "      <td>csr</td>\n",
              "      <td>manual</td>\n",
              "      <td>raise your expectations tm 2021 corporate resp...</td>\n",
              "      <td>40176</td>\n",
              "      <td>raise expectation tm 2021 corporate responsibi...</td>\n",
              "    </tr>\n",
              "    <tr>\n",
              "      <th>1</th>\n",
              "      <td>ibm_2021_csr</td>\n",
              "      <td>ibm</td>\n",
              "      <td>2021</td>\n",
              "      <td>csr</td>\n",
              "      <td>manual</td>\n",
              "      <td>2021 esg report ibm impact contents ethical im...</td>\n",
              "      <td>21853</td>\n",
              "      <td>2021 esg report ibm impact content ethical imp...</td>\n",
              "    </tr>\n",
              "    <tr>\n",
              "      <th>2</th>\n",
              "      <td>cocacola_2003_csr</td>\n",
              "      <td>cocacola</td>\n",
              "      <td>2003</td>\n",
              "      <td>csr</td>\n",
              "      <td>joco</td>\n",
              "      <td>2003 environmental report summary of 2003 impa...</td>\n",
              "      <td>10442</td>\n",
              "      <td>2003 environmental report summary 2003 impact ...</td>\n",
              "    </tr>\n",
              "    <tr>\n",
              "      <th>3</th>\n",
              "      <td>cocacola_2004_csr</td>\n",
              "      <td>cocacola</td>\n",
              "      <td>2004</td>\n",
              "      <td>csr</td>\n",
              "      <td>joco</td>\n",
              "      <td>every day around the globe 2004 environmental ...</td>\n",
              "      <td>15771</td>\n",
              "      <td>every day around globe 2004 environmental repo...</td>\n",
              "    </tr>\n",
              "    <tr>\n",
              "      <th>4</th>\n",
              "      <td>cocacola_2005_csr</td>\n",
              "      <td>cocacola</td>\n",
              "      <td>2005</td>\n",
              "      <td>csr</td>\n",
              "      <td>joco</td>\n",
              "      <td>2005 environmental report www coca cola com in...</td>\n",
              "      <td>4271</td>\n",
              "      <td>2005 environmental report www coca cola com re...</td>\n",
              "    </tr>\n",
              "    <tr>\n",
              "      <th>5</th>\n",
              "      <td>cocacola_2006_csr</td>\n",
              "      <td>cocacola</td>\n",
              "      <td>2006</td>\n",
              "      <td>csr</td>\n",
              "      <td>joco</td>\n",
              "      <td>2006 corporate responsibility review the mark ...</td>\n",
              "      <td>12690</td>\n",
              "      <td>2006 corporate responsibility review mark make...</td>\n",
              "    </tr>\n",
              "    <tr>\n",
              "      <th>6</th>\n",
              "      <td>cocacola_20072008_csr</td>\n",
              "      <td>cocacola</td>\n",
              "      <td>2007</td>\n",
              "      <td>csr</td>\n",
              "      <td>joco</td>\n",
              "      <td>act inspire make a difference a dialogue of pr...</td>\n",
              "      <td>24082</td>\n",
              "      <td>act inspire make difference dialogue progress ...</td>\n",
              "    </tr>\n",
              "    <tr>\n",
              "      <th>7</th>\n",
              "      <td>cocacola_20082009_csr</td>\n",
              "      <td>cocacola</td>\n",
              "      <td>2008</td>\n",
              "      <td>csr</td>\n",
              "      <td>joco</td>\n",
              "      <td>the coca cola company 2008 2009 sustainability...</td>\n",
              "      <td>16978</td>\n",
              "      <td>coca cola company 2008 2009 sustainability rev...</td>\n",
              "    </tr>\n",
              "    <tr>\n",
              "      <th>8</th>\n",
              "      <td>cocacola_20092010_csr</td>\n",
              "      <td>cocacola</td>\n",
              "      <td>2009</td>\n",
              "      <td>csr</td>\n",
              "      <td>joco</td>\n",
              "      <td>2009 2010 sustainability review our commitment...</td>\n",
              "      <td>20800</td>\n",
              "      <td>2009 2010 sustainability review commitment mak...</td>\n",
              "    </tr>\n",
              "    <tr>\n",
              "      <th>9</th>\n",
              "      <td>cocacola_20102011_csr</td>\n",
              "      <td>cocacola</td>\n",
              "      <td>2010</td>\n",
              "      <td>csr</td>\n",
              "      <td>joco</td>\n",
              "      <td>2010 2011 sustainability report reasons to bel...</td>\n",
              "      <td>37552</td>\n",
              "      <td>2010 2011 sustainability report reason believe...</td>\n",
              "    </tr>\n",
              "    <tr>\n",
              "      <th>10</th>\n",
              "      <td>cocacola_20112012_csr</td>\n",
              "      <td>cocacola</td>\n",
              "      <td>2011</td>\n",
              "      <td>csr</td>\n",
              "      <td>joco</td>\n",
              "      <td>search gri report performance highlights muhta...</td>\n",
              "      <td>1188</td>\n",
              "      <td>search gri report performance highlight muhtar...</td>\n",
              "    </tr>\n",
              "    <tr>\n",
              "      <th>11</th>\n",
              "      <td>cocacola_20122013_csr</td>\n",
              "      <td>cocacola</td>\n",
              "      <td>2012</td>\n",
              "      <td>csr</td>\n",
              "      <td>joco</td>\n",
              "      <td>2012 2013 gri report table of contents introdu...</td>\n",
              "      <td>46679</td>\n",
              "      <td>2012 2013 gri report table content introductio...</td>\n",
              "    </tr>\n",
              "    <tr>\n",
              "      <th>12</th>\n",
              "      <td>cocacola_20132014_csr</td>\n",
              "      <td>cocacola</td>\n",
              "      <td>2013</td>\n",
              "      <td>csr</td>\n",
              "      <td>joco</td>\n",
              "      <td>innovating for a sustainable future our journe...</td>\n",
              "      <td>30673</td>\n",
              "      <td>innovating sustainable future journey 2013 cor...</td>\n",
              "    </tr>\n",
              "    <tr>\n",
              "      <th>13</th>\n",
              "      <td>cocacola_20142015_csr</td>\n",
              "      <td>cocacola</td>\n",
              "      <td>2014</td>\n",
              "      <td>csr</td>\n",
              "      <td>joco</td>\n",
              "      <td>2014 2015 sustainability report 2014 2015 sust...</td>\n",
              "      <td>33099</td>\n",
              "      <td>2014 2015 sustainability report 2014 2015 sust...</td>\n",
              "    </tr>\n",
              "    <tr>\n",
              "      <th>14</th>\n",
              "      <td>cocacola_2021_csr</td>\n",
              "      <td>cocacola</td>\n",
              "      <td>2021</td>\n",
              "      <td>csr</td>\n",
              "      <td>manual</td>\n",
              "      <td>refresh the world make a difference 2021 busin...</td>\n",
              "      <td>43304</td>\n",
              "      <td>refresh world make difference 2021 business es...</td>\n",
              "    </tr>\n",
              "    <tr>\n",
              "      <th>15</th>\n",
              "      <td>pepsico_2006_csr</td>\n",
              "      <td>pepsico</td>\n",
              "      <td>2006</td>\n",
              "      <td>csr</td>\n",
              "      <td>joco</td>\n",
              "      <td>performance with purpose pepsico corporate sus...</td>\n",
              "      <td>31309</td>\n",
              "      <td>performance purpose pepsico corporate sustaina...</td>\n",
              "    </tr>\n",
              "    <tr>\n",
              "      <th>16</th>\n",
              "      <td>pepsico_2007_csr</td>\n",
              "      <td>pepsico</td>\n",
              "      <td>2007</td>\n",
              "      <td>csr</td>\n",
              "      <td>joco</td>\n",
              "      <td>overview in a world that continues to experien...</td>\n",
              "      <td>22345</td>\n",
              "      <td>overview world continues experience unpreceden...</td>\n",
              "    </tr>\n",
              "    <tr>\n",
              "      <th>17</th>\n",
              "      <td>pepsico_2008_csr</td>\n",
              "      <td>pepsico</td>\n",
              "      <td>2008</td>\n",
              "      <td>csr</td>\n",
              "      <td>joco</td>\n",
              "      <td>performance with purpose creating a better tom...</td>\n",
              "      <td>37792</td>\n",
              "      <td>performance purpose creating better tomorrow f...</td>\n",
              "    </tr>\n",
              "    <tr>\n",
              "      <th>18</th>\n",
              "      <td>pepsico_2009_csr</td>\n",
              "      <td>pepsico</td>\n",
              "      <td>2009</td>\n",
              "      <td>csr</td>\n",
              "      <td>joco</td>\n",
              "      <td>performance with purpose investing in sustaina...</td>\n",
              "      <td>11226</td>\n",
              "      <td>performance purpose investing sustainable grow...</td>\n",
              "    </tr>\n",
              "    <tr>\n",
              "      <th>19</th>\n",
              "      <td>pepsico_2010_csr</td>\n",
              "      <td>pepsico</td>\n",
              "      <td>2010</td>\n",
              "      <td>csr</td>\n",
              "      <td>joco</td>\n",
              "      <td>performance with purpose the promise of pepsic...</td>\n",
              "      <td>9711</td>\n",
              "      <td>performance purpose promise pepsico sustainabi...</td>\n",
              "    </tr>\n",
              "    <tr>\n",
              "      <th>20</th>\n",
              "      <td>pepsico_20112012_csr</td>\n",
              "      <td>pepsico</td>\n",
              "      <td>2011</td>\n",
              "      <td>csr</td>\n",
              "      <td>joco</td>\n",
              "      <td>performance with purpose sustainability report...</td>\n",
              "      <td>11827</td>\n",
              "      <td>performance purpose sustainability report 2011...</td>\n",
              "    </tr>\n",
              "    <tr>\n",
              "      <th>21</th>\n",
              "      <td>pepsico_2013_csr</td>\n",
              "      <td>pepsico</td>\n",
              "      <td>2013</td>\n",
              "      <td>csr</td>\n",
              "      <td>joco</td>\n",
              "      <td>performance with purpose sustainability report...</td>\n",
              "      <td>18750</td>\n",
              "      <td>performance purpose sustainability report 2013...</td>\n",
              "    </tr>\n",
              "    <tr>\n",
              "      <th>22</th>\n",
              "      <td>pepsico_2014_csr</td>\n",
              "      <td>pepsico</td>\n",
              "      <td>2014</td>\n",
              "      <td>csr</td>\n",
              "      <td>joco</td>\n",
              "      <td>performance with purpose sustainability report...</td>\n",
              "      <td>7260</td>\n",
              "      <td>performance purpose sustainability report 2014...</td>\n",
              "    </tr>\n",
              "    <tr>\n",
              "      <th>23</th>\n",
              "      <td>pepsico_2021_csr</td>\n",
              "      <td>pepsico</td>\n",
              "      <td>2021</td>\n",
              "      <td>csr</td>\n",
              "      <td>manual</td>\n",
              "      <td>2021 esg summary the information within this p...</td>\n",
              "      <td>21775</td>\n",
              "      <td>2021 esg summary information within pdf june 2...</td>\n",
              "    </tr>\n",
              "    <tr>\n",
              "      <th>24</th>\n",
              "      <td>cocacola_2000</td>\n",
              "      <td>cocacola</td>\n",
              "      <td>2000</td>\n",
              "      <td>not_csr</td>\n",
              "      <td>joco</td>\n",
              "      <td>back to getfilings com united states securitie...</td>\n",
              "      <td>12998</td>\n",
              "      <td>back getfilings com united state security exch...</td>\n",
              "    </tr>\n",
              "    <tr>\n",
              "      <th>25</th>\n",
              "      <td>cocacola_2001</td>\n",
              "      <td>cocacola</td>\n",
              "      <td>2001</td>\n",
              "      <td>not_csr</td>\n",
              "      <td>joco</td>\n",
              "      <td>the coca cola company exists to benefit and re...</td>\n",
              "      <td>35173</td>\n",
              "      <td>coca cola company exists benefit refresh every...</td>\n",
              "    </tr>\n",
              "    <tr>\n",
              "      <th>26</th>\n",
              "      <td>cocacola_2002</td>\n",
              "      <td>cocacola</td>\n",
              "      <td>2002</td>\n",
              "      <td>not_csr</td>\n",
              "      <td>joco</td>\n",
              "      <td>chairman is statement on behalf of the board o...</td>\n",
              "      <td>41015</td>\n",
              "      <td>chairman statement behalf board director would...</td>\n",
              "    </tr>\n",
              "    <tr>\n",
              "      <th>27</th>\n",
              "      <td>cocacola_2003</td>\n",
              "      <td>cocacola</td>\n",
              "      <td>2003</td>\n",
              "      <td>not_csr</td>\n",
              "      <td>joco</td>\n",
              "      <td>united states securities and exchange commissi...</td>\n",
              "      <td>53371</td>\n",
              "      <td>united state security exchange commission wash...</td>\n",
              "    </tr>\n",
              "    <tr>\n",
              "      <th>28</th>\n",
              "      <td>cocacola_2004</td>\n",
              "      <td>cocacola</td>\n",
              "      <td>2004</td>\n",
              "      <td>not_csr</td>\n",
              "      <td>joco</td>\n",
              "      <td>united states securities and exchange commissi...</td>\n",
              "      <td>62496</td>\n",
              "      <td>united state security exchange commission wash...</td>\n",
              "    </tr>\n",
              "    <tr>\n",
              "      <th>29</th>\n",
              "      <td>cocacola_2005</td>\n",
              "      <td>cocacola</td>\n",
              "      <td>2005</td>\n",
              "      <td>not_csr</td>\n",
              "      <td>joco</td>\n",
              "      <td>united states securities and exchange commissi...</td>\n",
              "      <td>68546</td>\n",
              "      <td>united state security exchange commission wash...</td>\n",
              "    </tr>\n",
              "    <tr>\n",
              "      <th>30</th>\n",
              "      <td>cocacola_2006</td>\n",
              "      <td>cocacola</td>\n",
              "      <td>2006</td>\n",
              "      <td>not_csr</td>\n",
              "      <td>joco</td>\n",
              "      <td>united states securities and exchange commissi...</td>\n",
              "      <td>69467</td>\n",
              "      <td>united state security exchange commission wash...</td>\n",
              "    </tr>\n",
              "    <tr>\n",
              "      <th>31</th>\n",
              "      <td>cocacola_2007</td>\n",
              "      <td>cocacola</td>\n",
              "      <td>2007</td>\n",
              "      <td>not_csr</td>\n",
              "      <td>joco</td>\n",
              "      <td>united states securities and exchange commissi...</td>\n",
              "      <td>75611</td>\n",
              "      <td>united state security exchange commission wash...</td>\n",
              "    </tr>\n",
              "    <tr>\n",
              "      <th>32</th>\n",
              "      <td>cocacola_2008</td>\n",
              "      <td>cocacola</td>\n",
              "      <td>2008</td>\n",
              "      <td>not_csr</td>\n",
              "      <td>joco</td>\n",
              "      <td>united states securities and exchange commissi...</td>\n",
              "      <td>81287</td>\n",
              "      <td>united state security exchange commission wash...</td>\n",
              "    </tr>\n",
              "    <tr>\n",
              "      <th>33</th>\n",
              "      <td>cocacola_2009</td>\n",
              "      <td>cocacola</td>\n",
              "      <td>2009</td>\n",
              "      <td>not_csr</td>\n",
              "      <td>joco</td>\n",
              "      <td>united states securities and exchange commissi...</td>\n",
              "      <td>82851</td>\n",
              "      <td>united state security exchange commission wash...</td>\n",
              "    </tr>\n",
              "    <tr>\n",
              "      <th>34</th>\n",
              "      <td>cocacola_2010</td>\n",
              "      <td>cocacola</td>\n",
              "      <td>2010</td>\n",
              "      <td>not_csr</td>\n",
              "      <td>joco</td>\n",
              "      <td>united states securities and exchange commissi...</td>\n",
              "      <td>103238</td>\n",
              "      <td>united state security exchange commission wash...</td>\n",
              "    </tr>\n",
              "    <tr>\n",
              "      <th>35</th>\n",
              "      <td>cocacola_2011</td>\n",
              "      <td>cocacola</td>\n",
              "      <td>2011</td>\n",
              "      <td>not_csr</td>\n",
              "      <td>joco</td>\n",
              "      <td>united states securities and exchange commissi...</td>\n",
              "      <td>105447</td>\n",
              "      <td>united state security exchange commission wash...</td>\n",
              "    </tr>\n",
              "    <tr>\n",
              "      <th>36</th>\n",
              "      <td>cocacola_2012</td>\n",
              "      <td>cocacola</td>\n",
              "      <td>2012</td>\n",
              "      <td>not_csr</td>\n",
              "      <td>joco</td>\n",
              "      <td>united states securities and exchange commissi...</td>\n",
              "      <td>111364</td>\n",
              "      <td>united state security exchange commission wash...</td>\n",
              "    </tr>\n",
              "    <tr>\n",
              "      <th>37</th>\n",
              "      <td>cocacola_2013</td>\n",
              "      <td>cocacola</td>\n",
              "      <td>2013</td>\n",
              "      <td>not_csr</td>\n",
              "      <td>joco</td>\n",
              "      <td>united states securities and exchange commissi...</td>\n",
              "      <td>97829</td>\n",
              "      <td>united state security exchange commission wash...</td>\n",
              "    </tr>\n",
              "    <tr>\n",
              "      <th>38</th>\n",
              "      <td>cocacola_2014</td>\n",
              "      <td>cocacola</td>\n",
              "      <td>2014</td>\n",
              "      <td>not_csr</td>\n",
              "      <td>joco</td>\n",
              "      <td>united states securities and exchange commissi...</td>\n",
              "      <td>97413</td>\n",
              "      <td>united state security exchange commission wash...</td>\n",
              "    </tr>\n",
              "    <tr>\n",
              "      <th>39</th>\n",
              "      <td>cocacola_2015</td>\n",
              "      <td>cocacola</td>\n",
              "      <td>2015</td>\n",
              "      <td>not_csr</td>\n",
              "      <td>joco</td>\n",
              "      <td>united states securities and exchange commissi...</td>\n",
              "      <td>98961</td>\n",
              "      <td>united state security exchange commission wash...</td>\n",
              "    </tr>\n",
              "    <tr>\n",
              "      <th>40</th>\n",
              "      <td>pepsico_2005</td>\n",
              "      <td>pepsico</td>\n",
              "      <td>2005</td>\n",
              "      <td>not_csr</td>\n",
              "      <td>joco</td>\n",
              "      <td>on any day aro und the wo rld at any mome nt a...</td>\n",
              "      <td>41193</td>\n",
              "      <td>day aro und wo rld mome nt ny place mil lion c...</td>\n",
              "    </tr>\n",
              "    <tr>\n",
              "      <th>41</th>\n",
              "      <td>pepsico_2006</td>\n",
              "      <td>pepsico</td>\n",
              "      <td>2006</td>\n",
              "      <td>not_csr</td>\n",
              "      <td>joco</td>\n",
              "      <td>performance with purpose we believe performanc...</td>\n",
              "      <td>44158</td>\n",
              "      <td>performance purpose believe performance achiev...</td>\n",
              "    </tr>\n",
              "    <tr>\n",
              "      <th>42</th>\n",
              "      <td>pepsico_2007</td>\n",
              "      <td>pepsico</td>\n",
              "      <td>2007</td>\n",
              "      <td>not_csr</td>\n",
              "      <td>joco</td>\n",
              "      <td>common stock information shareholder informati...</td>\n",
              "      <td>41231</td>\n",
              "      <td>common stock information shareholder informati...</td>\n",
              "    </tr>\n",
              "    <tr>\n",
              "      <th>43</th>\n",
              "      <td>pepsico_2008</td>\n",
              "      <td>pepsico</td>\n",
              "      <td>2008</td>\n",
              "      <td>not_csr</td>\n",
              "      <td>joco</td>\n",
              "      <td>performance with purpose we are corporate head...</td>\n",
              "      <td>40351</td>\n",
              "      <td>performance purpose corporate headquarters pep...</td>\n",
              "    </tr>\n",
              "    <tr>\n",
              "      <th>44</th>\n",
              "      <td>pepsico_2009</td>\n",
              "      <td>pepsico</td>\n",
              "      <td>2009</td>\n",
              "      <td>not_csr</td>\n",
              "      <td>joco</td>\n",
              "      <td>corporate headquarters pepsico inc 700 anderso...</td>\n",
              "      <td>52897</td>\n",
              "      <td>corporate headquarters pepsico inc 700 anderso...</td>\n",
              "    </tr>\n",
              "    <tr>\n",
              "      <th>45</th>\n",
              "      <td>pepsico_2010</td>\n",
              "      <td>pepsico</td>\n",
              "      <td>2010</td>\n",
              "      <td>not_csr</td>\n",
              "      <td>joco</td>\n",
              "      <td>performance with purpose the promise of pepsic...</td>\n",
              "      <td>54062</td>\n",
              "      <td>performance purpose promise pepsico pepsico in...</td>\n",
              "    </tr>\n",
              "    <tr>\n",
              "      <th>46</th>\n",
              "      <td>pepsico_2011</td>\n",
              "      <td>pepsico</td>\n",
              "      <td>2011</td>\n",
              "      <td>not_csr</td>\n",
              "      <td>joco</td>\n",
              "      <td>the power of 2011 annual report table of conte...</td>\n",
              "      <td>43508</td>\n",
              "      <td>power 2011 annual report table content ceo let...</td>\n",
              "    </tr>\n",
              "    <tr>\n",
              "      <th>47</th>\n",
              "      <td>pepsico_2012</td>\n",
              "      <td>pepsico</td>\n",
              "      <td>2012</td>\n",
              "      <td>not_csr</td>\n",
              "      <td>joco</td>\n",
              "      <td>letter to shareholders financial highlights th...</td>\n",
              "      <td>52596</td>\n",
              "      <td>letter shareholder financial highlight breadth...</td>\n",
              "    </tr>\n",
              "    <tr>\n",
              "      <th>48</th>\n",
              "      <td>pepsico_2013</td>\n",
              "      <td>pepsico</td>\n",
              "      <td>2013</td>\n",
              "      <td>not_csr</td>\n",
              "      <td>joco</td>\n",
              "      <td>2013 annual report letter to shareholders fina...</td>\n",
              "      <td>66385</td>\n",
              "      <td>2013 annual report letter shareholder financia...</td>\n",
              "    </tr>\n",
              "    <tr>\n",
              "      <th>49</th>\n",
              "      <td>pepsico_2014</td>\n",
              "      <td>pepsico</td>\n",
              "      <td>2014</td>\n",
              "      <td>not_csr</td>\n",
              "      <td>joco</td>\n",
              "      <td>pepsico pepsico 2014 annual report years growi...</td>\n",
              "      <td>69294</td>\n",
              "      <td>pepsico pepsico 2014 annual report year growin...</td>\n",
              "    </tr>\n",
              "    <tr>\n",
              "      <th>50</th>\n",
              "      <td>pepsico_2015</td>\n",
              "      <td>pepsico</td>\n",
              "      <td>2015</td>\n",
              "      <td>not_csr</td>\n",
              "      <td>joco</td>\n",
              "      <td>i 2015 annual report i performance with purpos...</td>\n",
              "      <td>70135</td>\n",
              "      <td>2015 annual report performance purpose pepsico...</td>\n",
              "    </tr>\n",
              "  </tbody>\n",
              "</table>\n",
              "</div>"
            ],
            "text/plain": [
              "                     file   company  year     type  source  \\\n",
              "0       comerica_2021_csr  comerica  2021      csr  manual   \n",
              "1            ibm_2021_csr       ibm  2021      csr  manual   \n",
              "2       cocacola_2003_csr  cocacola  2003      csr    joco   \n",
              "3       cocacola_2004_csr  cocacola  2004      csr    joco   \n",
              "4       cocacola_2005_csr  cocacola  2005      csr    joco   \n",
              "5       cocacola_2006_csr  cocacola  2006      csr    joco   \n",
              "6   cocacola_20072008_csr  cocacola  2007      csr    joco   \n",
              "7   cocacola_20082009_csr  cocacola  2008      csr    joco   \n",
              "8   cocacola_20092010_csr  cocacola  2009      csr    joco   \n",
              "9   cocacola_20102011_csr  cocacola  2010      csr    joco   \n",
              "10  cocacola_20112012_csr  cocacola  2011      csr    joco   \n",
              "11  cocacola_20122013_csr  cocacola  2012      csr    joco   \n",
              "12  cocacola_20132014_csr  cocacola  2013      csr    joco   \n",
              "13  cocacola_20142015_csr  cocacola  2014      csr    joco   \n",
              "14      cocacola_2021_csr  cocacola  2021      csr  manual   \n",
              "15       pepsico_2006_csr   pepsico  2006      csr    joco   \n",
              "16       pepsico_2007_csr   pepsico  2007      csr    joco   \n",
              "17       pepsico_2008_csr   pepsico  2008      csr    joco   \n",
              "18       pepsico_2009_csr   pepsico  2009      csr    joco   \n",
              "19       pepsico_2010_csr   pepsico  2010      csr    joco   \n",
              "20   pepsico_20112012_csr   pepsico  2011      csr    joco   \n",
              "21       pepsico_2013_csr   pepsico  2013      csr    joco   \n",
              "22       pepsico_2014_csr   pepsico  2014      csr    joco   \n",
              "23       pepsico_2021_csr   pepsico  2021      csr  manual   \n",
              "24          cocacola_2000  cocacola  2000  not_csr    joco   \n",
              "25          cocacola_2001  cocacola  2001  not_csr    joco   \n",
              "26          cocacola_2002  cocacola  2002  not_csr    joco   \n",
              "27          cocacola_2003  cocacola  2003  not_csr    joco   \n",
              "28          cocacola_2004  cocacola  2004  not_csr    joco   \n",
              "29          cocacola_2005  cocacola  2005  not_csr    joco   \n",
              "30          cocacola_2006  cocacola  2006  not_csr    joco   \n",
              "31          cocacola_2007  cocacola  2007  not_csr    joco   \n",
              "32          cocacola_2008  cocacola  2008  not_csr    joco   \n",
              "33          cocacola_2009  cocacola  2009  not_csr    joco   \n",
              "34          cocacola_2010  cocacola  2010  not_csr    joco   \n",
              "35          cocacola_2011  cocacola  2011  not_csr    joco   \n",
              "36          cocacola_2012  cocacola  2012  not_csr    joco   \n",
              "37          cocacola_2013  cocacola  2013  not_csr    joco   \n",
              "38          cocacola_2014  cocacola  2014  not_csr    joco   \n",
              "39          cocacola_2015  cocacola  2015  not_csr    joco   \n",
              "40           pepsico_2005   pepsico  2005  not_csr    joco   \n",
              "41           pepsico_2006   pepsico  2006  not_csr    joco   \n",
              "42           pepsico_2007   pepsico  2007  not_csr    joco   \n",
              "43           pepsico_2008   pepsico  2008  not_csr    joco   \n",
              "44           pepsico_2009   pepsico  2009  not_csr    joco   \n",
              "45           pepsico_2010   pepsico  2010  not_csr    joco   \n",
              "46           pepsico_2011   pepsico  2011  not_csr    joco   \n",
              "47           pepsico_2012   pepsico  2012  not_csr    joco   \n",
              "48           pepsico_2013   pepsico  2013  not_csr    joco   \n",
              "49           pepsico_2014   pepsico  2014  not_csr    joco   \n",
              "50           pepsico_2015   pepsico  2015  not_csr    joco   \n",
              "\n",
              "                                             contents  tokens  \\\n",
              "0   raise your expectations tm 2021 corporate resp...   40176   \n",
              "1   2021 esg report ibm impact contents ethical im...   21853   \n",
              "2   2003 environmental report summary of 2003 impa...   10442   \n",
              "3   every day around the globe 2004 environmental ...   15771   \n",
              "4   2005 environmental report www coca cola com in...    4271   \n",
              "5   2006 corporate responsibility review the mark ...   12690   \n",
              "6   act inspire make a difference a dialogue of pr...   24082   \n",
              "7   the coca cola company 2008 2009 sustainability...   16978   \n",
              "8   2009 2010 sustainability review our commitment...   20800   \n",
              "9   2010 2011 sustainability report reasons to bel...   37552   \n",
              "10  search gri report performance highlights muhta...    1188   \n",
              "11  2012 2013 gri report table of contents introdu...   46679   \n",
              "12  innovating for a sustainable future our journe...   30673   \n",
              "13  2014 2015 sustainability report 2014 2015 sust...   33099   \n",
              "14  refresh the world make a difference 2021 busin...   43304   \n",
              "15  performance with purpose pepsico corporate sus...   31309   \n",
              "16  overview in a world that continues to experien...   22345   \n",
              "17  performance with purpose creating a better tom...   37792   \n",
              "18  performance with purpose investing in sustaina...   11226   \n",
              "19  performance with purpose the promise of pepsic...    9711   \n",
              "20  performance with purpose sustainability report...   11827   \n",
              "21  performance with purpose sustainability report...   18750   \n",
              "22  performance with purpose sustainability report...    7260   \n",
              "23  2021 esg summary the information within this p...   21775   \n",
              "24  back to getfilings com united states securitie...   12998   \n",
              "25  the coca cola company exists to benefit and re...   35173   \n",
              "26  chairman is statement on behalf of the board o...   41015   \n",
              "27  united states securities and exchange commissi...   53371   \n",
              "28  united states securities and exchange commissi...   62496   \n",
              "29  united states securities and exchange commissi...   68546   \n",
              "30  united states securities and exchange commissi...   69467   \n",
              "31  united states securities and exchange commissi...   75611   \n",
              "32  united states securities and exchange commissi...   81287   \n",
              "33  united states securities and exchange commissi...   82851   \n",
              "34  united states securities and exchange commissi...  103238   \n",
              "35  united states securities and exchange commissi...  105447   \n",
              "36  united states securities and exchange commissi...  111364   \n",
              "37  united states securities and exchange commissi...   97829   \n",
              "38  united states securities and exchange commissi...   97413   \n",
              "39  united states securities and exchange commissi...   98961   \n",
              "40  on any day aro und the wo rld at any mome nt a...   41193   \n",
              "41  performance with purpose we believe performanc...   44158   \n",
              "42  common stock information shareholder informati...   41231   \n",
              "43  performance with purpose we are corporate head...   40351   \n",
              "44  corporate headquarters pepsico inc 700 anderso...   52897   \n",
              "45  performance with purpose the promise of pepsic...   54062   \n",
              "46  the power of 2011 annual report table of conte...   43508   \n",
              "47  letter to shareholders financial highlights th...   52596   \n",
              "48  2013 annual report letter to shareholders fina...   66385   \n",
              "49  pepsico pepsico 2014 annual report years growi...   69294   \n",
              "50  i 2015 annual report i performance with purpos...   70135   \n",
              "\n",
              "                                           lemmatized  \n",
              "0   raise expectation tm 2021 corporate responsibi...  \n",
              "1   2021 esg report ibm impact content ethical imp...  \n",
              "2   2003 environmental report summary 2003 impact ...  \n",
              "3   every day around globe 2004 environmental repo...  \n",
              "4   2005 environmental report www coca cola com re...  \n",
              "5   2006 corporate responsibility review mark make...  \n",
              "6   act inspire make difference dialogue progress ...  \n",
              "7   coca cola company 2008 2009 sustainability rev...  \n",
              "8   2009 2010 sustainability review commitment mak...  \n",
              "9   2010 2011 sustainability report reason believe...  \n",
              "10  search gri report performance highlight muhtar...  \n",
              "11  2012 2013 gri report table content introductio...  \n",
              "12  innovating sustainable future journey 2013 cor...  \n",
              "13  2014 2015 sustainability report 2014 2015 sust...  \n",
              "14  refresh world make difference 2021 business es...  \n",
              "15  performance purpose pepsico corporate sustaina...  \n",
              "16  overview world continues experience unpreceden...  \n",
              "17  performance purpose creating better tomorrow f...  \n",
              "18  performance purpose investing sustainable grow...  \n",
              "19  performance purpose promise pepsico sustainabi...  \n",
              "20  performance purpose sustainability report 2011...  \n",
              "21  performance purpose sustainability report 2013...  \n",
              "22  performance purpose sustainability report 2014...  \n",
              "23  2021 esg summary information within pdf june 2...  \n",
              "24  back getfilings com united state security exch...  \n",
              "25  coca cola company exists benefit refresh every...  \n",
              "26  chairman statement behalf board director would...  \n",
              "27  united state security exchange commission wash...  \n",
              "28  united state security exchange commission wash...  \n",
              "29  united state security exchange commission wash...  \n",
              "30  united state security exchange commission wash...  \n",
              "31  united state security exchange commission wash...  \n",
              "32  united state security exchange commission wash...  \n",
              "33  united state security exchange commission wash...  \n",
              "34  united state security exchange commission wash...  \n",
              "35  united state security exchange commission wash...  \n",
              "36  united state security exchange commission wash...  \n",
              "37  united state security exchange commission wash...  \n",
              "38  united state security exchange commission wash...  \n",
              "39  united state security exchange commission wash...  \n",
              "40  day aro und wo rld mome nt ny place mil lion c...  \n",
              "41  performance purpose believe performance achiev...  \n",
              "42  common stock information shareholder informati...  \n",
              "43  performance purpose corporate headquarters pep...  \n",
              "44  corporate headquarters pepsico inc 700 anderso...  \n",
              "45  performance purpose promise pepsico pepsico in...  \n",
              "46  power 2011 annual report table content ceo let...  \n",
              "47  letter shareholder financial highlight breadth...  \n",
              "48  2013 annual report letter shareholder financia...  \n",
              "49  pepsico pepsico 2014 annual report year growin...  \n",
              "50  2015 annual report performance purpose pepsico...  "
            ]
          },
          "execution_count": 52,
          "metadata": {},
          "output_type": "execute_result"
        }
      ],
      "source": [
        "# assign relative directory\n",
        "directory = os.path.join(sys.path[0], \"testdata\") ### INPUT FOLDER HERE ### \"testdata\\\\csr\"\n",
        "print(\"Your input directory is:\", directory)\n",
        "\n",
        "# list files in directory\n",
        "files_in_dir = list_files(directory)\n",
        "# files_in_dir = os.listdir(directory)\n",
        "\n",
        "# count files in directory\n",
        "print(\"Number of files:\",len(files_in_dir))\n",
        "\n",
        "# initialize dataframe to hold documents\n",
        "df = pd.DataFrame(columns=['file'])\n",
        "\n",
        "# iterate over files in the directory\n",
        "misc_files = []\n",
        "i = 0\n",
        "for f in files_in_dir:\n",
        "    if f.lower().endswith('.pdf'):\n",
        "        # print(\"Found pdf,\")\n",
        "        read_pdf(f,i)\n",
        "    elif f.lower().endswith('.txt'):\n",
        "        # print(\"Found txt,\")\n",
        "        read_txt(f,i)\n",
        "    # elif f.lower().endswith('desktop.ini'):\n",
        "    #     print(\"Hmm...\")\n",
        "    else:\n",
        "        print(\"Found something else.\")\n",
        "        misc_files.append(f)\n",
        "    i = i + 1\n",
        "\n",
        "if len(misc_files) > 0:\n",
        "    print(\"Warning, some files with dubious extensions were found but not parsed:\", print(misc_files))\n",
        "else:\n",
        "    print(\"All files read in.\")\n",
        "\n",
        "# tokenize contents\n",
        "print(\"Tokenizing data...\")\n",
        "df['tokenized'] = df.contents.copy().apply(lambda x: nltk.word_tokenize(x))\n",
        "\n",
        "# count words/tokens\n",
        "print(\"Counting words...\")\n",
        "df['tokens'] = df.tokenized.copy().apply(lambda x: len(x))\n",
        "\n",
        "# drop empty rows\n",
        "print(df.shape[0], \"documents, dropping empty ones if any...\")\n",
        "df = df[df['tokens'] > 0]\n",
        "print(df.shape[0], \"remaining.\")\n",
        "\n",
        "# set stopwords from nltk\n",
        "stop = set(stopwords.words('english'))\n",
        "\n",
        "# remove stopwords\n",
        "print(\"Removing stopwords...\")\n",
        "df['without_stopwords'] = df['tokenized'].copy().apply(lambda x: ' '.join([word for word in x if word not in (stop)]))\n",
        "\n",
        "# define lemmatizer module from nltk\n",
        "lemmatizer = WordNetLemmatizer()\n",
        "\n",
        "# lemmatize\n",
        "print(\"Lemmatizing data...\")\n",
        "df['lemmatized'] = df['without_stopwords'].copy().apply(lambda x: ' '.join([lemmatizer.lemmatize(word) for word in x.split()]))\n",
        "\n",
        "# reorder columns\n",
        "# df = df[['file', 'source', 'year', 'tokens', 'contents', 'tokenized', 'without_stopwords', 'lemmatized',]]\n",
        "\n",
        "# # drop unnecessary rows\n",
        "df = df.drop(columns=['tokenized','without_stopwords'])\n",
        "\n",
        "# drop addenda reports (optional)\n",
        "no_of_addenda = len(df[df['file'].str.contains(\"add\")])\n",
        "print(\"Found\", no_of_addenda, \"addenda, dropping it.\")\n",
        "df = df[df['file'].str.contains(\"add\") == False]\n",
        "df.reset_index(inplace=True, drop=True)\n",
        "\n",
        "# export\n",
        "print(\"Exporting...\")\n",
        "df.to_csv(\"parsed_documents.csv\")\n",
        "\n",
        "# done\n",
        "print(\"All done, no errors.\")\n",
        "df"
      ]
    },
    {
      "cell_type": "markdown",
      "metadata": {
        "id": "gy8vIlbCwQyQ"
      },
      "source": [
        "## TF-IDF\n",
        "\n",
        "The following block of code will read the dataframe of the parsed documents (imported from a previously saved `csv`), and we define the dataset to capture **tf-idf** (term frequency–inverse document frequency) scores of terms (unigrams, bigrams, trigrams, etc.) throughout the documents. Then, we should give list of the target terms we are looking for in the set of documents, in this example I am going to focus on ['diversity', 'equity', 'inclusion']. \n",
        "\n",
        ">Note: If you use the lemmatized contents, don't forget to search for singular terms instead of plural (e.g. 'human right' instead of 'human rights').\n",
        "\n",
        "You can also add additional \"stopwords\", words you want the vectorizer to ignore. \n",
        "We calculate the tf-idf scores for unigrams by iterating through every document and join the outputs together to get a dataframe that contains the scores of every document for the specific terms we are looking for. \n",
        "\n",
        ">Note that you can change the ngram range in line 14!\n",
        "\n",
        "Here we could also look at the top most \"important/salient\" terms in a specific document, relative to all the other documents in the corpus."
      ]
    },
    {
      "cell_type": "markdown",
      "metadata": {},
      "source": [
        "### Solution 1\n",
        "\n",
        "Obtain a simple set of scores on target terms that are easy to plot and manipulate."
      ]
    },
    {
      "cell_type": "code",
      "execution_count": 53,
      "metadata": {},
      "outputs": [
        {
          "name": "stdout",
          "output_type": "stream",
          "text": [
            "Working on #0, comerica_2021_csr\n",
            "Working on #1, ibm_2021_csr\n",
            "Working on #2, cocacola_2003_csr\n",
            "Working on #3, cocacola_2004_csr\n",
            "Working on #4, cocacola_2005_csr\n",
            "Working on #5, cocacola_2006_csr\n",
            "Working on #6, cocacola_20072008_csr\n",
            "Working on #7, cocacola_20082009_csr\n",
            "Working on #8, cocacola_20092010_csr\n",
            "Working on #9, cocacola_20102011_csr\n",
            "Working on #10, cocacola_20112012_csr\n",
            "Working on #11, cocacola_20122013_csr\n",
            "Working on #12, cocacola_20132014_csr\n",
            "Working on #13, cocacola_20142015_csr\n",
            "Working on #14, cocacola_2021_csr\n",
            "Working on #15, pepsico_2006_csr\n",
            "Working on #16, pepsico_2007_csr\n",
            "Working on #17, pepsico_2008_csr\n",
            "Working on #18, pepsico_2009_csr\n",
            "Working on #19, pepsico_2010_csr\n",
            "Working on #20, pepsico_20112012_csr\n",
            "Working on #21, pepsico_2013_csr\n",
            "Working on #22, pepsico_2014_csr\n",
            "Working on #23, pepsico_2021_csr\n",
            "Working on #24, cocacola_2000\n",
            "Working on #25, cocacola_2001\n",
            "Working on #26, cocacola_2002\n",
            "Working on #27, cocacola_2003\n",
            "Working on #28, cocacola_2004\n",
            "Working on #29, cocacola_2005\n",
            "Working on #30, cocacola_2006\n",
            "Working on #31, cocacola_2007\n",
            "Working on #32, cocacola_2008\n",
            "Working on #33, cocacola_2009\n",
            "Working on #34, cocacola_2010\n",
            "Working on #35, cocacola_2011\n",
            "Working on #36, cocacola_2012\n",
            "Working on #37, cocacola_2013\n",
            "Working on #38, cocacola_2014\n",
            "Working on #39, cocacola_2015\n",
            "Working on #40, pepsico_2005\n",
            "Working on #41, pepsico_2006\n",
            "Working on #42, pepsico_2007\n",
            "Working on #43, pepsico_2008\n",
            "Working on #44, pepsico_2009\n",
            "Working on #45, pepsico_2010\n",
            "Working on #46, pepsico_2011\n",
            "Working on #47, pepsico_2012\n",
            "Working on #48, pepsico_2013\n",
            "Working on #49, pepsico_2014\n",
            "Working on #50, pepsico_2015\n"
          ]
        },
        {
          "data": {
            "text/html": [
              "<div>\n",
              "<style scoped>\n",
              "    .dataframe tbody tr th:only-of-type {\n",
              "        vertical-align: middle;\n",
              "    }\n",
              "\n",
              "    .dataframe tbody tr th {\n",
              "        vertical-align: top;\n",
              "    }\n",
              "\n",
              "    .dataframe thead th {\n",
              "        text-align: right;\n",
              "    }\n",
              "</style>\n",
              "<table border=\"1\" class=\"dataframe\">\n",
              "  <thead>\n",
              "    <tr style=\"text-align: right;\">\n",
              "      <th></th>\n",
              "      <th>term</th>\n",
              "      <th>comerica_2021_csr</th>\n",
              "      <th>ibm_2021_csr</th>\n",
              "      <th>cocacola_2003_csr</th>\n",
              "      <th>cocacola_2004_csr</th>\n",
              "      <th>cocacola_2005_csr</th>\n",
              "      <th>cocacola_2006_csr</th>\n",
              "      <th>cocacola_20072008_csr</th>\n",
              "      <th>cocacola_20082009_csr</th>\n",
              "      <th>cocacola_20092010_csr</th>\n",
              "      <th>...</th>\n",
              "      <th>pepsico_2006</th>\n",
              "      <th>pepsico_2007</th>\n",
              "      <th>pepsico_2008</th>\n",
              "      <th>pepsico_2009</th>\n",
              "      <th>pepsico_2010</th>\n",
              "      <th>pepsico_2011</th>\n",
              "      <th>pepsico_2012</th>\n",
              "      <th>pepsico_2013</th>\n",
              "      <th>pepsico_2014</th>\n",
              "      <th>pepsico_2015</th>\n",
              "    </tr>\n",
              "  </thead>\n",
              "  <tbody>\n",
              "    <tr>\n",
              "      <th>0</th>\n",
              "      <td>diversity</td>\n",
              "      <td>0.076993</td>\n",
              "      <td>0.013458</td>\n",
              "      <td>0.000000</td>\n",
              "      <td>0.001891</td>\n",
              "      <td>0.0</td>\n",
              "      <td>0.017326</td>\n",
              "      <td>0.049308</td>\n",
              "      <td>0.023299</td>\n",
              "      <td>0.019748</td>\n",
              "      <td>...</td>\n",
              "      <td>0.022894</td>\n",
              "      <td>0.023039</td>\n",
              "      <td>0.003228</td>\n",
              "      <td>0.007204</td>\n",
              "      <td>0.004375</td>\n",
              "      <td>0.001429</td>\n",
              "      <td>0.004334</td>\n",
              "      <td>0.003055</td>\n",
              "      <td>0.005896</td>\n",
              "      <td>0.002479</td>\n",
              "    </tr>\n",
              "    <tr>\n",
              "      <th>1</th>\n",
              "      <td>inclusion</td>\n",
              "      <td>0.069016</td>\n",
              "      <td>0.010863</td>\n",
              "      <td>0.003015</td>\n",
              "      <td>0.000000</td>\n",
              "      <td>0.0</td>\n",
              "      <td>0.000000</td>\n",
              "      <td>0.000000</td>\n",
              "      <td>0.003818</td>\n",
              "      <td>0.001888</td>\n",
              "      <td>...</td>\n",
              "      <td>0.017507</td>\n",
              "      <td>0.020329</td>\n",
              "      <td>0.001851</td>\n",
              "      <td>0.004507</td>\n",
              "      <td>0.003584</td>\n",
              "      <td>0.002459</td>\n",
              "      <td>0.004262</td>\n",
              "      <td>0.002336</td>\n",
              "      <td>0.003945</td>\n",
              "      <td>0.001706</td>\n",
              "    </tr>\n",
              "    <tr>\n",
              "      <th>2</th>\n",
              "      <td>equity</td>\n",
              "      <td>0.052188</td>\n",
              "      <td>0.008243</td>\n",
              "      <td>0.000000</td>\n",
              "      <td>0.000000</td>\n",
              "      <td>0.0</td>\n",
              "      <td>0.010916</td>\n",
              "      <td>0.003020</td>\n",
              "      <td>0.000000</td>\n",
              "      <td>0.000000</td>\n",
              "      <td>...</td>\n",
              "      <td>0.030850</td>\n",
              "      <td>0.040055</td>\n",
              "      <td>0.046259</td>\n",
              "      <td>0.042599</td>\n",
              "      <td>0.078551</td>\n",
              "      <td>0.067752</td>\n",
              "      <td>0.049152</td>\n",
              "      <td>0.031438</td>\n",
              "      <td>0.030879</td>\n",
              "      <td>0.031151</td>\n",
              "    </tr>\n",
              "  </tbody>\n",
              "</table>\n",
              "<p>3 rows × 52 columns</p>\n",
              "</div>"
            ],
            "text/plain": [
              "        term  comerica_2021_csr  ibm_2021_csr  cocacola_2003_csr  \\\n",
              "0  diversity           0.076993      0.013458           0.000000   \n",
              "1  inclusion           0.069016      0.010863           0.003015   \n",
              "2     equity           0.052188      0.008243           0.000000   \n",
              "\n",
              "   cocacola_2004_csr  cocacola_2005_csr  cocacola_2006_csr  \\\n",
              "0           0.001891                0.0           0.017326   \n",
              "1           0.000000                0.0           0.000000   \n",
              "2           0.000000                0.0           0.010916   \n",
              "\n",
              "   cocacola_20072008_csr  cocacola_20082009_csr  cocacola_20092010_csr  ...  \\\n",
              "0               0.049308               0.023299               0.019748  ...   \n",
              "1               0.000000               0.003818               0.001888  ...   \n",
              "2               0.003020               0.000000               0.000000  ...   \n",
              "\n",
              "   pepsico_2006  pepsico_2007  pepsico_2008  pepsico_2009  pepsico_2010  \\\n",
              "0      0.022894      0.023039      0.003228      0.007204      0.004375   \n",
              "1      0.017507      0.020329      0.001851      0.004507      0.003584   \n",
              "2      0.030850      0.040055      0.046259      0.042599      0.078551   \n",
              "\n",
              "   pepsico_2011  pepsico_2012  pepsico_2013  pepsico_2014  pepsico_2015  \n",
              "0      0.001429      0.004334      0.003055      0.005896      0.002479  \n",
              "1      0.002459      0.004262      0.002336      0.003945      0.001706  \n",
              "2      0.067752      0.049152      0.031438      0.030879      0.031151  \n",
              "\n",
              "[3 rows x 52 columns]"
            ]
          },
          "execution_count": 53,
          "metadata": {},
          "output_type": "execute_result"
        }
      ],
      "source": [
        "# load in preprocessed data\n",
        "df = pd.read_csv(\"parsed_documents.csv\", index_col=0)\n",
        "\n",
        "# define the dataset as a list of document contents (text)\n",
        "dataset = df['lemmatized'].tolist()\n",
        "\n",
        "# define a list of target terms (keywords and phrases) to filter for later\n",
        "filter = ['diversity', 'equity', 'inclusion']\n",
        "\n",
        "# manually add to the list of stopwords if needed\n",
        "custom_stop_words = text.ENGLISH_STOP_WORDS.union([\"\"])\n",
        "\n",
        "# set vectorizer\n",
        "tfIdfVectorizer=TfidfVectorizer(use_idf=True, ngram_range=(1,1), stop_words=custom_stop_words)\n",
        "\n",
        "# turn text into tf-idf vectors\n",
        "tfIdf = tfIdfVectorizer.fit_transform(dataset)\n",
        "\n",
        "# correlation matrix (for later)\n",
        "corr_matrix = ((tfIdf * tfIdf.T).A)\n",
        "\n",
        "# list of filenames and their no.\n",
        "filenames = df['file'].tolist()\n",
        "filenames = [re.sub(\"\\.\\w+\", '', i) for i in filenames]\n",
        "no_of_files = len(filenames)\n",
        "\n",
        "# initialize dataframe to hold tfidf scores\n",
        "df_all_scores = pd.DataFrame(columns=['term'])\n",
        "df_filtered_scores = pd.DataFrame(columns=['term'])\n",
        "\n",
        "# loop through all documents and get scores for each term term\n",
        "for i in range(no_of_files):\n",
        "    # get tf-idf scores for words/phrases\n",
        "    print(\"Working on #\" + str(i) + \",\", filenames[i])\n",
        "    df_scores = pd.DataFrame(tfIdf[i].T.todense(), index=tfIdfVectorizer.get_feature_names_out(), columns=[filenames[i]])\n",
        "\n",
        "    # sort values according to score\n",
        "    df_scores = df_scores.sort_values(filenames[i], ascending=False)\n",
        "\n",
        "    # reset index and rename it term\n",
        "    df_scores.reset_index(inplace=True)\n",
        "    df_scores.rename(columns = {'index':'term'}, inplace = True)\n",
        "\n",
        "    # merge all tfidf scores\n",
        "    # df_all_scores = pd.merge(df_all_scores, df_scores.head(100), how='outer', on = 'term')\n",
        "    # df.fillna(0.0)\n",
        "\n",
        "    # filter for manual selection \n",
        "    df_filtered = df_scores[df_scores['term'].isin(filter)]\n",
        "\n",
        "    # merge new tfidf scores with the rest\n",
        "    df_filtered_scores = pd.merge(df_filtered_scores, df_filtered, how='outer', on = 'term')\n",
        "\n",
        "# export\n",
        "df_filtered_scores.to_csv(\"tfidf.csv\")\n",
        "\n",
        "df_filtered_scores"
      ]
    },
    {
      "cell_type": "markdown",
      "metadata": {},
      "source": [
        "#### Plot\n",
        "\n",
        "The following cell creates a plot using the [plotly](https://plotly.com/python/) Python visualization library. Before the actual plot, you can customize what you want to see."
      ]
    },
    {
      "cell_type": "code",
      "execution_count": 54,
      "metadata": {},
      "outputs": [
        {
          "data": {
            "application/vnd.plotly.v1+json": {
              "config": {
                "plotlyServerURL": "https://plot.ly"
              },
              "data": [
                {
                  "alignmentgroup": "True",
                  "hovertemplate": "term=diversity<br>index=%{x}<br>value=%{y}<extra></extra>",
                  "legendgroup": "diversity",
                  "marker": {
                    "color": "#636efa",
                    "pattern": {
                      "shape": ""
                    }
                  },
                  "name": "diversity",
                  "offsetgroup": "diversity",
                  "orientation": "v",
                  "showlegend": true,
                  "textposition": "auto",
                  "type": "bar",
                  "x": [
                    "comerica_2021_csr",
                    "ibm_2021_csr",
                    "cocacola_2003_csr",
                    "cocacola_2004_csr",
                    "cocacola_2005_csr",
                    "cocacola_2006_csr",
                    "cocacola_20072008_csr",
                    "cocacola_20082009_csr",
                    "cocacola_20092010_csr",
                    "cocacola_20102011_csr",
                    "cocacola_20112012_csr",
                    "cocacola_20122013_csr",
                    "cocacola_20132014_csr",
                    "cocacola_20142015_csr",
                    "cocacola_2021_csr",
                    "pepsico_2006_csr",
                    "pepsico_2007_csr",
                    "pepsico_2008_csr",
                    "pepsico_2009_csr",
                    "pepsico_2010_csr",
                    "pepsico_20112012_csr",
                    "pepsico_2013_csr",
                    "pepsico_2014_csr",
                    "pepsico_2021_csr",
                    "cocacola_2000",
                    "cocacola_2001",
                    "cocacola_2002",
                    "cocacola_2003",
                    "cocacola_2004",
                    "cocacola_2005",
                    "cocacola_2006",
                    "cocacola_2007",
                    "cocacola_2008",
                    "cocacola_2009",
                    "cocacola_2010",
                    "cocacola_2011",
                    "cocacola_2012",
                    "cocacola_2013",
                    "cocacola_2014",
                    "cocacola_2015",
                    "pepsico_2005",
                    "pepsico_2006",
                    "pepsico_2007",
                    "pepsico_2008",
                    "pepsico_2009",
                    "pepsico_2010",
                    "pepsico_2011",
                    "pepsico_2012",
                    "pepsico_2013",
                    "pepsico_2014",
                    "pepsico_2015"
                  ],
                  "xaxis": "x",
                  "y": [
                    0.0769927014351063,
                    0.0134583386352757,
                    0,
                    0.0018913490052492,
                    0,
                    0.0173263697462112,
                    0.0493079269271453,
                    0.0232991155362298,
                    0.0197478303021142,
                    0.0107182671760747,
                    0,
                    0.0190215187049078,
                    0.0436694783600829,
                    0.014241603362931,
                    0.023516725119582,
                    0.0475008431677699,
                    0.0413875239092956,
                    0.035035511404071,
                    0.062517403589208,
                    0.0268632783739652,
                    0.0188410968879343,
                    0.031600777318247,
                    0.0243301661645146,
                    0.0112017369910927,
                    0,
                    0.0031891226130925,
                    0.0012632702378344,
                    0,
                    0,
                    0.0004493005101918,
                    0.0004272223636326,
                    0.0003906254284294,
                    0.0003694031584357,
                    0.0003737445208465,
                    0.000294961986106,
                    0.0002881272808171,
                    0.0002707165315142,
                    0.0003095912901312,
                    0.0006288821255723,
                    0.0009369333206976,
                    0.0201239691630325,
                    0.022894107544339,
                    0.0230391574762724,
                    0.0032275777827103,
                    0.0072037859711089,
                    0.0043748877452787,
                    0.0014291372234971,
                    0.0043344072632017,
                    0.0030551914807846,
                    0.0058963498315981,
                    0.0024785214333851
                  ],
                  "yaxis": "y"
                },
                {
                  "alignmentgroup": "True",
                  "hovertemplate": "term=inclusion<br>index=%{x}<br>value=%{y}<extra></extra>",
                  "legendgroup": "inclusion",
                  "marker": {
                    "color": "#EF553B",
                    "pattern": {
                      "shape": ""
                    }
                  },
                  "name": "inclusion",
                  "offsetgroup": "inclusion",
                  "orientation": "v",
                  "showlegend": true,
                  "textposition": "auto",
                  "type": "bar",
                  "x": [
                    "comerica_2021_csr",
                    "ibm_2021_csr",
                    "cocacola_2003_csr",
                    "cocacola_2004_csr",
                    "cocacola_2005_csr",
                    "cocacola_2006_csr",
                    "cocacola_20072008_csr",
                    "cocacola_20082009_csr",
                    "cocacola_20092010_csr",
                    "cocacola_20102011_csr",
                    "cocacola_20112012_csr",
                    "cocacola_20122013_csr",
                    "cocacola_20132014_csr",
                    "cocacola_20142015_csr",
                    "cocacola_2021_csr",
                    "pepsico_2006_csr",
                    "pepsico_2007_csr",
                    "pepsico_2008_csr",
                    "pepsico_2009_csr",
                    "pepsico_2010_csr",
                    "pepsico_20112012_csr",
                    "pepsico_2013_csr",
                    "pepsico_2014_csr",
                    "pepsico_2021_csr",
                    "cocacola_2000",
                    "cocacola_2001",
                    "cocacola_2002",
                    "cocacola_2003",
                    "cocacola_2004",
                    "cocacola_2005",
                    "cocacola_2006",
                    "cocacola_2007",
                    "cocacola_2008",
                    "cocacola_2009",
                    "cocacola_2010",
                    "cocacola_2011",
                    "cocacola_2012",
                    "cocacola_2013",
                    "cocacola_2014",
                    "cocacola_2015",
                    "pepsico_2005",
                    "pepsico_2006",
                    "pepsico_2007",
                    "pepsico_2008",
                    "pepsico_2009",
                    "pepsico_2010",
                    "pepsico_2011",
                    "pepsico_2012",
                    "pepsico_2013",
                    "pepsico_2014",
                    "pepsico_2015"
                  ],
                  "xaxis": "x",
                  "y": [
                    0.0690161870710807,
                    0.0108633557427089,
                    0.0030154949044367,
                    0,
                    0,
                    0,
                    0,
                    0.0038178961239768,
                    0.0018876473105852,
                    0.003688319599586,
                    0,
                    0.0063637732991623,
                    0.0150273351366651,
                    0.0070010763533921,
                    0.0211424751983032,
                    0.040597328169975,
                    0.0392884957873083,
                    0.0341593894733791,
                    0.0654749393599298,
                    0.0192584682976628,
                    0.0135073114330355,
                    0.0090619254983379,
                    0.0093026468273067,
                    0.0154187558174999,
                    0.0037305699181804,
                    0,
                    0,
                    0.0031126518829675,
                    0.0027422816729663,
                    0.0010307411640467,
                    0.0009800916455881,
                    0.0008961345461942,
                    0.0008474484958095,
                    0.0008574080236608,
                    0,
                    0,
                    0,
                    0,
                    0,
                    0,
                    0.0136400834634611,
                    0.0175071387076664,
                    0.020328529019482,
                    0.0018510980987878,
                    0.0045071507026253,
                    0.0035844422805579,
                    0.002458939838563,
                    0.0042615308716374,
                    0.0023363068828513,
                    0.0039453246823202,
                    0.0017057942353133
                  ],
                  "yaxis": "y"
                },
                {
                  "alignmentgroup": "True",
                  "hovertemplate": "term=equity<br>index=%{x}<br>value=%{y}<extra></extra>",
                  "legendgroup": "equity",
                  "marker": {
                    "color": "#00cc96",
                    "pattern": {
                      "shape": ""
                    }
                  },
                  "name": "equity",
                  "offsetgroup": "equity",
                  "orientation": "v",
                  "showlegend": true,
                  "textposition": "auto",
                  "type": "bar",
                  "x": [
                    "comerica_2021_csr",
                    "ibm_2021_csr",
                    "cocacola_2003_csr",
                    "cocacola_2004_csr",
                    "cocacola_2005_csr",
                    "cocacola_2006_csr",
                    "cocacola_20072008_csr",
                    "cocacola_20082009_csr",
                    "cocacola_20092010_csr",
                    "cocacola_20102011_csr",
                    "cocacola_20112012_csr",
                    "cocacola_20122013_csr",
                    "cocacola_20132014_csr",
                    "cocacola_20142015_csr",
                    "cocacola_2021_csr",
                    "pepsico_2006_csr",
                    "pepsico_2007_csr",
                    "pepsico_2008_csr",
                    "pepsico_2009_csr",
                    "pepsico_2010_csr",
                    "pepsico_20112012_csr",
                    "pepsico_2013_csr",
                    "pepsico_2014_csr",
                    "pepsico_2021_csr",
                    "cocacola_2000",
                    "cocacola_2001",
                    "cocacola_2002",
                    "cocacola_2003",
                    "cocacola_2004",
                    "cocacola_2005",
                    "cocacola_2006",
                    "cocacola_2007",
                    "cocacola_2008",
                    "cocacola_2009",
                    "cocacola_2010",
                    "cocacola_2011",
                    "cocacola_2012",
                    "cocacola_2013",
                    "cocacola_2014",
                    "cocacola_2015",
                    "pepsico_2005",
                    "pepsico_2006",
                    "pepsico_2007",
                    "pepsico_2008",
                    "pepsico_2009",
                    "pepsico_2010",
                    "pepsico_2011",
                    "pepsico_2012",
                    "pepsico_2013",
                    "pepsico_2014",
                    "pepsico_2015"
                  ],
                  "xaxis": "x",
                  "y": [
                    0.052188328742078,
                    0.0082432496760432,
                    0,
                    0,
                    0,
                    0.0109156357982119,
                    0.0030201168486219,
                    0,
                    0,
                    0,
                    0,
                    0.0008738028453104,
                    0,
                    0.0011215286133895,
                    0.0280294526894991,
                    0.0030805758387317,
                    0.00157344278145,
                    0.0019313366105022,
                    0.0029967644257414,
                    0.0037021033033732,
                    0,
                    0,
                    0,
                    0.0197599054309007,
                    0.0376496789731687,
                    0.0993274249849212,
                    0.0410863714354805,
                    0.1011216266098185,
                    0.0880349906607377,
                    0.0743032274690947,
                    0.0814853601075714,
                    0.0869944182107337,
                    0.0891916558699271,
                    0.1046617660642545,
                    0.0884533856210036,
                    0.094662975706906,
                    0.0841672994826048,
                    0.091816455162491,
                    0.0929080953774244,
                    0.0950333457247833,
                    0.031263108924826,
                    0.0308498745177747,
                    0.0400549883325868,
                    0.0462593554409969,
                    0.0425990226558284,
                    0.078551273958298,
                    0.0677519648002563,
                    0.0491522812929959,
                    0.0314379861705982,
                    0.0308785116860967,
                    0.0311513618686145
                  ],
                  "yaxis": "y"
                }
              ],
              "layout": {
                "barmode": "relative",
                "legend": {
                  "title": {
                    "text": "term"
                  },
                  "tracegroupgap": 0
                },
                "margin": {
                  "t": 60
                },
                "template": {
                  "data": {
                    "bar": [
                      {
                        "error_x": {
                          "color": "#2a3f5f"
                        },
                        "error_y": {
                          "color": "#2a3f5f"
                        },
                        "marker": {
                          "line": {
                            "color": "#E5ECF6",
                            "width": 0.5
                          },
                          "pattern": {
                            "fillmode": "overlay",
                            "size": 10,
                            "solidity": 0.2
                          }
                        },
                        "type": "bar"
                      }
                    ],
                    "barpolar": [
                      {
                        "marker": {
                          "line": {
                            "color": "#E5ECF6",
                            "width": 0.5
                          },
                          "pattern": {
                            "fillmode": "overlay",
                            "size": 10,
                            "solidity": 0.2
                          }
                        },
                        "type": "barpolar"
                      }
                    ],
                    "carpet": [
                      {
                        "aaxis": {
                          "endlinecolor": "#2a3f5f",
                          "gridcolor": "white",
                          "linecolor": "white",
                          "minorgridcolor": "white",
                          "startlinecolor": "#2a3f5f"
                        },
                        "baxis": {
                          "endlinecolor": "#2a3f5f",
                          "gridcolor": "white",
                          "linecolor": "white",
                          "minorgridcolor": "white",
                          "startlinecolor": "#2a3f5f"
                        },
                        "type": "carpet"
                      }
                    ],
                    "choropleth": [
                      {
                        "colorbar": {
                          "outlinewidth": 0,
                          "ticks": ""
                        },
                        "type": "choropleth"
                      }
                    ],
                    "contour": [
                      {
                        "colorbar": {
                          "outlinewidth": 0,
                          "ticks": ""
                        },
                        "colorscale": [
                          [
                            0,
                            "#0d0887"
                          ],
                          [
                            0.1111111111111111,
                            "#46039f"
                          ],
                          [
                            0.2222222222222222,
                            "#7201a8"
                          ],
                          [
                            0.3333333333333333,
                            "#9c179e"
                          ],
                          [
                            0.4444444444444444,
                            "#bd3786"
                          ],
                          [
                            0.5555555555555556,
                            "#d8576b"
                          ],
                          [
                            0.6666666666666666,
                            "#ed7953"
                          ],
                          [
                            0.7777777777777778,
                            "#fb9f3a"
                          ],
                          [
                            0.8888888888888888,
                            "#fdca26"
                          ],
                          [
                            1,
                            "#f0f921"
                          ]
                        ],
                        "type": "contour"
                      }
                    ],
                    "contourcarpet": [
                      {
                        "colorbar": {
                          "outlinewidth": 0,
                          "ticks": ""
                        },
                        "type": "contourcarpet"
                      }
                    ],
                    "heatmap": [
                      {
                        "colorbar": {
                          "outlinewidth": 0,
                          "ticks": ""
                        },
                        "colorscale": [
                          [
                            0,
                            "#0d0887"
                          ],
                          [
                            0.1111111111111111,
                            "#46039f"
                          ],
                          [
                            0.2222222222222222,
                            "#7201a8"
                          ],
                          [
                            0.3333333333333333,
                            "#9c179e"
                          ],
                          [
                            0.4444444444444444,
                            "#bd3786"
                          ],
                          [
                            0.5555555555555556,
                            "#d8576b"
                          ],
                          [
                            0.6666666666666666,
                            "#ed7953"
                          ],
                          [
                            0.7777777777777778,
                            "#fb9f3a"
                          ],
                          [
                            0.8888888888888888,
                            "#fdca26"
                          ],
                          [
                            1,
                            "#f0f921"
                          ]
                        ],
                        "type": "heatmap"
                      }
                    ],
                    "heatmapgl": [
                      {
                        "colorbar": {
                          "outlinewidth": 0,
                          "ticks": ""
                        },
                        "colorscale": [
                          [
                            0,
                            "#0d0887"
                          ],
                          [
                            0.1111111111111111,
                            "#46039f"
                          ],
                          [
                            0.2222222222222222,
                            "#7201a8"
                          ],
                          [
                            0.3333333333333333,
                            "#9c179e"
                          ],
                          [
                            0.4444444444444444,
                            "#bd3786"
                          ],
                          [
                            0.5555555555555556,
                            "#d8576b"
                          ],
                          [
                            0.6666666666666666,
                            "#ed7953"
                          ],
                          [
                            0.7777777777777778,
                            "#fb9f3a"
                          ],
                          [
                            0.8888888888888888,
                            "#fdca26"
                          ],
                          [
                            1,
                            "#f0f921"
                          ]
                        ],
                        "type": "heatmapgl"
                      }
                    ],
                    "histogram": [
                      {
                        "marker": {
                          "pattern": {
                            "fillmode": "overlay",
                            "size": 10,
                            "solidity": 0.2
                          }
                        },
                        "type": "histogram"
                      }
                    ],
                    "histogram2d": [
                      {
                        "colorbar": {
                          "outlinewidth": 0,
                          "ticks": ""
                        },
                        "colorscale": [
                          [
                            0,
                            "#0d0887"
                          ],
                          [
                            0.1111111111111111,
                            "#46039f"
                          ],
                          [
                            0.2222222222222222,
                            "#7201a8"
                          ],
                          [
                            0.3333333333333333,
                            "#9c179e"
                          ],
                          [
                            0.4444444444444444,
                            "#bd3786"
                          ],
                          [
                            0.5555555555555556,
                            "#d8576b"
                          ],
                          [
                            0.6666666666666666,
                            "#ed7953"
                          ],
                          [
                            0.7777777777777778,
                            "#fb9f3a"
                          ],
                          [
                            0.8888888888888888,
                            "#fdca26"
                          ],
                          [
                            1,
                            "#f0f921"
                          ]
                        ],
                        "type": "histogram2d"
                      }
                    ],
                    "histogram2dcontour": [
                      {
                        "colorbar": {
                          "outlinewidth": 0,
                          "ticks": ""
                        },
                        "colorscale": [
                          [
                            0,
                            "#0d0887"
                          ],
                          [
                            0.1111111111111111,
                            "#46039f"
                          ],
                          [
                            0.2222222222222222,
                            "#7201a8"
                          ],
                          [
                            0.3333333333333333,
                            "#9c179e"
                          ],
                          [
                            0.4444444444444444,
                            "#bd3786"
                          ],
                          [
                            0.5555555555555556,
                            "#d8576b"
                          ],
                          [
                            0.6666666666666666,
                            "#ed7953"
                          ],
                          [
                            0.7777777777777778,
                            "#fb9f3a"
                          ],
                          [
                            0.8888888888888888,
                            "#fdca26"
                          ],
                          [
                            1,
                            "#f0f921"
                          ]
                        ],
                        "type": "histogram2dcontour"
                      }
                    ],
                    "mesh3d": [
                      {
                        "colorbar": {
                          "outlinewidth": 0,
                          "ticks": ""
                        },
                        "type": "mesh3d"
                      }
                    ],
                    "parcoords": [
                      {
                        "line": {
                          "colorbar": {
                            "outlinewidth": 0,
                            "ticks": ""
                          }
                        },
                        "type": "parcoords"
                      }
                    ],
                    "pie": [
                      {
                        "automargin": true,
                        "type": "pie"
                      }
                    ],
                    "scatter": [
                      {
                        "fillpattern": {
                          "fillmode": "overlay",
                          "size": 10,
                          "solidity": 0.2
                        },
                        "type": "scatter"
                      }
                    ],
                    "scatter3d": [
                      {
                        "line": {
                          "colorbar": {
                            "outlinewidth": 0,
                            "ticks": ""
                          }
                        },
                        "marker": {
                          "colorbar": {
                            "outlinewidth": 0,
                            "ticks": ""
                          }
                        },
                        "type": "scatter3d"
                      }
                    ],
                    "scattercarpet": [
                      {
                        "marker": {
                          "colorbar": {
                            "outlinewidth": 0,
                            "ticks": ""
                          }
                        },
                        "type": "scattercarpet"
                      }
                    ],
                    "scattergeo": [
                      {
                        "marker": {
                          "colorbar": {
                            "outlinewidth": 0,
                            "ticks": ""
                          }
                        },
                        "type": "scattergeo"
                      }
                    ],
                    "scattergl": [
                      {
                        "marker": {
                          "colorbar": {
                            "outlinewidth": 0,
                            "ticks": ""
                          }
                        },
                        "type": "scattergl"
                      }
                    ],
                    "scattermapbox": [
                      {
                        "marker": {
                          "colorbar": {
                            "outlinewidth": 0,
                            "ticks": ""
                          }
                        },
                        "type": "scattermapbox"
                      }
                    ],
                    "scatterpolar": [
                      {
                        "marker": {
                          "colorbar": {
                            "outlinewidth": 0,
                            "ticks": ""
                          }
                        },
                        "type": "scatterpolar"
                      }
                    ],
                    "scatterpolargl": [
                      {
                        "marker": {
                          "colorbar": {
                            "outlinewidth": 0,
                            "ticks": ""
                          }
                        },
                        "type": "scatterpolargl"
                      }
                    ],
                    "scatterternary": [
                      {
                        "marker": {
                          "colorbar": {
                            "outlinewidth": 0,
                            "ticks": ""
                          }
                        },
                        "type": "scatterternary"
                      }
                    ],
                    "surface": [
                      {
                        "colorbar": {
                          "outlinewidth": 0,
                          "ticks": ""
                        },
                        "colorscale": [
                          [
                            0,
                            "#0d0887"
                          ],
                          [
                            0.1111111111111111,
                            "#46039f"
                          ],
                          [
                            0.2222222222222222,
                            "#7201a8"
                          ],
                          [
                            0.3333333333333333,
                            "#9c179e"
                          ],
                          [
                            0.4444444444444444,
                            "#bd3786"
                          ],
                          [
                            0.5555555555555556,
                            "#d8576b"
                          ],
                          [
                            0.6666666666666666,
                            "#ed7953"
                          ],
                          [
                            0.7777777777777778,
                            "#fb9f3a"
                          ],
                          [
                            0.8888888888888888,
                            "#fdca26"
                          ],
                          [
                            1,
                            "#f0f921"
                          ]
                        ],
                        "type": "surface"
                      }
                    ],
                    "table": [
                      {
                        "cells": {
                          "fill": {
                            "color": "#EBF0F8"
                          },
                          "line": {
                            "color": "white"
                          }
                        },
                        "header": {
                          "fill": {
                            "color": "#C8D4E3"
                          },
                          "line": {
                            "color": "white"
                          }
                        },
                        "type": "table"
                      }
                    ]
                  },
                  "layout": {
                    "annotationdefaults": {
                      "arrowcolor": "#2a3f5f",
                      "arrowhead": 0,
                      "arrowwidth": 1
                    },
                    "autotypenumbers": "strict",
                    "coloraxis": {
                      "colorbar": {
                        "outlinewidth": 0,
                        "ticks": ""
                      }
                    },
                    "colorscale": {
                      "diverging": [
                        [
                          0,
                          "#8e0152"
                        ],
                        [
                          0.1,
                          "#c51b7d"
                        ],
                        [
                          0.2,
                          "#de77ae"
                        ],
                        [
                          0.3,
                          "#f1b6da"
                        ],
                        [
                          0.4,
                          "#fde0ef"
                        ],
                        [
                          0.5,
                          "#f7f7f7"
                        ],
                        [
                          0.6,
                          "#e6f5d0"
                        ],
                        [
                          0.7,
                          "#b8e186"
                        ],
                        [
                          0.8,
                          "#7fbc41"
                        ],
                        [
                          0.9,
                          "#4d9221"
                        ],
                        [
                          1,
                          "#276419"
                        ]
                      ],
                      "sequential": [
                        [
                          0,
                          "#0d0887"
                        ],
                        [
                          0.1111111111111111,
                          "#46039f"
                        ],
                        [
                          0.2222222222222222,
                          "#7201a8"
                        ],
                        [
                          0.3333333333333333,
                          "#9c179e"
                        ],
                        [
                          0.4444444444444444,
                          "#bd3786"
                        ],
                        [
                          0.5555555555555556,
                          "#d8576b"
                        ],
                        [
                          0.6666666666666666,
                          "#ed7953"
                        ],
                        [
                          0.7777777777777778,
                          "#fb9f3a"
                        ],
                        [
                          0.8888888888888888,
                          "#fdca26"
                        ],
                        [
                          1,
                          "#f0f921"
                        ]
                      ],
                      "sequentialminus": [
                        [
                          0,
                          "#0d0887"
                        ],
                        [
                          0.1111111111111111,
                          "#46039f"
                        ],
                        [
                          0.2222222222222222,
                          "#7201a8"
                        ],
                        [
                          0.3333333333333333,
                          "#9c179e"
                        ],
                        [
                          0.4444444444444444,
                          "#bd3786"
                        ],
                        [
                          0.5555555555555556,
                          "#d8576b"
                        ],
                        [
                          0.6666666666666666,
                          "#ed7953"
                        ],
                        [
                          0.7777777777777778,
                          "#fb9f3a"
                        ],
                        [
                          0.8888888888888888,
                          "#fdca26"
                        ],
                        [
                          1,
                          "#f0f921"
                        ]
                      ]
                    },
                    "colorway": [
                      "#636efa",
                      "#EF553B",
                      "#00cc96",
                      "#ab63fa",
                      "#FFA15A",
                      "#19d3f3",
                      "#FF6692",
                      "#B6E880",
                      "#FF97FF",
                      "#FECB52"
                    ],
                    "font": {
                      "color": "#2a3f5f"
                    },
                    "geo": {
                      "bgcolor": "white",
                      "lakecolor": "white",
                      "landcolor": "#E5ECF6",
                      "showlakes": true,
                      "showland": true,
                      "subunitcolor": "white"
                    },
                    "hoverlabel": {
                      "align": "left"
                    },
                    "hovermode": "closest",
                    "mapbox": {
                      "style": "light"
                    },
                    "paper_bgcolor": "white",
                    "plot_bgcolor": "#E5ECF6",
                    "polar": {
                      "angularaxis": {
                        "gridcolor": "white",
                        "linecolor": "white",
                        "ticks": ""
                      },
                      "bgcolor": "#E5ECF6",
                      "radialaxis": {
                        "gridcolor": "white",
                        "linecolor": "white",
                        "ticks": ""
                      }
                    },
                    "scene": {
                      "xaxis": {
                        "backgroundcolor": "#E5ECF6",
                        "gridcolor": "white",
                        "gridwidth": 2,
                        "linecolor": "white",
                        "showbackground": true,
                        "ticks": "",
                        "zerolinecolor": "white"
                      },
                      "yaxis": {
                        "backgroundcolor": "#E5ECF6",
                        "gridcolor": "white",
                        "gridwidth": 2,
                        "linecolor": "white",
                        "showbackground": true,
                        "ticks": "",
                        "zerolinecolor": "white"
                      },
                      "zaxis": {
                        "backgroundcolor": "#E5ECF6",
                        "gridcolor": "white",
                        "gridwidth": 2,
                        "linecolor": "white",
                        "showbackground": true,
                        "ticks": "",
                        "zerolinecolor": "white"
                      }
                    },
                    "shapedefaults": {
                      "line": {
                        "color": "#2a3f5f"
                      }
                    },
                    "ternary": {
                      "aaxis": {
                        "gridcolor": "white",
                        "linecolor": "white",
                        "ticks": ""
                      },
                      "baxis": {
                        "gridcolor": "white",
                        "linecolor": "white",
                        "ticks": ""
                      },
                      "bgcolor": "#E5ECF6",
                      "caxis": {
                        "gridcolor": "white",
                        "linecolor": "white",
                        "ticks": ""
                      }
                    },
                    "title": {
                      "x": 0.05
                    },
                    "xaxis": {
                      "automargin": true,
                      "gridcolor": "white",
                      "linecolor": "white",
                      "ticks": "",
                      "title": {
                        "standoff": 15
                      },
                      "zerolinecolor": "white",
                      "zerolinewidth": 2
                    },
                    "yaxis": {
                      "automargin": true,
                      "gridcolor": "white",
                      "linecolor": "white",
                      "ticks": "",
                      "title": {
                        "standoff": 15
                      },
                      "zerolinecolor": "white",
                      "zerolinewidth": 2
                    }
                  }
                },
                "xaxis": {
                  "anchor": "y",
                  "domain": [
                    0,
                    1
                  ],
                  "title": {
                    "text": "index"
                  }
                },
                "yaxis": {
                  "anchor": "x",
                  "domain": [
                    0,
                    1
                  ],
                  "title": {
                    "text": "value"
                  }
                }
              }
            }
          },
          "metadata": {},
          "output_type": "display_data"
        }
      ],
      "source": [
        "# read in data\n",
        "df_plot = pd.read_csv(\"tfidf.csv\", index_col=0)\n",
        "\n",
        "df_plot = df_plot.set_index('term')\n",
        "\n",
        "# further narrow within filtered terms (optional)\n",
        "# df_plot = df_plot[(df_plot['term'] == 'diversity') | (df_plot['term'] == 'inclusion')]\n",
        "\n",
        "# filter columns to be plotted by searching the column name (e.g. year)\n",
        "# cols1 = [col for col in df_plot.columns if 'hsbc' in col]\n",
        "# cols2 = [col for col in df_plot.columns if 'pepsi' in col]\n",
        "# df_plot = df_plot[cols1]\n",
        "\n",
        "# transpose dataframe\n",
        "df_plot = df_plot.transpose()\n",
        "\n",
        "# try to capture other details from filename (ignore now)\n",
        "# company = []    \n",
        "# for values in df_plot['term']:\n",
        "#     company.append(re.search(r\"(.*)_(\\d+)_?(.*)?\", values).group(1))\n",
        "# df_plot['company'] = company\n",
        "\n",
        "# ######\n",
        "\n",
        "# plot it\n",
        "fig = px.bar(df_plot)#, facet_col=\"term\")\n",
        "fig.show()\n",
        "\n",
        "# export it\n",
        "filename=\"test_plot_1\"\n",
        "fig.write_html(filename + \".html\")"
      ]
    },
    {
      "cell_type": "markdown",
      "metadata": {},
      "source": [
        "### Heatmap of correlation matrix \n",
        "Using the tf-idf metrics"
      ]
    },
    {
      "cell_type": "code",
      "execution_count": 55,
      "metadata": {},
      "outputs": [
        {
          "data": {
            "application/vnd.plotly.v1+json": {
              "config": {
                "plotlyServerURL": "https://plot.ly"
              },
              "data": [
                {
                  "coloraxis": "coloraxis",
                  "hovertemplate": "x: %{x}<br>y: %{y}<br>color: %{z}<extra></extra>",
                  "name": "0",
                  "type": "heatmap",
                  "xaxis": "x",
                  "yaxis": "y",
                  "z": [
                    [
                      1,
                      0.12189369843068706,
                      0.12393736154532936,
                      0.1322679346364155,
                      0.11234783028310981,
                      0.14528957761139547,
                      0.15144420811477177,
                      0.13724507538485683,
                      0.15081608271583485,
                      0.16996465018512952,
                      0.11356409582678471,
                      0.16783872131460473,
                      0.14951335373113858,
                      0.1604760432008761,
                      0.245635182490153,
                      0.13477383684312416,
                      0.14998246819408603,
                      0.16300169870699135,
                      0.1319471032938638,
                      0.11959215456042734,
                      0.1274997509792958,
                      0.13257537160704858,
                      0.13103687691805085,
                      0.23258921240020214,
                      0.07620448657401471,
                      0.08844912831187762,
                      0.07920549033611922,
                      0.09513575721210825,
                      0.09770181491427055,
                      0.09800773646002582,
                      0.0943156106793645,
                      0.09499084199500261,
                      0.09754575440806673,
                      0.10238745462900073,
                      0.10366580173508182,
                      0.10530862480123888,
                      0.10463067733040383,
                      0.10455930302989834,
                      0.1044252502859361,
                      0.10523570323490108,
                      0.12009566272174667,
                      0.12338900820966578,
                      0.12307842699712332,
                      0.11288114956954043,
                      0.12067576149496191,
                      0.11489514999790917,
                      0.11116933838508126,
                      0.11687239186467772,
                      0.11846498305105066,
                      0.12405864056295814,
                      0.12216799225094738
                    ],
                    [
                      0.12189369843068706,
                      0.9999999999999979,
                      0.09624160225000326,
                      0.10686247772497445,
                      0.09471364160839915,
                      0.10099798037733133,
                      0.10904440775007063,
                      0.09566703535064086,
                      0.11416314036543387,
                      0.12801055758076188,
                      0.08287748052058837,
                      0.12263317670767516,
                      0.1105217831911246,
                      0.12085528758793787,
                      0.2534863151983475,
                      0.09734975665181123,
                      0.10909920825292187,
                      0.11625298344275413,
                      0.09955194965751343,
                      0.08692676472241997,
                      0.09121526483959853,
                      0.09639484150802315,
                      0.09559289829770747,
                      0.24176390247379756,
                      0.053553600934867836,
                      0.0577352258028094,
                      0.0525363723591379,
                      0.06121349356270742,
                      0.06275243251127831,
                      0.06363777096187995,
                      0.06084957856410748,
                      0.060481215534852285,
                      0.06066876785086506,
                      0.06382139548346953,
                      0.06426279312913676,
                      0.06590155952701497,
                      0.06508826621506292,
                      0.0657287469416478,
                      0.06568254688954742,
                      0.06642486191126763,
                      0.08159439040469835,
                      0.08350519764849024,
                      0.08223592671572037,
                      0.0722076734081962,
                      0.07811873934090229,
                      0.07477083162057041,
                      0.06773898323198604,
                      0.0720966087671,
                      0.07523169869854679,
                      0.07821834096555103,
                      0.07878463545500139
                    ],
                    [
                      0.12393736154532936,
                      0.09624160225000326,
                      1.0000000000000007,
                      0.85513672236245,
                      0.7460505415932848,
                      0.6003696770502797,
                      0.5623162355317198,
                      0.5752460410553768,
                      0.5966218689916293,
                      0.5606726984896289,
                      0.4176738570055641,
                      0.5478304746430196,
                      0.4520076589060857,
                      0.5030177395145163,
                      0.45488282726419194,
                      0.35445485639166946,
                      0.39382512468752395,
                      0.40340190915187285,
                      0.35351465405457,
                      0.35109375746551513,
                      0.31489684938386153,
                      0.32029006943563704,
                      0.34317306412726617,
                      0.23508305170655858,
                      0.41353462382103795,
                      0.39200090808819454,
                      0.2808335644559849,
                      0.44150854112471205,
                      0.43451330583879766,
                      0.4238043308035175,
                      0.39697208257272254,
                      0.3898582444553408,
                      0.3815236843765054,
                      0.3778934180982636,
                      0.3690776427580247,
                      0.3709057901316864,
                      0.3750996081044191,
                      0.37289846007658417,
                      0.3717672475690339,
                      0.3638671472958193,
                      0.2698858921841547,
                      0.27126665111505827,
                      0.26431826571563616,
                      0.23451006565508054,
                      0.26361883479478354,
                      0.24275121941834527,
                      0.21396797869135298,
                      0.22961844289321728,
                      0.2365319564902652,
                      0.24430308599591075,
                      0.2453195738288713
                    ],
                    [
                      0.1322679346364155,
                      0.10686247772497445,
                      0.85513672236245,
                      1.0000000000000007,
                      0.7562255875939504,
                      0.6643745964213276,
                      0.6419395163502464,
                      0.6356266216468405,
                      0.6854043070407027,
                      0.6330859333424652,
                      0.4625811483063512,
                      0.6300696081243206,
                      0.514628112482343,
                      0.5652164954052423,
                      0.511356401555492,
                      0.40561923213971557,
                      0.4583576216274601,
                      0.46331400975845055,
                      0.4125932284365742,
                      0.39082749871845507,
                      0.349224180533889,
                      0.36766020421752793,
                      0.39901173585254046,
                      0.2972860873038522,
                      0.3914075224518684,
                      0.38685909009110575,
                      0.2780103877711209,
                      0.3870302294523287,
                      0.4274603686920326,
                      0.4237647225803858,
                      0.4011194677615561,
                      0.38474364825921714,
                      0.3749343912122376,
                      0.3710980342361263,
                      0.35954118900419874,
                      0.36167028560203773,
                      0.3675349686390548,
                      0.369318114675909,
                      0.3694554319531935,
                      0.3617002518742122,
                      0.3021595441306317,
                      0.3010652859074028,
                      0.2868017909894296,
                      0.2465701433213449,
                      0.28593608123997316,
                      0.2609460186456174,
                      0.22449633858978257,
                      0.24153905491299663,
                      0.24481048020835464,
                      0.25307636200791117,
                      0.2572112826305281
                    ],
                    [
                      0.11234783028310981,
                      0.09471364160839915,
                      0.7460505415932848,
                      0.7562255875939504,
                      1.000000000000001,
                      0.5921486057180037,
                      0.5340417767912143,
                      0.5526962755306226,
                      0.5741278950656448,
                      0.5378358171243935,
                      0.3951772654320355,
                      0.5193332752599887,
                      0.4327172684471888,
                      0.48518837019574146,
                      0.4610961205341456,
                      0.31474488469277456,
                      0.35600182266119634,
                      0.3557678378965488,
                      0.32246144061900567,
                      0.32619000293947964,
                      0.2886467418891747,
                      0.2906368214905676,
                      0.3151952235181509,
                      0.23534841454069502,
                      0.3290194618105656,
                      0.3577759949952278,
                      0.23840883185082654,
                      0.33144989053055357,
                      0.3639507319737345,
                      0.4011475011806084,
                      0.38667517599425355,
                      0.37473932112338054,
                      0.35548607858849207,
                      0.3500445493840781,
                      0.33737269840580975,
                      0.33712461499002655,
                      0.34103570124866206,
                      0.34282183294584456,
                      0.34382258169941177,
                      0.3366940333676112,
                      0.2869383034636775,
                      0.2782999795843941,
                      0.26073376539264986,
                      0.22850946324273155,
                      0.2530381832546995,
                      0.23941780786678205,
                      0.2083488227814738,
                      0.21978723337741746,
                      0.22622729592026788,
                      0.23381654318554182,
                      0.2357625445653041
                    ],
                    [
                      0.14528957761139547,
                      0.10099798037733133,
                      0.6003696770502797,
                      0.6643745964213276,
                      0.5921486057180037,
                      1.0000000000000047,
                      0.808122495162785,
                      0.7586607124982666,
                      0.7841396975177102,
                      0.6865951906784964,
                      0.5677360082299466,
                      0.7230137903929766,
                      0.5292499848893248,
                      0.65386518029945,
                      0.5694537215559562,
                      0.3944017512305634,
                      0.4358269018860867,
                      0.43208437144207207,
                      0.43193418679224355,
                      0.40043899611726747,
                      0.35957700797355996,
                      0.3618969485950342,
                      0.4101782912440877,
                      0.28596476765004336,
                      0.46145942146753655,
                      0.49886138151471177,
                      0.3290029626818272,
                      0.44612261754020854,
                      0.46318521782466543,
                      0.4896286935812866,
                      0.5315957773794602,
                      0.5216722289596254,
                      0.48781264331104596,
                      0.45627942729630006,
                      0.4372827097337198,
                      0.4377457456073179,
                      0.44490293332799336,
                      0.4416251466017744,
                      0.43945609556903475,
                      0.4269119352612143,
                      0.32926007833663956,
                      0.38432191390387616,
                      0.3600524814380178,
                      0.2908176063784354,
                      0.31717767154765414,
                      0.2956610331001134,
                      0.2560727537685343,
                      0.2698117910609327,
                      0.26730384750128067,
                      0.2746692887377248,
                      0.27529892401445155
                    ],
                    [
                      0.15144420811477177,
                      0.10904440775007063,
                      0.5623162355317198,
                      0.6419395163502464,
                      0.5340417767912143,
                      0.808122495162785,
                      0.9999999999999983,
                      0.8168524329422208,
                      0.8129410425467936,
                      0.7193374995867808,
                      0.5654258797730926,
                      0.7288963690655761,
                      0.5700232093846431,
                      0.6687861380786275,
                      0.5501594542098623,
                      0.428105356503373,
                      0.5250164654805107,
                      0.48748684612849974,
                      0.4687709862975318,
                      0.4420124283092814,
                      0.40060266491182217,
                      0.4087314756809688,
                      0.44358568131778636,
                      0.32373286555438574,
                      0.4104836521239445,
                      0.4445685358310316,
                      0.2999644771038478,
                      0.40218912487024117,
                      0.41420912903746826,
                      0.4289200573673007,
                      0.4436152916892482,
                      0.48759002161970755,
                      0.48028873459509264,
                      0.44551868396162914,
                      0.4118601810969095,
                      0.4081223188750145,
                      0.41382803536114726,
                      0.41141475599023924,
                      0.4083446215884551,
                      0.39823640688504663,
                      0.31492110946341373,
                      0.3563867410135608,
                      0.39425354737161883,
                      0.34404444872100387,
                      0.3417233135834017,
                      0.30770172605232304,
                      0.2526247762647227,
                      0.2740907807885942,
                      0.2681778696579319,
                      0.2808327012845471,
                      0.2809191032558558
                    ],
                    [
                      0.13724507538485683,
                      0.09566703535064086,
                      0.5752460410553768,
                      0.6356266216468405,
                      0.5526962755306226,
                      0.7586607124982666,
                      0.8168524329422208,
                      1.0000000000000058,
                      0.8743562669797982,
                      0.7207285634696593,
                      0.6181699950194336,
                      0.7236063001858027,
                      0.5774305372525647,
                      0.6859332617531342,
                      0.5631566892564226,
                      0.3565254715482124,
                      0.446323767982724,
                      0.4455026678259656,
                      0.4497361900660135,
                      0.4425185791568757,
                      0.37904603528312997,
                      0.3787805348760802,
                      0.42475847167290987,
                      0.2959214647392685,
                      0.4214063812842136,
                      0.45448797802106394,
                      0.29023621499344393,
                      0.39160386709815787,
                      0.41461641077351374,
                      0.4262925305855665,
                      0.42534303579810606,
                      0.43321476834180017,
                      0.4601903755963719,
                      0.44824895629646694,
                      0.41254387267775133,
                      0.3987071889384832,
                      0.39955567119175217,
                      0.39444315185731194,
                      0.39212621375724,
                      0.3875462893132959,
                      0.2776654569061112,
                      0.294863095987094,
                      0.3055761336156979,
                      0.3219184331405317,
                      0.3416294305836567,
                      0.289341408135956,
                      0.23378765261356516,
                      0.2486287433095675,
                      0.24546685713529204,
                      0.25335440526665703,
                      0.26097930685578885
                    ],
                    [
                      0.15081608271583485,
                      0.11416314036543387,
                      0.5966218689916293,
                      0.6854043070407027,
                      0.5741278950656448,
                      0.7841396975177102,
                      0.8129410425467936,
                      0.8743562669797982,
                      0.9999999999999998,
                      0.8161052049390948,
                      0.615088663928695,
                      0.8027219407082885,
                      0.6189927935938647,
                      0.7350742176807359,
                      0.6056576900677394,
                      0.41404392404397,
                      0.486108313143454,
                      0.48752590531649087,
                      0.5240970995570617,
                      0.5035875132334313,
                      0.4303765809333231,
                      0.438235412617474,
                      0.4912100915245566,
                      0.3675124194674859,
                      0.4204044589999088,
                      0.4515952141142207,
                      0.3068928011839551,
                      0.4074274554026772,
                      0.42839039210366486,
                      0.4404365948088709,
                      0.4373709425794272,
                      0.43350688332657805,
                      0.42975743951770795,
                      0.44622978391786433,
                      0.43719342153067997,
                      0.42872572318323493,
                      0.4244151367657149,
                      0.41533089577215104,
                      0.4135472160179853,
                      0.4082398744336524,
                      0.3192573340486161,
                      0.3391974907483294,
                      0.3290324263798245,
                      0.29055084789404195,
                      0.3725060326948661,
                      0.35011007422629936,
                      0.2765084919665795,
                      0.29064662675980873,
                      0.2844506438711429,
                      0.2918203400237907,
                      0.2975483812598426
                    ],
                    [
                      0.16996465018512952,
                      0.12801055758076188,
                      0.5606726984896289,
                      0.6330859333424652,
                      0.5378358171243935,
                      0.6865951906784964,
                      0.7193374995867808,
                      0.7207285634696593,
                      0.8161052049390948,
                      1.0000000000000007,
                      0.6006334595800159,
                      0.8091530245014191,
                      0.5916575867847422,
                      0.7226567224138791,
                      0.556216122314387,
                      0.41543213101741616,
                      0.4961658851549489,
                      0.49731781609295383,
                      0.49827750808504573,
                      0.5364536920418439,
                      0.49356520416950234,
                      0.4766163015204749,
                      0.5098039289278329,
                      0.37029431102718835,
                      0.38725302923703137,
                      0.40184376905682473,
                      0.27942416383885554,
                      0.38921160884348355,
                      0.4152183274946311,
                      0.42316258584223276,
                      0.41218571961498407,
                      0.41073337575178204,
                      0.40872673568655227,
                      0.4248834998293575,
                      0.4443226195292713,
                      0.45145190549583286,
                      0.44307736237721357,
                      0.424252410504684,
                      0.41606875785816744,
                      0.41334273081590756,
                      0.3121708294155844,
                      0.3294922657591265,
                      0.32225083888250267,
                      0.2922927062884346,
                      0.34949840953036054,
                      0.36582940980197504,
                      0.30807927857259415,
                      0.3108410387065157,
                      0.29298315446217593,
                      0.2966307616837309,
                      0.3046742924446152
                    ],
                    [
                      0.11356409582678471,
                      0.08287748052058837,
                      0.4176738570055641,
                      0.4625811483063512,
                      0.3951772654320355,
                      0.5677360082299466,
                      0.5654258797730926,
                      0.6181699950194336,
                      0.615088663928695,
                      0.6006334595800159,
                      1.0000000000000047,
                      0.6434527428413267,
                      0.42054876632178334,
                      0.5726743743162893,
                      0.46994276745521735,
                      0.24926953678255465,
                      0.3041190834115451,
                      0.29799623706851436,
                      0.3426645722563771,
                      0.3523484814920055,
                      0.3687978010791468,
                      0.3120784209828549,
                      0.3505762759125042,
                      0.2325240627349286,
                      0.38881613772997925,
                      0.37059582097524635,
                      0.2294685675797614,
                      0.33014423608792764,
                      0.34413072142213147,
                      0.34967470877356627,
                      0.3446543146624516,
                      0.3403368698057474,
                      0.32884827096614344,
                      0.32015517474640065,
                      0.311119206397255,
                      0.3359587707677809,
                      0.35786777938503334,
                      0.344188589285599,
                      0.3269071950837861,
                      0.31448633527674474,
                      0.18604802831229836,
                      0.19477824256273096,
                      0.1921048391060257,
                      0.16569948449385347,
                      0.20112528384262962,
                      0.1931105484355798,
                      0.189185121436103,
                      0.22381170202071737,
                      0.1868096669728735,
                      0.18237434084284934,
                      0.18260463487808037
                    ],
                    [
                      0.16783872131460473,
                      0.12263317670767516,
                      0.5478304746430196,
                      0.6300696081243206,
                      0.5193332752599887,
                      0.7230137903929766,
                      0.7288963690655761,
                      0.7236063001858027,
                      0.8027219407082885,
                      0.8091530245014191,
                      0.6434527428413267,
                      1.0000000000000002,
                      0.6025539031536311,
                      0.8307487836723865,
                      0.5931693707847956,
                      0.40855029101158236,
                      0.47741272093645803,
                      0.48300016402222146,
                      0.48972038794848294,
                      0.4752830029640143,
                      0.4992922544812012,
                      0.4839893763384629,
                      0.4997128603625447,
                      0.37888433410261535,
                      0.4003268116253689,
                      0.41828091204494483,
                      0.29462969431199476,
                      0.38599871268327995,
                      0.40435620520950843,
                      0.4118215485399921,
                      0.40543553175781816,
                      0.4021053981219593,
                      0.3959186787959769,
                      0.39371150029870444,
                      0.3825841873756503,
                      0.3939945888913001,
                      0.4268851610212878,
                      0.4318480087620763,
                      0.41677024949731317,
                      0.39732979727967555,
                      0.2992156632372417,
                      0.31624672674584225,
                      0.3101883534792876,
                      0.2716921856343083,
                      0.32041031558877453,
                      0.302478113323067,
                      0.26551204896127945,
                      0.3240532082521937,
                      0.30294935830110614,
                      0.29637896510015455,
                      0.29052623704283276
                    ],
                    [
                      0.14951335373113858,
                      0.1105217831911246,
                      0.4520076589060857,
                      0.514628112482343,
                      0.4327172684471888,
                      0.5292499848893248,
                      0.5700232093846431,
                      0.5774305372525647,
                      0.6189927935938647,
                      0.5916575867847422,
                      0.42054876632178334,
                      0.6025539031536311,
                      1.0000000000000009,
                      0.5957920497342941,
                      0.43948439449916243,
                      0.35941124443186984,
                      0.4470313519826031,
                      0.4326032538882406,
                      0.4139735452650265,
                      0.436155936838937,
                      0.3888738123794606,
                      0.4771334392197192,
                      0.4634301991082522,
                      0.31899318809809823,
                      0.22702431605784315,
                      0.28369179989505144,
                      0.2012813653605805,
                      0.26014433232610706,
                      0.2706078198463819,
                      0.28722750485531773,
                      0.2848111510217632,
                      0.28240473209318717,
                      0.27951472401371563,
                      0.280535737797481,
                      0.3068305225348246,
                      0.3034887338878267,
                      0.3078808585306135,
                      0.32931273937777555,
                      0.33067788002744486,
                      0.2951274864862096,
                      0.2545049159277389,
                      0.2727850298293673,
                      0.27303893975039023,
                      0.23118812736876695,
                      0.26910245709809333,
                      0.2508617086004413,
                      0.2094123791695404,
                      0.24558998277038052,
                      0.2904530751708434,
                      0.2892210225875271,
                      0.262653783815327
                    ],
                    [
                      0.1604760432008761,
                      0.12085528758793787,
                      0.5030177395145163,
                      0.5652164954052423,
                      0.48518837019574146,
                      0.65386518029945,
                      0.6687861380786275,
                      0.6859332617531342,
                      0.7350742176807359,
                      0.7226567224138791,
                      0.5726743743162893,
                      0.8307487836723865,
                      0.5957920497342941,
                      0.9999999999999993,
                      0.5532284808207976,
                      0.37120561781648437,
                      0.4374185371701774,
                      0.4428357822251703,
                      0.4348161302673943,
                      0.43383279776482736,
                      0.4224602690485401,
                      0.44756102191013036,
                      0.5561947710077466,
                      0.34798170282424795,
                      0.34669176222009335,
                      0.38205723130167585,
                      0.2750035186649521,
                      0.34215029090432786,
                      0.3594367132487962,
                      0.36942935771077456,
                      0.3656932705829862,
                      0.3646209237492807,
                      0.36062210255375415,
                      0.3572388807542979,
                      0.34818708820504063,
                      0.3495065886286012,
                      0.35757149516501596,
                      0.37418799677914966,
                      0.4295376872926623,
                      0.4223864137099276,
                      0.2811197791353361,
                      0.29575872390493496,
                      0.2915006726037378,
                      0.25911801874227053,
                      0.2983115889673985,
                      0.2825588243415064,
                      0.2445154835661901,
                      0.2643274112794832,
                      0.28537929207581064,
                      0.35062418240079535,
                      0.34647513989064976
                    ],
                    [
                      0.245635182490153,
                      0.2534863151983475,
                      0.45488282726419194,
                      0.511356401555492,
                      0.4610961205341456,
                      0.5694537215559562,
                      0.5501594542098623,
                      0.5631566892564226,
                      0.6056576900677394,
                      0.556216122314387,
                      0.46994276745521735,
                      0.5931693707847956,
                      0.43948439449916243,
                      0.5532284808207976,
                      0.9999999999999956,
                      0.29233486207217285,
                      0.3341681316856913,
                      0.3412412320144036,
                      0.3304063340771136,
                      0.3330663124585577,
                      0.30193051520213127,
                      0.3148407835380184,
                      0.3418442720476815,
                      0.624848496967361,
                      0.37846667203450457,
                      0.4009159891890106,
                      0.29360594792690675,
                      0.3770678943143074,
                      0.3869597737057666,
                      0.39149240206489533,
                      0.38845259188699977,
                      0.38556229650969853,
                      0.38019567399458554,
                      0.373884162595857,
                      0.36336406096455154,
                      0.3664330573880354,
                      0.3738497083321802,
                      0.37713604043054155,
                      0.37802692063837134,
                      0.37237414520385104,
                      0.26633625927494065,
                      0.2836565292223769,
                      0.2783778688235572,
                      0.24843995844027875,
                      0.27492373070442927,
                      0.2663435363551178,
                      0.2435943082312516,
                      0.2588849837004948,
                      0.25843750268871163,
                      0.2660047943413433,
                      0.27074965021847414
                    ],
                    [
                      0.13477383684312416,
                      0.09734975665181123,
                      0.35445485639166946,
                      0.40561923213971557,
                      0.31474488469277456,
                      0.3944017512305634,
                      0.428105356503373,
                      0.3565254715482124,
                      0.41404392404397,
                      0.41543213101741616,
                      0.24926953678255465,
                      0.40855029101158236,
                      0.35941124443186984,
                      0.37120561781648437,
                      0.29233486207217285,
                      1.000000000000003,
                      0.9149622198504538,
                      0.9035775361231041,
                      0.7149994845808534,
                      0.7125611374233852,
                      0.7541953395921147,
                      0.7719083628148842,
                      0.6908266003974638,
                      0.2973966812919444,
                      0.2105702713472648,
                      0.21205348714042588,
                      0.1810139685565247,
                      0.22700557863945925,
                      0.2348072637259433,
                      0.2441405606620018,
                      0.24354749486121835,
                      0.2440601139310096,
                      0.2341895487881903,
                      0.23699955320495145,
                      0.23421390830578456,
                      0.23588962854255868,
                      0.23535637614309882,
                      0.23376702235825034,
                      0.23533600080829165,
                      0.23405099561544548,
                      0.5093832440623088,
                      0.5574621206795299,
                      0.5999830304057561,
                      0.4601655829673794,
                      0.5195894010476748,
                      0.47668123284804037,
                      0.4001807305897301,
                      0.42940684858889155,
                      0.4723287993816524,
                      0.48655808487681723,
                      0.454826132644276
                    ],
                    [
                      0.14998246819408603,
                      0.10909920825292187,
                      0.39382512468752395,
                      0.4583576216274601,
                      0.35600182266119634,
                      0.4358269018860867,
                      0.5250164654805107,
                      0.446323767982724,
                      0.486108313143454,
                      0.4961658851549489,
                      0.3041190834115451,
                      0.47741272093645803,
                      0.4470313519826031,
                      0.4374185371701774,
                      0.3341681316856913,
                      0.9149622198504538,
                      1.0000000000000042,
                      0.9346183037532602,
                      0.7447445881625295,
                      0.7341551876358945,
                      0.752955251201865,
                      0.7787143058967154,
                      0.7171946139838725,
                      0.3473314115644209,
                      0.19521505030261851,
                      0.2200230641649301,
                      0.1785079049431226,
                      0.22447211430212646,
                      0.23331817429294066,
                      0.2418261046345145,
                      0.23671629119825274,
                      0.25904277961170663,
                      0.26314601562334716,
                      0.26151405644487985,
                      0.24546369504273824,
                      0.2431785026437389,
                      0.2421764107717347,
                      0.241227462972932,
                      0.2421661714449763,
                      0.24005343650369548,
                      0.4779997445725905,
                      0.5194434174129665,
                      0.5907541469337121,
                      0.4834554792778463,
                      0.525814549355179,
                      0.4710152746705306,
                      0.3897449920738012,
                      0.4214281070876575,
                      0.45331864796831556,
                      0.46726641003050257,
                      0.43948849872936535
                    ],
                    [
                      0.16300169870699135,
                      0.11625298344275413,
                      0.40340190915187285,
                      0.46331400975845055,
                      0.3557678378965488,
                      0.43208437144207207,
                      0.48748684612849974,
                      0.4455026678259656,
                      0.48752590531649087,
                      0.49731781609295383,
                      0.29799623706851436,
                      0.48300016402222146,
                      0.4326032538882406,
                      0.4428357822251703,
                      0.3412412320144036,
                      0.9035775361231041,
                      0.9346183037532602,
                      1.0000000000000009,
                      0.7587949885232034,
                      0.7228508445166041,
                      0.7570829166278242,
                      0.7850363210063631,
                      0.7163019007381515,
                      0.3443955998125191,
                      0.19300579223999859,
                      0.21246413918598822,
                      0.18290701391102193,
                      0.22247639796900923,
                      0.22753788241801634,
                      0.23423972588396003,
                      0.22539109565337057,
                      0.22705926043592833,
                      0.24714593463401938,
                      0.2531339568736996,
                      0.24107324627688867,
                      0.23708406979694457,
                      0.2358046848588441,
                      0.2358948984799072,
                      0.23759862396477427,
                      0.23623099835891231,
                      0.4770085197180775,
                      0.5142553979346657,
                      0.5648645378918015,
                      0.4873994310307937,
                      0.5348640597901878,
                      0.47776201499926213,
                      0.4005216511730006,
                      0.4308918759165267,
                      0.4638677979768607,
                      0.479115288852561,
                      0.4500518330764381
                    ],
                    [
                      0.1319471032938638,
                      0.09955194965751343,
                      0.35351465405457,
                      0.4125932284365742,
                      0.32246144061900567,
                      0.43193418679224355,
                      0.4687709862975318,
                      0.4497361900660135,
                      0.5240970995570617,
                      0.49827750808504573,
                      0.3426645722563771,
                      0.48972038794848294,
                      0.4139735452650265,
                      0.4348161302673943,
                      0.3304063340771136,
                      0.7149994845808534,
                      0.7447445881625295,
                      0.7587949885232034,
                      1.0000000000000016,
                      0.746439774900454,
                      0.7103256547953288,
                      0.7138732728317612,
                      0.7178806344411254,
                      0.38535071472388116,
                      0.17301769800935848,
                      0.21581187402994054,
                      0.15180430258919322,
                      0.19931261536772116,
                      0.20970241307404025,
                      0.2172779397426882,
                      0.21250666532604098,
                      0.21144148655940578,
                      0.21411647750800605,
                      0.24651590755519545,
                      0.23369144896205038,
                      0.23403435169515957,
                      0.22866525245296696,
                      0.22729551313623417,
                      0.22802512543862172,
                      0.2304561952835997,
                      0.41675388787723255,
                      0.458563141534976,
                      0.48441096155304364,
                      0.3951923343296715,
                      0.5196867882877101,
                      0.4511316611438268,
                      0.34589074297782074,
                      0.3826343371933917,
                      0.3856544051720374,
                      0.3957741864252062,
                      0.37999364188907897
                    ],
                    [
                      0.11959215456042734,
                      0.08692676472241997,
                      0.35109375746551513,
                      0.39082749871845507,
                      0.32619000293947964,
                      0.40043899611726747,
                      0.4420124283092814,
                      0.4425185791568757,
                      0.5035875132334313,
                      0.5364536920418439,
                      0.3523484814920055,
                      0.4752830029640143,
                      0.436155936838937,
                      0.43383279776482736,
                      0.3330663124585577,
                      0.7125611374233852,
                      0.7341551876358945,
                      0.7228508445166041,
                      0.746439774900454,
                      0.9999999999999976,
                      0.7232102873430425,
                      0.7106629629267436,
                      0.6934567106202586,
                      0.39209961228980994,
                      0.2024805601391122,
                      0.24768074734127948,
                      0.16962101465459975,
                      0.23004382696018397,
                      0.2438949797700977,
                      0.2522199517494856,
                      0.2476911087914611,
                      0.24655144059157838,
                      0.24879332078424804,
                      0.26863822197885584,
                      0.28484766155153934,
                      0.2856663801092358,
                      0.2754750854655733,
                      0.2623167158704484,
                      0.2609722992070225,
                      0.2592561962514308,
                      0.4339440080635723,
                      0.46924610167318226,
                      0.4977907520293087,
                      0.4152719761255257,
                      0.4960929711584844,
                      0.4893765947518575,
                      0.38785865565107397,
                      0.4120958925182464,
                      0.4123094410778146,
                      0.4153943851496427,
                      0.39873362608378404
                    ],
                    [
                      0.1274997509792958,
                      0.09121526483959853,
                      0.31489684938386153,
                      0.349224180533889,
                      0.2886467418891747,
                      0.35957700797355996,
                      0.40060266491182217,
                      0.37904603528312997,
                      0.4303765809333231,
                      0.49356520416950234,
                      0.3687978010791468,
                      0.4992922544812012,
                      0.3888738123794606,
                      0.4224602690485401,
                      0.30193051520213127,
                      0.7541953395921147,
                      0.752955251201865,
                      0.7570829166278242,
                      0.7103256547953288,
                      0.7232102873430425,
                      1.0000000000000013,
                      0.8137338713065803,
                      0.7245079791187237,
                      0.33092597481829367,
                      0.18024433533718687,
                      0.19647414693205847,
                      0.14785257089359238,
                      0.19601051024407806,
                      0.2079252745697476,
                      0.21325540763265374,
                      0.21052646763357385,
                      0.2093210446978699,
                      0.20846766271458303,
                      0.2201258652671622,
                      0.21876695126336368,
                      0.24517818295991198,
                      0.28268149091934175,
                      0.2717058817922266,
                      0.24819321251090498,
                      0.22990414608977786,
                      0.39709415729518793,
                      0.4349793550053821,
                      0.47523838028140447,
                      0.38998227907725147,
                      0.4594240119062786,
                      0.4325579566471599,
                      0.3861590842169047,
                      0.4766650423570633,
                      0.4536740101032761,
                      0.4379685001223647,
                      0.40081089777709106
                    ],
                    [
                      0.13257537160704858,
                      0.09639484150802315,
                      0.32029006943563704,
                      0.36766020421752793,
                      0.2906368214905676,
                      0.3618969485950342,
                      0.4087314756809688,
                      0.3787805348760802,
                      0.438235412617474,
                      0.4766163015204749,
                      0.3120784209828549,
                      0.4839893763384629,
                      0.4771334392197192,
                      0.44756102191013036,
                      0.3148407835380184,
                      0.7719083628148842,
                      0.7787143058967154,
                      0.7850363210063631,
                      0.7138732728317612,
                      0.7106629629267436,
                      0.8137338713065803,
                      1.0000000000000033,
                      0.7559528005785763,
                      0.3343828530625463,
                      0.1638921588496588,
                      0.18622354753452272,
                      0.15100016656142362,
                      0.1846822852643077,
                      0.1951622706572885,
                      0.2009038107028274,
                      0.1958422093385254,
                      0.19569023550641482,
                      0.19622660153433985,
                      0.2086923560511055,
                      0.20293495848262377,
                      0.2075635734912433,
                      0.2186393248448789,
                      0.2664380358642827,
                      0.2564518970032037,
                      0.23488599438657484,
                      0.4102639260584006,
                      0.4469145014203271,
                      0.4895106391262338,
                      0.40296077535659847,
                      0.4695023692132445,
                      0.4323782841455047,
                      0.3597800152764708,
                      0.4101398567296628,
                      0.47676140583784976,
                      0.4656405803553754,
                      0.4197830482103914
                    ],
                    [
                      0.13103687691805085,
                      0.09559289829770747,
                      0.34317306412726617,
                      0.39901173585254046,
                      0.3151952235181509,
                      0.4101782912440877,
                      0.44358568131778636,
                      0.42475847167290987,
                      0.4912100915245566,
                      0.5098039289278329,
                      0.3505762759125042,
                      0.4997128603625447,
                      0.4634301991082522,
                      0.5561947710077466,
                      0.3418442720476815,
                      0.6908266003974638,
                      0.7171946139838725,
                      0.7163019007381515,
                      0.7178806344411254,
                      0.6934567106202586,
                      0.7245079791187237,
                      0.7559528005785763,
                      0.9999999999999988,
                      0.38470053961051814,
                      0.1775355910280927,
                      0.20582475684410045,
                      0.15556817559727232,
                      0.20243300568651032,
                      0.21220462889415712,
                      0.21796325714748324,
                      0.21746952003181894,
                      0.21377175401998066,
                      0.21471272070606284,
                      0.2285045313431122,
                      0.22367412297986872,
                      0.22795783503226133,
                      0.2269912417286927,
                      0.24221083366882612,
                      0.2935454129131899,
                      0.27534761195785334,
                      0.3900150409711009,
                      0.42689082911101883,
                      0.45260301583280194,
                      0.3745113588425627,
                      0.44983585693178946,
                      0.4117990995969753,
                      0.33595188485123145,
                      0.3694750175884156,
                      0.4020169354530469,
                      0.4635388869722143,
                      0.4217103412696514
                    ],
                    [
                      0.23258921240020214,
                      0.24176390247379756,
                      0.23508305170655858,
                      0.2972860873038522,
                      0.23534841454069502,
                      0.28596476765004336,
                      0.32373286555438574,
                      0.2959214647392685,
                      0.3675124194674859,
                      0.37029431102718835,
                      0.2325240627349286,
                      0.37888433410261535,
                      0.31899318809809823,
                      0.34798170282424795,
                      0.624848496967361,
                      0.2973966812919444,
                      0.3473314115644209,
                      0.3443955998125191,
                      0.38535071472388116,
                      0.39209961228980994,
                      0.33092597481829367,
                      0.3343828530625463,
                      0.38470053961051814,
                      0.9999999999999992,
                      0.1019596073615971,
                      0.15424544142471353,
                      0.12394377121150744,
                      0.15065721572174967,
                      0.15259331274348156,
                      0.15554395458935869,
                      0.1558467063758932,
                      0.15480332854113488,
                      0.15744133772411273,
                      0.16875489821013817,
                      0.16755477969569665,
                      0.1721943704997172,
                      0.16920981066482704,
                      0.171323319616247,
                      0.17260182900150386,
                      0.17659273575768528,
                      0.2481471789846315,
                      0.25731523836675024,
                      0.25221014354001825,
                      0.22060327841433702,
                      0.2609647746833992,
                      0.23922776930048772,
                      0.20466296053961353,
                      0.22368243886883157,
                      0.21661641603551143,
                      0.21544296825901574,
                      0.22393996647154385
                    ],
                    [
                      0.07620448657401471,
                      0.053553600934867836,
                      0.41353462382103795,
                      0.3914075224518684,
                      0.3290194618105656,
                      0.46145942146753655,
                      0.4104836521239445,
                      0.4214063812842136,
                      0.4204044589999088,
                      0.38725302923703137,
                      0.38881613772997925,
                      0.4003268116253689,
                      0.22702431605784315,
                      0.34669176222009335,
                      0.37846667203450457,
                      0.2105702713472648,
                      0.19521505030261851,
                      0.19300579223999859,
                      0.17301769800935848,
                      0.2024805601391122,
                      0.18024433533718687,
                      0.1638921588496588,
                      0.1775355910280927,
                      0.1019596073615971,
                      1.0000000000000004,
                      0.5961070844214046,
                      0.41531969426015347,
                      0.6781992893078971,
                      0.6891427909200906,
                      0.6836601925395139,
                      0.6660829810376401,
                      0.6500603382047311,
                      0.6309391585311885,
                      0.6319472186034064,
                      0.5881052440692012,
                      0.5901453999952768,
                      0.6124145622048444,
                      0.6224859331150783,
                      0.6217287802621216,
                      0.6156386162233094,
                      0.28592541482982387,
                      0.2914329349134107,
                      0.2891915624999944,
                      0.2612573395618477,
                      0.25914056243251,
                      0.2567743634307513,
                      0.2623259122980491,
                      0.2684091806874236,
                      0.36315443729634483,
                      0.3657458399688333,
                      0.364057435064921
                    ],
                    [
                      0.08844912831187762,
                      0.0577352258028094,
                      0.39200090808819454,
                      0.38685909009110575,
                      0.3577759949952278,
                      0.49886138151471177,
                      0.4445685358310316,
                      0.45448797802106394,
                      0.4515952141142207,
                      0.40184376905682473,
                      0.37059582097524635,
                      0.41828091204494483,
                      0.28369179989505144,
                      0.38205723130167585,
                      0.4009159891890106,
                      0.21205348714042588,
                      0.2200230641649301,
                      0.21246413918598822,
                      0.21581187402994054,
                      0.24768074734127948,
                      0.19647414693205847,
                      0.18622354753452272,
                      0.20582475684410045,
                      0.15424544142471353,
                      0.5961070844214046,
                      1.0000000000000047,
                      0.6623048920761708,
                      0.8333504412832614,
                      0.8115845142957931,
                      0.8060908637159484,
                      0.8111273656651499,
                      0.8082700307306634,
                      0.8111763504409026,
                      0.8047024218718141,
                      0.7735752183572151,
                      0.7757253534022038,
                      0.7835659859606211,
                      0.788126536381197,
                      0.7867798136692282,
                      0.777119900284629,
                      0.574876298185459,
                      0.5746795795365055,
                      0.5727239615909159,
                      0.5760690914093732,
                      0.5412201195166522,
                      0.567937398452935,
                      0.5880470139823268,
                      0.5801434318274024,
                      0.5590749709989865,
                      0.5482147816320386,
                      0.5542474276539897
                    ],
                    [
                      0.07920549033611922,
                      0.0525363723591379,
                      0.2808335644559849,
                      0.2780103877711209,
                      0.23840883185082654,
                      0.3290029626818272,
                      0.2999644771038478,
                      0.29023621499344393,
                      0.3068928011839551,
                      0.27942416383885554,
                      0.2294685675797614,
                      0.29462969431199476,
                      0.2012813653605805,
                      0.2750035186649521,
                      0.29360594792690675,
                      0.1810139685565247,
                      0.1785079049431226,
                      0.18290701391102193,
                      0.15180430258919322,
                      0.16962101465459975,
                      0.14785257089359238,
                      0.15100016656142362,
                      0.15556817559727232,
                      0.12394377121150744,
                      0.41531969426015347,
                      0.6623048920761708,
                      1.0000000000000013,
                      0.6691564248098515,
                      0.6349836904436363,
                      0.6061512590125604,
                      0.6044802695916129,
                      0.6014297751625224,
                      0.604398469329047,
                      0.6024034641668068,
                      0.5836635942151449,
                      0.5833148555203761,
                      0.589114217206047,
                      0.5968721881937266,
                      0.599942968672346,
                      0.6021380491927695,
                      0.47584446511286493,
                      0.4769531861531294,
                      0.47540130730953367,
                      0.48294278815332076,
                      0.44976015853857776,
                      0.47763688936875803,
                      0.5041505794132743,
                      0.4930832380882404,
                      0.48548025146038976,
                      0.47740185078340663,
                      0.48020432673760344
                    ],
                    [
                      0.09513575721210825,
                      0.06121349356270742,
                      0.44150854112471205,
                      0.3870302294523287,
                      0.33144989053055357,
                      0.44612261754020854,
                      0.40218912487024117,
                      0.39160386709815787,
                      0.4074274554026772,
                      0.38921160884348355,
                      0.33014423608792764,
                      0.38599871268327995,
                      0.26014433232610706,
                      0.34215029090432786,
                      0.3770678943143074,
                      0.22700557863945925,
                      0.22447211430212646,
                      0.22247639796900923,
                      0.19931261536772116,
                      0.23004382696018397,
                      0.19601051024407806,
                      0.1846822852643077,
                      0.20243300568651032,
                      0.15065721572174967,
                      0.6781992893078971,
                      0.8333504412832614,
                      0.6691564248098515,
                      0.999999999999996,
                      0.9583036303254154,
                      0.9162225740776166,
                      0.8891636059134727,
                      0.8766346859838778,
                      0.8711469395968864,
                      0.8650251849937521,
                      0.837092747762551,
                      0.8357593704201219,
                      0.8441854382876373,
                      0.844795764071876,
                      0.8405656565836133,
                      0.8343839418963855,
                      0.5884503955067534,
                      0.5791349662348637,
                      0.574699210022317,
                      0.5732824245149494,
                      0.5316306107750383,
                      0.5624138895239079,
                      0.5873151668806068,
                      0.5777964925659796,
                      0.5985492274845956,
                      0.5907826929589085,
                      0.5939907406926467
                    ],
                    [
                      0.09770181491427055,
                      0.06275243251127831,
                      0.43451330583879766,
                      0.4274603686920326,
                      0.3639507319737345,
                      0.46318521782466543,
                      0.41420912903746826,
                      0.41461641077351374,
                      0.42839039210366486,
                      0.4152183274946311,
                      0.34413072142213147,
                      0.40435620520950843,
                      0.2706078198463819,
                      0.3594367132487962,
                      0.3869597737057666,
                      0.2348072637259433,
                      0.23331817429294066,
                      0.22753788241801634,
                      0.20970241307404025,
                      0.2438949797700977,
                      0.2079252745697476,
                      0.1951622706572885,
                      0.21220462889415712,
                      0.15259331274348156,
                      0.6891427909200906,
                      0.8115845142957931,
                      0.6349836904436363,
                      0.9583036303254154,
                      0.9999999999999981,
                      0.963639941928991,
                      0.9282363602054399,
                      0.9016124261884555,
                      0.8910761965637595,
                      0.8856168063251675,
                      0.8535500069987599,
                      0.8512592579685992,
                      0.8594249165440269,
                      0.8616897151165168,
                      0.8563997093219817,
                      0.8509107057671983,
                      0.6111463496134512,
                      0.5864310690623387,
                      0.5760168420395043,
                      0.5729572103727555,
                      0.5313006151552527,
                      0.5615416002185732,
                      0.586069327081589,
                      0.580344007442916,
                      0.603997093986507,
                      0.5969249819881242,
                      0.6012089668947715
                    ],
                    [
                      0.09800773646002582,
                      0.06363777096187995,
                      0.4238043308035175,
                      0.4237647225803858,
                      0.4011475011806084,
                      0.4896286935812866,
                      0.4289200573673007,
                      0.4262925305855665,
                      0.4404365948088709,
                      0.42316258584223276,
                      0.34967470877356627,
                      0.4118215485399921,
                      0.28722750485531773,
                      0.36942935771077456,
                      0.39149240206489533,
                      0.2441405606620018,
                      0.2418261046345145,
                      0.23423972588396003,
                      0.2172779397426882,
                      0.2522199517494856,
                      0.21325540763265374,
                      0.2009038107028274,
                      0.21796325714748324,
                      0.15554395458935869,
                      0.6836601925395139,
                      0.8060908637159484,
                      0.6061512590125604,
                      0.9162225740776166,
                      0.963639941928991,
                      0.9999999999999993,
                      0.9658046083008195,
                      0.9325728149200027,
                      0.910964575572207,
                      0.9018376030344185,
                      0.8776335406074437,
                      0.8717893697895902,
                      0.8771443209699284,
                      0.8738147431235088,
                      0.8675890771672241,
                      0.8625085202721253,
                      0.6357073344402836,
                      0.6096218596463209,
                      0.5873765218021787,
                      0.5790855097179824,
                      0.5378356286519047,
                      0.5685908301380569,
                      0.5934965730435693,
                      0.5901727068551655,
                      0.6148973405791661,
                      0.6069021543165575,
                      0.6123705404086145
                    ],
                    [
                      0.0943156106793645,
                      0.06084957856410748,
                      0.39697208257272254,
                      0.4011194677615561,
                      0.38667517599425355,
                      0.5315957773794602,
                      0.4436152916892482,
                      0.42534303579810606,
                      0.4373709425794272,
                      0.41218571961498407,
                      0.3446543146624516,
                      0.40543553175781816,
                      0.2848111510217632,
                      0.3656932705829862,
                      0.38845259188699977,
                      0.24354749486121835,
                      0.23671629119825274,
                      0.22539109565337057,
                      0.21250666532604098,
                      0.2476911087914611,
                      0.21052646763357385,
                      0.1958422093385254,
                      0.21746952003181894,
                      0.1558467063758932,
                      0.6660829810376401,
                      0.8111273656651499,
                      0.6044802695916129,
                      0.8891636059134727,
                      0.9282363602054399,
                      0.9658046083008195,
                      0.999999999999998,
                      0.9677270254027965,
                      0.9397220779990388,
                      0.9130088572616682,
                      0.8877022976191921,
                      0.879658218089539,
                      0.8839215698846309,
                      0.8784233682902165,
                      0.871527793691844,
                      0.8652598828827915,
                      0.6180767449497654,
                      0.6384008264400794,
                      0.6087104056208035,
                      0.5942895561515987,
                      0.5413057500392624,
                      0.5736999307776701,
                      0.5981296809812094,
                      0.594020282533193,
                      0.6141353529546628,
                      0.6057098048920576,
                      0.6120083572154933
                    ],
                    [
                      0.09499084199500261,
                      0.060481215534852285,
                      0.3898582444553408,
                      0.38474364825921714,
                      0.37473932112338054,
                      0.5216722289596254,
                      0.48759002161970755,
                      0.43321476834180017,
                      0.43350688332657805,
                      0.41073337575178204,
                      0.3403368698057474,
                      0.4021053981219593,
                      0.28240473209318717,
                      0.3646209237492807,
                      0.38556229650969853,
                      0.2440601139310096,
                      0.25904277961170663,
                      0.22705926043592833,
                      0.21144148655940578,
                      0.24655144059157838,
                      0.2093210446978699,
                      0.19569023550641482,
                      0.21377175401998066,
                      0.15480332854113488,
                      0.6500603382047311,
                      0.8082700307306634,
                      0.6014297751625224,
                      0.8766346859838778,
                      0.9016124261884555,
                      0.9325728149200027,
                      0.9677270254027965,
                      1.0000000000000002,
                      0.970469981781302,
                      0.9335579589581817,
                      0.8918348011517713,
                      0.8817969134671197,
                      0.8855968528793627,
                      0.8830576810042581,
                      0.8757700242924551,
                      0.8710748882419758,
                      0.597751522494325,
                      0.6237822769079893,
                      0.6382169542949054,
                      0.6185654478874067,
                      0.5518112156853757,
                      0.5807026554727391,
                      0.6028980733495897,
                      0.5989617353828607,
                      0.6200183205474755,
                      0.6107085939048151,
                      0.615812433472612
                    ],
                    [
                      0.09754575440806673,
                      0.06066876785086506,
                      0.3815236843765054,
                      0.3749343912122376,
                      0.35548607858849207,
                      0.48781264331104596,
                      0.48028873459509264,
                      0.4601903755963719,
                      0.42975743951770795,
                      0.40872673568655227,
                      0.32884827096614344,
                      0.3959186787959769,
                      0.27951472401371563,
                      0.36062210255375415,
                      0.38019567399458554,
                      0.2341895487881903,
                      0.26314601562334716,
                      0.24714593463401938,
                      0.21411647750800605,
                      0.24879332078424804,
                      0.20846766271458303,
                      0.19622660153433985,
                      0.21471272070606284,
                      0.15744133772411273,
                      0.6309391585311885,
                      0.8111763504409026,
                      0.604398469329047,
                      0.8711469395968864,
                      0.8910761965637595,
                      0.910964575572207,
                      0.9397220779990388,
                      0.970469981781302,
                      0.9999999999999998,
                      0.9672016552295895,
                      0.9169145204296189,
                      0.8992268169272332,
                      0.9005418299511565,
                      0.8982955267444485,
                      0.8913761969651054,
                      0.886554002096152,
                      0.5904189083751319,
                      0.6113681107271349,
                      0.6361821690560258,
                      0.6697788956887499,
                      0.5863149156692198,
                      0.6026919411773313,
                      0.6230979685428282,
                      0.6187410187336919,
                      0.6380807486946337,
                      0.6281797641687885,
                      0.6353433418092961
                    ],
                    [
                      0.10238745462900073,
                      0.06382139548346953,
                      0.3778934180982636,
                      0.3710980342361263,
                      0.3500445493840781,
                      0.45627942729630006,
                      0.44551868396162914,
                      0.44824895629646694,
                      0.44622978391786433,
                      0.4248834998293575,
                      0.32015517474640065,
                      0.39371150029870444,
                      0.280535737797481,
                      0.3572388807542979,
                      0.373884162595857,
                      0.23699955320495145,
                      0.26151405644487985,
                      0.2531339568736996,
                      0.24651590755519545,
                      0.26863822197885584,
                      0.2201258652671622,
                      0.2086923560511055,
                      0.2285045313431122,
                      0.16875489821013817,
                      0.6319472186034064,
                      0.8047024218718141,
                      0.6024034641668068,
                      0.8650251849937521,
                      0.8856168063251675,
                      0.9018376030344185,
                      0.9130088572616682,
                      0.9335579589581817,
                      0.9672016552295895,
                      1.0000000000000013,
                      0.9462049180440659,
                      0.9263878397195766,
                      0.9184580961308514,
                      0.9176396034020622,
                      0.9133935235003408,
                      0.9099707480460983,
                      0.6072039535149185,
                      0.6121693708412373,
                      0.6296716473430857,
                      0.6696808863906177,
                      0.6370525917185519,
                      0.6416408520910275,
                      0.6540180075645753,
                      0.6412579288424989,
                      0.661132791305692,
                      0.6521469223419284,
                      0.6603728955972091
                    ],
                    [
                      0.10366580173508182,
                      0.06426279312913676,
                      0.3690776427580247,
                      0.35954118900419874,
                      0.33737269840580975,
                      0.4372827097337198,
                      0.4118601810969095,
                      0.41254387267775133,
                      0.43719342153067997,
                      0.4443226195292713,
                      0.311119206397255,
                      0.3825841873756503,
                      0.3068305225348246,
                      0.34818708820504063,
                      0.36336406096455154,
                      0.23421390830578456,
                      0.24546369504273824,
                      0.24107324627688867,
                      0.23369144896205038,
                      0.28484766155153934,
                      0.21876695126336368,
                      0.20293495848262377,
                      0.22367412297986872,
                      0.16755477969569665,
                      0.5881052440692012,
                      0.7735752183572151,
                      0.5836635942151449,
                      0.837092747762551,
                      0.8535500069987599,
                      0.8776335406074437,
                      0.8877022976191921,
                      0.8918348011517713,
                      0.9169145204296189,
                      0.9462049180440659,
                      1.000000000000001,
                      0.9808717050471313,
                      0.9540681547215897,
                      0.9073061788255434,
                      0.8983965681317412,
                      0.8935965253376231,
                      0.5983514998419766,
                      0.6004971112672169,
                      0.6054797055265599,
                      0.6301412436216062,
                      0.6069041978686309,
                      0.6602370113510736,
                      0.6657259945887593,
                      0.6447851014456744,
                      0.6530064735393407,
                      0.6436764855428564,
                      0.652126849287471
                    ],
                    [
                      0.10530862480123888,
                      0.06590155952701497,
                      0.3709057901316864,
                      0.36167028560203773,
                      0.33712461499002655,
                      0.4377457456073179,
                      0.4081223188750145,
                      0.3987071889384832,
                      0.42872572318323493,
                      0.45145190549583286,
                      0.3359587707677809,
                      0.3939945888913001,
                      0.3034887338878267,
                      0.3495065886286012,
                      0.3664330573880354,
                      0.23588962854255868,
                      0.2431785026437389,
                      0.23708406979694457,
                      0.23403435169515957,
                      0.2856663801092358,
                      0.24517818295991198,
                      0.2075635734912433,
                      0.22795783503226133,
                      0.1721943704997172,
                      0.5901453999952768,
                      0.7757253534022038,
                      0.5833148555203761,
                      0.8357593704201219,
                      0.8512592579685992,
                      0.8717893697895902,
                      0.879658218089539,
                      0.8817969134671197,
                      0.8992268169272332,
                      0.9263878397195766,
                      0.9808717050471313,
                      0.9999999999999984,
                      0.9757801138125217,
                      0.9301610746585346,
                      0.9095869051723553,
                      0.902921087386513,
                      0.598666780578743,
                      0.6003423737584037,
                      0.6037786307419235,
                      0.6175206501598203,
                      0.5944167214006766,
                      0.6537635984229451,
                      0.6897934247380112,
                      0.664379509813416,
                      0.6615174706988944,
                      0.6440791520212201,
                      0.6520888831549162
                    ],
                    [
                      0.10463067733040383,
                      0.06508826621506292,
                      0.3750996081044191,
                      0.3675349686390548,
                      0.34103570124866206,
                      0.44490293332799336,
                      0.41382803536114726,
                      0.39955567119175217,
                      0.4244151367657149,
                      0.44307736237721357,
                      0.35786777938503334,
                      0.4268851610212878,
                      0.3078808585306135,
                      0.35757149516501596,
                      0.3738497083321802,
                      0.23535637614309882,
                      0.2421764107717347,
                      0.2358046848588441,
                      0.22866525245296696,
                      0.2754750854655733,
                      0.28268149091934175,
                      0.2186393248448789,
                      0.2269912417286927,
                      0.16920981066482704,
                      0.6124145622048444,
                      0.7835659859606211,
                      0.589114217206047,
                      0.8441854382876373,
                      0.8594249165440269,
                      0.8771443209699284,
                      0.8839215698846309,
                      0.8855968528793627,
                      0.9005418299511565,
                      0.9184580961308514,
                      0.9540681547215897,
                      0.9757801138125217,
                      0.9999999999999963,
                      0.964482543503221,
                      0.9358127549780398,
                      0.9169656207965241,
                      0.5961624616892617,
                      0.59765251568143,
                      0.6016674160465469,
                      0.6119312371149649,
                      0.5813655120744516,
                      0.6362656692875671,
                      0.6757687923785254,
                      0.6981807749972269,
                      0.6864553454800473,
                      0.6610928047176706,
                      0.6589533605812633
                    ],
                    [
                      0.10455930302989834,
                      0.0657287469416478,
                      0.37289846007658417,
                      0.369318114675909,
                      0.34282183294584456,
                      0.4416251466017744,
                      0.41141475599023924,
                      0.39444315185731194,
                      0.41533089577215104,
                      0.424252410504684,
                      0.344188589285599,
                      0.4318480087620763,
                      0.32931273937777555,
                      0.37418799677914966,
                      0.37713604043054155,
                      0.23376702235825034,
                      0.241227462972932,
                      0.2358948984799072,
                      0.22729551313623417,
                      0.2623167158704484,
                      0.2717058817922266,
                      0.2664380358642827,
                      0.24221083366882612,
                      0.171323319616247,
                      0.6224859331150783,
                      0.788126536381197,
                      0.5968721881937266,
                      0.844795764071876,
                      0.8616897151165168,
                      0.8738147431235088,
                      0.8784233682902165,
                      0.8830576810042581,
                      0.8982955267444485,
                      0.9176396034020622,
                      0.9073061788255434,
                      0.9301610746585346,
                      0.964482543503221,
                      0.9999999999999997,
                      0.9736720789427128,
                      0.9473524826634275,
                      0.5978474298760242,
                      0.5988988067780074,
                      0.603922374968218,
                      0.6173122486720938,
                      0.5834642375081016,
                      0.6217240236342482,
                      0.6645340519027854,
                      0.6900961302779935,
                      0.7221832123887372,
                      0.6909611586525425,
                      0.6791471536722338
                    ],
                    [
                      0.1044252502859361,
                      0.06568254688954742,
                      0.3717672475690339,
                      0.3694554319531935,
                      0.34382258169941177,
                      0.43945609556903475,
                      0.4083446215884551,
                      0.39212621375724,
                      0.4135472160179853,
                      0.41606875785816744,
                      0.3269071950837861,
                      0.41677024949731317,
                      0.33067788002744486,
                      0.4295376872926623,
                      0.37802692063837134,
                      0.23533600080829165,
                      0.2421661714449763,
                      0.23759862396477427,
                      0.22802512543862172,
                      0.2609722992070225,
                      0.24819321251090498,
                      0.2564518970032037,
                      0.2935454129131899,
                      0.17260182900150386,
                      0.6217287802621216,
                      0.7867798136692282,
                      0.599942968672346,
                      0.8405656565836133,
                      0.8563997093219817,
                      0.8675890771672241,
                      0.871527793691844,
                      0.8757700242924551,
                      0.8913761969651054,
                      0.9133935235003408,
                      0.8983965681317412,
                      0.9095869051723553,
                      0.9358127549780398,
                      0.9736720789427128,
                      1.000000000000001,
                      0.9748237317777939,
                      0.5995089865766295,
                      0.6011410011238072,
                      0.6059017609603717,
                      0.6190940926244065,
                      0.5858407765926382,
                      0.6200584526773435,
                      0.6524053548897382,
                      0.6668074108845441,
                      0.7118631555130501,
                      0.7236275603576903,
                      0.7064340592013286
                    ],
                    [
                      0.10523570323490108,
                      0.06642486191126763,
                      0.3638671472958193,
                      0.3617002518742122,
                      0.3366940333676112,
                      0.4269119352612143,
                      0.39823640688504663,
                      0.3875462893132959,
                      0.4082398744336524,
                      0.41334273081590756,
                      0.31448633527674474,
                      0.39732979727967555,
                      0.2951274864862096,
                      0.4223864137099276,
                      0.37237414520385104,
                      0.23405099561544548,
                      0.24005343650369548,
                      0.23623099835891231,
                      0.2304561952835997,
                      0.2592561962514308,
                      0.22990414608977786,
                      0.23488599438657484,
                      0.27534761195785334,
                      0.17659273575768528,
                      0.6156386162233094,
                      0.777119900284629,
                      0.6021380491927695,
                      0.8343839418963855,
                      0.8509107057671983,
                      0.8625085202721253,
                      0.8652598828827915,
                      0.8710748882419758,
                      0.886554002096152,
                      0.9099707480460983,
                      0.8935965253376231,
                      0.902921087386513,
                      0.9169656207965241,
                      0.9473524826634275,
                      0.9748237317777939,
                      1.000000000000001,
                      0.6004322959530012,
                      0.6029109781109059,
                      0.6087269981517098,
                      0.6225982138542118,
                      0.5894820229622236,
                      0.6245645812124961,
                      0.6553168988686616,
                      0.653385962734072,
                      0.6970416155046117,
                      0.7117880795555935,
                      0.7372776935043192
                    ],
                    [
                      0.12009566272174667,
                      0.08159439040469835,
                      0.2698858921841547,
                      0.3021595441306317,
                      0.2869383034636775,
                      0.32926007833663956,
                      0.31492110946341373,
                      0.2776654569061112,
                      0.3192573340486161,
                      0.3121708294155844,
                      0.18604802831229836,
                      0.2992156632372417,
                      0.2545049159277389,
                      0.2811197791353361,
                      0.26633625927494065,
                      0.5093832440623088,
                      0.4779997445725905,
                      0.4770085197180775,
                      0.41675388787723255,
                      0.4339440080635723,
                      0.39709415729518793,
                      0.4102639260584006,
                      0.3900150409711009,
                      0.2481471789846315,
                      0.28592541482982387,
                      0.574876298185459,
                      0.47584446511286493,
                      0.5884503955067534,
                      0.6111463496134512,
                      0.6357073344402836,
                      0.6180767449497654,
                      0.597751522494325,
                      0.5904189083751319,
                      0.6072039535149185,
                      0.5983514998419766,
                      0.598666780578743,
                      0.5961624616892617,
                      0.5978474298760242,
                      0.5995089865766295,
                      0.6004322959530012,
                      0.9999999999999988,
                      0.9108220490975817,
                      0.8751997207494303,
                      0.8185510898530859,
                      0.7891795060858695,
                      0.7794066965705252,
                      0.7889669193120509,
                      0.7852483341146654,
                      0.7736378841310336,
                      0.7599313778500099,
                      0.7520646162973235
                    ],
                    [
                      0.12338900820966578,
                      0.08350519764849024,
                      0.27126665111505827,
                      0.3010652859074028,
                      0.2782999795843941,
                      0.38432191390387616,
                      0.3563867410135608,
                      0.294863095987094,
                      0.3391974907483294,
                      0.3294922657591265,
                      0.19477824256273096,
                      0.31624672674584225,
                      0.2727850298293673,
                      0.29575872390493496,
                      0.2836565292223769,
                      0.5574621206795299,
                      0.5194434174129665,
                      0.5142553979346657,
                      0.458563141534976,
                      0.46924610167318226,
                      0.4349793550053821,
                      0.4469145014203271,
                      0.42689082911101883,
                      0.25731523836675024,
                      0.2914329349134107,
                      0.5746795795365055,
                      0.4769531861531294,
                      0.5791349662348637,
                      0.5864310690623387,
                      0.6096218596463209,
                      0.6384008264400794,
                      0.6237822769079893,
                      0.6113681107271349,
                      0.6121693708412373,
                      0.6004971112672169,
                      0.6003423737584037,
                      0.59765251568143,
                      0.5988988067780074,
                      0.6011410011238072,
                      0.6029109781109059,
                      0.9108220490975817,
                      0.9999999999999966,
                      0.9230128857637613,
                      0.8454547590151109,
                      0.804656969024676,
                      0.7946702390713339,
                      0.7966539392196905,
                      0.7934004705298857,
                      0.7828293593491041,
                      0.7696836663648614,
                      0.7615136235121537
                    ],
                    [
                      0.12307842699712332,
                      0.08223592671572037,
                      0.26431826571563616,
                      0.2868017909894296,
                      0.26073376539264986,
                      0.3600524814380178,
                      0.39425354737161883,
                      0.3055761336156979,
                      0.3290324263798245,
                      0.32225083888250267,
                      0.1921048391060257,
                      0.3101883534792876,
                      0.27303893975039023,
                      0.2915006726037378,
                      0.2783778688235572,
                      0.5999830304057561,
                      0.5907541469337121,
                      0.5648645378918015,
                      0.48441096155304364,
                      0.4977907520293087,
                      0.47523838028140447,
                      0.4895106391262338,
                      0.45260301583280194,
                      0.25221014354001825,
                      0.2891915624999944,
                      0.5727239615909159,
                      0.47540130730953367,
                      0.574699210022317,
                      0.5760168420395043,
                      0.5873765218021787,
                      0.6087104056208035,
                      0.6382169542949054,
                      0.6361821690560258,
                      0.6296716473430857,
                      0.6054797055265599,
                      0.6037786307419235,
                      0.6016674160465469,
                      0.603922374968218,
                      0.6059017609603717,
                      0.6087269981517098,
                      0.8751997207494303,
                      0.9230128857637613,
                      0.9999999999999994,
                      0.9042894218923198,
                      0.84385015981044,
                      0.8229632861826451,
                      0.8188171015237933,
                      0.818948744299583,
                      0.8108213901116572,
                      0.7980618549489231,
                      0.7845787212499268
                    ],
                    [
                      0.11288114956954043,
                      0.0722076734081962,
                      0.23451006565508054,
                      0.2465701433213449,
                      0.22850946324273155,
                      0.2908176063784354,
                      0.34404444872100387,
                      0.3219184331405317,
                      0.29055084789404195,
                      0.2922927062884346,
                      0.16569948449385347,
                      0.2716921856343083,
                      0.23118812736876695,
                      0.25911801874227053,
                      0.24843995844027875,
                      0.4601655829673794,
                      0.4834554792778463,
                      0.4873994310307937,
                      0.3951923343296715,
                      0.4152719761255257,
                      0.38998227907725147,
                      0.40296077535659847,
                      0.3745113588425627,
                      0.22060327841433702,
                      0.2612573395618477,
                      0.5760690914093732,
                      0.48294278815332076,
                      0.5732824245149494,
                      0.5729572103727555,
                      0.5790855097179824,
                      0.5942895561515987,
                      0.6185654478874067,
                      0.6697788956887499,
                      0.6696808863906177,
                      0.6301412436216062,
                      0.6175206501598203,
                      0.6119312371149649,
                      0.6173122486720938,
                      0.6190940926244065,
                      0.6225982138542118,
                      0.8185510898530859,
                      0.8454547590151109,
                      0.9042894218923198,
                      0.9999999999999966,
                      0.8793398387520783,
                      0.8400664313114861,
                      0.8419697384944576,
                      0.8339357638090366,
                      0.8071978494369517,
                      0.7917330800465747,
                      0.7847700961286441
                    ],
                    [
                      0.12067576149496191,
                      0.07811873934090229,
                      0.26361883479478354,
                      0.28593608123997316,
                      0.2530381832546995,
                      0.31717767154765414,
                      0.3417233135834017,
                      0.3416294305836567,
                      0.3725060326948661,
                      0.34949840953036054,
                      0.20112528384262962,
                      0.32041031558877453,
                      0.26910245709809333,
                      0.2983115889673985,
                      0.27492373070442927,
                      0.5195894010476748,
                      0.525814549355179,
                      0.5348640597901878,
                      0.5196867882877101,
                      0.4960929711584844,
                      0.4594240119062786,
                      0.4695023692132445,
                      0.44983585693178946,
                      0.2609647746833992,
                      0.25914056243251,
                      0.5412201195166522,
                      0.44976015853857776,
                      0.5316306107750383,
                      0.5313006151552527,
                      0.5378356286519047,
                      0.5413057500392624,
                      0.5518112156853757,
                      0.5863149156692198,
                      0.6370525917185519,
                      0.6069041978686309,
                      0.5944167214006766,
                      0.5813655120744516,
                      0.5834642375081016,
                      0.5858407765926382,
                      0.5894820229622236,
                      0.7891795060858695,
                      0.804656969024676,
                      0.84385015981044,
                      0.8793398387520783,
                      1.000000000000004,
                      0.9239426224301757,
                      0.8618680615708737,
                      0.8317759474639901,
                      0.7913712101713414,
                      0.7773300969014739,
                      0.7624093487907463
                    ],
                    [
                      0.11489514999790917,
                      0.07477083162057041,
                      0.24275121941834527,
                      0.2609460186456174,
                      0.23941780786678205,
                      0.2956610331001134,
                      0.30770172605232304,
                      0.289341408135956,
                      0.35011007422629936,
                      0.36582940980197504,
                      0.1931105484355798,
                      0.302478113323067,
                      0.2508617086004413,
                      0.2825588243415064,
                      0.2663435363551178,
                      0.47668123284804037,
                      0.4710152746705306,
                      0.47776201499926213,
                      0.4511316611438268,
                      0.4893765947518575,
                      0.4325579566471599,
                      0.4323782841455047,
                      0.4117990995969753,
                      0.23922776930048772,
                      0.2567743634307513,
                      0.567937398452935,
                      0.47763688936875803,
                      0.5624138895239079,
                      0.5615416002185732,
                      0.5685908301380569,
                      0.5736999307776701,
                      0.5807026554727391,
                      0.6026919411773313,
                      0.6416408520910275,
                      0.6602370113510736,
                      0.6537635984229451,
                      0.6362656692875671,
                      0.6217240236342482,
                      0.6200584526773435,
                      0.6245645812124961,
                      0.7794066965705252,
                      0.7946702390713339,
                      0.8229632861826451,
                      0.8400664313114861,
                      0.9239426224301757,
                      0.9999999999999988,
                      0.9221804263178698,
                      0.8692171950438571,
                      0.8102177868212239,
                      0.7869910515416825,
                      0.7747641804495043
                    ],
                    [
                      0.11116933838508126,
                      0.06773898323198604,
                      0.21396797869135298,
                      0.22449633858978257,
                      0.2083488227814738,
                      0.2560727537685343,
                      0.2526247762647227,
                      0.23378765261356516,
                      0.2765084919665795,
                      0.30807927857259415,
                      0.189185121436103,
                      0.26551204896127945,
                      0.2094123791695404,
                      0.2445154835661901,
                      0.2435943082312516,
                      0.4001807305897301,
                      0.3897449920738012,
                      0.4005216511730006,
                      0.34589074297782074,
                      0.38785865565107397,
                      0.3861590842169047,
                      0.3597800152764708,
                      0.33595188485123145,
                      0.20466296053961353,
                      0.2623259122980491,
                      0.5880470139823268,
                      0.5041505794132743,
                      0.5873151668806068,
                      0.586069327081589,
                      0.5934965730435693,
                      0.5981296809812094,
                      0.6028980733495897,
                      0.6230979685428282,
                      0.6540180075645753,
                      0.6657259945887593,
                      0.6897934247380112,
                      0.6757687923785254,
                      0.6645340519027854,
                      0.6524053548897382,
                      0.6553168988686616,
                      0.7889669193120509,
                      0.7966539392196905,
                      0.8188171015237933,
                      0.8419697384944576,
                      0.8618680615708737,
                      0.9221804263178698,
                      0.9999999999999998,
                      0.9321504445838295,
                      0.8606076637399855,
                      0.816633054106862,
                      0.8052171379362643
                    ],
                    [
                      0.11687239186467772,
                      0.0720966087671,
                      0.22961844289321728,
                      0.24153905491299663,
                      0.21978723337741746,
                      0.2698117910609327,
                      0.2740907807885942,
                      0.2486287433095675,
                      0.29064662675980873,
                      0.3108410387065157,
                      0.22381170202071737,
                      0.3240532082521937,
                      0.24558998277038052,
                      0.2643274112794832,
                      0.2588849837004948,
                      0.42940684858889155,
                      0.4214281070876575,
                      0.4308918759165267,
                      0.3826343371933917,
                      0.4120958925182464,
                      0.4766650423570633,
                      0.4101398567296628,
                      0.3694750175884156,
                      0.22368243886883157,
                      0.2684091806874236,
                      0.5801434318274024,
                      0.4930832380882404,
                      0.5777964925659796,
                      0.580344007442916,
                      0.5901727068551655,
                      0.594020282533193,
                      0.5989617353828607,
                      0.6187410187336919,
                      0.6412579288424989,
                      0.6447851014456744,
                      0.664379509813416,
                      0.6981807749972269,
                      0.6900961302779935,
                      0.6668074108845441,
                      0.653385962734072,
                      0.7852483341146654,
                      0.7934004705298857,
                      0.818948744299583,
                      0.8339357638090366,
                      0.8317759474639901,
                      0.8692171950438571,
                      0.9321504445838295,
                      1.0000000000000013,
                      0.9044081492354709,
                      0.8500105047954795,
                      0.8237125791871237
                    ],
                    [
                      0.11846498305105066,
                      0.07523169869854679,
                      0.2365319564902652,
                      0.24481048020835464,
                      0.22622729592026788,
                      0.26730384750128067,
                      0.2681778696579319,
                      0.24546685713529204,
                      0.2844506438711429,
                      0.29298315446217593,
                      0.1868096669728735,
                      0.30294935830110614,
                      0.2904530751708434,
                      0.28537929207581064,
                      0.25843750268871163,
                      0.4723287993816524,
                      0.45331864796831556,
                      0.4638677979768607,
                      0.3856544051720374,
                      0.4123094410778146,
                      0.4536740101032761,
                      0.47676140583784976,
                      0.4020169354530469,
                      0.21661641603551143,
                      0.36315443729634483,
                      0.5590749709989865,
                      0.48548025146038976,
                      0.5985492274845956,
                      0.603997093986507,
                      0.6148973405791661,
                      0.6141353529546628,
                      0.6200183205474755,
                      0.6380807486946337,
                      0.661132791305692,
                      0.6530064735393407,
                      0.6615174706988944,
                      0.6864553454800473,
                      0.7221832123887372,
                      0.7118631555130501,
                      0.6970416155046117,
                      0.7736378841310336,
                      0.7828293593491041,
                      0.8108213901116572,
                      0.8071978494369517,
                      0.7913712101713414,
                      0.8102177868212239,
                      0.8606076637399855,
                      0.9044081492354709,
                      0.9999999999999978,
                      0.955580266927418,
                      0.9168788991523231
                    ],
                    [
                      0.12405864056295814,
                      0.07821834096555103,
                      0.24430308599591075,
                      0.25307636200791117,
                      0.23381654318554182,
                      0.2746692887377248,
                      0.2808327012845471,
                      0.25335440526665703,
                      0.2918203400237907,
                      0.2966307616837309,
                      0.18237434084284934,
                      0.29637896510015455,
                      0.2892210225875271,
                      0.35062418240079535,
                      0.2660047943413433,
                      0.48655808487681723,
                      0.46726641003050257,
                      0.479115288852561,
                      0.3957741864252062,
                      0.4153943851496427,
                      0.4379685001223647,
                      0.4656405803553754,
                      0.4635388869722143,
                      0.21544296825901574,
                      0.3657458399688333,
                      0.5482147816320386,
                      0.47740185078340663,
                      0.5907826929589085,
                      0.5969249819881242,
                      0.6069021543165575,
                      0.6057098048920576,
                      0.6107085939048151,
                      0.6281797641687885,
                      0.6521469223419284,
                      0.6436764855428564,
                      0.6440791520212201,
                      0.6610928047176706,
                      0.6909611586525425,
                      0.7236275603576903,
                      0.7117880795555935,
                      0.7599313778500099,
                      0.7696836663648614,
                      0.7980618549489231,
                      0.7917330800465747,
                      0.7773300969014739,
                      0.7869910515416825,
                      0.816633054106862,
                      0.8500105047954795,
                      0.955580266927418,
                      0.9999999999999977,
                      0.9519167747737266
                    ],
                    [
                      0.12216799225094738,
                      0.07878463545500139,
                      0.2453195738288713,
                      0.2572112826305281,
                      0.2357625445653041,
                      0.27529892401445155,
                      0.2809191032558558,
                      0.26097930685578885,
                      0.2975483812598426,
                      0.3046742924446152,
                      0.18260463487808037,
                      0.29052623704283276,
                      0.262653783815327,
                      0.34647513989064976,
                      0.27074965021847414,
                      0.454826132644276,
                      0.43948849872936535,
                      0.4500518330764381,
                      0.37999364188907897,
                      0.39873362608378404,
                      0.40081089777709106,
                      0.4197830482103914,
                      0.4217103412696514,
                      0.22393996647154385,
                      0.364057435064921,
                      0.5542474276539897,
                      0.48020432673760344,
                      0.5939907406926467,
                      0.6012089668947715,
                      0.6123705404086145,
                      0.6120083572154933,
                      0.615812433472612,
                      0.6353433418092961,
                      0.6603728955972091,
                      0.652126849287471,
                      0.6520888831549162,
                      0.6589533605812633,
                      0.6791471536722338,
                      0.7064340592013286,
                      0.7372776935043192,
                      0.7520646162973235,
                      0.7615136235121537,
                      0.7845787212499268,
                      0.7847700961286441,
                      0.7624093487907463,
                      0.7747641804495043,
                      0.8052171379362643,
                      0.8237125791871237,
                      0.9168788991523231,
                      0.9519167747737266,
                      0.9999999999999994
                    ]
                  ]
                }
              ],
              "layout": {
                "coloraxis": {
                  "colorscale": [
                    [
                      0,
                      "#0d0887"
                    ],
                    [
                      0.1111111111111111,
                      "#46039f"
                    ],
                    [
                      0.2222222222222222,
                      "#7201a8"
                    ],
                    [
                      0.3333333333333333,
                      "#9c179e"
                    ],
                    [
                      0.4444444444444444,
                      "#bd3786"
                    ],
                    [
                      0.5555555555555556,
                      "#d8576b"
                    ],
                    [
                      0.6666666666666666,
                      "#ed7953"
                    ],
                    [
                      0.7777777777777778,
                      "#fb9f3a"
                    ],
                    [
                      0.8888888888888888,
                      "#fdca26"
                    ],
                    [
                      1,
                      "#f0f921"
                    ]
                  ]
                },
                "margin": {
                  "t": 60
                },
                "template": {
                  "data": {
                    "bar": [
                      {
                        "error_x": {
                          "color": "#2a3f5f"
                        },
                        "error_y": {
                          "color": "#2a3f5f"
                        },
                        "marker": {
                          "line": {
                            "color": "#E5ECF6",
                            "width": 0.5
                          },
                          "pattern": {
                            "fillmode": "overlay",
                            "size": 10,
                            "solidity": 0.2
                          }
                        },
                        "type": "bar"
                      }
                    ],
                    "barpolar": [
                      {
                        "marker": {
                          "line": {
                            "color": "#E5ECF6",
                            "width": 0.5
                          },
                          "pattern": {
                            "fillmode": "overlay",
                            "size": 10,
                            "solidity": 0.2
                          }
                        },
                        "type": "barpolar"
                      }
                    ],
                    "carpet": [
                      {
                        "aaxis": {
                          "endlinecolor": "#2a3f5f",
                          "gridcolor": "white",
                          "linecolor": "white",
                          "minorgridcolor": "white",
                          "startlinecolor": "#2a3f5f"
                        },
                        "baxis": {
                          "endlinecolor": "#2a3f5f",
                          "gridcolor": "white",
                          "linecolor": "white",
                          "minorgridcolor": "white",
                          "startlinecolor": "#2a3f5f"
                        },
                        "type": "carpet"
                      }
                    ],
                    "choropleth": [
                      {
                        "colorbar": {
                          "outlinewidth": 0,
                          "ticks": ""
                        },
                        "type": "choropleth"
                      }
                    ],
                    "contour": [
                      {
                        "colorbar": {
                          "outlinewidth": 0,
                          "ticks": ""
                        },
                        "colorscale": [
                          [
                            0,
                            "#0d0887"
                          ],
                          [
                            0.1111111111111111,
                            "#46039f"
                          ],
                          [
                            0.2222222222222222,
                            "#7201a8"
                          ],
                          [
                            0.3333333333333333,
                            "#9c179e"
                          ],
                          [
                            0.4444444444444444,
                            "#bd3786"
                          ],
                          [
                            0.5555555555555556,
                            "#d8576b"
                          ],
                          [
                            0.6666666666666666,
                            "#ed7953"
                          ],
                          [
                            0.7777777777777778,
                            "#fb9f3a"
                          ],
                          [
                            0.8888888888888888,
                            "#fdca26"
                          ],
                          [
                            1,
                            "#f0f921"
                          ]
                        ],
                        "type": "contour"
                      }
                    ],
                    "contourcarpet": [
                      {
                        "colorbar": {
                          "outlinewidth": 0,
                          "ticks": ""
                        },
                        "type": "contourcarpet"
                      }
                    ],
                    "heatmap": [
                      {
                        "colorbar": {
                          "outlinewidth": 0,
                          "ticks": ""
                        },
                        "colorscale": [
                          [
                            0,
                            "#0d0887"
                          ],
                          [
                            0.1111111111111111,
                            "#46039f"
                          ],
                          [
                            0.2222222222222222,
                            "#7201a8"
                          ],
                          [
                            0.3333333333333333,
                            "#9c179e"
                          ],
                          [
                            0.4444444444444444,
                            "#bd3786"
                          ],
                          [
                            0.5555555555555556,
                            "#d8576b"
                          ],
                          [
                            0.6666666666666666,
                            "#ed7953"
                          ],
                          [
                            0.7777777777777778,
                            "#fb9f3a"
                          ],
                          [
                            0.8888888888888888,
                            "#fdca26"
                          ],
                          [
                            1,
                            "#f0f921"
                          ]
                        ],
                        "type": "heatmap"
                      }
                    ],
                    "heatmapgl": [
                      {
                        "colorbar": {
                          "outlinewidth": 0,
                          "ticks": ""
                        },
                        "colorscale": [
                          [
                            0,
                            "#0d0887"
                          ],
                          [
                            0.1111111111111111,
                            "#46039f"
                          ],
                          [
                            0.2222222222222222,
                            "#7201a8"
                          ],
                          [
                            0.3333333333333333,
                            "#9c179e"
                          ],
                          [
                            0.4444444444444444,
                            "#bd3786"
                          ],
                          [
                            0.5555555555555556,
                            "#d8576b"
                          ],
                          [
                            0.6666666666666666,
                            "#ed7953"
                          ],
                          [
                            0.7777777777777778,
                            "#fb9f3a"
                          ],
                          [
                            0.8888888888888888,
                            "#fdca26"
                          ],
                          [
                            1,
                            "#f0f921"
                          ]
                        ],
                        "type": "heatmapgl"
                      }
                    ],
                    "histogram": [
                      {
                        "marker": {
                          "pattern": {
                            "fillmode": "overlay",
                            "size": 10,
                            "solidity": 0.2
                          }
                        },
                        "type": "histogram"
                      }
                    ],
                    "histogram2d": [
                      {
                        "colorbar": {
                          "outlinewidth": 0,
                          "ticks": ""
                        },
                        "colorscale": [
                          [
                            0,
                            "#0d0887"
                          ],
                          [
                            0.1111111111111111,
                            "#46039f"
                          ],
                          [
                            0.2222222222222222,
                            "#7201a8"
                          ],
                          [
                            0.3333333333333333,
                            "#9c179e"
                          ],
                          [
                            0.4444444444444444,
                            "#bd3786"
                          ],
                          [
                            0.5555555555555556,
                            "#d8576b"
                          ],
                          [
                            0.6666666666666666,
                            "#ed7953"
                          ],
                          [
                            0.7777777777777778,
                            "#fb9f3a"
                          ],
                          [
                            0.8888888888888888,
                            "#fdca26"
                          ],
                          [
                            1,
                            "#f0f921"
                          ]
                        ],
                        "type": "histogram2d"
                      }
                    ],
                    "histogram2dcontour": [
                      {
                        "colorbar": {
                          "outlinewidth": 0,
                          "ticks": ""
                        },
                        "colorscale": [
                          [
                            0,
                            "#0d0887"
                          ],
                          [
                            0.1111111111111111,
                            "#46039f"
                          ],
                          [
                            0.2222222222222222,
                            "#7201a8"
                          ],
                          [
                            0.3333333333333333,
                            "#9c179e"
                          ],
                          [
                            0.4444444444444444,
                            "#bd3786"
                          ],
                          [
                            0.5555555555555556,
                            "#d8576b"
                          ],
                          [
                            0.6666666666666666,
                            "#ed7953"
                          ],
                          [
                            0.7777777777777778,
                            "#fb9f3a"
                          ],
                          [
                            0.8888888888888888,
                            "#fdca26"
                          ],
                          [
                            1,
                            "#f0f921"
                          ]
                        ],
                        "type": "histogram2dcontour"
                      }
                    ],
                    "mesh3d": [
                      {
                        "colorbar": {
                          "outlinewidth": 0,
                          "ticks": ""
                        },
                        "type": "mesh3d"
                      }
                    ],
                    "parcoords": [
                      {
                        "line": {
                          "colorbar": {
                            "outlinewidth": 0,
                            "ticks": ""
                          }
                        },
                        "type": "parcoords"
                      }
                    ],
                    "pie": [
                      {
                        "automargin": true,
                        "type": "pie"
                      }
                    ],
                    "scatter": [
                      {
                        "fillpattern": {
                          "fillmode": "overlay",
                          "size": 10,
                          "solidity": 0.2
                        },
                        "type": "scatter"
                      }
                    ],
                    "scatter3d": [
                      {
                        "line": {
                          "colorbar": {
                            "outlinewidth": 0,
                            "ticks": ""
                          }
                        },
                        "marker": {
                          "colorbar": {
                            "outlinewidth": 0,
                            "ticks": ""
                          }
                        },
                        "type": "scatter3d"
                      }
                    ],
                    "scattercarpet": [
                      {
                        "marker": {
                          "colorbar": {
                            "outlinewidth": 0,
                            "ticks": ""
                          }
                        },
                        "type": "scattercarpet"
                      }
                    ],
                    "scattergeo": [
                      {
                        "marker": {
                          "colorbar": {
                            "outlinewidth": 0,
                            "ticks": ""
                          }
                        },
                        "type": "scattergeo"
                      }
                    ],
                    "scattergl": [
                      {
                        "marker": {
                          "colorbar": {
                            "outlinewidth": 0,
                            "ticks": ""
                          }
                        },
                        "type": "scattergl"
                      }
                    ],
                    "scattermapbox": [
                      {
                        "marker": {
                          "colorbar": {
                            "outlinewidth": 0,
                            "ticks": ""
                          }
                        },
                        "type": "scattermapbox"
                      }
                    ],
                    "scatterpolar": [
                      {
                        "marker": {
                          "colorbar": {
                            "outlinewidth": 0,
                            "ticks": ""
                          }
                        },
                        "type": "scatterpolar"
                      }
                    ],
                    "scatterpolargl": [
                      {
                        "marker": {
                          "colorbar": {
                            "outlinewidth": 0,
                            "ticks": ""
                          }
                        },
                        "type": "scatterpolargl"
                      }
                    ],
                    "scatterternary": [
                      {
                        "marker": {
                          "colorbar": {
                            "outlinewidth": 0,
                            "ticks": ""
                          }
                        },
                        "type": "scatterternary"
                      }
                    ],
                    "surface": [
                      {
                        "colorbar": {
                          "outlinewidth": 0,
                          "ticks": ""
                        },
                        "colorscale": [
                          [
                            0,
                            "#0d0887"
                          ],
                          [
                            0.1111111111111111,
                            "#46039f"
                          ],
                          [
                            0.2222222222222222,
                            "#7201a8"
                          ],
                          [
                            0.3333333333333333,
                            "#9c179e"
                          ],
                          [
                            0.4444444444444444,
                            "#bd3786"
                          ],
                          [
                            0.5555555555555556,
                            "#d8576b"
                          ],
                          [
                            0.6666666666666666,
                            "#ed7953"
                          ],
                          [
                            0.7777777777777778,
                            "#fb9f3a"
                          ],
                          [
                            0.8888888888888888,
                            "#fdca26"
                          ],
                          [
                            1,
                            "#f0f921"
                          ]
                        ],
                        "type": "surface"
                      }
                    ],
                    "table": [
                      {
                        "cells": {
                          "fill": {
                            "color": "#EBF0F8"
                          },
                          "line": {
                            "color": "white"
                          }
                        },
                        "header": {
                          "fill": {
                            "color": "#C8D4E3"
                          },
                          "line": {
                            "color": "white"
                          }
                        },
                        "type": "table"
                      }
                    ]
                  },
                  "layout": {
                    "annotationdefaults": {
                      "arrowcolor": "#2a3f5f",
                      "arrowhead": 0,
                      "arrowwidth": 1
                    },
                    "autotypenumbers": "strict",
                    "coloraxis": {
                      "colorbar": {
                        "outlinewidth": 0,
                        "ticks": ""
                      }
                    },
                    "colorscale": {
                      "diverging": [
                        [
                          0,
                          "#8e0152"
                        ],
                        [
                          0.1,
                          "#c51b7d"
                        ],
                        [
                          0.2,
                          "#de77ae"
                        ],
                        [
                          0.3,
                          "#f1b6da"
                        ],
                        [
                          0.4,
                          "#fde0ef"
                        ],
                        [
                          0.5,
                          "#f7f7f7"
                        ],
                        [
                          0.6,
                          "#e6f5d0"
                        ],
                        [
                          0.7,
                          "#b8e186"
                        ],
                        [
                          0.8,
                          "#7fbc41"
                        ],
                        [
                          0.9,
                          "#4d9221"
                        ],
                        [
                          1,
                          "#276419"
                        ]
                      ],
                      "sequential": [
                        [
                          0,
                          "#0d0887"
                        ],
                        [
                          0.1111111111111111,
                          "#46039f"
                        ],
                        [
                          0.2222222222222222,
                          "#7201a8"
                        ],
                        [
                          0.3333333333333333,
                          "#9c179e"
                        ],
                        [
                          0.4444444444444444,
                          "#bd3786"
                        ],
                        [
                          0.5555555555555556,
                          "#d8576b"
                        ],
                        [
                          0.6666666666666666,
                          "#ed7953"
                        ],
                        [
                          0.7777777777777778,
                          "#fb9f3a"
                        ],
                        [
                          0.8888888888888888,
                          "#fdca26"
                        ],
                        [
                          1,
                          "#f0f921"
                        ]
                      ],
                      "sequentialminus": [
                        [
                          0,
                          "#0d0887"
                        ],
                        [
                          0.1111111111111111,
                          "#46039f"
                        ],
                        [
                          0.2222222222222222,
                          "#7201a8"
                        ],
                        [
                          0.3333333333333333,
                          "#9c179e"
                        ],
                        [
                          0.4444444444444444,
                          "#bd3786"
                        ],
                        [
                          0.5555555555555556,
                          "#d8576b"
                        ],
                        [
                          0.6666666666666666,
                          "#ed7953"
                        ],
                        [
                          0.7777777777777778,
                          "#fb9f3a"
                        ],
                        [
                          0.8888888888888888,
                          "#fdca26"
                        ],
                        [
                          1,
                          "#f0f921"
                        ]
                      ]
                    },
                    "colorway": [
                      "#636efa",
                      "#EF553B",
                      "#00cc96",
                      "#ab63fa",
                      "#FFA15A",
                      "#19d3f3",
                      "#FF6692",
                      "#B6E880",
                      "#FF97FF",
                      "#FECB52"
                    ],
                    "font": {
                      "color": "#2a3f5f"
                    },
                    "geo": {
                      "bgcolor": "white",
                      "lakecolor": "white",
                      "landcolor": "#E5ECF6",
                      "showlakes": true,
                      "showland": true,
                      "subunitcolor": "white"
                    },
                    "hoverlabel": {
                      "align": "left"
                    },
                    "hovermode": "closest",
                    "mapbox": {
                      "style": "light"
                    },
                    "paper_bgcolor": "white",
                    "plot_bgcolor": "#E5ECF6",
                    "polar": {
                      "angularaxis": {
                        "gridcolor": "white",
                        "linecolor": "white",
                        "ticks": ""
                      },
                      "bgcolor": "#E5ECF6",
                      "radialaxis": {
                        "gridcolor": "white",
                        "linecolor": "white",
                        "ticks": ""
                      }
                    },
                    "scene": {
                      "xaxis": {
                        "backgroundcolor": "#E5ECF6",
                        "gridcolor": "white",
                        "gridwidth": 2,
                        "linecolor": "white",
                        "showbackground": true,
                        "ticks": "",
                        "zerolinecolor": "white"
                      },
                      "yaxis": {
                        "backgroundcolor": "#E5ECF6",
                        "gridcolor": "white",
                        "gridwidth": 2,
                        "linecolor": "white",
                        "showbackground": true,
                        "ticks": "",
                        "zerolinecolor": "white"
                      },
                      "zaxis": {
                        "backgroundcolor": "#E5ECF6",
                        "gridcolor": "white",
                        "gridwidth": 2,
                        "linecolor": "white",
                        "showbackground": true,
                        "ticks": "",
                        "zerolinecolor": "white"
                      }
                    },
                    "shapedefaults": {
                      "line": {
                        "color": "#2a3f5f"
                      }
                    },
                    "ternary": {
                      "aaxis": {
                        "gridcolor": "white",
                        "linecolor": "white",
                        "ticks": ""
                      },
                      "baxis": {
                        "gridcolor": "white",
                        "linecolor": "white",
                        "ticks": ""
                      },
                      "bgcolor": "#E5ECF6",
                      "caxis": {
                        "gridcolor": "white",
                        "linecolor": "white",
                        "ticks": ""
                      }
                    },
                    "title": {
                      "x": 0.05
                    },
                    "xaxis": {
                      "automargin": true,
                      "gridcolor": "white",
                      "linecolor": "white",
                      "ticks": "",
                      "title": {
                        "standoff": 15
                      },
                      "zerolinecolor": "white",
                      "zerolinewidth": 2
                    },
                    "yaxis": {
                      "automargin": true,
                      "gridcolor": "white",
                      "linecolor": "white",
                      "ticks": "",
                      "title": {
                        "standoff": 15
                      },
                      "zerolinecolor": "white",
                      "zerolinewidth": 2
                    }
                  }
                },
                "xaxis": {
                  "anchor": "y",
                  "constrain": "domain",
                  "domain": [
                    0,
                    1
                  ],
                  "scaleanchor": "y"
                },
                "yaxis": {
                  "anchor": "x",
                  "autorange": "reversed",
                  "constrain": "domain",
                  "domain": [
                    0,
                    1
                  ]
                }
              }
            }
          },
          "metadata": {},
          "output_type": "display_data"
        }
      ],
      "source": [
        "# get heatmap to notice \"zones\" and outliers easier\n",
        "fig = px.imshow(corr_matrix)\n",
        "fig.show()"
      ]
    },
    {
      "cell_type": "markdown",
      "metadata": {},
      "source": [
        "### Solution 2 (Currently cumbersome)\n",
        "Appends the selected terms' scores to the original dataset which accommodates more possibilities for plotting, but makes plotting settings more tedious. \n",
        "\n",
        "(Pros: can use other parameters such as 'year' and 'company'; \n",
        "Cons: cannot filter for 'term')"
      ]
    },
    {
      "cell_type": "code",
      "execution_count": 56,
      "metadata": {
        "colab": {
          "base_uri": "https://localhost:8080/"
        },
        "id": "7lVBDnDiX3Qo",
        "outputId": "5ee63fc8-123d-4982-c93f-bda641168c13"
      },
      "outputs": [
        {
          "name": "stdout",
          "output_type": "stream",
          "text": [
            "Working on #0, comerica_2021_csr\n",
            "Working on #1, ibm_2021_csr\n",
            "Working on #2, cocacola_2003_csr\n",
            "Working on #3, cocacola_2004_csr\n",
            "Working on #4, cocacola_2005_csr\n",
            "Working on #5, cocacola_2006_csr\n",
            "Working on #6, cocacola_20072008_csr\n",
            "Working on #7, cocacola_20082009_csr\n",
            "Working on #8, cocacola_20092010_csr\n",
            "Working on #9, cocacola_20102011_csr\n",
            "Working on #10, cocacola_20112012_csr\n",
            "Working on #11, cocacola_20122013_csr\n",
            "Working on #12, cocacola_20132014_csr\n",
            "Working on #13, cocacola_20142015_csr\n",
            "Working on #14, cocacola_2021_csr\n",
            "Working on #15, pepsico_2006_csr\n",
            "Working on #16, pepsico_2007_csr\n",
            "Working on #17, pepsico_2008_csr\n",
            "Working on #18, pepsico_2009_csr\n",
            "Working on #19, pepsico_2010_csr\n",
            "Working on #20, pepsico_20112012_csr\n",
            "Working on #21, pepsico_2013_csr\n",
            "Working on #22, pepsico_2014_csr\n",
            "Working on #23, pepsico_2021_csr\n",
            "Working on #24, cocacola_2000\n",
            "Working on #25, cocacola_2001\n",
            "Working on #26, cocacola_2002\n",
            "Working on #27, cocacola_2003\n",
            "Working on #28, cocacola_2004\n",
            "Working on #29, cocacola_2005\n",
            "Working on #30, cocacola_2006\n",
            "Working on #31, cocacola_2007\n",
            "Working on #32, cocacola_2008\n",
            "Working on #33, cocacola_2009\n",
            "Working on #34, cocacola_2010\n",
            "Working on #35, cocacola_2011\n",
            "Working on #36, cocacola_2012\n",
            "Working on #37, cocacola_2013\n",
            "Working on #38, cocacola_2014\n",
            "Working on #39, cocacola_2015\n",
            "Working on #40, pepsico_2005\n",
            "Working on #41, pepsico_2006\n",
            "Working on #42, pepsico_2007\n",
            "Working on #43, pepsico_2008\n",
            "Working on #44, pepsico_2009\n",
            "Working on #45, pepsico_2010\n",
            "Working on #46, pepsico_2011\n",
            "Working on #47, pepsico_2012\n",
            "Working on #48, pepsico_2013\n",
            "Working on #49, pepsico_2014\n",
            "Working on #50, pepsico_2015\n"
          ]
        }
      ],
      "source": [
        "# load in preprocessed data\n",
        "df = pd.read_csv(\"parsed_documents.csv\", index_col=0)\n",
        "\n",
        "# define the dataset as a list of document contents (text)\n",
        "dataset = df['lemmatized'].tolist()\n",
        "\n",
        "# define a list of target terms (keywords and phrases) to filter for later\n",
        "filter = ['diversity', 'equity', 'inclusion']\n",
        "\n",
        "# manually add to the list of stopwords if needed\n",
        "custom_stop_words = text.ENGLISH_STOP_WORDS.union([\"\"])\n",
        "\n",
        "# set vectorizer\n",
        "tfIdfVectorizer=TfidfVectorizer(use_idf=True, ngram_range=(1,1), stop_words=custom_stop_words)\n",
        "\n",
        "# turn text into tf-idf vectors\n",
        "tfIdf = tfIdfVectorizer.fit_transform(dataset)\n",
        "\n",
        "# correlation matrix (for later)\n",
        "corr_matrix = ((tfIdf * tfIdf.T).A)\n",
        "\n",
        "# list of filenames and their no.\n",
        "filenames = df['file'].tolist()\n",
        "filenames = [re.sub(\"\\.\\w+\", '', i) for i in filenames]\n",
        "no_of_files = len(filenames)\n",
        "\n",
        "# initialize dataframe to hold tfidf scores\n",
        "# df_all_scores = pd.DataFrame(columns=[])\n",
        "df_filtered_scores = pd.DataFrame(columns=['file'])\n",
        "df_merged_tfidf_scores = pd.DataFrame(columns=['file'])\n",
        "\n",
        "# loop through all documents and get scores for each term term\n",
        "for i in range(no_of_files):\n",
        "    # get tf-idf scores for words/phrases\n",
        "    print(\"Working on #\" + str(i) + \",\", filenames[i])\n",
        "    df_tfidf = pd.DataFrame(tfIdf[i].T.todense(), index=tfIdfVectorizer.get_feature_names_out(), columns=[filenames[i]])\n",
        "\n",
        "    # sort values according to score\n",
        "    df_tfidf = df_tfidf.sort_values(filenames[i], ascending=False)\n",
        "\n",
        "    # merge all tfidf scores\n",
        "    # df_all_scores = pd.merge(df_all_scores, df_tfidf.head(100), how='outer', on = 'term')\n",
        "    # df_all_scores.fillna(0.0)\n",
        "\n",
        "    # filter for manual selection \n",
        "    df_filtered_tfidf = df_tfidf[df_tfidf.index.isin(filter)]\n",
        "\n",
        "    # transpose dataframe\n",
        "    df_filtered_tfidf = df_filtered_tfidf.transpose()\n",
        "\n",
        "    # reset index and rename it term\n",
        "    df_filtered_tfidf.reset_index(inplace=True)\n",
        "    df_filtered_tfidf.rename(columns = {'index':'file'}, inplace = True)\n",
        "\n",
        "    # merge new tfidf scores with the rest\n",
        "    df_merged_tfidf_scores=pd.concat([df_merged_tfidf_scores, df_filtered_tfidf])\n",
        "\n",
        "# merge tfidf scores with the dataset\n",
        "df = pd.merge(df, df_merged_tfidf_scores, on = 'file')\n",
        "\n",
        "# export\n",
        "df.to_csv(\"parsed_documents_with_tfidf.csv\")\n",
        "# df_all_scores.to_csv(\"all_scores.csv\")"
      ]
    },
    {
      "cell_type": "code",
      "execution_count": 57,
      "metadata": {},
      "outputs": [
        {
          "data": {
            "text/html": [
              "<div>\n",
              "<style scoped>\n",
              "    .dataframe tbody tr th:only-of-type {\n",
              "        vertical-align: middle;\n",
              "    }\n",
              "\n",
              "    .dataframe tbody tr th {\n",
              "        vertical-align: top;\n",
              "    }\n",
              "\n",
              "    .dataframe thead th {\n",
              "        text-align: right;\n",
              "    }\n",
              "</style>\n",
              "<table border=\"1\" class=\"dataframe\">\n",
              "  <thead>\n",
              "    <tr style=\"text-align: right;\">\n",
              "      <th>term</th>\n",
              "      <th>diversity</th>\n",
              "      <th>inclusion</th>\n",
              "      <th>equity</th>\n",
              "    </tr>\n",
              "  </thead>\n",
              "  <tbody>\n",
              "    <tr>\n",
              "      <th>comerica_2021_csr</th>\n",
              "      <td>0.076993</td>\n",
              "      <td>0.069016</td>\n",
              "      <td>0.052188</td>\n",
              "    </tr>\n",
              "    <tr>\n",
              "      <th>ibm_2021_csr</th>\n",
              "      <td>0.013458</td>\n",
              "      <td>0.010863</td>\n",
              "      <td>0.008243</td>\n",
              "    </tr>\n",
              "    <tr>\n",
              "      <th>cocacola_2003_csr</th>\n",
              "      <td>0.000000</td>\n",
              "      <td>0.003015</td>\n",
              "      <td>0.000000</td>\n",
              "    </tr>\n",
              "    <tr>\n",
              "      <th>cocacola_2004_csr</th>\n",
              "      <td>0.001891</td>\n",
              "      <td>0.000000</td>\n",
              "      <td>0.000000</td>\n",
              "    </tr>\n",
              "    <tr>\n",
              "      <th>cocacola_2005_csr</th>\n",
              "      <td>0.000000</td>\n",
              "      <td>0.000000</td>\n",
              "      <td>0.000000</td>\n",
              "    </tr>\n",
              "    <tr>\n",
              "      <th>cocacola_2006_csr</th>\n",
              "      <td>0.017326</td>\n",
              "      <td>0.000000</td>\n",
              "      <td>0.010916</td>\n",
              "    </tr>\n",
              "    <tr>\n",
              "      <th>cocacola_20072008_csr</th>\n",
              "      <td>0.049308</td>\n",
              "      <td>0.000000</td>\n",
              "      <td>0.003020</td>\n",
              "    </tr>\n",
              "    <tr>\n",
              "      <th>cocacola_20082009_csr</th>\n",
              "      <td>0.023299</td>\n",
              "      <td>0.003818</td>\n",
              "      <td>0.000000</td>\n",
              "    </tr>\n",
              "    <tr>\n",
              "      <th>cocacola_20092010_csr</th>\n",
              "      <td>0.019748</td>\n",
              "      <td>0.001888</td>\n",
              "      <td>0.000000</td>\n",
              "    </tr>\n",
              "    <tr>\n",
              "      <th>cocacola_20102011_csr</th>\n",
              "      <td>0.010718</td>\n",
              "      <td>0.003688</td>\n",
              "      <td>0.000000</td>\n",
              "    </tr>\n",
              "    <tr>\n",
              "      <th>cocacola_20112012_csr</th>\n",
              "      <td>0.000000</td>\n",
              "      <td>0.000000</td>\n",
              "      <td>0.000000</td>\n",
              "    </tr>\n",
              "    <tr>\n",
              "      <th>cocacola_20122013_csr</th>\n",
              "      <td>0.019022</td>\n",
              "      <td>0.006364</td>\n",
              "      <td>0.000874</td>\n",
              "    </tr>\n",
              "    <tr>\n",
              "      <th>cocacola_20132014_csr</th>\n",
              "      <td>0.043669</td>\n",
              "      <td>0.015027</td>\n",
              "      <td>0.000000</td>\n",
              "    </tr>\n",
              "    <tr>\n",
              "      <th>cocacola_20142015_csr</th>\n",
              "      <td>0.014242</td>\n",
              "      <td>0.007001</td>\n",
              "      <td>0.001122</td>\n",
              "    </tr>\n",
              "    <tr>\n",
              "      <th>cocacola_2021_csr</th>\n",
              "      <td>0.023517</td>\n",
              "      <td>0.021142</td>\n",
              "      <td>0.028029</td>\n",
              "    </tr>\n",
              "    <tr>\n",
              "      <th>pepsico_2006_csr</th>\n",
              "      <td>0.047501</td>\n",
              "      <td>0.040597</td>\n",
              "      <td>0.003081</td>\n",
              "    </tr>\n",
              "    <tr>\n",
              "      <th>pepsico_2007_csr</th>\n",
              "      <td>0.041388</td>\n",
              "      <td>0.039288</td>\n",
              "      <td>0.001573</td>\n",
              "    </tr>\n",
              "    <tr>\n",
              "      <th>pepsico_2008_csr</th>\n",
              "      <td>0.035036</td>\n",
              "      <td>0.034159</td>\n",
              "      <td>0.001931</td>\n",
              "    </tr>\n",
              "    <tr>\n",
              "      <th>pepsico_2009_csr</th>\n",
              "      <td>0.062517</td>\n",
              "      <td>0.065475</td>\n",
              "      <td>0.002997</td>\n",
              "    </tr>\n",
              "    <tr>\n",
              "      <th>pepsico_2010_csr</th>\n",
              "      <td>0.026863</td>\n",
              "      <td>0.019258</td>\n",
              "      <td>0.003702</td>\n",
              "    </tr>\n",
              "    <tr>\n",
              "      <th>pepsico_20112012_csr</th>\n",
              "      <td>0.018841</td>\n",
              "      <td>0.013507</td>\n",
              "      <td>0.000000</td>\n",
              "    </tr>\n",
              "    <tr>\n",
              "      <th>pepsico_2013_csr</th>\n",
              "      <td>0.031601</td>\n",
              "      <td>0.009062</td>\n",
              "      <td>0.000000</td>\n",
              "    </tr>\n",
              "    <tr>\n",
              "      <th>pepsico_2014_csr</th>\n",
              "      <td>0.024330</td>\n",
              "      <td>0.009303</td>\n",
              "      <td>0.000000</td>\n",
              "    </tr>\n",
              "    <tr>\n",
              "      <th>pepsico_2021_csr</th>\n",
              "      <td>0.011202</td>\n",
              "      <td>0.015419</td>\n",
              "      <td>0.019760</td>\n",
              "    </tr>\n",
              "    <tr>\n",
              "      <th>cocacola_2000</th>\n",
              "      <td>0.000000</td>\n",
              "      <td>0.003731</td>\n",
              "      <td>0.037650</td>\n",
              "    </tr>\n",
              "    <tr>\n",
              "      <th>cocacola_2001</th>\n",
              "      <td>0.003189</td>\n",
              "      <td>0.000000</td>\n",
              "      <td>0.099327</td>\n",
              "    </tr>\n",
              "    <tr>\n",
              "      <th>cocacola_2002</th>\n",
              "      <td>0.001263</td>\n",
              "      <td>0.000000</td>\n",
              "      <td>0.041086</td>\n",
              "    </tr>\n",
              "    <tr>\n",
              "      <th>cocacola_2003</th>\n",
              "      <td>0.000000</td>\n",
              "      <td>0.003113</td>\n",
              "      <td>0.101122</td>\n",
              "    </tr>\n",
              "    <tr>\n",
              "      <th>cocacola_2004</th>\n",
              "      <td>0.000000</td>\n",
              "      <td>0.002742</td>\n",
              "      <td>0.088035</td>\n",
              "    </tr>\n",
              "    <tr>\n",
              "      <th>cocacola_2005</th>\n",
              "      <td>0.000449</td>\n",
              "      <td>0.001031</td>\n",
              "      <td>0.074303</td>\n",
              "    </tr>\n",
              "    <tr>\n",
              "      <th>cocacola_2006</th>\n",
              "      <td>0.000427</td>\n",
              "      <td>0.000980</td>\n",
              "      <td>0.081485</td>\n",
              "    </tr>\n",
              "    <tr>\n",
              "      <th>cocacola_2007</th>\n",
              "      <td>0.000391</td>\n",
              "      <td>0.000896</td>\n",
              "      <td>0.086994</td>\n",
              "    </tr>\n",
              "    <tr>\n",
              "      <th>cocacola_2008</th>\n",
              "      <td>0.000369</td>\n",
              "      <td>0.000847</td>\n",
              "      <td>0.089192</td>\n",
              "    </tr>\n",
              "    <tr>\n",
              "      <th>cocacola_2009</th>\n",
              "      <td>0.000374</td>\n",
              "      <td>0.000857</td>\n",
              "      <td>0.104662</td>\n",
              "    </tr>\n",
              "    <tr>\n",
              "      <th>cocacola_2010</th>\n",
              "      <td>0.000295</td>\n",
              "      <td>0.000000</td>\n",
              "      <td>0.088453</td>\n",
              "    </tr>\n",
              "    <tr>\n",
              "      <th>cocacola_2011</th>\n",
              "      <td>0.000288</td>\n",
              "      <td>0.000000</td>\n",
              "      <td>0.094663</td>\n",
              "    </tr>\n",
              "    <tr>\n",
              "      <th>cocacola_2012</th>\n",
              "      <td>0.000271</td>\n",
              "      <td>0.000000</td>\n",
              "      <td>0.084167</td>\n",
              "    </tr>\n",
              "    <tr>\n",
              "      <th>cocacola_2013</th>\n",
              "      <td>0.000310</td>\n",
              "      <td>0.000000</td>\n",
              "      <td>0.091816</td>\n",
              "    </tr>\n",
              "    <tr>\n",
              "      <th>cocacola_2014</th>\n",
              "      <td>0.000629</td>\n",
              "      <td>0.000000</td>\n",
              "      <td>0.092908</td>\n",
              "    </tr>\n",
              "    <tr>\n",
              "      <th>cocacola_2015</th>\n",
              "      <td>0.000937</td>\n",
              "      <td>0.000000</td>\n",
              "      <td>0.095033</td>\n",
              "    </tr>\n",
              "    <tr>\n",
              "      <th>pepsico_2005</th>\n",
              "      <td>0.020124</td>\n",
              "      <td>0.013640</td>\n",
              "      <td>0.031263</td>\n",
              "    </tr>\n",
              "    <tr>\n",
              "      <th>pepsico_2006</th>\n",
              "      <td>0.022894</td>\n",
              "      <td>0.017507</td>\n",
              "      <td>0.030850</td>\n",
              "    </tr>\n",
              "    <tr>\n",
              "      <th>pepsico_2007</th>\n",
              "      <td>0.023039</td>\n",
              "      <td>0.020329</td>\n",
              "      <td>0.040055</td>\n",
              "    </tr>\n",
              "    <tr>\n",
              "      <th>pepsico_2008</th>\n",
              "      <td>0.003228</td>\n",
              "      <td>0.001851</td>\n",
              "      <td>0.046259</td>\n",
              "    </tr>\n",
              "    <tr>\n",
              "      <th>pepsico_2009</th>\n",
              "      <td>0.007204</td>\n",
              "      <td>0.004507</td>\n",
              "      <td>0.042599</td>\n",
              "    </tr>\n",
              "    <tr>\n",
              "      <th>pepsico_2010</th>\n",
              "      <td>0.004375</td>\n",
              "      <td>0.003584</td>\n",
              "      <td>0.078551</td>\n",
              "    </tr>\n",
              "    <tr>\n",
              "      <th>pepsico_2011</th>\n",
              "      <td>0.001429</td>\n",
              "      <td>0.002459</td>\n",
              "      <td>0.067752</td>\n",
              "    </tr>\n",
              "    <tr>\n",
              "      <th>pepsico_2012</th>\n",
              "      <td>0.004334</td>\n",
              "      <td>0.004262</td>\n",
              "      <td>0.049152</td>\n",
              "    </tr>\n",
              "    <tr>\n",
              "      <th>pepsico_2013</th>\n",
              "      <td>0.003055</td>\n",
              "      <td>0.002336</td>\n",
              "      <td>0.031438</td>\n",
              "    </tr>\n",
              "    <tr>\n",
              "      <th>pepsico_2014</th>\n",
              "      <td>0.005896</td>\n",
              "      <td>0.003945</td>\n",
              "      <td>0.030879</td>\n",
              "    </tr>\n",
              "    <tr>\n",
              "      <th>pepsico_2015</th>\n",
              "      <td>0.002479</td>\n",
              "      <td>0.001706</td>\n",
              "      <td>0.031151</td>\n",
              "    </tr>\n",
              "  </tbody>\n",
              "</table>\n",
              "</div>"
            ],
            "text/plain": [
              "term                   diversity  inclusion    equity\n",
              "comerica_2021_csr       0.076993   0.069016  0.052188\n",
              "ibm_2021_csr            0.013458   0.010863  0.008243\n",
              "cocacola_2003_csr       0.000000   0.003015  0.000000\n",
              "cocacola_2004_csr       0.001891   0.000000  0.000000\n",
              "cocacola_2005_csr       0.000000   0.000000  0.000000\n",
              "cocacola_2006_csr       0.017326   0.000000  0.010916\n",
              "cocacola_20072008_csr   0.049308   0.000000  0.003020\n",
              "cocacola_20082009_csr   0.023299   0.003818  0.000000\n",
              "cocacola_20092010_csr   0.019748   0.001888  0.000000\n",
              "cocacola_20102011_csr   0.010718   0.003688  0.000000\n",
              "cocacola_20112012_csr   0.000000   0.000000  0.000000\n",
              "cocacola_20122013_csr   0.019022   0.006364  0.000874\n",
              "cocacola_20132014_csr   0.043669   0.015027  0.000000\n",
              "cocacola_20142015_csr   0.014242   0.007001  0.001122\n",
              "cocacola_2021_csr       0.023517   0.021142  0.028029\n",
              "pepsico_2006_csr        0.047501   0.040597  0.003081\n",
              "pepsico_2007_csr        0.041388   0.039288  0.001573\n",
              "pepsico_2008_csr        0.035036   0.034159  0.001931\n",
              "pepsico_2009_csr        0.062517   0.065475  0.002997\n",
              "pepsico_2010_csr        0.026863   0.019258  0.003702\n",
              "pepsico_20112012_csr    0.018841   0.013507  0.000000\n",
              "pepsico_2013_csr        0.031601   0.009062  0.000000\n",
              "pepsico_2014_csr        0.024330   0.009303  0.000000\n",
              "pepsico_2021_csr        0.011202   0.015419  0.019760\n",
              "cocacola_2000           0.000000   0.003731  0.037650\n",
              "cocacola_2001           0.003189   0.000000  0.099327\n",
              "cocacola_2002           0.001263   0.000000  0.041086\n",
              "cocacola_2003           0.000000   0.003113  0.101122\n",
              "cocacola_2004           0.000000   0.002742  0.088035\n",
              "cocacola_2005           0.000449   0.001031  0.074303\n",
              "cocacola_2006           0.000427   0.000980  0.081485\n",
              "cocacola_2007           0.000391   0.000896  0.086994\n",
              "cocacola_2008           0.000369   0.000847  0.089192\n",
              "cocacola_2009           0.000374   0.000857  0.104662\n",
              "cocacola_2010           0.000295   0.000000  0.088453\n",
              "cocacola_2011           0.000288   0.000000  0.094663\n",
              "cocacola_2012           0.000271   0.000000  0.084167\n",
              "cocacola_2013           0.000310   0.000000  0.091816\n",
              "cocacola_2014           0.000629   0.000000  0.092908\n",
              "cocacola_2015           0.000937   0.000000  0.095033\n",
              "pepsico_2005            0.020124   0.013640  0.031263\n",
              "pepsico_2006            0.022894   0.017507  0.030850\n",
              "pepsico_2007            0.023039   0.020329  0.040055\n",
              "pepsico_2008            0.003228   0.001851  0.046259\n",
              "pepsico_2009            0.007204   0.004507  0.042599\n",
              "pepsico_2010            0.004375   0.003584  0.078551\n",
              "pepsico_2011            0.001429   0.002459  0.067752\n",
              "pepsico_2012            0.004334   0.004262  0.049152\n",
              "pepsico_2013            0.003055   0.002336  0.031438\n",
              "pepsico_2014            0.005896   0.003945  0.030879\n",
              "pepsico_2015            0.002479   0.001706  0.031151"
            ]
          },
          "execution_count": 57,
          "metadata": {},
          "output_type": "execute_result"
        }
      ],
      "source": [
        "df_plot"
      ]
    },
    {
      "cell_type": "markdown",
      "metadata": {},
      "source": [
        "#### Plot\n",
        "\n",
        "Next we plot the results using plotly."
      ]
    },
    {
      "cell_type": "code",
      "execution_count": 58,
      "metadata": {},
      "outputs": [
        {
          "data": {
            "application/vnd.plotly.v1+json": {
              "config": {
                "plotlyServerURL": "https://plot.ly"
              },
              "data": [
                {
                  "alignmentgroup": "True",
                  "hovertemplate": "company=comerica<br>type=csr<br>year=%{x}<br>diversity=%{y}<extra></extra>",
                  "legendgroup": "comerica",
                  "marker": {
                    "color": "#636efa",
                    "pattern": {
                      "shape": ""
                    }
                  },
                  "name": "comerica",
                  "offsetgroup": "comerica",
                  "orientation": "v",
                  "showlegend": true,
                  "textposition": "auto",
                  "type": "bar",
                  "x": [
                    2021
                  ],
                  "xaxis": "x",
                  "y": [
                    0.0769927014351063
                  ],
                  "yaxis": "y"
                },
                {
                  "alignmentgroup": "True",
                  "hovertemplate": "company=ibm<br>type=csr<br>year=%{x}<br>diversity=%{y}<extra></extra>",
                  "legendgroup": "ibm",
                  "marker": {
                    "color": "#EF553B",
                    "pattern": {
                      "shape": ""
                    }
                  },
                  "name": "ibm",
                  "offsetgroup": "ibm",
                  "orientation": "v",
                  "showlegend": true,
                  "textposition": "auto",
                  "type": "bar",
                  "x": [
                    2021
                  ],
                  "xaxis": "x",
                  "y": [
                    0.0134583386352757
                  ],
                  "yaxis": "y"
                },
                {
                  "alignmentgroup": "True",
                  "hovertemplate": "company=cocacola<br>type=csr<br>year=%{x}<br>diversity=%{y}<extra></extra>",
                  "legendgroup": "cocacola",
                  "marker": {
                    "color": "#00cc96",
                    "pattern": {
                      "shape": ""
                    }
                  },
                  "name": "cocacola",
                  "offsetgroup": "cocacola",
                  "orientation": "v",
                  "showlegend": true,
                  "textposition": "auto",
                  "type": "bar",
                  "x": [
                    2003,
                    2004,
                    2005,
                    2006,
                    2007,
                    2008,
                    2009,
                    2010,
                    2011,
                    2012,
                    2013,
                    2014,
                    2021
                  ],
                  "xaxis": "x",
                  "y": [
                    0,
                    0.0018913490052492,
                    0,
                    0.0173263697462112,
                    0.0493079269271453,
                    0.0232991155362298,
                    0.0197478303021142,
                    0.0107182671760747,
                    0,
                    0.0190215187049078,
                    0.0436694783600829,
                    0.014241603362931,
                    0.023516725119582
                  ],
                  "yaxis": "y"
                },
                {
                  "alignmentgroup": "True",
                  "hovertemplate": "company=cocacola<br>type=not_csr<br>year=%{x}<br>diversity=%{y}<extra></extra>",
                  "legendgroup": "cocacola",
                  "marker": {
                    "color": "#00cc96",
                    "pattern": {
                      "shape": ""
                    }
                  },
                  "name": "cocacola",
                  "offsetgroup": "cocacola",
                  "orientation": "v",
                  "showlegend": false,
                  "textposition": "auto",
                  "type": "bar",
                  "x": [
                    2000,
                    2001,
                    2002,
                    2003,
                    2004,
                    2005,
                    2006,
                    2007,
                    2008,
                    2009,
                    2010,
                    2011,
                    2012,
                    2013,
                    2014,
                    2015
                  ],
                  "xaxis": "x2",
                  "y": [
                    0,
                    0.0031891226130925,
                    0.0012632702378344,
                    0,
                    0,
                    0.0004493005101918,
                    0.0004272223636326,
                    0.0003906254284294,
                    0.0003694031584357,
                    0.0003737445208465,
                    0.000294961986106,
                    0.0002881272808171,
                    0.0002707165315142,
                    0.0003095912901312,
                    0.0006288821255723,
                    0.0009369333206976
                  ],
                  "yaxis": "y2"
                },
                {
                  "alignmentgroup": "True",
                  "hovertemplate": "company=pepsico<br>type=csr<br>year=%{x}<br>diversity=%{y}<extra></extra>",
                  "legendgroup": "pepsico",
                  "marker": {
                    "color": "#ab63fa",
                    "pattern": {
                      "shape": ""
                    }
                  },
                  "name": "pepsico",
                  "offsetgroup": "pepsico",
                  "orientation": "v",
                  "showlegend": true,
                  "textposition": "auto",
                  "type": "bar",
                  "x": [
                    2006,
                    2007,
                    2008,
                    2009,
                    2010,
                    2011,
                    2013,
                    2014,
                    2021
                  ],
                  "xaxis": "x",
                  "y": [
                    0.0475008431677699,
                    0.0413875239092956,
                    0.035035511404071,
                    0.062517403589208,
                    0.0268632783739652,
                    0.0188410968879343,
                    0.031600777318247,
                    0.0243301661645146,
                    0.0112017369910927
                  ],
                  "yaxis": "y"
                },
                {
                  "alignmentgroup": "True",
                  "hovertemplate": "company=pepsico<br>type=not_csr<br>year=%{x}<br>diversity=%{y}<extra></extra>",
                  "legendgroup": "pepsico",
                  "marker": {
                    "color": "#ab63fa",
                    "pattern": {
                      "shape": ""
                    }
                  },
                  "name": "pepsico",
                  "offsetgroup": "pepsico",
                  "orientation": "v",
                  "showlegend": false,
                  "textposition": "auto",
                  "type": "bar",
                  "x": [
                    2005,
                    2006,
                    2007,
                    2008,
                    2009,
                    2010,
                    2011,
                    2012,
                    2013,
                    2014,
                    2015
                  ],
                  "xaxis": "x2",
                  "y": [
                    0.0201239691630325,
                    0.022894107544339,
                    0.0230391574762724,
                    0.0032275777827103,
                    0.0072037859711089,
                    0.0043748877452787,
                    0.0014291372234971,
                    0.0043344072632017,
                    0.0030551914807846,
                    0.0058963498315981,
                    0.0024785214333851
                  ],
                  "yaxis": "y2"
                }
              ],
              "layout": {
                "annotations": [
                  {
                    "font": {},
                    "showarrow": false,
                    "text": "type=csr",
                    "x": 0.245,
                    "xanchor": "center",
                    "xref": "paper",
                    "y": 1,
                    "yanchor": "bottom",
                    "yref": "paper"
                  },
                  {
                    "font": {},
                    "showarrow": false,
                    "text": "type=not_csr",
                    "x": 0.755,
                    "xanchor": "center",
                    "xref": "paper",
                    "y": 1,
                    "yanchor": "bottom",
                    "yref": "paper"
                  }
                ],
                "barmode": "relative",
                "legend": {
                  "title": {
                    "text": "company"
                  },
                  "tracegroupgap": 0
                },
                "margin": {
                  "t": 60
                },
                "template": {
                  "data": {
                    "bar": [
                      {
                        "error_x": {
                          "color": "#2a3f5f"
                        },
                        "error_y": {
                          "color": "#2a3f5f"
                        },
                        "marker": {
                          "line": {
                            "color": "#E5ECF6",
                            "width": 0.5
                          },
                          "pattern": {
                            "fillmode": "overlay",
                            "size": 10,
                            "solidity": 0.2
                          }
                        },
                        "type": "bar"
                      }
                    ],
                    "barpolar": [
                      {
                        "marker": {
                          "line": {
                            "color": "#E5ECF6",
                            "width": 0.5
                          },
                          "pattern": {
                            "fillmode": "overlay",
                            "size": 10,
                            "solidity": 0.2
                          }
                        },
                        "type": "barpolar"
                      }
                    ],
                    "carpet": [
                      {
                        "aaxis": {
                          "endlinecolor": "#2a3f5f",
                          "gridcolor": "white",
                          "linecolor": "white",
                          "minorgridcolor": "white",
                          "startlinecolor": "#2a3f5f"
                        },
                        "baxis": {
                          "endlinecolor": "#2a3f5f",
                          "gridcolor": "white",
                          "linecolor": "white",
                          "minorgridcolor": "white",
                          "startlinecolor": "#2a3f5f"
                        },
                        "type": "carpet"
                      }
                    ],
                    "choropleth": [
                      {
                        "colorbar": {
                          "outlinewidth": 0,
                          "ticks": ""
                        },
                        "type": "choropleth"
                      }
                    ],
                    "contour": [
                      {
                        "colorbar": {
                          "outlinewidth": 0,
                          "ticks": ""
                        },
                        "colorscale": [
                          [
                            0,
                            "#0d0887"
                          ],
                          [
                            0.1111111111111111,
                            "#46039f"
                          ],
                          [
                            0.2222222222222222,
                            "#7201a8"
                          ],
                          [
                            0.3333333333333333,
                            "#9c179e"
                          ],
                          [
                            0.4444444444444444,
                            "#bd3786"
                          ],
                          [
                            0.5555555555555556,
                            "#d8576b"
                          ],
                          [
                            0.6666666666666666,
                            "#ed7953"
                          ],
                          [
                            0.7777777777777778,
                            "#fb9f3a"
                          ],
                          [
                            0.8888888888888888,
                            "#fdca26"
                          ],
                          [
                            1,
                            "#f0f921"
                          ]
                        ],
                        "type": "contour"
                      }
                    ],
                    "contourcarpet": [
                      {
                        "colorbar": {
                          "outlinewidth": 0,
                          "ticks": ""
                        },
                        "type": "contourcarpet"
                      }
                    ],
                    "heatmap": [
                      {
                        "colorbar": {
                          "outlinewidth": 0,
                          "ticks": ""
                        },
                        "colorscale": [
                          [
                            0,
                            "#0d0887"
                          ],
                          [
                            0.1111111111111111,
                            "#46039f"
                          ],
                          [
                            0.2222222222222222,
                            "#7201a8"
                          ],
                          [
                            0.3333333333333333,
                            "#9c179e"
                          ],
                          [
                            0.4444444444444444,
                            "#bd3786"
                          ],
                          [
                            0.5555555555555556,
                            "#d8576b"
                          ],
                          [
                            0.6666666666666666,
                            "#ed7953"
                          ],
                          [
                            0.7777777777777778,
                            "#fb9f3a"
                          ],
                          [
                            0.8888888888888888,
                            "#fdca26"
                          ],
                          [
                            1,
                            "#f0f921"
                          ]
                        ],
                        "type": "heatmap"
                      }
                    ],
                    "heatmapgl": [
                      {
                        "colorbar": {
                          "outlinewidth": 0,
                          "ticks": ""
                        },
                        "colorscale": [
                          [
                            0,
                            "#0d0887"
                          ],
                          [
                            0.1111111111111111,
                            "#46039f"
                          ],
                          [
                            0.2222222222222222,
                            "#7201a8"
                          ],
                          [
                            0.3333333333333333,
                            "#9c179e"
                          ],
                          [
                            0.4444444444444444,
                            "#bd3786"
                          ],
                          [
                            0.5555555555555556,
                            "#d8576b"
                          ],
                          [
                            0.6666666666666666,
                            "#ed7953"
                          ],
                          [
                            0.7777777777777778,
                            "#fb9f3a"
                          ],
                          [
                            0.8888888888888888,
                            "#fdca26"
                          ],
                          [
                            1,
                            "#f0f921"
                          ]
                        ],
                        "type": "heatmapgl"
                      }
                    ],
                    "histogram": [
                      {
                        "marker": {
                          "pattern": {
                            "fillmode": "overlay",
                            "size": 10,
                            "solidity": 0.2
                          }
                        },
                        "type": "histogram"
                      }
                    ],
                    "histogram2d": [
                      {
                        "colorbar": {
                          "outlinewidth": 0,
                          "ticks": ""
                        },
                        "colorscale": [
                          [
                            0,
                            "#0d0887"
                          ],
                          [
                            0.1111111111111111,
                            "#46039f"
                          ],
                          [
                            0.2222222222222222,
                            "#7201a8"
                          ],
                          [
                            0.3333333333333333,
                            "#9c179e"
                          ],
                          [
                            0.4444444444444444,
                            "#bd3786"
                          ],
                          [
                            0.5555555555555556,
                            "#d8576b"
                          ],
                          [
                            0.6666666666666666,
                            "#ed7953"
                          ],
                          [
                            0.7777777777777778,
                            "#fb9f3a"
                          ],
                          [
                            0.8888888888888888,
                            "#fdca26"
                          ],
                          [
                            1,
                            "#f0f921"
                          ]
                        ],
                        "type": "histogram2d"
                      }
                    ],
                    "histogram2dcontour": [
                      {
                        "colorbar": {
                          "outlinewidth": 0,
                          "ticks": ""
                        },
                        "colorscale": [
                          [
                            0,
                            "#0d0887"
                          ],
                          [
                            0.1111111111111111,
                            "#46039f"
                          ],
                          [
                            0.2222222222222222,
                            "#7201a8"
                          ],
                          [
                            0.3333333333333333,
                            "#9c179e"
                          ],
                          [
                            0.4444444444444444,
                            "#bd3786"
                          ],
                          [
                            0.5555555555555556,
                            "#d8576b"
                          ],
                          [
                            0.6666666666666666,
                            "#ed7953"
                          ],
                          [
                            0.7777777777777778,
                            "#fb9f3a"
                          ],
                          [
                            0.8888888888888888,
                            "#fdca26"
                          ],
                          [
                            1,
                            "#f0f921"
                          ]
                        ],
                        "type": "histogram2dcontour"
                      }
                    ],
                    "mesh3d": [
                      {
                        "colorbar": {
                          "outlinewidth": 0,
                          "ticks": ""
                        },
                        "type": "mesh3d"
                      }
                    ],
                    "parcoords": [
                      {
                        "line": {
                          "colorbar": {
                            "outlinewidth": 0,
                            "ticks": ""
                          }
                        },
                        "type": "parcoords"
                      }
                    ],
                    "pie": [
                      {
                        "automargin": true,
                        "type": "pie"
                      }
                    ],
                    "scatter": [
                      {
                        "fillpattern": {
                          "fillmode": "overlay",
                          "size": 10,
                          "solidity": 0.2
                        },
                        "type": "scatter"
                      }
                    ],
                    "scatter3d": [
                      {
                        "line": {
                          "colorbar": {
                            "outlinewidth": 0,
                            "ticks": ""
                          }
                        },
                        "marker": {
                          "colorbar": {
                            "outlinewidth": 0,
                            "ticks": ""
                          }
                        },
                        "type": "scatter3d"
                      }
                    ],
                    "scattercarpet": [
                      {
                        "marker": {
                          "colorbar": {
                            "outlinewidth": 0,
                            "ticks": ""
                          }
                        },
                        "type": "scattercarpet"
                      }
                    ],
                    "scattergeo": [
                      {
                        "marker": {
                          "colorbar": {
                            "outlinewidth": 0,
                            "ticks": ""
                          }
                        },
                        "type": "scattergeo"
                      }
                    ],
                    "scattergl": [
                      {
                        "marker": {
                          "colorbar": {
                            "outlinewidth": 0,
                            "ticks": ""
                          }
                        },
                        "type": "scattergl"
                      }
                    ],
                    "scattermapbox": [
                      {
                        "marker": {
                          "colorbar": {
                            "outlinewidth": 0,
                            "ticks": ""
                          }
                        },
                        "type": "scattermapbox"
                      }
                    ],
                    "scatterpolar": [
                      {
                        "marker": {
                          "colorbar": {
                            "outlinewidth": 0,
                            "ticks": ""
                          }
                        },
                        "type": "scatterpolar"
                      }
                    ],
                    "scatterpolargl": [
                      {
                        "marker": {
                          "colorbar": {
                            "outlinewidth": 0,
                            "ticks": ""
                          }
                        },
                        "type": "scatterpolargl"
                      }
                    ],
                    "scatterternary": [
                      {
                        "marker": {
                          "colorbar": {
                            "outlinewidth": 0,
                            "ticks": ""
                          }
                        },
                        "type": "scatterternary"
                      }
                    ],
                    "surface": [
                      {
                        "colorbar": {
                          "outlinewidth": 0,
                          "ticks": ""
                        },
                        "colorscale": [
                          [
                            0,
                            "#0d0887"
                          ],
                          [
                            0.1111111111111111,
                            "#46039f"
                          ],
                          [
                            0.2222222222222222,
                            "#7201a8"
                          ],
                          [
                            0.3333333333333333,
                            "#9c179e"
                          ],
                          [
                            0.4444444444444444,
                            "#bd3786"
                          ],
                          [
                            0.5555555555555556,
                            "#d8576b"
                          ],
                          [
                            0.6666666666666666,
                            "#ed7953"
                          ],
                          [
                            0.7777777777777778,
                            "#fb9f3a"
                          ],
                          [
                            0.8888888888888888,
                            "#fdca26"
                          ],
                          [
                            1,
                            "#f0f921"
                          ]
                        ],
                        "type": "surface"
                      }
                    ],
                    "table": [
                      {
                        "cells": {
                          "fill": {
                            "color": "#EBF0F8"
                          },
                          "line": {
                            "color": "white"
                          }
                        },
                        "header": {
                          "fill": {
                            "color": "#C8D4E3"
                          },
                          "line": {
                            "color": "white"
                          }
                        },
                        "type": "table"
                      }
                    ]
                  },
                  "layout": {
                    "annotationdefaults": {
                      "arrowcolor": "#2a3f5f",
                      "arrowhead": 0,
                      "arrowwidth": 1
                    },
                    "autotypenumbers": "strict",
                    "coloraxis": {
                      "colorbar": {
                        "outlinewidth": 0,
                        "ticks": ""
                      }
                    },
                    "colorscale": {
                      "diverging": [
                        [
                          0,
                          "#8e0152"
                        ],
                        [
                          0.1,
                          "#c51b7d"
                        ],
                        [
                          0.2,
                          "#de77ae"
                        ],
                        [
                          0.3,
                          "#f1b6da"
                        ],
                        [
                          0.4,
                          "#fde0ef"
                        ],
                        [
                          0.5,
                          "#f7f7f7"
                        ],
                        [
                          0.6,
                          "#e6f5d0"
                        ],
                        [
                          0.7,
                          "#b8e186"
                        ],
                        [
                          0.8,
                          "#7fbc41"
                        ],
                        [
                          0.9,
                          "#4d9221"
                        ],
                        [
                          1,
                          "#276419"
                        ]
                      ],
                      "sequential": [
                        [
                          0,
                          "#0d0887"
                        ],
                        [
                          0.1111111111111111,
                          "#46039f"
                        ],
                        [
                          0.2222222222222222,
                          "#7201a8"
                        ],
                        [
                          0.3333333333333333,
                          "#9c179e"
                        ],
                        [
                          0.4444444444444444,
                          "#bd3786"
                        ],
                        [
                          0.5555555555555556,
                          "#d8576b"
                        ],
                        [
                          0.6666666666666666,
                          "#ed7953"
                        ],
                        [
                          0.7777777777777778,
                          "#fb9f3a"
                        ],
                        [
                          0.8888888888888888,
                          "#fdca26"
                        ],
                        [
                          1,
                          "#f0f921"
                        ]
                      ],
                      "sequentialminus": [
                        [
                          0,
                          "#0d0887"
                        ],
                        [
                          0.1111111111111111,
                          "#46039f"
                        ],
                        [
                          0.2222222222222222,
                          "#7201a8"
                        ],
                        [
                          0.3333333333333333,
                          "#9c179e"
                        ],
                        [
                          0.4444444444444444,
                          "#bd3786"
                        ],
                        [
                          0.5555555555555556,
                          "#d8576b"
                        ],
                        [
                          0.6666666666666666,
                          "#ed7953"
                        ],
                        [
                          0.7777777777777778,
                          "#fb9f3a"
                        ],
                        [
                          0.8888888888888888,
                          "#fdca26"
                        ],
                        [
                          1,
                          "#f0f921"
                        ]
                      ]
                    },
                    "colorway": [
                      "#636efa",
                      "#EF553B",
                      "#00cc96",
                      "#ab63fa",
                      "#FFA15A",
                      "#19d3f3",
                      "#FF6692",
                      "#B6E880",
                      "#FF97FF",
                      "#FECB52"
                    ],
                    "font": {
                      "color": "#2a3f5f"
                    },
                    "geo": {
                      "bgcolor": "white",
                      "lakecolor": "white",
                      "landcolor": "#E5ECF6",
                      "showlakes": true,
                      "showland": true,
                      "subunitcolor": "white"
                    },
                    "hoverlabel": {
                      "align": "left"
                    },
                    "hovermode": "closest",
                    "mapbox": {
                      "style": "light"
                    },
                    "paper_bgcolor": "white",
                    "plot_bgcolor": "#E5ECF6",
                    "polar": {
                      "angularaxis": {
                        "gridcolor": "white",
                        "linecolor": "white",
                        "ticks": ""
                      },
                      "bgcolor": "#E5ECF6",
                      "radialaxis": {
                        "gridcolor": "white",
                        "linecolor": "white",
                        "ticks": ""
                      }
                    },
                    "scene": {
                      "xaxis": {
                        "backgroundcolor": "#E5ECF6",
                        "gridcolor": "white",
                        "gridwidth": 2,
                        "linecolor": "white",
                        "showbackground": true,
                        "ticks": "",
                        "zerolinecolor": "white"
                      },
                      "yaxis": {
                        "backgroundcolor": "#E5ECF6",
                        "gridcolor": "white",
                        "gridwidth": 2,
                        "linecolor": "white",
                        "showbackground": true,
                        "ticks": "",
                        "zerolinecolor": "white"
                      },
                      "zaxis": {
                        "backgroundcolor": "#E5ECF6",
                        "gridcolor": "white",
                        "gridwidth": 2,
                        "linecolor": "white",
                        "showbackground": true,
                        "ticks": "",
                        "zerolinecolor": "white"
                      }
                    },
                    "shapedefaults": {
                      "line": {
                        "color": "#2a3f5f"
                      }
                    },
                    "ternary": {
                      "aaxis": {
                        "gridcolor": "white",
                        "linecolor": "white",
                        "ticks": ""
                      },
                      "baxis": {
                        "gridcolor": "white",
                        "linecolor": "white",
                        "ticks": ""
                      },
                      "bgcolor": "#E5ECF6",
                      "caxis": {
                        "gridcolor": "white",
                        "linecolor": "white",
                        "ticks": ""
                      }
                    },
                    "title": {
                      "x": 0.05
                    },
                    "xaxis": {
                      "automargin": true,
                      "gridcolor": "white",
                      "linecolor": "white",
                      "ticks": "",
                      "title": {
                        "standoff": 15
                      },
                      "zerolinecolor": "white",
                      "zerolinewidth": 2
                    },
                    "yaxis": {
                      "automargin": true,
                      "gridcolor": "white",
                      "linecolor": "white",
                      "ticks": "",
                      "title": {
                        "standoff": 15
                      },
                      "zerolinecolor": "white",
                      "zerolinewidth": 2
                    }
                  }
                },
                "xaxis": {
                  "anchor": "y",
                  "domain": [
                    0,
                    0.49
                  ],
                  "title": {
                    "text": "year"
                  }
                },
                "xaxis2": {
                  "anchor": "y2",
                  "domain": [
                    0.51,
                    1
                  ],
                  "matches": "x",
                  "title": {
                    "text": "year"
                  }
                },
                "yaxis": {
                  "anchor": "x",
                  "domain": [
                    0,
                    1
                  ],
                  "title": {
                    "text": "diversity"
                  }
                },
                "yaxis2": {
                  "anchor": "x2",
                  "domain": [
                    0,
                    1
                  ],
                  "matches": "y",
                  "showticklabels": false
                }
              }
            }
          },
          "metadata": {},
          "output_type": "display_data"
        }
      ],
      "source": [
        "# # read in data\n",
        "df_plot = pd.read_csv(\"parsed_documents_with_tfidf.csv\", index_col=0)\n",
        "\n",
        "# drop unnecessary rows\n",
        "df_plot = df_plot.drop(columns=['source','contents','lemmatized'])\n",
        "\n",
        "# filter rows to be plotted by searching the column name (e.g. year)\n",
        "# df_plot = df_plot[(df_plot['file'].str.contains(\"bank\")) | (df_plot['file'].str.contains(\"hsbc\"))]\n",
        "# cols1 = [col for col in df_plot.columns if '2007' in col]\n",
        "# cols2 = [col for col in df_plot.columns if 'pepsi' in col]\n",
        "# df_plot = df_plot[cols1]\n",
        "\n",
        "# plot it\n",
        "fig = px.bar(df_plot, x='year', y='diversity', color='company',\n",
        "    facet_col=\"type\"\n",
        "    )\n",
        "fig.show()\n",
        "\n",
        "# export it\n",
        "filename=\"test_plot_2\"\n",
        "fig.write_html(filename + \".html\")"
      ]
    },
    {
      "attachments": {},
      "cell_type": "markdown",
      "metadata": {},
      "source": [
        "# Topic Modeling"
      ]
    },
    {
      "cell_type": "code",
      "execution_count": 59,
      "metadata": {},
      "outputs": [],
      "source": [
        "# Install dependencies\n",
        "# !pip install scattertext\n",
        "# !pip install empath\n",
        "# !pip install spacy\n",
        "# !python -m spacy download en_core_web_sm ### CHOOSE ONE ###"
      ]
    },
    {
      "cell_type": "code",
      "execution_count": 60,
      "metadata": {},
      "outputs": [],
      "source": [
        "# Import dependencies\n",
        "import scattertext as st\n",
        "# import spacy"
      ]
    },
    {
      "cell_type": "code",
      "execution_count": 61,
      "metadata": {},
      "outputs": [
        {
          "data": {
            "text/plain": [
              "15446203"
            ]
          },
          "execution_count": 61,
          "metadata": {},
          "output_type": "execute_result"
        }
      ],
      "source": [
        "category = 'type'\n",
        "A = 'csr'\n",
        "B = 'not_csr'\n",
        "\n",
        "feat_builder = st.FeatsFromOnlyEmpath()\n",
        "empath_corpus = st.CorpusFromParsedDocuments(df,\n",
        "                                              category_col=category,\n",
        "                                              feats_from_spacy_doc=feat_builder,\n",
        "                                              parsed_col='contents').build()\n",
        "                                              \n",
        "html = st.produce_scattertext_explorer(empath_corpus,\n",
        "                                       category=A,\n",
        "                                       category_name=A,\n",
        "                                       not_category_name=B,\n",
        "                                       width_in_pixels=1000,\n",
        "                                       metadata=df['file'],\n",
        "                                       use_non_text_features=True,\n",
        "                                       use_full_doc=True,\n",
        "                                       topic_model_term_lists=feat_builder.get_top_model_term_lists())\n",
        "\n",
        "open(\"test_tm.html\", 'wb').write(html.encode('utf-8'))"
      ]
    },
    {
      "cell_type": "markdown",
      "metadata": {},
      "source": [
        "# End"
      ]
    },
    {
      "cell_type": "markdown",
      "metadata": {},
      "source": [
        "## Notes"
      ]
    }
  ],
  "metadata": {
    "colab": {
      "collapsed_sections": [],
      "provenance": []
    },
    "kernelspec": {
      "display_name": "Python 3.9.13 ('base')",
      "language": "python",
      "name": "python3"
    },
    "language_info": {
      "codemirror_mode": {
        "name": "ipython",
        "version": 3
      },
      "file_extension": ".py",
      "mimetype": "text/x-python",
      "name": "python",
      "nbconvert_exporter": "python",
      "pygments_lexer": "ipython3",
      "version": "3.9.13"
    },
    "vscode": {
      "interpreter": {
        "hash": "18c4d285bf73f8d33795481156cb8e20c5329867a6af52097d4f49f8abbf9900"
      }
    }
  },
  "nbformat": 4,
  "nbformat_minor": 0
}
